{
 "cells": [
  {
   "cell_type": "markdown",
   "id": "df8966f6",
   "metadata": {},
   "source": [
    "# Train your first Deep Reinforcement Learning Agent\n",
    "\n",
    "PYTHON 3.9"
   ]
  },
  {
   "cell_type": "code",
   "execution_count": 2,
   "id": "bc58fdb7",
   "metadata": {},
   "outputs": [],
   "source": [
    "from fireplace import cards, exceptions, utils\n",
    "from fireplace.player import Player\n",
    "from fireplace.game import Game\n",
    "from fireplace.deck import Deck\n",
    "from fireplace.utils import get_script_definition, random_draft"
   ]
  },
  {
   "cell_type": "code",
   "execution_count": 3,
   "id": "38df8027",
   "metadata": {},
   "outputs": [],
   "source": [
    "from hearthstone.enums import PlayState, Step, Mulligan, State, CardClass, Race, CardSet, CardType"
   ]
  },
  {
   "cell_type": "code",
   "execution_count": 4,
   "id": "d8fffb58",
   "metadata": {},
   "outputs": [],
   "source": [
    "import re\n",
    "import string\n",
    "import random"
   ]
  },
  {
   "cell_type": "code",
   "execution_count": 5,
   "id": "601b4826",
   "metadata": {},
   "outputs": [
    {
     "name": "stderr",
     "output_type": "stream",
     "text": [
      "[fireplace.__init__]: Initializing card database\n",
      "[fireplace.__init__]: Merged 25793 cards\n"
     ]
    }
   ],
   "source": [
    "cards.db.initialize()"
   ]
  },
  {
   "cell_type": "code",
   "execution_count": 6,
   "id": "b2051694",
   "metadata": {},
   "outputs": [],
   "source": [
    "GREEN = \"\\033[92m\"\n",
    "RED = \"\\033[91m\"\n",
    "ENDC = \"\\033[0m\"\n",
    "PREFIXES = {\n",
    "    GREEN: \"Implemented\",\n",
    "    RED: \"Not implemented\",\n",
    "}\n",
    "implemented_cards = []\n",
    "unimplemented_cards = []"
   ]
  },
  {
   "cell_type": "code",
   "execution_count": 7,
   "id": "a9992743",
   "metadata": {},
   "outputs": [],
   "source": [
    "SOLVED_KEYWORDS = [\n",
    "    \"Windfury\", \"Charge\", \"Divine Shield\", \"Taunt\", \"Stealth\", \"Poisonous\",\n",
    "    r\"Can't be targeted by spells or Hero Powers\\.\",\n",
    "    r\"Can't attack\\.\",\n",
    "    \"Destroy any minion damaged by this minion.\",\n",
    "    r\"Your Hero Power deals \\d+ extra damage.\",\n",
    "    r\"Spell Damage \\+\\d+\",\n",
    "    r\"Overload: \\(\\d+\\)\",\n",
    "]"
   ]
  },
  {
   "cell_type": "code",
   "execution_count": 8,
   "id": "fecae9db",
   "metadata": {},
   "outputs": [],
   "source": [
    "DUMMY_CARDS = (\n",
    "    \"PlaceholderCard\",  # Placeholder Card\n",
    "    \"CS2_022e\",  # Polymorph\n",
    "    \"EX1_246e\",  # Hexxed\n",
    "    \"EX1_345t\",  # Shadow of Nothing\n",
    "    \"GAME_006\",  # NOOOOOOOOOOOO\n",
    "    \"LOEA04_27\",  # Animated Statue\n",
    "    \"Mekka4e\",  # Transformed\n",
    "    \"NEW1_025e\",  # Bolstered (Unused)\n",
    "    \"TU4c_005\",  # Hidden Gnome\n",
    "    \"TU4c_007\",  # Mukla's Big Brother\n",
    "\n",
    "    # Dynamic buffs set by their parent\n",
    "    \"CS2_236e\",  # Divine Spirit\n",
    "    \"EX1_304e\",  # Consume (Void Terror)\n",
    "    \"LOE_030e\",  # Hollow (Unused)\n",
    "    \"NEW1_018e\",  # Treasure Crazed (Bloodsail Raider)\n",
    ")"
   ]
  },
  {
   "cell_type": "markdown",
   "id": "e4582388",
   "metadata": {},
   "source": [
    "Por algun motivo separo unas cartas que llamo IMPLEMENTADAS de unas cartas que llamo NO_IMPLEMENTADAS"
   ]
  },
  {
   "cell_type": "code",
   "execution_count": 9,
   "id": "d1db6336",
   "metadata": {},
   "outputs": [
    {
     "name": "stdout",
     "output_type": "stream",
     "text": [
      "IMPLEMENTED CARDS: 7923\n",
      "UNIMPLEMENTED CARDS: 17870\n"
     ]
    }
   ],
   "source": [
    "for id in sorted(cards.db):\n",
    "    card = cards.db[id]\n",
    "    ret = card.description\n",
    "    ret = re.sub(\"<i>.+</i>\", \"\", ret)\n",
    "    ret = re.sub(\"(<b>|</b>)\", \"\", ret)\n",
    "    ret = re.sub(\"(\" + \"|\".join(SOLVED_KEYWORDS) + \")\", \"\", ret)\n",
    "    ret = re.sub(\"<[^>]*>\", \"\", ret)\n",
    "    exclude_chars = string.punctuation + string.whitespace\n",
    "    ret = \"\".join([ch for ch in ret if ch not in exclude_chars])\n",
    "    description = ret\n",
    "    implemented = False\n",
    "\n",
    "    if not description:\n",
    "        # Minions without card text or with basic abilities are implemented\n",
    "        implemented = True\n",
    "    elif card.card_set == CardSet.CREDITS:\n",
    "        implemented = True\n",
    "\n",
    "    if id in DUMMY_CARDS:\n",
    "        implemented = True\n",
    "\n",
    "    carddef = get_script_definition(id)\n",
    "    if carddef:\n",
    "        implemented = True\n",
    "\n",
    "    color = GREEN if implemented else RED\n",
    "    name = color + \"%s: %s\" % (PREFIXES[color], card.name) + ENDC\n",
    "\n",
    "    if implemented:\n",
    "        implemented_cards.append(card.id)\n",
    "    else:\n",
    "        unimplemented_cards.append(card.id)\n",
    "\n",
    "IMPLEMENTED_CARDS = len(implemented_cards)\n",
    "UNIMPLEMENTED_CARDS = len(unimplemented_cards)\n",
    "\n",
    "print(\"IMPLEMENTED CARDS: \"+str(IMPLEMENTED_CARDS))\n",
    "print(\"UNIMPLEMENTED CARDS: \"+str(UNIMPLEMENTED_CARDS))"
   ]
  },
  {
   "cell_type": "code",
   "execution_count": 10,
   "id": "b8fb5abd",
   "metadata": {},
   "outputs": [
    {
     "name": "stdout",
     "output_type": "stream",
     "text": [
      "CardClass.MAGE\n",
      "HERO_08\n"
     ]
    }
   ],
   "source": [
    "heroes=list(CardClass)\n",
    "heroes.remove(CardClass.INVALID)\n",
    "heroes.remove(CardClass.DREAM)\n",
    "heroes.remove(CardClass.NEUTRAL)\n",
    "#heroes.remove(CardClass.WHIZBANG)\n",
    "heroes\n",
    "\n",
    "hero1=random.choice(heroes)\n",
    "print(hero1)\n",
    "print(hero1.default_hero)"
   ]
  },
  {
   "cell_type": "code",
   "execution_count": 11,
   "id": "f8cc3ad2",
   "metadata": {},
   "outputs": [
    {
     "data": {
      "text/plain": [
       "[<CardClass.MAGE: 4>, <CardClass.NEUTRAL: 12>]"
      ]
     },
     "execution_count": 11,
     "metadata": {},
     "output_type": "execute_result"
    }
   ],
   "source": [
    "[hero1, CardClass.NEUTRAL]"
   ]
  },
  {
   "cell_type": "code",
   "execution_count": 12,
   "id": "c5f0561f",
   "metadata": {},
   "outputs": [],
   "source": [
    "def get_collection(heroe):\n",
    "    collection = []\n",
    "    for card in cards.db.keys():\n",
    "        if str(card) not in implemented_cards:\n",
    "                continue\n",
    "        cls = cards.db[card]\n",
    "        if not cls.collectible:\n",
    "            continue\n",
    "        if cls.type == CardType.HERO:\n",
    "            # Heroes are collectible...\n",
    "            continue\n",
    "        if cls.card_class and cls.card_class in [heroe, CardClass.NEUTRAL]:\n",
    "            # Play with more possibilities\n",
    "            collection.append(cls)\n",
    "    count=0\n",
    "    for j in collection:\n",
    "        if j.card_class == heroe:\n",
    "            count=count+1\n",
    "    print(\"Totales Neutras + hero: \",len(collection))\n",
    "    print(\"Cartas de heroe: \",count)\n",
    "    return collection"
   ]
  },
  {
   "cell_type": "code",
   "execution_count": 13,
   "id": "05cdf16e",
   "metadata": {},
   "outputs": [],
   "source": [
    "def get_deck(collection):\n",
    "    deck=[]\n",
    "    while len(deck) < Deck.MAX_CARDS:\n",
    "        card = random.choice(collection)\n",
    "        if deck.count(card.id) < card.max_count_in_deck:\n",
    "            deck.append(card.id)\n",
    "    return deck"
   ]
  },
  {
   "cell_type": "code",
   "execution_count": 14,
   "id": "d06feb56",
   "metadata": {},
   "outputs": [
    {
     "name": "stdout",
     "output_type": "stream",
     "text": [
      "Totales Neutras + hero:  867\n",
      "Cartas de heroe:  128\n"
     ]
    }
   ],
   "source": [
    "collection1=get_collection(hero1)"
   ]
  },
  {
   "cell_type": "code",
   "execution_count": 15,
   "id": "3e3ad2ca",
   "metadata": {},
   "outputs": [
    {
     "name": "stdout",
     "output_type": "stream",
     "text": [
      "['UNG_937', 'GIL_648', 'LOOT_521', 'LOOT_134', 'CFM_620', 'EX1_412', 'CFM_623', 'UNG_073', 'NEW1_023', 'CFM_655', 'EX1_020', 'OG_280', 'ICC_836', 'GIL_809', 'CS1_069', 'CS2_119', 'AT_115', 'LOE_086', 'LOOT_137', 'OG_042', 'LOOT_125', 'EX1_100', 'UNG_900', 'CFM_715', 'LOOT_152', 'GVG_122', 'GIL_681', 'LOOT_394', 'EX1_105', 'BOT_103']\n"
     ]
    }
   ],
   "source": [
    "deck1=get_deck(collection1)\n",
    "print(deck1)"
   ]
  },
  {
   "cell_type": "code",
   "execution_count": 16,
   "id": "f2744551",
   "metadata": {},
   "outputs": [
    {
     "name": "stdout",
     "output_type": "stream",
     "text": [
      "CardClass.WHIZBANG\n",
      "Totales Neutras + hero:  739\n",
      "Cartas de heroe:  0\n",
      "['CORE_ICC_913', 'UNG_099', 'LOOT_130', 'EX1_080', 'LOOT_375', 'UNG_079', 'BRM_031', 'PRO_001', 'OG_272', 'AT_118', 'NEW1_016', 'ICC_067', 'CFM_067', 'CS1_042', 'VAN_NEW1_023', 'VAN_CS2_142', 'CFM_854', 'GIL_121', 'OG_173', 'LOOT_150', 'GVG_114', 'UNG_818', 'BOT_021', 'NEW1_018', 'AT_103', 'GVG_106', 'AT_122', 'EX1_020', 'CS1_069', 'CFM_646']\n"
     ]
    }
   ],
   "source": [
    "hero2=random.choice(heroes)\n",
    "print(hero2)\n",
    "collection2=get_collection(hero2)\n",
    "deck2=get_deck(collection2)\n",
    "print(deck2)"
   ]
  },
  {
   "cell_type": "code",
   "execution_count": 17,
   "id": "1bb18afb",
   "metadata": {},
   "outputs": [],
   "source": [
    "from fireplace.player import Player\n",
    "player1=Player(\"Player1\", deck1, hero1.default_hero)\n",
    "player2=Player(\"Player2\", deck2, hero2.default_hero)"
   ]
  },
  {
   "cell_type": "markdown",
   "id": "4f8fad80",
   "metadata": {},
   "source": [
    "Vemos que inicialmente la mano y el deck de cada jugador están vacías:"
   ]
  },
  {
   "cell_type": "code",
   "execution_count": 18,
   "id": "d2abb81f",
   "metadata": {},
   "outputs": [
    {
     "data": {
      "text/plain": [
       "(<Deck (0 cards)>, [])"
      ]
     },
     "execution_count": 18,
     "metadata": {},
     "output_type": "execute_result"
    }
   ],
   "source": [
    "player1.deck,player1.hand"
   ]
  },
  {
   "cell_type": "code",
   "execution_count": 19,
   "id": "f31e312b",
   "metadata": {},
   "outputs": [
    {
     "data": {
      "text/plain": [
       "(<Deck (0 cards)>, [])"
      ]
     },
     "execution_count": 19,
     "metadata": {},
     "output_type": "execute_result"
    }
   ],
   "source": [
    "player2.deck,player2.hand\n"
   ]
  },
  {
   "cell_type": "code",
   "execution_count": 20,
   "id": "221dd595",
   "metadata": {},
   "outputs": [
    {
     "name": "stderr",
     "output_type": "stream",
     "text": [
      "[fireplace.entity]: Setting up game Game(players=(Player(name='Player1', hero=None), Player(name='Player2', hero=None)))\n",
      "[fireplace.entity]: Tossing the coin... Player2 wins!\n",
      "[fireplace.actions]: Player(name='Player1', hero=<Hero ('Jaina Proudmoore')>) triggering <TargetedAction: Summon(<Summon.CARD>=<HeroPower ('Fireblast')>)> targeting [Player(name='Player1', hero=<Hero ('Jaina Proudmoore')>)]\n",
      "[fireplace.actions]: Player1 summons [<HeroPower ('Fireblast')>]\n",
      "[fireplace.entity]: Empty stack, refreshing auras and processing deaths\n",
      "[fireplace.actions]: Player(name='Player1', hero=<Hero ('Jaina Proudmoore')>) triggering <TargetedAction: Summon(<Summon.CARD>=<Hero ('Jaina Proudmoore')>)> targeting [Player(name='Player1', hero=<Hero ('Jaina Proudmoore')>)]\n",
      "[fireplace.actions]: Player1 summons [<Hero ('Jaina Proudmoore')>]\n",
      "[fireplace.entity]: Empty stack, refreshing auras and processing deaths\n",
      "[fireplace.entity]: Player(name='Player1', hero=<Hero ('Jaina Proudmoore')>) shuffles their deck\n",
      "[fireplace.card]: <Minion ('Fen Creeper')> moves from <Zone.DECK: 2> to <Zone.HAND: 3>\n",
      "[fireplace.card]: <Minion (\"Y'Shaarj, Rage Unbound\")> moves from <Zone.DECK: 2> to <Zone.HAND: 3>\n",
      "[fireplace.card]: <Minion ('Mountain Giant')> moves from <Zone.DECK: 2> to <Zone.HAND: 3>\n",
      "[fireplace.card]: <Minion ('Oasis Snapjaw')> moves from <Zone.DECK: 2> to <Zone.HAND: 3>\n",
      "[fireplace.actions]: Player(name='Player2', hero=<Hero ('Whizbang the Wonderful')>) triggering <TargetedAction: Summon(<Summon.CARD>=<Hero ('Whizbang the Wonderful')>)> targeting [Player(name='Player2', hero=<Hero ('Whizbang the Wonderful')>)]\n",
      "[fireplace.actions]: Player2 summons [<Hero ('Whizbang the Wonderful')>]\n",
      "[fireplace.entity]: Empty stack, refreshing auras and processing deaths\n",
      "[fireplace.entity]: Player(name='Player2', hero=<Hero ('Whizbang the Wonderful')>) shuffles their deck\n",
      "[fireplace.card]: <Minion ('Arcane Tyrant')> moves from <Zone.DECK: 2> to <Zone.HAND: 3>\n",
      "[fireplace.card]: <Minion ('Fen Creeper')> moves from <Zone.DECK: 2> to <Zone.HAND: 3>\n",
      "[fireplace.card]: <Minion ('Twilight Summoner')> moves from <Zone.DECK: 2> to <Zone.HAND: 3>\n",
      "[fireplace.entity]: Entering mulligan phase\n"
     ]
    }
   ],
   "source": [
    "game=Game(players=(player1, player2))\n",
    "game.start()"
   ]
  },
  {
   "cell_type": "markdown",
   "id": "66b1e2fc",
   "metadata": {},
   "source": [
    "Después de iniciar el juego, ya tienen valores:"
   ]
  },
  {
   "cell_type": "code",
   "execution_count": 21,
   "id": "16cb9320",
   "metadata": {},
   "outputs": [
    {
     "data": {
      "text/plain": [
       "(<Deck (26 cards)>,\n",
       " [<Minion ('Fen Creeper')>,\n",
       "  <Minion (\"Y'Shaarj, Rage Unbound\")>,\n",
       "  <Minion ('Mountain Giant')>,\n",
       "  <Minion ('Oasis Snapjaw')>])"
      ]
     },
     "execution_count": 21,
     "metadata": {},
     "output_type": "execute_result"
    }
   ],
   "source": [
    "player1.deck,player1.hand"
   ]
  },
  {
   "cell_type": "code",
   "execution_count": 22,
   "id": "2733082a",
   "metadata": {},
   "outputs": [
    {
     "data": {
      "text/plain": [
       "(<Deck (27 cards)>,\n",
       " [<Minion ('Arcane Tyrant')>,\n",
       "  <Minion ('Fen Creeper')>,\n",
       "  <Minion ('Twilight Summoner')>])"
      ]
     },
     "execution_count": 22,
     "metadata": {},
     "output_type": "execute_result"
    }
   ],
   "source": [
    "player2.deck,player2.hand"
   ]
  },
  {
   "cell_type": "markdown",
   "id": "f548e09a",
   "metadata": {},
   "source": [
    "Hasta Aquí se iniciliza la partida"
   ]
  },
  {
   "cell_type": "code",
   "execution_count": 30,
   "id": "681bc0c3",
   "metadata": {},
   "outputs": [
    {
     "name": "stdout",
     "output_type": "stream",
     "text": [
      "Fen Creeper\n",
      "Y'Shaarj, Rage Unbound\n",
      "Mountain Giant\n",
      "Oasis Snapjaw\n",
      "True\n",
      "True\n",
      "True\n",
      "True\n",
      "1834\n",
      "5464\n",
      "2441\n",
      "1940\n"
     ]
    }
   ],
   "source": [
    "print(player1.hand[0])\n",
    "print(player1.hand[1])\n",
    "print(player1.hand[2])\n",
    "print(player1.hand[3])\n",
    "\n",
    "print(player1.hand[0] in implemented_cards)\n",
    "print(player1.hand[1] in implemented_cards)\n",
    "print(player1.hand[2] in implemented_cards)\n",
    "print(player1.hand[3] in implemented_cards)\n",
    "\n",
    "print(implemented_cards.index(player1.hand[0]))\n",
    "print(implemented_cards.index(player1.hand[1]))\n",
    "print(implemented_cards.index(player1.hand[2]))\n",
    "print(implemented_cards.index(player1.hand[3]))"
   ]
  },
  {
   "cell_type": "markdown",
   "id": "ecec0f04",
   "metadata": {},
   "source": [
    "Vamos a probar a ver si yo le doy la carta al jugador, si todo funciona"
   ]
  },
  {
   "cell_type": "code",
   "execution_count": 32,
   "id": "b9ce702a",
   "metadata": {},
   "outputs": [
    {
     "name": "stderr",
     "output_type": "stream",
     "text": [
      "[fireplace.actions]: Player(name='Player1', hero=<Hero ('Jaina Proudmoore')>) triggering <TargetedAction: Give(<Give.CARD>='EX1_414')> targeting [Player(name='Player1', hero=<Hero ('Jaina Proudmoore')>)]\n",
      "[fireplace.actions]: Giving [<Minion ('Grommash Hellscream')>] to Player1\n",
      "[fireplace.card]: <Minion ('Grommash Hellscream')> moves from <Zone.SETASIDE: 6> to <Zone.HAND: 3>\n",
      "[fireplace.entity]: Empty stack, refreshing auras and processing deaths\n"
     ]
    },
    {
     "data": {
      "text/plain": [
       "[<Minion ('Fen Creeper')>,\n",
       " <Minion (\"Y'Shaarj, Rage Unbound\")>,\n",
       " <Minion ('Mountain Giant')>,\n",
       " <Minion ('Oasis Snapjaw')>,\n",
       " <Minion ('Arcane Tyrant')>,\n",
       " <Minion ('Grommash Hellscream')>]"
      ]
     },
     "execution_count": 32,
     "metadata": {},
     "output_type": "execute_result"
    }
   ],
   "source": [
    "player1.give(\"EX1_414\")\n",
    "player1.hand"
   ]
  },
  {
   "cell_type": "code",
   "execution_count": 33,
   "id": "c82151f5",
   "metadata": {},
   "outputs": [
    {
     "name": "stdout",
     "output_type": "stream",
     "text": [
      "True\n",
      "2609\n"
     ]
    }
   ],
   "source": [
    "print(\"EX1_414\" in implemented_cards)\n",
    "print(implemented_cards.index(\"EX1_414\"))"
   ]
  },
  {
   "cell_type": "code",
   "execution_count": 34,
   "id": "3cec1064",
   "metadata": {},
   "outputs": [
    {
     "name": "stdout",
     "output_type": "stream",
     "text": [
      "Grommash Hellscream\n",
      "True\n",
      "2609\n"
     ]
    }
   ],
   "source": [
    "print(player1.hand[5])\n",
    "\n",
    "print(player1.hand[5] in implemented_cards)\n",
    "\n",
    "print(implemented_cards.index(player1.hand[5]))"
   ]
  },
  {
   "cell_type": "markdown",
   "id": "10bbe624",
   "metadata": {},
   "source": [
    "**Aquí añado Gromash a la mano compruebo el índice como lo hace el código y sigue funcionando**"
   ]
  },
  {
   "cell_type": "code",
   "execution_count": 35,
   "id": "de4ef46f",
   "metadata": {},
   "outputs": [
    {
     "name": "stderr",
     "output_type": "stream",
     "text": [
      "[fireplace.actions]: Player(name='Player2', hero=<Hero ('Whizbang the Wonderful')>) triggering <TargetedAction: Give(<Give.CARD>='AT_044')> targeting [Player(name='Player2', hero=<Hero ('Whizbang the Wonderful')>)]\n",
      "[fireplace.actions]: Giving [<Spell ('Mulch')>] to Player2\n",
      "[fireplace.card]: <Spell ('Mulch')> moves from <Zone.SETASIDE: 6> to <Zone.HAND: 3>\n",
      "[fireplace.entity]: Empty stack, refreshing auras and processing deaths\n"
     ]
    },
    {
     "data": {
      "text/plain": [
       "[<Minion ('Arcane Tyrant')>,\n",
       " <Minion ('Fen Creeper')>,\n",
       " <Minion ('Twilight Summoner')>,\n",
       " <Spell ('Mulch')>]"
      ]
     },
     "execution_count": 35,
     "metadata": {},
     "output_type": "execute_result"
    }
   ],
   "source": [
    "player2.give('AT_044')\n",
    "player2.hand"
   ]
  },
  {
   "cell_type": "markdown",
   "id": "cd106950",
   "metadata": {},
   "source": [
    "Vamos a ver lo que hacen en los test de fireplace"
   ]
  },
  {
   "cell_type": "code",
   "execution_count": 41,
   "id": "90d17475",
   "metadata": {},
   "outputs": [],
   "source": [
    "import random\n",
    "\n",
    "from hearthstone.enums import *\n",
    "\n",
    "import fireplace.cards\n",
    "from fireplace.brawls import *\n",
    "from fireplace.game import BaseGame, CoinRules, Game\n",
    "from fireplace.logging import log\n",
    "from fireplace.player import Player\n",
    "from fireplace.utils import random_draft\n",
    "\n",
    "\n",
    "# Token minions\n",
    "ANIMATED_STATUE = \"LOEA04_27\"\n",
    "GOLDSHIRE_FOOTMAN = \"CS1_042\"\n",
    "TARGET_DUMMY = \"GVG_093\"\n",
    "KOBOLD_GEOMANCER = \"CS2_142\"\n",
    "SPELLBENDERT = \"tt_010a\"\n",
    "CHICKEN = \"GVG_092t\"\n",
    "IMP = \"EX1_598\"\n",
    "MURLOC = \"PRO_001at\"\n",
    "WISP = \"CS2_231\"\n",
    "WHELP = \"ds1_whelptoken\"\n",
    "\n",
    "# Token spells\n",
    "INNERVATE = \"EX1_169\"\n",
    "MOONFIRE = \"CS2_008\"\n",
    "PYROBLAST = \"EX1_279\"\n",
    "CIRCLE_OF_HEALING = \"EX1_621\"\n",
    "DREAM = \"DREAM_04\"\n",
    "SILENCE = \"EX1_332\"\n",
    "THE_COIN = \"GAME_005\"\n",
    "HAND_OF_PROTECTION = \"EX1_371\"\n",
    "MIND_CONTROL = \"CS1_113\"\n",
    "TIME_REWINDER = \"PART_002\"\n",
    "SOULFIRE = \"EX1_308\"\n",
    "UNSTABLE_PORTAL = \"GVG_003\"\n",
    "HOLY_LIGHT = \"CS2_089\"\n",
    "\n",
    "# Token weapon\n",
    "LIGHTS_JUSTICE = \"CS2_091\"\n",
    "\n",
    "# Fandral Staghelm\n",
    "FANDRAL_STAGHELM = \"OG_044\"\n",
    "\n",
    "# Collectible cards excluded from random drafts\n",
    "BLACKLIST = (\n",
    "\t\"GVG_007\",  # Flame Leviathan\n",
    "\t\"AT_022\",  # Fist of Jaraxxus\n",
    "\t\"AT_130\",  # Sea Reaver\n",
    ")\n",
    "\n",
    "_draftcache = {}\n",
    "\n",
    "\n",
    "def _draft(card_class, exclude):\n",
    "\t# random_draft() is fairly slow, this caches the drafts\n",
    "\tif (card_class, exclude) not in _draftcache:\n",
    "\t\t_draftcache[(card_class, exclude)] = random_draft(card_class, exclude + BLACKLIST)\n",
    "\treturn _draftcache[(card_class, exclude)], card_class.default_hero\n",
    "\n",
    "\n",
    "_heroes = fireplace.cards.filter(collectible=True, type=CardType.HERO)\n",
    "\n",
    "\n",
    "class BaseTestGame(CoinRules, BaseGame):\n",
    "\tdef start(self):\n",
    "\t\tsuper().start()\n",
    "\t\tself.player1.max_mana = 10\n",
    "\t\tself.player2.max_mana = 10\n",
    "\n",
    "\n",
    "def _random_class():\n",
    "\treturn CardClass(random.randint(2, 10))\n",
    "\n",
    "\n",
    "def _empty_mulligan(game):\n",
    "\tfor player in game.players:\n",
    "\t\tif player.choice:\n",
    "\t\t\tplayer.choice.choose()\n",
    "\n",
    "\n",
    "def init_game(class1=None, class2=None, exclude=(), game_class=BaseTestGame):\n",
    "\tlog.info(\"Initializing a new game\")\n",
    "\tif class1 is None:\n",
    "\t\tclass1 = _random_class()\n",
    "\tif class2 is None:\n",
    "\t\tclass2 = _random_class()\n",
    "\tplayer1 = Player(\"Player1\", *_draft(class1, exclude))\n",
    "\tplayer2 = Player(\"Player2\", *_draft(class2, exclude))\n",
    "\tgame = game_class(players=(player1, player2))\n",
    "\treturn game\n",
    "\n",
    "\n",
    "def prepare_game(*args, **kwargs):\n",
    "\tgame = init_game(*args, **kwargs)\n",
    "\tgame.start()\n",
    "\t_empty_mulligan(game)\n",
    "\n",
    "\treturn game\n",
    "\n",
    "\n",
    "def prepare_empty_game(class1=None, class2=None, game_class=BaseTestGame):\n",
    "\tlog.info(\"Initializing a new game with empty decks\")\n",
    "\tif class1 is None:\n",
    "\t\tclass1 = _random_class()\n",
    "\tif class2 is None:\n",
    "\t\tclass2 = _random_class()\n",
    "\tplayer1 = Player(\"Player1\", [], class1.default_hero)\n",
    "\tplayer1.cant_fatigue = True\n",
    "\tplayer2 = Player(\"Player2\", [], class2.default_hero)\n",
    "\tplayer2.cant_fatigue = True\n",
    "\tgame = game_class(players=(player1, player2))\n",
    "\tgame.start()\n",
    "\t_empty_mulligan(game)\n",
    "\n",
    "\treturn game"
   ]
  },
  {
   "cell_type": "code",
   "execution_count": 70,
   "id": "b8bcd0fe",
   "metadata": {
    "scrolled": true
   },
   "outputs": [
    {
     "name": "stderr",
     "output_type": "stream",
     "text": [
      "[fireplace.1710115755]: Initializing a new game\n",
      "[fireplace.entity]: Setting up game BaseTestGame(players=(Player(name='Player1', hero=None), Player(name='Player2', hero=None)))\n",
      "[fireplace.entity]: Tossing the coin... Player2 wins!\n",
      "[fireplace.actions]: Player(name='Player1', hero=<Hero ('Garrosh Hellscream')>) triggering <TargetedAction: Summon(<Summon.CARD>=<HeroPower ('Armor Up!')>)> targeting [Player(name='Player1', hero=<Hero ('Garrosh Hellscream')>)]\n",
      "[fireplace.actions]: Player1 summons [<HeroPower ('Armor Up!')>]\n",
      "[fireplace.entity]: Empty stack, refreshing auras and processing deaths\n",
      "[fireplace.actions]: Player(name='Player1', hero=<Hero ('Garrosh Hellscream')>) triggering <TargetedAction: Summon(<Summon.CARD>=<Hero ('Garrosh Hellscream')>)> targeting [Player(name='Player1', hero=<Hero ('Garrosh Hellscream')>)]\n",
      "[fireplace.actions]: Player1 summons [<Hero ('Garrosh Hellscream')>]\n",
      "[fireplace.entity]: Empty stack, refreshing auras and processing deaths\n",
      "[fireplace.entity]: Player(name='Player1', hero=<Hero ('Garrosh Hellscream')>) shuffles their deck\n",
      "[fireplace.card]: <Spell ('Charge')> moves from <Zone.DECK: 2> to <Zone.HAND: 3>\n",
      "[fireplace.card]: <Minion ('Theotar, the Mad Duke')> moves from <Zone.DECK: 2> to <Zone.HAND: 3>\n",
      "[fireplace.card]: <Minion ('Questing Adventurer')> moves from <Zone.DECK: 2> to <Zone.HAND: 3>\n",
      "[fireplace.card]: <Spell ('Brawl')> moves from <Zone.DECK: 2> to <Zone.HAND: 3>\n",
      "[fireplace.actions]: Player(name='Player2', hero=<Hero ('Garrosh Hellscream')>) triggering <TargetedAction: Summon(<Summon.CARD>=<HeroPower ('Armor Up!')>)> targeting [Player(name='Player2', hero=<Hero ('Garrosh Hellscream')>)]\n",
      "[fireplace.actions]: Player2 summons [<HeroPower ('Armor Up!')>]\n",
      "[fireplace.entity]: Empty stack, refreshing auras and processing deaths\n",
      "[fireplace.actions]: Player(name='Player2', hero=<Hero ('Garrosh Hellscream')>) triggering <TargetedAction: Summon(<Summon.CARD>=<Hero ('Garrosh Hellscream')>)> targeting [Player(name='Player2', hero=<Hero ('Garrosh Hellscream')>)]\n",
      "[fireplace.actions]: Player2 summons [<Hero ('Garrosh Hellscream')>]\n",
      "[fireplace.entity]: Empty stack, refreshing auras and processing deaths\n",
      "[fireplace.entity]: Player(name='Player2', hero=<Hero ('Garrosh Hellscream')>) shuffles their deck\n",
      "[fireplace.card]: <Minion ('Nerubian Unraveler')> moves from <Zone.DECK: 2> to <Zone.HAND: 3>\n",
      "[fireplace.card]: <Minion ('Twin Tyrant')> moves from <Zone.DECK: 2> to <Zone.HAND: 3>\n",
      "[fireplace.card]: <Minion ('Sir Finley Mrrgglton')> moves from <Zone.DECK: 2> to <Zone.HAND: 3>\n",
      "[fireplace.entity]: Player1 gets The Coin (GAME_005)\n",
      "[fireplace.actions]: Player(name='Player1', hero=<Hero ('Garrosh Hellscream')>) triggering <TargetedAction: Give(<Give.CARD>='GAME_005')> targeting [Player(name='Player1', hero=<Hero ('Garrosh Hellscream')>)]\n",
      "[fireplace.actions]: Giving [<Spell ('The Coin')>] to Player1\n",
      "[fireplace.card]: <Spell ('The Coin')> moves from <Zone.SETASIDE: 6> to <Zone.HAND: 3>\n",
      "[fireplace.entity]: Empty stack, refreshing auras and processing deaths\n",
      "[fireplace.entity]: Player2 begins turn 1\n",
      "[fireplace.entity]: Player2 is now at 1 mana crystals\n",
      "[fireplace.actions]: Player(name='Player2', hero=<Hero ('Garrosh Hellscream')>) triggering <TargetedAction: Draw()> targeting [Player(name='Player2', hero=<Hero ('Garrosh Hellscream')>)]\n",
      "[fireplace.entity]: Player2 draws <Minion ('Core Hound')>\n",
      "[fireplace.card]: <Minion ('Core Hound')> moves from <Zone.DECK: 2> to <Zone.HAND: 3>\n",
      "[fireplace.entity]: Empty stack, refreshing auras and processing deaths\n",
      "[fireplace.entity]: Player2 is now at 10 mana crystals\n",
      "[fireplace.entity]: Player1 is now at 10 mana crystals\n",
      "[fireplace.entity]: Player2 uses hero power <HeroPower ('Armor Up!')> on None\n",
      "[fireplace.entity]: Player2 pays 2 mana\n",
      "[fireplace.actions]: <HeroPower ('Armor Up!')> triggering <TargetedAction: GainArmor(<GainArmor.AMOUNT>=2)> targeting [<Hero ('Garrosh Hellscream')>]\n",
      "[fireplace.entity]: Empty stack, refreshing auras and processing deaths\n",
      "[fireplace.entity]: Empty stack, refreshing auras and processing deaths\n",
      "[fireplace.actions]: Player(name='Player2', hero=<Hero ('Garrosh Hellscream')>) triggering <TargetedAction: Give(<Give.CARD>='CS2_091')> targeting [Player(name='Player2', hero=<Hero ('Garrosh Hellscream')>)]\n",
      "[fireplace.actions]: Giving [<Weapon (\"Light's Justice\")>] to Player2\n",
      "[fireplace.card]: <Weapon (\"Light's Justice\")> moves from <Zone.SETASIDE: 6> to <Zone.HAND: 3>\n",
      "[fireplace.entity]: Empty stack, refreshing auras and processing deaths\n",
      "[fireplace.actions]: Player2 plays <Weapon (\"Light's Justice\")> (target=None, index=None)\n",
      "[fireplace.entity]: Player2 pays 1 mana\n",
      "[fireplace.card]: <Weapon (\"Light's Justice\")> moves from <Zone.HAND: 3> to <Zone.PLAY: 1>\n",
      "[fireplace.actions]: <Weapon (\"Light's Justice\")> triggering <TargetedAction: Battlecry(<Battlecry.TARGET>=None)> targeting [<Weapon (\"Light's Justice\")>]\n",
      "[fireplace.actions]: Activating <Weapon (\"Light's Justice\")> action targeting None\n",
      "[fireplace.entity]: Empty stack, refreshing auras and processing deaths\n",
      "[fireplace.entity]: Empty stack, refreshing auras and processing deaths\n",
      "[fireplace.entity]: Player2 ends turn 1\n",
      "[fireplace.entity]: Player1 begins turn 2\n",
      "[fireplace.entity]: Player1 is now at 10 mana crystals\n",
      "[fireplace.actions]: Player(name='Player1', hero=<Hero ('Garrosh Hellscream')>) triggering <TargetedAction: Draw()> targeting [Player(name='Player1', hero=<Hero ('Garrosh Hellscream')>)]\n",
      "[fireplace.entity]: Player1 draws <Minion ('City Architect')>\n",
      "[fireplace.card]: <Minion ('City Architect')> moves from <Zone.DECK: 2> to <Zone.HAND: 3>\n",
      "[fireplace.entity]: Empty stack, refreshing auras and processing deaths\n",
      "[fireplace.entity]: Player1 ends turn 2\n",
      "[fireplace.entity]: Player2 begins turn 3\n",
      "[fireplace.entity]: Player2 is now at 10 mana crystals\n",
      "[fireplace.actions]: Player(name='Player2', hero=<Hero ('Garrosh Hellscream')>) triggering <TargetedAction: Draw()> targeting [Player(name='Player2', hero=<Hero ('Garrosh Hellscream')>)]\n",
      "[fireplace.entity]: Player2 draws <Minion (\"Headmaster Kel'Thuzad\")>\n",
      "[fireplace.card]: <Minion (\"Headmaster Kel'Thuzad\")> moves from <Zone.DECK: 2> to <Zone.HAND: 3>\n",
      "[fireplace.entity]: Empty stack, refreshing auras and processing deaths\n",
      "[fireplace.entity]: Player2 ends turn 3\n",
      "[fireplace.entity]: Player1 begins turn 4\n",
      "[fireplace.entity]: Player1 is now at 10 mana crystals\n",
      "[fireplace.actions]: Player(name='Player1', hero=<Hero ('Garrosh Hellscream')>) triggering <TargetedAction: Draw()> targeting [Player(name='Player1', hero=<Hero ('Garrosh Hellscream')>)]\n",
      "[fireplace.entity]: Player1 draws <Minion ('Sir Finley Mrrgglton')>\n",
      "[fireplace.card]: <Minion ('Sir Finley Mrrgglton')> moves from <Zone.DECK: 2> to <Zone.HAND: 3>\n",
      "[fireplace.entity]: Empty stack, refreshing auras and processing deaths\n",
      "[fireplace.actions]: Player(name='Player1', hero=<Hero ('Garrosh Hellscream')>) triggering <TargetedAction: Give(<Give.CARD>='EX1_414')> targeting [Player(name='Player1', hero=<Hero ('Garrosh Hellscream')>)]\n",
      "[fireplace.actions]: Giving [<Minion ('Grommash Hellscream')>] to Player1\n",
      "[fireplace.card]: <Minion ('Grommash Hellscream')> moves from <Zone.SETASIDE: 6> to <Zone.HAND: 3>\n",
      "[fireplace.entity]: Empty stack, refreshing auras and processing deaths\n",
      "[fireplace.actions]: Player1 plays <Minion ('Grommash Hellscream')> (target=None, index=None)\n",
      "[fireplace.entity]: Player1 pays 8 mana\n",
      "[fireplace.card]: <Minion ('Grommash Hellscream')> moves from <Zone.HAND: 3> to <Zone.PLAY: 1>\n",
      "[fireplace.actions]: <Minion ('Grommash Hellscream')> triggering <TargetedAction: Battlecry(<Battlecry.TARGET>=None)> targeting [<Minion ('Grommash Hellscream')>]\n",
      "[fireplace.actions]: Activating <Minion ('Grommash Hellscream')> action targeting None\n",
      "[fireplace.entity]: Empty stack, refreshing auras and processing deaths\n",
      "[fireplace.entity]: Empty stack, refreshing auras and processing deaths\n"
     ]
    },
    {
     "name": "stdout",
     "output_type": "stream",
     "text": [
      "[<Minion ('Nerubian Unraveler')>, <Minion ('Twin Tyrant')>, <Minion ('Sir Finley Mrrgglton')>, <Minion ('Core Hound')>, <Minion (\"Headmaster Kel'Thuzad\")>]\n",
      "[<Spell ('Charge')>, <Minion ('Theotar, the Mad Duke')>, <Minion ('Questing Adventurer')>, <Spell ('Brawl')>, <Spell ('The Coin')>, <Minion ('City Architect')>]\n",
      "[]\n",
      "[]\n"
     ]
    },
    {
     "ename": "IndexError",
     "evalue": "list index out of range",
     "output_type": "error",
     "traceback": [
      "\u001b[1;31m---------------------------------------------------------------------------\u001b[0m",
      "\u001b[1;31mIndexError\u001b[0m                                Traceback (most recent call last)",
      "\u001b[1;32m~\\AppData\\Local\\Temp\\ipykernel_13776\\3125783083.py\u001b[0m in \u001b[0;36m<module>\u001b[1;34m\u001b[0m\n\u001b[0;32m     20\u001b[0m \u001b[0mgame\u001b[0m\u001b[1;33m.\u001b[0m\u001b[0mplayer2\u001b[0m\u001b[1;33m.\u001b[0m\u001b[0mgive\u001b[0m\u001b[1;33m(\u001b[0m\u001b[1;34m'EX1_414'\u001b[0m\u001b[1;33m)\u001b[0m\u001b[1;33m.\u001b[0m\u001b[0mplay\u001b[0m\u001b[1;33m(\u001b[0m\u001b[1;33m)\u001b[0m\u001b[1;33m\u001b[0m\u001b[1;33m\u001b[0m\u001b[0m\n\u001b[0;32m     21\u001b[0m \u001b[0mprint\u001b[0m\u001b[1;33m(\u001b[0m\u001b[0mgame\u001b[0m\u001b[1;33m.\u001b[0m\u001b[0mplayer1\u001b[0m\u001b[1;33m.\u001b[0m\u001b[0mfield\u001b[0m\u001b[1;33m)\u001b[0m\u001b[1;33m\u001b[0m\u001b[1;33m\u001b[0m\u001b[0m\n\u001b[1;32m---> 22\u001b[1;33m \u001b[0mprint\u001b[0m\u001b[1;33m(\u001b[0m\u001b[0mimplemented_cards\u001b[0m\u001b[1;33m.\u001b[0m\u001b[0mindex\u001b[0m\u001b[1;33m(\u001b[0m\u001b[0mgame\u001b[0m\u001b[1;33m.\u001b[0m\u001b[0mplayer1\u001b[0m\u001b[1;33m.\u001b[0m\u001b[0mfield\u001b[0m\u001b[1;33m[\u001b[0m\u001b[1;36m0\u001b[0m\u001b[1;33m]\u001b[0m\u001b[1;33m)\u001b[0m\u001b[1;33m)\u001b[0m\u001b[1;33m\u001b[0m\u001b[1;33m\u001b[0m\u001b[0m\n\u001b[0m\u001b[0;32m     23\u001b[0m \u001b[1;31m# assert game.player1.hero.health == 30\u001b[0m\u001b[1;33m\u001b[0m\u001b[1;33m\u001b[0m\u001b[0m\n\u001b[0;32m     24\u001b[0m \u001b[1;31m# assert game.player1.hero.armor == 2\u001b[0m\u001b[1;33m\u001b[0m\u001b[1;33m\u001b[0m\u001b[0m\n",
      "\u001b[1;32m~\\anaconda3\\lib\\site-packages\\fireplace\\utils.py\u001b[0m in \u001b[0;36m__getitem__\u001b[1;34m(self, key)\u001b[0m\n\u001b[0;32m     23\u001b[0m \u001b[1;33m\u001b[0m\u001b[0m\n\u001b[0;32m     24\u001b[0m         \u001b[1;32mdef\u001b[0m \u001b[0m__getitem__\u001b[0m\u001b[1;33m(\u001b[0m\u001b[0mself\u001b[0m\u001b[1;33m,\u001b[0m \u001b[0mkey\u001b[0m\u001b[1;33m)\u001b[0m\u001b[1;33m:\u001b[0m\u001b[1;33m\u001b[0m\u001b[1;33m\u001b[0m\u001b[0m\n\u001b[1;32m---> 25\u001b[1;33m                 \u001b[0mret\u001b[0m \u001b[1;33m=\u001b[0m \u001b[0msuper\u001b[0m\u001b[1;33m(\u001b[0m\u001b[1;33m)\u001b[0m\u001b[1;33m.\u001b[0m\u001b[0m__getitem__\u001b[0m\u001b[1;33m(\u001b[0m\u001b[0mkey\u001b[0m\u001b[1;33m)\u001b[0m\u001b[1;33m\u001b[0m\u001b[1;33m\u001b[0m\u001b[0m\n\u001b[0m\u001b[0;32m     26\u001b[0m                 \u001b[1;32mif\u001b[0m \u001b[0misinstance\u001b[0m\u001b[1;33m(\u001b[0m\u001b[0mkey\u001b[0m\u001b[1;33m,\u001b[0m \u001b[0mslice\u001b[0m\u001b[1;33m)\u001b[0m\u001b[1;33m:\u001b[0m\u001b[1;33m\u001b[0m\u001b[1;33m\u001b[0m\u001b[0m\n\u001b[0;32m     27\u001b[0m                         \u001b[1;32mreturn\u001b[0m \u001b[0mself\u001b[0m\u001b[1;33m.\u001b[0m\u001b[0m__class__\u001b[0m\u001b[1;33m(\u001b[0m\u001b[0mret\u001b[0m\u001b[1;33m)\u001b[0m\u001b[1;33m\u001b[0m\u001b[1;33m\u001b[0m\u001b[0m\n",
      "\u001b[1;31mIndexError\u001b[0m: list index out of range"
     ]
    }
   ],
   "source": [
    "LORD_JARAXXUS = \"EX1_323\"\n",
    "LORD_JARAXXUS_HERO = \"EX1_323h\"\n",
    "LORD_JARAXXUS_WEAPON = \"EX1_323w\"\n",
    "INFERNO = \"EX1_tk33\"\n",
    "INFERNO_TOKEN = \"EX1_tk34\"\n",
    "\n",
    "\n",
    "game = prepare_game(CardClass.WARRIOR, CardClass.WARRIOR)\n",
    "game.player1.hero.power.use()\n",
    "game.player1.give(LIGHTS_JUSTICE).play()\n",
    "assert game.player1.weapon.id == LIGHTS_JUSTICE\n",
    "game.end_turn()\n",
    "game.end_turn()\n",
    "\n",
    "print(game.player1.hand)\n",
    "print(game.player2.hand)\n",
    "print(game.player1.field)\n",
    "#game.player1.give('EX1_414').play()\n",
    "game.end_turn()\n",
    "game.player2.give('EX1_414').play()\n",
    "print(game.player1.field)\n",
    "print(implemented_cards.index(game.player1.field[0]))\n",
    "# assert game.player1.hero.health == 30\n",
    "# assert game.player1.hero.armor == 2\n",
    "# game.player1.give(LORD_JARAXXUS).play()\n",
    "# assert game.player1.hero.id == LORD_JARAXXUS_HERO\n",
    "# assert game.player1.weapon.id == LORD_JARAXXUS_WEAPON\n",
    "# assert game.player1.hero.health == 15\n",
    "# assert game.player1.hero.armor == 0\n",
    "# assert game.player1.hero.power.id == INFERNO\n",
    "# assert len(game.player1.field) == 0\n",
    "# game.end_turn()\n",
    "# game.end_turn()\n",
    "\n",
    "# game.player1.hero.power.use()\n",
    "# assert len(game.player1.field) == 1\n",
    "# assert game.player1.field[0].id == INFERNO_TOKEN"
   ]
  },
  {
   "cell_type": "code",
   "execution_count": 71,
   "id": "203671eb",
   "metadata": {
    "scrolled": true
   },
   "outputs": [
    {
     "name": "stderr",
     "output_type": "stream",
     "text": [
      "[fireplace.entity]: Player(name='Player2', hero=<Hero ('Garrosh Hellscream')>) discards their entire hand!\n",
      "[fireplace.entity]: Discarding <Minion (\"Headmaster Kel'Thuzad\")>\n",
      "[fireplace.card]: <Minion (\"Headmaster Kel'Thuzad\")> moves from <Zone.HAND: 3> to <Zone.GRAVEYARD: 4>\n",
      "[fireplace.entity]: Discarding <Minion ('Core Hound')>\n",
      "[fireplace.card]: <Minion ('Core Hound')> moves from <Zone.HAND: 3> to <Zone.GRAVEYARD: 4>\n",
      "[fireplace.entity]: Discarding <Minion ('Sir Finley Mrrgglton')>\n",
      "[fireplace.card]: <Minion ('Sir Finley Mrrgglton')> moves from <Zone.HAND: 3> to <Zone.GRAVEYARD: 4>\n",
      "[fireplace.entity]: Discarding <Minion ('Twin Tyrant')>\n",
      "[fireplace.card]: <Minion ('Twin Tyrant')> moves from <Zone.HAND: 3> to <Zone.GRAVEYARD: 4>\n",
      "[fireplace.entity]: Discarding <Minion ('Nerubian Unraveler')>\n",
      "[fireplace.card]: <Minion ('Nerubian Unraveler')> moves from <Zone.HAND: 3> to <Zone.GRAVEYARD: 4>\n",
      "[fireplace.entity]: Player1 ends turn 4\n",
      "[fireplace.entity]: Player2 begins turn 5\n",
      "[fireplace.entity]: Player2 is now at 10 mana crystals\n",
      "[fireplace.actions]: Player(name='Player2', hero=<Hero ('Garrosh Hellscream')>) triggering <TargetedAction: Draw()> targeting [Player(name='Player2', hero=<Hero ('Garrosh Hellscream')>)]\n",
      "[fireplace.entity]: Player2 draws <Minion ('Smothering Starfish')>\n",
      "[fireplace.card]: <Minion ('Smothering Starfish')> moves from <Zone.DECK: 2> to <Zone.HAND: 3>\n",
      "[fireplace.entity]: Empty stack, refreshing auras and processing deaths\n",
      "[fireplace.actions]: Player(name='Player2', hero=<Hero ('Garrosh Hellscream')>) triggering <TargetedAction: Give(<Give.CARD>='AT_044')> targeting [Player(name='Player2', hero=<Hero ('Garrosh Hellscream')>)]\n",
      "[fireplace.actions]: Giving [<Spell ('Mulch')>] to Player2\n",
      "[fireplace.card]: <Spell ('Mulch')> moves from <Zone.SETASIDE: 6> to <Zone.HAND: 3>\n",
      "[fireplace.entity]: Empty stack, refreshing auras and processing deaths\n",
      "[fireplace.actions]: Player2 plays <Spell ('Mulch')> (target=<Minion ('Grommash Hellscream')>, index=None)\n",
      "[fireplace.entity]: Player2 pays 3 mana\n",
      "[fireplace.card]: <Spell ('Mulch')> moves from <Zone.HAND: 3> to <Zone.PLAY: 1>\n",
      "[fireplace.actions]: <Spell ('Mulch')> triggering <TargetedAction: Battlecry(<Battlecry.TARGET>=<Minion ('Grommash Hellscream')>)> targeting [<Spell ('Mulch')>]\n",
      "[fireplace.actions]: Activating <Spell ('Mulch')> action targeting <Minion ('Grommash Hellscream')>\n",
      "[fireplace.actions]: <Spell ('Mulch')> triggering <TargetedAction: Destroy()> targeting [<Minion ('Grommash Hellscream')>]\n",
      "[fireplace.actions]: <Spell ('Mulch')> marks <Minion ('Grommash Hellscream')> for imminent death\n",
      "[fireplace.actions]: <Spell ('Mulch')> triggering <TargetedAction: Give(<Give.CARD>=RandomCardPicker({'collectible': True, 'type': <CardType.MINION: 4>}))> targeting [Player(name='Player1', hero=<Hero ('Garrosh Hellscream')>)]\n",
      "[fireplace.actions]: Giving [<Minion ('Grim Necromancer')>] to Player1\n",
      "[fireplace.card]: <Minion ('Grim Necromancer')> moves from <Zone.SETASIDE: 6> to <Zone.HAND: 3>\n",
      "[fireplace.entity]: Empty stack, refreshing auras and processing deaths\n",
      "[fireplace.entity]: <Minion ('Grommash Hellscream')> is removed from the field\n",
      "[fireplace.card]: <Minion ('Grommash Hellscream')> moves from <Zone.PLAY: 1> to <Zone.GRAVEYARD: 4>\n",
      "[fireplace.entity]: Empty stack, refreshing auras and processing deaths\n",
      "[fireplace.actions]: Processing Death for <Minion ('Grommash Hellscream')>\n",
      "[fireplace.entity]: Empty stack, refreshing auras and processing deaths\n",
      "[fireplace.entity]: Empty stack, refreshing auras and processing deaths\n"
     ]
    },
    {
     "name": "stdout",
     "output_type": "stream",
     "text": [
      "[<Minion ('Grommash Hellscream')>]\n",
      "True\n",
      "[<Minion ('Grommash Hellscream')>]\n",
      "[<Minion ('Smothering Starfish')>, <Spell ('Mulch')>]\n",
      "[]\n",
      "[<Spell ('Charge')>, <Minion ('Theotar, the Mad Duke')>, <Minion ('Questing Adventurer')>, <Spell ('Brawl')>, <Spell ('The Coin')>, <Minion ('City Architect')>, <Minion ('Sir Finley Mrrgglton')>, <Minion ('Grim Necromancer')>]\n"
     ]
    }
   ],
   "source": [
    "game.player1.discard_hand()\n",
    "print(game.player2.field)\n",
    "game.end_turn()\n",
    "mulch = game.player1.give('AT_044')\n",
    "print(mulch.is_playable())\n",
    "print(mulch.targets)\n",
    "print(game.player1.hand)\n",
    "mulch.play(target=mulch.targets[0])\n",
    "print(game.player2.field)\n",
    "print(game.player2.hand)"
   ]
  },
  {
   "cell_type": "code",
   "execution_count": 77,
   "id": "ca4869eb",
   "metadata": {},
   "outputs": [
    {
     "name": "stdout",
     "output_type": "stream",
     "text": [
      "Grim Necromancer\n",
      "CORE_ICC_026\n",
      "False\n",
      "True\n"
     ]
    }
   ],
   "source": [
    "print(game.player2.hand[7])\n",
    "print(game.player2.hand[7].id)\n",
    "print(game.player2.hand[7] in implemented_cards)\n",
    "test_card = 'ICC_026'\n",
    "print(test_card in implemented_cards)"
   ]
  },
  {
   "cell_type": "code",
   "execution_count": 78,
   "id": "8c658652",
   "metadata": {},
   "outputs": [
    {
     "name": "stdout",
     "output_type": "stream",
     "text": [
      "False\n"
     ]
    }
   ],
   "source": [
    "core_card = 'CORE_ICC_026'\n",
    "print(core_card in implemented_cards)"
   ]
  },
  {
   "cell_type": "code",
   "execution_count": 79,
   "id": "7fb9fd26",
   "metadata": {},
   "outputs": [
    {
     "name": "stdout",
     "output_type": "stream",
     "text": [
      "False\n"
     ]
    }
   ],
   "source": [
    "card = 'YOD_012'\n",
    "print(card in implemented_cards)"
   ]
  },
  {
   "cell_type": "code",
   "execution_count": 80,
   "id": "28aea967",
   "metadata": {},
   "outputs": [
    {
     "name": "stdout",
     "output_type": "stream",
     "text": [
      "False\n"
     ]
    }
   ],
   "source": [
    "card = 'BAR_705'\n",
    "print(card in implemented_cards)"
   ]
  },
  {
   "cell_type": "code",
   "execution_count": 1,
   "id": "664f8ad1",
   "metadata": {},
   "outputs": [
    {
     "name": "stdout",
     "output_type": "stream",
     "text": [
      "3.9.13 (main, Aug 25 2022, 23:51:50) [MSC v.1916 64 bit (AMD64)]\n"
     ]
    }
   ],
   "source": [
    "import sys\n",
    "print(sys.version)"
   ]
  }
 ],
 "metadata": {
  "kernelspec": {
   "display_name": "Python 3 (ipykernel)",
   "language": "python",
   "name": "python3"
  },
  "language_info": {
   "codemirror_mode": {
    "name": "ipython",
    "version": 3
   },
   "file_extension": ".py",
   "mimetype": "text/x-python",
   "name": "python",
   "nbconvert_exporter": "python",
   "pygments_lexer": "ipython3",
   "version": "3.9.13"
  }
 },
 "nbformat": 4,
 "nbformat_minor": 5
}
