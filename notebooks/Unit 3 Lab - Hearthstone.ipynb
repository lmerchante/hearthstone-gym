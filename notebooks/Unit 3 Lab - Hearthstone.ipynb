{
 "cells": [
  {
   "cell_type": "markdown",
   "id": "df8966f6",
   "metadata": {},
   "source": [
    "# Train your first Deep Reinforcement Learning Agent\n",
    "\n",
    "PYTHON 3.9"
   ]
  },
  {
   "cell_type": "code",
   "execution_count": 1,
   "id": "0eccd89a",
   "metadata": {},
   "outputs": [
    {
     "name": "stdout",
     "output_type": "stream",
     "text": [
      "C:\\Users\\lfsanchez\\Anaconda3\\envs\\RLGAMESC:\\Users\\lfsanchez\\Anaconda3\\envs\\RLGAMES\\lib\\site-packages\n"
     ]
    }
   ],
   "source": [
    "import site; print(''.join(site.getsitepackages()))"
   ]
  },
  {
   "cell_type": "code",
   "execution_count": 2,
   "id": "33b523cb",
   "metadata": {},
   "outputs": [],
   "source": [
    "import numpy as np\n",
    "import gymnasium as gym\n",
    "import random\n",
    "import imageio\n",
    "import os\n",
    "import tqdm\n",
    "\n",
    "import pickle\n",
    "from tqdm.notebook import tqdm"
   ]
  },
  {
   "cell_type": "code",
   "execution_count": 3,
   "id": "5437a16b",
   "metadata": {},
   "outputs": [
    {
     "data": {
      "text/plain": [
       "'0.27.1'"
      ]
     },
     "execution_count": 3,
     "metadata": {},
     "output_type": "execute_result"
    }
   ],
   "source": [
    "gym.__version__"
   ]
  },
  {
   "cell_type": "code",
   "execution_count": 4,
   "id": "6cef6824",
   "metadata": {},
   "outputs": [
    {
     "name": "stdout",
     "output_type": "stream",
     "text": [
      "Requirement already satisfied: stable-baselines3[extra] in c:\\users\\lfsanchez\\appdata\\roaming\\python\\python39\\site-packages (1.7.0)\n",
      "Requirement already satisfied: matplotlib in c:\\users\\lfsanchez\\appdata\\roaming\\python\\python39\\site-packages (from stable-baselines3[extra]) (3.7.0)\n",
      "Requirement already satisfied: numpy in c:\\users\\lfsanchez\\anaconda3\\envs\\rlgames\\lib\\site-packages (from stable-baselines3[extra]) (1.24.2)\n",
      "Requirement already satisfied: importlib-metadata~=4.13 in c:\\users\\lfsanchez\\appdata\\roaming\\python\\python39\\site-packages (from stable-baselines3[extra]) (4.13.0)\n",
      "Requirement already satisfied: torch>=1.11 in c:\\users\\lfsanchez\\anaconda3\\envs\\rlgames\\lib\\site-packages (from stable-baselines3[extra]) (1.13.1)\n",
      "Requirement already satisfied: pandas in c:\\users\\lfsanchez\\appdata\\roaming\\python\\python39\\site-packages (from stable-baselines3[extra]) (1.5.3)\n",
      "Requirement already satisfied: gym==0.21 in c:\\users\\lfsanchez\\appdata\\roaming\\python\\python39\\site-packages (from stable-baselines3[extra]) (0.21.0)\n",
      "Requirement already satisfied: cloudpickle in c:\\users\\lfsanchez\\appdata\\roaming\\python\\python39\\site-packages (from stable-baselines3[extra]) (2.2.1)\n",
      "Requirement already satisfied: opencv-python in c:\\users\\lfsanchez\\anaconda3\\envs\\rlgames\\lib\\site-packages (from stable-baselines3[extra]) (4.7.0.68)\n",
      "Requirement already satisfied: tensorboard>=2.9.1 in c:\\users\\lfsanchez\\appdata\\roaming\\python\\python39\\site-packages (from stable-baselines3[extra]) (2.12.0)\n",
      "Requirement already satisfied: rich in c:\\users\\lfsanchez\\appdata\\roaming\\python\\python39\\site-packages (from stable-baselines3[extra]) (13.3.1)\n",
      "Requirement already satisfied: ale-py==0.7.4 in c:\\users\\lfsanchez\\appdata\\roaming\\python\\python39\\site-packages (from stable-baselines3[extra]) (0.7.4)\n",
      "Requirement already satisfied: tqdm in c:\\users\\lfsanchez\\anaconda3\\envs\\rlgames\\lib\\site-packages (from stable-baselines3[extra]) (4.64.1)\n",
      "Requirement already satisfied: autorom[accept-rom-license]~=0.4.2 in c:\\users\\lfsanchez\\appdata\\roaming\\python\\python39\\site-packages (from stable-baselines3[extra]) (0.4.2)\n",
      "Requirement already satisfied: pillow in c:\\users\\lfsanchez\\anaconda3\\envs\\rlgames\\lib\\site-packages (from stable-baselines3[extra]) (9.4.0)\n",
      "Requirement already satisfied: psutil in c:\\users\\lfsanchez\\anaconda3\\envs\\rlgames\\lib\\site-packages (from stable-baselines3[extra]) (5.9.4)\n",
      "Requirement already satisfied: importlib-resources in c:\\users\\lfsanchez\\appdata\\roaming\\python\\python39\\site-packages (from ale-py==0.7.4->stable-baselines3[extra]) (5.10.2)\n",
      "Requirement already satisfied: requests in c:\\users\\lfsanchez\\anaconda3\\envs\\rlgames\\lib\\site-packages (from autorom[accept-rom-license]~=0.4.2->stable-baselines3[extra]) (2.28.2)\n",
      "Requirement already satisfied: click in c:\\users\\lfsanchez\\anaconda3\\envs\\rlgames\\lib\\site-packages (from autorom[accept-rom-license]~=0.4.2->stable-baselines3[extra]) (8.1.3)\n",
      "Requirement already satisfied: AutoROM.accept-rom-license in c:\\users\\lfsanchez\\anaconda3\\envs\\rlgames\\lib\\site-packages (from autorom[accept-rom-license]~=0.4.2->stable-baselines3[extra]) (0.5.5)\n",
      "Requirement already satisfied: zipp>=0.5 in c:\\users\\lfsanchez\\anaconda3\\envs\\rlgames\\lib\\site-packages (from importlib-metadata~=4.13->stable-baselines3[extra]) (3.13.0)\n",
      "Requirement already satisfied: setuptools>=41.0.0 in c:\\users\\lfsanchez\\appdata\\roaming\\python\\python39\\site-packages (from tensorboard>=2.9.1->stable-baselines3[extra]) (58.2.0)\n",
      "Requirement already satisfied: markdown>=2.6.8 in c:\\users\\lfsanchez\\appdata\\roaming\\python\\python39\\site-packages (from tensorboard>=2.9.1->stable-baselines3[extra]) (3.4.1)\n",
      "Requirement already satisfied: google-auth<3,>=1.6.3 in c:\\users\\lfsanchez\\appdata\\roaming\\python\\python39\\site-packages (from tensorboard>=2.9.1->stable-baselines3[extra]) (2.16.0)\n",
      "Requirement already satisfied: protobuf>=3.19.6 in c:\\users\\lfsanchez\\anaconda3\\envs\\rlgames\\lib\\site-packages (from tensorboard>=2.9.1->stable-baselines3[extra]) (4.21.12)\n",
      "Requirement already satisfied: absl-py>=0.4 in c:\\users\\lfsanchez\\appdata\\roaming\\python\\python39\\site-packages (from tensorboard>=2.9.1->stable-baselines3[extra]) (1.4.0)\n",
      "Requirement already satisfied: werkzeug>=1.0.1 in c:\\users\\lfsanchez\\appdata\\roaming\\python\\python39\\site-packages (from tensorboard>=2.9.1->stable-baselines3[extra]) (2.2.3)\n",
      "Requirement already satisfied: tensorboard-data-server<0.8.0,>=0.7.0 in c:\\users\\lfsanchez\\anaconda3\\envs\\rlgames\\lib\\site-packages (from tensorboard>=2.9.1->stable-baselines3[extra]) (0.7.0)\n",
      "Requirement already satisfied: wheel>=0.26 in c:\\users\\lfsanchez\\anaconda3\\envs\\rlgames\\lib\\site-packages (from tensorboard>=2.9.1->stable-baselines3[extra]) (0.38.4)\n",
      "Requirement already satisfied: tensorboard-plugin-wit>=1.6.0 in c:\\users\\lfsanchez\\anaconda3\\envs\\rlgames\\lib\\site-packages (from tensorboard>=2.9.1->stable-baselines3[extra]) (1.8.1)\n",
      "Requirement already satisfied: grpcio>=1.48.2 in c:\\users\\lfsanchez\\appdata\\roaming\\python\\python39\\site-packages (from tensorboard>=2.9.1->stable-baselines3[extra]) (1.51.1)\n",
      "Requirement already satisfied: google-auth-oauthlib<0.5,>=0.4.1 in c:\\users\\lfsanchez\\appdata\\roaming\\python\\python39\\site-packages (from tensorboard>=2.9.1->stable-baselines3[extra]) (0.4.6)\n",
      "Requirement already satisfied: typing-extensions in c:\\users\\lfsanchez\\anaconda3\\envs\\rlgames\\lib\\site-packages (from torch>=1.11->stable-baselines3[extra]) (4.5.0)\n",
      "Requirement already satisfied: packaging>=20.0 in c:\\users\\lfsanchez\\appdata\\roaming\\python\\python39\\site-packages (from matplotlib->stable-baselines3[extra]) (21.0)\n",
      "Requirement already satisfied: kiwisolver>=1.0.1 in c:\\users\\lfsanchez\\appdata\\roaming\\python\\python39\\site-packages (from matplotlib->stable-baselines3[extra]) (1.4.4)\n",
      "Requirement already satisfied: cycler>=0.10 in c:\\users\\lfsanchez\\appdata\\roaming\\python\\python39\\site-packages (from matplotlib->stable-baselines3[extra]) (0.11.0)\n",
      "Requirement already satisfied: contourpy>=1.0.1 in c:\\users\\lfsanchez\\appdata\\roaming\\python\\python39\\site-packages (from matplotlib->stable-baselines3[extra]) (1.0.7)\n",
      "Requirement already satisfied: fonttools>=4.22.0 in c:\\users\\lfsanchez\\appdata\\roaming\\python\\python39\\site-packages (from matplotlib->stable-baselines3[extra]) (4.38.0)\n",
      "Requirement already satisfied: python-dateutil>=2.7 in c:\\users\\lfsanchez\\appdata\\roaming\\python\\python39\\site-packages (from matplotlib->stable-baselines3[extra]) (2.8.2)\n",
      "Requirement already satisfied: pyparsing>=2.3.1 in c:\\users\\lfsanchez\\appdata\\roaming\\python\\python39\\site-packages (from matplotlib->stable-baselines3[extra]) (2.4.7)\n",
      "Requirement already satisfied: pytz>=2020.1 in c:\\users\\lfsanchez\\anaconda3\\envs\\rlgames\\lib\\site-packages (from pandas->stable-baselines3[extra]) (2022.7.1)\n",
      "Requirement already satisfied: pygments<3.0.0,>=2.14.0 in c:\\users\\lfsanchez\\anaconda3\\envs\\rlgames\\lib\\site-packages (from rich->stable-baselines3[extra]) (2.14.0)\n",
      "Requirement already satisfied: markdown-it-py<3.0.0,>=2.1.0 in c:\\users\\lfsanchez\\appdata\\roaming\\python\\python39\\site-packages (from rich->stable-baselines3[extra]) (2.1.0)\n",
      "Requirement already satisfied: colorama in c:\\users\\lfsanchez\\anaconda3\\envs\\rlgames\\lib\\site-packages (from tqdm->stable-baselines3[extra]) (0.4.6)\n",
      "Requirement already satisfied: pyasn1-modules>=0.2.1 in c:\\users\\lfsanchez\\anaconda3\\envs\\rlgames\\lib\\site-packages (from google-auth<3,>=1.6.3->tensorboard>=2.9.1->stable-baselines3[extra]) (0.2.8)\n",
      "Requirement already satisfied: cachetools<6.0,>=2.0.0 in c:\\users\\lfsanchez\\appdata\\roaming\\python\\python39\\site-packages (from google-auth<3,>=1.6.3->tensorboard>=2.9.1->stable-baselines3[extra]) (5.3.0)\n",
      "Requirement already satisfied: rsa<5,>=3.1.4 in c:\\users\\lfsanchez\\anaconda3\\envs\\rlgames\\lib\\site-packages (from google-auth<3,>=1.6.3->tensorboard>=2.9.1->stable-baselines3[extra]) (4.9)\n",
      "Requirement already satisfied: six>=1.9.0 in c:\\users\\lfsanchez\\appdata\\roaming\\python\\python39\\site-packages (from google-auth<3,>=1.6.3->tensorboard>=2.9.1->stable-baselines3[extra]) (1.16.0)\n",
      "Requirement already satisfied: requests-oauthlib>=0.7.0 in c:\\users\\lfsanchez\\appdata\\roaming\\python\\python39\\site-packages (from google-auth-oauthlib<0.5,>=0.4.1->tensorboard>=2.9.1->stable-baselines3[extra]) (1.3.1)\n",
      "Requirement already satisfied: mdurl~=0.1 in c:\\users\\lfsanchez\\anaconda3\\envs\\rlgames\\lib\\site-packages (from markdown-it-py<3.0.0,>=2.1.0->rich->stable-baselines3[extra]) (0.1.2)\n",
      "Requirement already satisfied: certifi>=2017.4.17 in c:\\users\\lfsanchez\\anaconda3\\envs\\rlgames\\lib\\site-packages (from requests->autorom[accept-rom-license]~=0.4.2->stable-baselines3[extra]) (2022.12.7)\n",
      "Requirement already satisfied: charset-normalizer<4,>=2 in c:\\users\\lfsanchez\\anaconda3\\envs\\rlgames\\lib\\site-packages (from requests->autorom[accept-rom-license]~=0.4.2->stable-baselines3[extra]) (3.0.1)\n",
      "Requirement already satisfied: idna<4,>=2.5 in c:\\users\\lfsanchez\\anaconda3\\envs\\rlgames\\lib\\site-packages (from requests->autorom[accept-rom-license]~=0.4.2->stable-baselines3[extra]) (3.4)\n",
      "Requirement already satisfied: urllib3<1.27,>=1.21.1 in c:\\users\\lfsanchez\\anaconda3\\envs\\rlgames\\lib\\site-packages (from requests->autorom[accept-rom-license]~=0.4.2->stable-baselines3[extra]) (1.26.14)\n",
      "Requirement already satisfied: MarkupSafe>=2.1.1 in c:\\users\\lfsanchez\\anaconda3\\envs\\rlgames\\lib\\site-packages (from werkzeug>=1.0.1->tensorboard>=2.9.1->stable-baselines3[extra]) (2.1.2)\n",
      "Requirement already satisfied: libtorrent in c:\\users\\lfsanchez\\anaconda3\\envs\\rlgames\\lib\\site-packages (from AutoROM.accept-rom-license->autorom[accept-rom-license]~=0.4.2->stable-baselines3[extra]) (2.0.7)\n",
      "Requirement already satisfied: pyasn1<0.5.0,>=0.4.6 in c:\\users\\lfsanchez\\anaconda3\\envs\\rlgames\\lib\\site-packages (from pyasn1-modules>=0.2.1->google-auth<3,>=1.6.3->tensorboard>=2.9.1->stable-baselines3[extra]) (0.4.8)\n",
      "Requirement already satisfied: oauthlib>=3.0.0 in c:\\users\\lfsanchez\\anaconda3\\envs\\rlgames\\lib\\site-packages (from requests-oauthlib>=0.7.0->google-auth-oauthlib<0.5,>=0.4.1->tensorboard>=2.9.1->stable-baselines3[extra]) (3.2.2)\n"
     ]
    }
   ],
   "source": [
    "!pip install stable-baselines3[extra]"
   ]
  },
  {
   "cell_type": "markdown",
   "id": "9544e755",
   "metadata": {},
   "source": [
    "Ojo para poder importar:\n",
    "    \n",
    "    from stable_baselines3 import A2C\n",
    "    \n",
    "Tenemos que reemplazas todas las referencias a gym por gymansium. Podemos buscarlas con los comandos:\n",
    "    \n",
    "    grep -rnw . -e 'from gym import'\n",
    "    grep -rnw . -e 'import gym'   \n",
    "    grep -rnw . -e 'import gym.'\n",
    "    \n",
    "Y reemplazarlas con comandos como:\n",
    "    \n",
    "    find ./ -type f -exec sed -i 's/from gym import spaces/from gymnasium import spaces/g' {} \\;    \n",
    "    \n",
    "Hay referencias en todos estos ficheros:\n",
    "    \n",
    "    ./a2c/a2c.py\n",
    "    ./common/atari_wrappers.py:1:import gym\n",
    "    ./common/base_class.py:11:import gym\n",
    "    ./common/callbacks.py:6:import gym\n",
    "    ./common/envs/identity_env.py:3:import gym\n",
    "    ./common/envs/multi_input_envs.py:3:import gym\n",
    "    ./common/env_checker.py:4:import gym\n",
    "    ./common/env_util.py:4:import gym\n",
    "    ./common/evaluation.py:4:import gym\n",
    "    ./common/monitor.py:10:import gym\n",
    "    ./common/torch_layers.py:5:import gym\n",
    "    ./common/type_aliases.py:7:import gym\n",
    "    ./common/utils.py:10:import gym\n",
    "    ./common/vec_env/base_vec_env.py:7:import gym\n",
    "    ./common/vec_env/dummy_vec_env.py:5:import gym\n",
    "    ./common/vec_env/subproc_vec_env.py:5:import gym\n",
    "\n",
    "    ./common/buffers.py:7:from gym import spaces\n",
    "    ./common/distributions.py:8:from gym import spaces\n",
    "    ./common/envs/bit_flipping_env.py:5:from gym import Env, spaces\n",
    "    ./common/off_policy_algorithm.py:11:from gym import spaces\n",
    "    ./common/on_policy_algorithm.py:7:from gym import spaces\n",
    "    ./common/policies.py:12:from gym import spaces\n",
    "    ./common/preprocessing.py:6:from gym import spaces\n",
    "    ./common/vec_env/stacked_observations.py:5:from gym import spaces\n",
    "    ./common/vec_env/util.py:8:from gym import spaces\n",
    "    ./common/vec_env/vec_frame_stack.py:4:from gym import spaces\n",
    "    ./common/vec_env/vec_normalize.py:6:from gym import spaces\n",
    "    ./common/vec_env/vec_transpose.py:5:from gym import spaces\n",
    "    ./dqn/dqn.py:6:from gym import spaces\n",
    "    ./dqn/policies.py:4:from gym import spaces\n",
    "    ./ppo/ppo.py:6:from gym import spaces\n",
    "    ./sac/policies.py:4:from gym import spaces\n",
    "    ./sac/sac.py:5:from gym import spaces\n",
    "    ./td3/policies.py:4:from gym import spaces\n",
    "    ./td3/td3.py:5:from gym import spaces\n",
    "\n",
    "Puede que alguno más. Después de reemplazar volver a ejecutar los comandos de búsqueda a ver si queda alguna referencia. En mi caso la librería está aquí:\n",
    "    \n",
    "    C:\\Users\\lfsanchez\\AppData\\Roaming\\Python\\Python39\\site-packages\\stable_baselines3"
   ]
  },
  {
   "cell_type": "code",
   "execution_count": 12,
   "id": "da574e66",
   "metadata": {},
   "outputs": [
    {
     "name": "stdout",
     "output_type": "stream",
     "text": [
      "Requirement already satisfied: atari_py in c:\\users\\lfsanchez\\anaconda3\\envs\\rlgames\\lib\\site-packages (0.2.9)\n",
      "Requirement already satisfied: six in c:\\users\\lfsanchez\\appdata\\roaming\\python\\python39\\site-packages (from atari_py) (1.16.0)\n",
      "Requirement already satisfied: numpy in c:\\users\\lfsanchez\\anaconda3\\envs\\rlgames\\lib\\site-packages (from atari_py) (1.24.2)\n"
     ]
    }
   ],
   "source": [
    "!pip install atari_py"
   ]
  },
  {
   "cell_type": "markdown",
   "id": "e550ceac",
   "metadata": {},
   "source": [
    "Hemos instalado fireplace con:\n",
    "    \n",
    "        pip install git+https://github.com/jleclanche/fireplace.git"
   ]
  },
  {
   "cell_type": "code",
   "execution_count": 4,
   "id": "f2cc3fde",
   "metadata": {},
   "outputs": [
    {
     "name": "stdout",
     "output_type": "stream",
     "text": [
      "Help on package fireplace:\n",
      "\n",
      "NAME\n",
      "    fireplace\n",
      "\n",
      "PACKAGE CONTENTS\n",
      "    actions\n",
      "    aura\n",
      "    brawls (package)\n",
      "    card\n",
      "    cards (package)\n",
      "    deck\n",
      "    dsl (package)\n",
      "    entity\n",
      "    enums\n",
      "    events\n",
      "    exceptions\n",
      "    game\n",
      "    logging\n",
      "    managers\n",
      "    player\n",
      "    rules\n",
      "    targeting\n",
      "    utils\n",
      "\n",
      "DATA\n",
      "    __email__ = 'jerome@leclan.ch'\n",
      "\n",
      "VERSION\n",
      "    0.1.0\n",
      "\n",
      "AUTHOR\n",
      "    Jerome Leclanche\n",
      "\n",
      "FILE\n",
      "    c:\\users\\lfsanchez\\anaconda3\\envs\\rlgames\\lib\\site-packages\\fireplace\\__init__.py\n",
      "\n",
      "\n"
     ]
    }
   ],
   "source": [
    "import fireplace\n",
    "help(fireplace)"
   ]
  },
  {
   "cell_type": "code",
   "execution_count": 5,
   "id": "ec0c8944",
   "metadata": {},
   "outputs": [
    {
     "name": "stdout",
     "output_type": "stream",
     "text": [
      "Help on package gym_hearthstone:\n",
      "\n",
      "NAME\n",
      "    gym_hearthstone\n",
      "\n",
      "PACKAGE CONTENTS\n",
      "    envs (package)\n",
      "\n",
      "DATA\n",
      "    logger = <Logger gym_hearthstone (WARNING)>\n",
      "\n",
      "FILE\n",
      "    c:\\users\\lfsanchez\\onedrive - universidad pontificia comillas\\comillas\\workspace\\hearthstone-gym\\gym_hearthstone\\__init__.py\n",
      "\n",
      "\n"
     ]
    }
   ],
   "source": [
    "# Ojo, al hacer pip generaba una carpeta con otro nombre en:\n",
    "#      C:\\Users\\lfsanchez\\Anaconda3\\envs\\RLGAMES\\Lib\\site-packages\n",
    "# He hecho un fork, lo he clonado y lo he instalado desde la ruta con un:\n",
    "# pip install -e .\n",
    "# y he cambiado las dependencias de gym por gymnasium\n",
    "\n",
    "import gym_hearthstone\n",
    "help(gym_hearthstone)"
   ]
  },
  {
   "cell_type": "code",
   "execution_count": 1,
   "id": "ede16e32",
   "metadata": {},
   "outputs": [],
   "source": [
    "# import gymnasium as gym\n",
    "# import gym_hearthstone\n",
    "# \n",
    "# env = gym.make('Hearthstone-v0')"
   ]
  },
  {
   "cell_type": "code",
   "execution_count": 1,
   "id": "8cc31913",
   "metadata": {
    "scrolled": false
   },
   "outputs": [
    {
     "name": "stderr",
     "output_type": "stream",
     "text": [
      "[fireplace.__init__]: Initializing card database\n",
      "[fireplace.__init__]: Merged 25713 cards\n"
     ]
    },
    {
     "name": "stdout",
     "output_type": "stream",
     "text": [
      "IMPLEMENTED CARDS: 7913\n",
      "UNIMPLEMENTED CARDS: 17800\n",
      "HearthstoneEnv - Version 0.2.0\n"
     ]
    },
    {
     "name": "stderr",
     "output_type": "stream",
     "text": [
      "[fireplace.entity]: Setting up game Game(players=(Player(name='Player1', hero=None), Player(name='Player2', hero=None)))\n",
      "[fireplace.entity]: Tossing the coin... Player2 wins!\n",
      "[fireplace.actions]: Player(name='Player1', hero=<Hero ('Illidan Stormrage')>) triggering <TargetedAction: Summon(<Summon.CARD>=<HeroPower ('Demon Claws')>)> targeting [Player(name='Player1', hero=<Hero ('Illidan Stormrage')>)]\n",
      "[fireplace.actions]: Player1 summons [<HeroPower ('Demon Claws')>]\n",
      "[fireplace.entity]: Empty stack, refreshing auras and processing deaths\n",
      "[fireplace.actions]: Player(name='Player1', hero=<Hero ('Illidan Stormrage')>) triggering <TargetedAction: Summon(<Summon.CARD>=<Hero ('Illidan Stormrage')>)> targeting [Player(name='Player1', hero=<Hero ('Illidan Stormrage')>)]\n",
      "[fireplace.actions]: Player1 summons [<Hero ('Illidan Stormrage')>]\n",
      "[fireplace.entity]: Empty stack, refreshing auras and processing deaths\n",
      "[fireplace.entity]: Player(name='Player1', hero=<Hero ('Illidan Stormrage')>) shuffles their deck\n",
      "[fireplace.card]: <Minion (\"Spawn of N'Zoth\")> moves from <Zone.DECK: 2> to <Zone.HAND: 3>\n",
      "[fireplace.card]: <Minion ('Rainbow Glowscale')> moves from <Zone.DECK: 2> to <Zone.HAND: 3>\n",
      "[fireplace.card]: <Minion ('Young Dragonhawk')> moves from <Zone.DECK: 2> to <Zone.HAND: 3>\n",
      "[fireplace.card]: <Minion ('Voodoo Doctor')> moves from <Zone.DECK: 2> to <Zone.HAND: 3>\n"
     ]
    },
    {
     "name": "stdout",
     "output_type": "stream",
     "text": [
      ">>> Initialize PLAYER1\n",
      ">>> Initialize PLAYER2\n",
      ">>> Initialize GAME\n",
      "exception making decks--trying again''\n"
     ]
    },
    {
     "name": "stderr",
     "output_type": "stream",
     "text": [
      "[fireplace.entity]: Setting up game Game(players=(Player(name='Player1', hero=None), Player(name='Player2', hero=None)))\n",
      "[fireplace.entity]: Tossing the coin... Player1 wins!\n"
     ]
    },
    {
     "name": "stdout",
     "output_type": "stream",
     "text": [
      ">>> Initialize PLAYER1\n",
      ">>> Initialize PLAYER2\n",
      ">>> Initialize GAME\n",
      "exception making decks--trying again''\n"
     ]
    },
    {
     "name": "stderr",
     "output_type": "stream",
     "text": [
      "[fireplace.entity]: Setting up game Game(players=(Player(name='Player1', hero=None), Player(name='Player2', hero=None)))\n",
      "[fireplace.entity]: Tossing the coin... Player1 wins!\n",
      "[fireplace.actions]: Player(name='Player1', hero=<Hero ('Uther Lightbringer')>) triggering <TargetedAction: Summon(<Summon.CARD>=<HeroPower ('Reinforce')>)> targeting [Player(name='Player1', hero=<Hero ('Uther Lightbringer')>)]\n",
      "[fireplace.actions]: Player1 summons [<HeroPower ('Reinforce')>]\n",
      "[fireplace.entity]: Empty stack, refreshing auras and processing deaths\n",
      "[fireplace.actions]: Player(name='Player1', hero=<Hero ('Uther Lightbringer')>) triggering <TargetedAction: Summon(<Summon.CARD>=<Hero ('Uther Lightbringer')>)> targeting [Player(name='Player1', hero=<Hero ('Uther Lightbringer')>)]\n",
      "[fireplace.actions]: Player1 summons [<Hero ('Uther Lightbringer')>]\n",
      "[fireplace.entity]: Empty stack, refreshing auras and processing deaths\n",
      "[fireplace.entity]: Player(name='Player1', hero=<Hero ('Uther Lightbringer')>) shuffles their deck\n",
      "[fireplace.card]: <Minion ('Eadric the Pure')> moves from <Zone.DECK: 2> to <Zone.HAND: 3>\n",
      "[fireplace.card]: <Minion ('Stranglethorn Tiger')> moves from <Zone.DECK: 2> to <Zone.HAND: 3>\n",
      "[fireplace.card]: <Minion ('Mad Scientist')> moves from <Zone.DECK: 2> to <Zone.HAND: 3>\n",
      "[fireplace.actions]: Player(name='Player2', hero=<Hero ('Valeera Sanguinar')>) triggering <TargetedAction: Summon(<Summon.CARD>=<HeroPower ('Dagger Mastery')>)> targeting [Player(name='Player2', hero=<Hero ('Valeera Sanguinar')>)]\n",
      "[fireplace.actions]: Player2 summons [<HeroPower ('Dagger Mastery')>]\n",
      "[fireplace.entity]: Empty stack, refreshing auras and processing deaths\n",
      "[fireplace.actions]: Player(name='Player2', hero=<Hero ('Valeera Sanguinar')>) triggering <TargetedAction: Summon(<Summon.CARD>=<Hero ('Valeera Sanguinar')>)> targeting [Player(name='Player2', hero=<Hero ('Valeera Sanguinar')>)]\n",
      "[fireplace.actions]: Player2 summons [<Hero ('Valeera Sanguinar')>]\n",
      "[fireplace.entity]: Empty stack, refreshing auras and processing deaths\n",
      "[fireplace.entity]: Player(name='Player2', hero=<Hero ('Valeera Sanguinar')>) shuffles their deck\n",
      "[fireplace.card]: <Weapon ('Kingsbane')> moves from <Zone.DECK: 2> to <Zone.HAND: 3>\n",
      "[fireplace.card]: <Minion ('Patches the Pirate')> moves from <Zone.DECK: 2> to <Zone.HAND: 3>\n",
      "[fireplace.card]: <Minion ('Hogger, Doom of Elwynn')> moves from <Zone.DECK: 2> to <Zone.HAND: 3>\n",
      "[fireplace.card]: <Minion ('Demolisher')> moves from <Zone.DECK: 2> to <Zone.HAND: 3>\n",
      "[fireplace.entity]: Entering mulligan phase\n"
     ]
    },
    {
     "name": "stdout",
     "output_type": "stream",
     "text": [
      ">>> Initialize PLAYER1\n",
      ">>> Initialize PLAYER2\n",
      ">>> Initialize GAME\n"
     ]
    }
   ],
   "source": [
    "import gymnasium as gym\n",
    "import gym_hearthstone\n",
    "\n",
    "env = gym.make('Hearthstone-v1')"
   ]
  },
  {
   "cell_type": "code",
   "execution_count": 4,
   "id": "46ce53cf",
   "metadata": {
    "scrolled": true
   },
   "outputs": [
    {
     "name": "stdout",
     "output_type": "stream",
     "text": [
      "_____OBSERVATION SPACE_____ \n",
      "\n",
      "Observation Space Dict('myarmor': Discrete(501), 'myfield0': Discrete(7914), 'myfield0att': Discrete(501), 'myfield0canattack': Discrete(2), 'myfield0def': Discrete(501), 'myfield0effects_aura': Discrete(2), 'myfield0effects_cantbetargeted': Discrete(2), 'myfield0effects_charge': Discrete(2), 'myfield0effects_deathrattle': Discrete(2), 'myfield0effects_divineshield': Discrete(2), 'myfield0effects_frozen': Discrete(2), 'myfield0effects_poisonous': Discrete(2), 'myfield0effects_silenced': Discrete(2), 'myfield0effects_stealth': Discrete(2), 'myfield0effects_taunt': Discrete(2), 'myfield0effects_windfury': Discrete(2), 'myfield1': Discrete(7914), 'myfield1att': Discrete(501), 'myfield1canattack': Discrete(2), 'myfield1def': Discrete(501), 'myfield1effects_aura': Discrete(2), 'myfield1effects_cantbetargeted': Discrete(2), 'myfield1effects_charge': Discrete(2), 'myfield1effects_deathrattle': Discrete(2), 'myfield1effects_divineshield': Discrete(2), 'myfield1effects_frozen': Discrete(2), 'myfield1effects_poisonous': Discrete(2), 'myfield1effects_silenced': Discrete(2), 'myfield1effects_stealth': Discrete(2), 'myfield1effects_taunt': Discrete(2), 'myfield1effects_windfury': Discrete(2), 'myfield2': Discrete(7914), 'myfield2att': Discrete(501), 'myfield2canattack': Discrete(2), 'myfield2def': Discrete(501), 'myfield2effects_aura': Discrete(2), 'myfield2effects_cantbetargeted': Discrete(2), 'myfield2effects_charge': Discrete(2), 'myfield2effects_deathrattle': Discrete(2), 'myfield2effects_divineshield': Discrete(2), 'myfield2effects_frozen': Discrete(2), 'myfield2effects_poisonous': Discrete(2), 'myfield2effects_silenced': Discrete(2), 'myfield2effects_stealth': Discrete(2), 'myfield2effects_taunt': Discrete(2), 'myfield2effects_windfury': Discrete(2), 'myfield3': Discrete(7914), 'myfield3att': Discrete(501), 'myfield3canattack': Discrete(2), 'myfield3def': Discrete(501), 'myfield3effects_aura': Discrete(2), 'myfield3effects_cantbetargeted': Discrete(2), 'myfield3effects_charge': Discrete(2), 'myfield3effects_deathrattle': Discrete(2), 'myfield3effects_divineshield': Discrete(2), 'myfield3effects_frozen': Discrete(2), 'myfield3effects_poisonous': Discrete(2), 'myfield3effects_silenced': Discrete(2), 'myfield3effects_stealth': Discrete(2), 'myfield3effects_taunt': Discrete(2), 'myfield3effects_windfury': Discrete(2), 'myfield4': Discrete(7914), 'myfield4att': Discrete(501), 'myfield4canattack': Discrete(2), 'myfield4def': Discrete(501), 'myfield4effects_aura': Discrete(2), 'myfield4effects_cantbetargeted': Discrete(2), 'myfield4effects_charge': Discrete(2), 'myfield4effects_deathrattle': Discrete(2), 'myfield4effects_divineshield': Discrete(2), 'myfield4effects_frozen': Discrete(2), 'myfield4effects_poisonous': Discrete(2), 'myfield4effects_silenced': Discrete(2), 'myfield4effects_stealth': Discrete(2), 'myfield4effects_taunt': Discrete(2), 'myfield4effects_windfury': Discrete(2), 'myfield5': Discrete(7914), 'myfield5att': Discrete(501), 'myfield5canattack': Discrete(2), 'myfield5def': Discrete(501), 'myfield5effects_aura': Discrete(2), 'myfield5effects_cantbetargeted': Discrete(2), 'myfield5effects_charge': Discrete(2), 'myfield5effects_deathrattle': Discrete(2), 'myfield5effects_divineshield': Discrete(2), 'myfield5effects_frozen': Discrete(2), 'myfield5effects_poisonous': Discrete(2), 'myfield5effects_silenced': Discrete(2), 'myfield5effects_stealth': Discrete(2), 'myfield5effects_taunt': Discrete(2), 'myfield5effects_windfury': Discrete(2), 'myfield6': Discrete(7914), 'myfield6att': Discrete(501), 'myfield6canattack': Discrete(2), 'myfield6def': Discrete(501), 'myfield6effects_aura': Discrete(2), 'myfield6effects_cantbetargeted': Discrete(2), 'myfield6effects_charge': Discrete(2), 'myfield6effects_deathrattle': Discrete(2), 'myfield6effects_divineshield': Discrete(2), 'myfield6effects_frozen': Discrete(2), 'myfield6effects_poisonous': Discrete(2), 'myfield6effects_silenced': Discrete(2), 'myfield6effects_stealth': Discrete(2), 'myfield6effects_taunt': Discrete(2), 'myfield6effects_windfury': Discrete(2), 'myhand0': Discrete(7914), 'myhand0att': Discrete(501), 'myhand0def': Discrete(501), 'myhand0effects_aura': Discrete(2), 'myhand0effects_cantbetargeted': Discrete(2), 'myhand0effects_charge': Discrete(2), 'myhand0effects_deathrattle': Discrete(2), 'myhand0effects_divineshield': Discrete(2), 'myhand0effects_frozen': Discrete(2), 'myhand0effects_poisonous': Discrete(2), 'myhand0effects_silenced': Discrete(2), 'myhand0effects_stealth': Discrete(2), 'myhand0effects_taunt': Discrete(2), 'myhand0effects_windfury': Discrete(2), 'myhand1': Discrete(7914), 'myhand1att': Discrete(501), 'myhand1def': Discrete(501), 'myhand1effects_aura': Discrete(2), 'myhand1effects_cantbetargeted': Discrete(2), 'myhand1effects_charge': Discrete(2), 'myhand1effects_deathrattle': Discrete(2), 'myhand1effects_divineshield': Discrete(2), 'myhand1effects_frozen': Discrete(2), 'myhand1effects_poisonous': Discrete(2), 'myhand1effects_silenced': Discrete(2), 'myhand1effects_stealth': Discrete(2), 'myhand1effects_taunt': Discrete(2), 'myhand1effects_windfury': Discrete(2), 'myhand2': Discrete(7914), 'myhand2att': Discrete(501), 'myhand2def': Discrete(501), 'myhand2effects_aura': Discrete(2), 'myhand2effects_cantbetargeted': Discrete(2), 'myhand2effects_charge': Discrete(2), 'myhand2effects_deathrattle': Discrete(2), 'myhand2effects_divineshield': Discrete(2), 'myhand2effects_frozen': Discrete(2), 'myhand2effects_poisonous': Discrete(2), 'myhand2effects_silenced': Discrete(2), 'myhand2effects_stealth': Discrete(2), 'myhand2effects_taunt': Discrete(2), 'myhand2effects_windfury': Discrete(2), 'myhand3': Discrete(7914), 'myhand3att': Discrete(501), 'myhand3def': Discrete(501), 'myhand3effects_aura': Discrete(2), 'myhand3effects_cantbetargeted': Discrete(2), 'myhand3effects_charge': Discrete(2), 'myhand3effects_deathrattle': Discrete(2), 'myhand3effects_divineshield': Discrete(2), 'myhand3effects_frozen': Discrete(2), 'myhand3effects_poisonous': Discrete(2), 'myhand3effects_silenced': Discrete(2), 'myhand3effects_stealth': Discrete(2), 'myhand3effects_taunt': Discrete(2), 'myhand3effects_windfury': Discrete(2), 'myhand4': Discrete(7914), 'myhand4att': Discrete(501), 'myhand4def': Discrete(501), 'myhand4effects_aura': Discrete(2), 'myhand4effects_cantbetargeted': Discrete(2), 'myhand4effects_charge': Discrete(2), 'myhand4effects_deathrattle': Discrete(2), 'myhand4effects_divineshield': Discrete(2), 'myhand4effects_frozen': Discrete(2), 'myhand4effects_poisonous': Discrete(2), 'myhand4effects_silenced': Discrete(2), 'myhand4effects_stealth': Discrete(2), 'myhand4effects_taunt': Discrete(2), 'myhand4effects_windfury': Discrete(2), 'myhand5': Discrete(7914), 'myhand5att': Discrete(501), 'myhand5def': Discrete(501), 'myhand5effects_aura': Discrete(2), 'myhand5effects_cantbetargeted': Discrete(2), 'myhand5effects_charge': Discrete(2), 'myhand5effects_deathrattle': Discrete(2), 'myhand5effects_divineshield': Discrete(2), 'myhand5effects_frozen': Discrete(2), 'myhand5effects_poisonous': Discrete(2), 'myhand5effects_silenced': Discrete(2), 'myhand5effects_stealth': Discrete(2), 'myhand5effects_taunt': Discrete(2), 'myhand5effects_windfury': Discrete(2), 'myhand6': Discrete(7914), 'myhand6att': Discrete(501), 'myhand6def': Discrete(501), 'myhand6effects_aura': Discrete(2), 'myhand6effects_cantbetargeted': Discrete(2), 'myhand6effects_charge': Discrete(2), 'myhand6effects_deathrattle': Discrete(2), 'myhand6effects_divineshield': Discrete(2), 'myhand6effects_frozen': Discrete(2), 'myhand6effects_poisonous': Discrete(2), 'myhand6effects_silenced': Discrete(2), 'myhand6effects_stealth': Discrete(2), 'myhand6effects_taunt': Discrete(2), 'myhand6effects_windfury': Discrete(2), 'myhand7': Discrete(7914), 'myhand7att': Discrete(501), 'myhand7def': Discrete(501), 'myhand7effects_aura': Discrete(2), 'myhand7effects_cantbetargeted': Discrete(2), 'myhand7effects_charge': Discrete(2), 'myhand7effects_deathrattle': Discrete(2), 'myhand7effects_divineshield': Discrete(2), 'myhand7effects_frozen': Discrete(2), 'myhand7effects_poisonous': Discrete(2), 'myhand7effects_silenced': Discrete(2), 'myhand7effects_stealth': Discrete(2), 'myhand7effects_taunt': Discrete(2), 'myhand7effects_windfury': Discrete(2), 'myhand8': Discrete(7914), 'myhand8att': Discrete(501), 'myhand8def': Discrete(501), 'myhand8effects_aura': Discrete(2), 'myhand8effects_cantbetargeted': Discrete(2), 'myhand8effects_charge': Discrete(2), 'myhand8effects_deathrattle': Discrete(2), 'myhand8effects_divineshield': Discrete(2), 'myhand8effects_frozen': Discrete(2), 'myhand8effects_poisonous': Discrete(2), 'myhand8effects_silenced': Discrete(2), 'myhand8effects_stealth': Discrete(2), 'myhand8effects_taunt': Discrete(2), 'myhand8effects_windfury': Discrete(2), 'myhand9': Discrete(7914), 'myhand9att': Discrete(501), 'myhand9def': Discrete(501), 'myhand9effects_aura': Discrete(2), 'myhand9effects_cantbetargeted': Discrete(2), 'myhand9effects_charge': Discrete(2), 'myhand9effects_deathrattle': Discrete(2), 'myhand9effects_divineshield': Discrete(2), 'myhand9effects_frozen': Discrete(2), 'myhand9effects_poisonous': Discrete(2), 'myhand9effects_silenced': Discrete(2), 'myhand9effects_stealth': Discrete(2), 'myhand9effects_taunt': Discrete(2), 'myhand9effects_windfury': Discrete(2), 'myhealth': Discrete(31), 'myhero': Discrete(9), 'myherocanattack': Discrete(2), 'myheropoweravail': Discrete(2), 'mynumcardsinhand': Discrete(11), 'mynumminions': Discrete(8), 'mynumsecrets': Discrete(6), 'myunusedmanacrystals': Discrete(11), 'myusedmanacrystals': Discrete(11), 'myweaponatt': Discrete(501), 'myweapondur': Discrete(501), 'opparmor': Discrete(501), 'oppcrystals': Discrete(11), 'oppfield0': Discrete(7914), 'oppfield0att': Discrete(501), 'oppfield0def': Discrete(501), 'oppfield0effects_aura': Discrete(2), 'oppfield0effects_cantbetargeted': Discrete(2), 'oppfield0effects_charge': Discrete(2), 'oppfield0effects_deathrattle': Discrete(2), 'oppfield0effects_divineshield': Discrete(2), 'oppfield0effects_frozen': Discrete(2), 'oppfield0effects_poisonous': Discrete(2), 'oppfield0effects_silenced': Discrete(2), 'oppfield0effects_stealth': Discrete(2), 'oppfield0effects_taunt': Discrete(2), 'oppfield0effects_windfury': Discrete(2), 'oppfield1': Discrete(7914), 'oppfield1att': Discrete(501), 'oppfield1def': Discrete(501), 'oppfield1effects_aura': Discrete(2), 'oppfield1effects_cantbetargeted': Discrete(2), 'oppfield1effects_charge': Discrete(2), 'oppfield1effects_deathrattle': Discrete(2), 'oppfield1effects_divineshield': Discrete(2), 'oppfield1effects_frozen': Discrete(2), 'oppfield1effects_poisonous': Discrete(2), 'oppfield1effects_silenced': Discrete(2), 'oppfield1effects_stealth': Discrete(2), 'oppfield1effects_taunt': Discrete(2), 'oppfield1effects_windfury': Discrete(2), 'oppfield2': Discrete(7914), 'oppfield2att': Discrete(501), 'oppfield2def': Discrete(501), 'oppfield2effects_aura': Discrete(2), 'oppfield2effects_cantbetargeted': Discrete(2), 'oppfield2effects_charge': Discrete(2), 'oppfield2effects_deathrattle': Discrete(2), 'oppfield2effects_divineshield': Discrete(2), 'oppfield2effects_frozen': Discrete(2), 'oppfield2effects_poisonous': Discrete(2), 'oppfield2effects_silenced': Discrete(2), 'oppfield2effects_stealth': Discrete(2), 'oppfield2effects_taunt': Discrete(2), 'oppfield2effects_windfury': Discrete(2), 'oppfield3': Discrete(7914), 'oppfield3att': Discrete(501), 'oppfield3def': Discrete(501), 'oppfield3effects_aura': Discrete(2), 'oppfield3effects_cantbetargeted': Discrete(2), 'oppfield3effects_charge': Discrete(2), 'oppfield3effects_deathrattle': Discrete(2), 'oppfield3effects_divineshield': Discrete(2), 'oppfield3effects_frozen': Discrete(2), 'oppfield3effects_poisonous': Discrete(2), 'oppfield3effects_silenced': Discrete(2), 'oppfield3effects_stealth': Discrete(2), 'oppfield3effects_taunt': Discrete(2), 'oppfield3effects_windfury': Discrete(2), 'oppfield4': Discrete(7914), 'oppfield4att': Discrete(501), 'oppfield4def': Discrete(501), 'oppfield4effects_aura': Discrete(2), 'oppfield4effects_cantbetargeted': Discrete(2), 'oppfield4effects_charge': Discrete(2), 'oppfield4effects_deathrattle': Discrete(2), 'oppfield4effects_divineshield': Discrete(2), 'oppfield4effects_frozen': Discrete(2), 'oppfield4effects_poisonous': Discrete(2), 'oppfield4effects_silenced': Discrete(2), 'oppfield4effects_stealth': Discrete(2), 'oppfield4effects_taunt': Discrete(2), 'oppfield4effects_windfury': Discrete(2), 'oppfield5': Discrete(7914), 'oppfield5att': Discrete(501), 'oppfield5def': Discrete(501), 'oppfield5effects_aura': Discrete(2), 'oppfield5effects_cantbetargeted': Discrete(2), 'oppfield5effects_charge': Discrete(2), 'oppfield5effects_deathrattle': Discrete(2), 'oppfield5effects_divineshield': Discrete(2), 'oppfield5effects_frozen': Discrete(2), 'oppfield5effects_poisonous': Discrete(2), 'oppfield5effects_silenced': Discrete(2), 'oppfield5effects_stealth': Discrete(2), 'oppfield5effects_taunt': Discrete(2), 'oppfield5effects_windfury': Discrete(2), 'oppfield6': Discrete(7914), 'oppfield6att': Discrete(501), 'oppfield6def': Discrete(501), 'oppfield6effects_aura': Discrete(2), 'oppfield6effects_cantbetargeted': Discrete(2), 'oppfield6effects_charge': Discrete(2), 'oppfield6effects_deathrattle': Discrete(2), 'oppfield6effects_divineshield': Discrete(2), 'oppfield6effects_frozen': Discrete(2), 'oppfield6effects_poisonous': Discrete(2), 'oppfield6effects_silenced': Discrete(2), 'oppfield6effects_stealth': Discrete(2), 'oppfield6effects_taunt': Discrete(2), 'oppfield6effects_windfury': Discrete(2), 'opphealth': Discrete(31), 'opphero': Discrete(9), 'oppnumcardsinhand': Discrete(11), 'oppnumminions': Discrete(8), 'oppnumsecrets': Discrete(6), 'oppweaponatt': Discrete(501), 'oppweapondur': Discrete(501))\n"
     ]
    }
   ],
   "source": [
    "print(\"_____OBSERVATION SPACE_____ \\n\")\n",
    "print(\"Observation Space\", env.observation_space)"
   ]
  },
  {
   "cell_type": "code",
   "execution_count": 5,
   "id": "705a2494",
   "metadata": {
    "scrolled": true
   },
   "outputs": [
    {
     "name": "stdout",
     "output_type": "stream",
     "text": [
      "Sample observation OrderedDict([('myarmor', 249), ('myfield0', 4574), ('myfield0att', 266), ('myfield0canattack', 1), ('myfield0def', 65), ('myfield0effects_aura', 0), ('myfield0effects_cantbetargeted', 1), ('myfield0effects_charge', 0), ('myfield0effects_deathrattle', 0), ('myfield0effects_divineshield', 0), ('myfield0effects_frozen', 1), ('myfield0effects_poisonous', 1), ('myfield0effects_silenced', 0), ('myfield0effects_stealth', 1), ('myfield0effects_taunt', 0), ('myfield0effects_windfury', 1), ('myfield1', 3896), ('myfield1att', 45), ('myfield1canattack', 0), ('myfield1def', 460), ('myfield1effects_aura', 0), ('myfield1effects_cantbetargeted', 0), ('myfield1effects_charge', 1), ('myfield1effects_deathrattle', 1), ('myfield1effects_divineshield', 0), ('myfield1effects_frozen', 1), ('myfield1effects_poisonous', 1), ('myfield1effects_silenced', 1), ('myfield1effects_stealth', 0), ('myfield1effects_taunt', 0), ('myfield1effects_windfury', 0), ('myfield2', 1085), ('myfield2att', 392), ('myfield2canattack', 0), ('myfield2def', 183), ('myfield2effects_aura', 0), ('myfield2effects_cantbetargeted', 1), ('myfield2effects_charge', 0), ('myfield2effects_deathrattle', 0), ('myfield2effects_divineshield', 0), ('myfield2effects_frozen', 1), ('myfield2effects_poisonous', 1), ('myfield2effects_silenced', 0), ('myfield2effects_stealth', 0), ('myfield2effects_taunt', 0), ('myfield2effects_windfury', 0), ('myfield3', 5366), ('myfield3att', 367), ('myfield3canattack', 0), ('myfield3def', 112), ('myfield3effects_aura', 1), ('myfield3effects_cantbetargeted', 1), ('myfield3effects_charge', 0), ('myfield3effects_deathrattle', 0), ('myfield3effects_divineshield', 0), ('myfield3effects_frozen', 0), ('myfield3effects_poisonous', 0), ('myfield3effects_silenced', 0), ('myfield3effects_stealth', 0), ('myfield3effects_taunt', 0), ('myfield3effects_windfury', 0), ('myfield4', 5377), ('myfield4att', 97), ('myfield4canattack', 1), ('myfield4def', 213), ('myfield4effects_aura', 1), ('myfield4effects_cantbetargeted', 1), ('myfield4effects_charge', 1), ('myfield4effects_deathrattle', 1), ('myfield4effects_divineshield', 0), ('myfield4effects_frozen', 0), ('myfield4effects_poisonous', 0), ('myfield4effects_silenced', 0), ('myfield4effects_stealth', 1), ('myfield4effects_taunt', 1), ('myfield4effects_windfury', 0), ('myfield5', 4935), ('myfield5att', 35), ('myfield5canattack', 1), ('myfield5def', 29), ('myfield5effects_aura', 0), ('myfield5effects_cantbetargeted', 0), ('myfield5effects_charge', 1), ('myfield5effects_deathrattle', 0), ('myfield5effects_divineshield', 0), ('myfield5effects_frozen', 1), ('myfield5effects_poisonous', 1), ('myfield5effects_silenced', 1), ('myfield5effects_stealth', 0), ('myfield5effects_taunt', 0), ('myfield5effects_windfury', 0), ('myfield6', 6040), ('myfield6att', 101), ('myfield6canattack', 1), ('myfield6def', 259), ('myfield6effects_aura', 0), ('myfield6effects_cantbetargeted', 0), ('myfield6effects_charge', 0), ('myfield6effects_deathrattle', 0), ('myfield6effects_divineshield', 0), ('myfield6effects_frozen', 1), ('myfield6effects_poisonous', 1), ('myfield6effects_silenced', 1), ('myfield6effects_stealth', 0), ('myfield6effects_taunt', 1), ('myfield6effects_windfury', 0), ('myhand0', 6714), ('myhand0att', 118), ('myhand0def', 299), ('myhand0effects_aura', 0), ('myhand0effects_cantbetargeted', 0), ('myhand0effects_charge', 0), ('myhand0effects_deathrattle', 1), ('myhand0effects_divineshield', 1), ('myhand0effects_frozen', 1), ('myhand0effects_poisonous', 1), ('myhand0effects_silenced', 1), ('myhand0effects_stealth', 1), ('myhand0effects_taunt', 0), ('myhand0effects_windfury', 1), ('myhand1', 2502), ('myhand1att', 416), ('myhand1def', 78), ('myhand1effects_aura', 1), ('myhand1effects_cantbetargeted', 0), ('myhand1effects_charge', 0), ('myhand1effects_deathrattle', 1), ('myhand1effects_divineshield', 1), ('myhand1effects_frozen', 1), ('myhand1effects_poisonous', 1), ('myhand1effects_silenced', 0), ('myhand1effects_stealth', 1), ('myhand1effects_taunt', 1), ('myhand1effects_windfury', 1), ('myhand2', 2857), ('myhand2att', 111), ('myhand2def', 366), ('myhand2effects_aura', 1), ('myhand2effects_cantbetargeted', 1), ('myhand2effects_charge', 1), ('myhand2effects_deathrattle', 0), ('myhand2effects_divineshield', 0), ('myhand2effects_frozen', 0), ('myhand2effects_poisonous', 1), ('myhand2effects_silenced', 1), ('myhand2effects_stealth', 0), ('myhand2effects_taunt', 0), ('myhand2effects_windfury', 1), ('myhand3', 28), ('myhand3att', 66), ('myhand3def', 133), ('myhand3effects_aura', 1), ('myhand3effects_cantbetargeted', 0), ('myhand3effects_charge', 1), ('myhand3effects_deathrattle', 0), ('myhand3effects_divineshield', 0), ('myhand3effects_frozen', 1), ('myhand3effects_poisonous', 0), ('myhand3effects_silenced', 1), ('myhand3effects_stealth', 1), ('myhand3effects_taunt', 0), ('myhand3effects_windfury', 1), ('myhand4', 7723), ('myhand4att', 444), ('myhand4def', 147), ('myhand4effects_aura', 0), ('myhand4effects_cantbetargeted', 1), ('myhand4effects_charge', 1), ('myhand4effects_deathrattle', 1), ('myhand4effects_divineshield', 0), ('myhand4effects_frozen', 0), ('myhand4effects_poisonous', 0), ('myhand4effects_silenced', 1), ('myhand4effects_stealth', 0), ('myhand4effects_taunt', 1), ('myhand4effects_windfury', 0), ('myhand5', 2535), ('myhand5att', 434), ('myhand5def', 86), ('myhand5effects_aura', 1), ('myhand5effects_cantbetargeted', 1), ('myhand5effects_charge', 1), ('myhand5effects_deathrattle', 1), ('myhand5effects_divineshield', 1), ('myhand5effects_frozen', 0), ('myhand5effects_poisonous', 0), ('myhand5effects_silenced', 1), ('myhand5effects_stealth', 0), ('myhand5effects_taunt', 1), ('myhand5effects_windfury', 0), ('myhand6', 2472), ('myhand6att', 93), ('myhand6def', 393), ('myhand6effects_aura', 0), ('myhand6effects_cantbetargeted', 1), ('myhand6effects_charge', 0), ('myhand6effects_deathrattle', 0), ('myhand6effects_divineshield', 0), ('myhand6effects_frozen', 0), ('myhand6effects_poisonous', 1), ('myhand6effects_silenced', 0), ('myhand6effects_stealth', 1), ('myhand6effects_taunt', 0), ('myhand6effects_windfury', 1), ('myhand7', 3297), ('myhand7att', 493), ('myhand7def', 232), ('myhand7effects_aura', 1), ('myhand7effects_cantbetargeted', 0), ('myhand7effects_charge', 0), ('myhand7effects_deathrattle', 1), ('myhand7effects_divineshield', 1), ('myhand7effects_frozen', 0), ('myhand7effects_poisonous', 1), ('myhand7effects_silenced', 1), ('myhand7effects_stealth', 0), ('myhand7effects_taunt', 1), ('myhand7effects_windfury', 1), ('myhand8', 1166), ('myhand8att', 358), ('myhand8def', 211), ('myhand8effects_aura', 1), ('myhand8effects_cantbetargeted', 1), ('myhand8effects_charge', 1), ('myhand8effects_deathrattle', 1), ('myhand8effects_divineshield', 1), ('myhand8effects_frozen', 1), ('myhand8effects_poisonous', 1), ('myhand8effects_silenced', 0), ('myhand8effects_stealth', 1), ('myhand8effects_taunt', 0), ('myhand8effects_windfury', 0), ('myhand9', 1038), ('myhand9att', 200), ('myhand9def', 430), ('myhand9effects_aura', 0), ('myhand9effects_cantbetargeted', 1), ('myhand9effects_charge', 1), ('myhand9effects_deathrattle', 0), ('myhand9effects_divineshield', 1), ('myhand9effects_frozen', 0), ('myhand9effects_poisonous', 1), ('myhand9effects_silenced', 1), ('myhand9effects_stealth', 0), ('myhand9effects_taunt', 1), ('myhand9effects_windfury', 1), ('myhealth', 22), ('myhero', 7), ('myherocanattack', 0), ('myheropoweravail', 1), ('mynumcardsinhand', 3), ('mynumminions', 5), ('mynumsecrets', 1), ('myunusedmanacrystals', 8), ('myusedmanacrystals', 0), ('myweaponatt', 181), ('myweapondur', 153), ('opparmor', 238), ('oppcrystals', 9), ('oppfield0', 2047), ('oppfield0att', 184), ('oppfield0def', 170), ('oppfield0effects_aura', 1), ('oppfield0effects_cantbetargeted', 1), ('oppfield0effects_charge', 1), ('oppfield0effects_deathrattle', 0), ('oppfield0effects_divineshield', 0), ('oppfield0effects_frozen', 1), ('oppfield0effects_poisonous', 0), ('oppfield0effects_silenced', 1), ('oppfield0effects_stealth', 0), ('oppfield0effects_taunt', 0), ('oppfield0effects_windfury', 0), ('oppfield1', 798), ('oppfield1att', 331), ('oppfield1def', 188), ('oppfield1effects_aura', 0), ('oppfield1effects_cantbetargeted', 1), ('oppfield1effects_charge', 0), ('oppfield1effects_deathrattle', 1), ('oppfield1effects_divineshield', 0), ('oppfield1effects_frozen', 0), ('oppfield1effects_poisonous', 0), ('oppfield1effects_silenced', 0), ('oppfield1effects_stealth', 1), ('oppfield1effects_taunt', 1), ('oppfield1effects_windfury', 1), ('oppfield2', 7596), ('oppfield2att', 206), ('oppfield2def', 458), ('oppfield2effects_aura', 0), ('oppfield2effects_cantbetargeted', 0), ('oppfield2effects_charge', 1), ('oppfield2effects_deathrattle', 1), ('oppfield2effects_divineshield', 1), ('oppfield2effects_frozen', 1), ('oppfield2effects_poisonous', 1), ('oppfield2effects_silenced', 1), ('oppfield2effects_stealth', 1), ('oppfield2effects_taunt', 0), ('oppfield2effects_windfury', 0), ('oppfield3', 5430), ('oppfield3att', 381), ('oppfield3def', 291), ('oppfield3effects_aura', 0), ('oppfield3effects_cantbetargeted', 1), ('oppfield3effects_charge', 0), ('oppfield3effects_deathrattle', 1), ('oppfield3effects_divineshield', 1), ('oppfield3effects_frozen', 1), ('oppfield3effects_poisonous', 0), ('oppfield3effects_silenced', 0), ('oppfield3effects_stealth', 0), ('oppfield3effects_taunt', 1), ('oppfield3effects_windfury', 0), ('oppfield4', 2887), ('oppfield4att', 464), ('oppfield4def', 84), ('oppfield4effects_aura', 1), ('oppfield4effects_cantbetargeted', 1), ('oppfield4effects_charge', 1), ('oppfield4effects_deathrattle', 0), ('oppfield4effects_divineshield', 0), ('oppfield4effects_frozen', 1), ('oppfield4effects_poisonous', 0), ('oppfield4effects_silenced', 0), ('oppfield4effects_stealth', 0), ('oppfield4effects_taunt', 1), ('oppfield4effects_windfury', 0), ('oppfield5', 1840), ('oppfield5att', 323), ('oppfield5def', 92), ('oppfield5effects_aura', 0), ('oppfield5effects_cantbetargeted', 0), ('oppfield5effects_charge', 1), ('oppfield5effects_deathrattle', 1), ('oppfield5effects_divineshield', 1), ('oppfield5effects_frozen', 0), ('oppfield5effects_poisonous', 1), ('oppfield5effects_silenced', 0), ('oppfield5effects_stealth', 1), ('oppfield5effects_taunt', 1), ('oppfield5effects_windfury', 0), ('oppfield6', 661), ('oppfield6att', 130), ('oppfield6def', 217), ('oppfield6effects_aura', 1), ('oppfield6effects_cantbetargeted', 0), ('oppfield6effects_charge', 1), ('oppfield6effects_deathrattle', 0), ('oppfield6effects_divineshield', 0), ('oppfield6effects_frozen', 1), ('oppfield6effects_poisonous', 0), ('oppfield6effects_silenced', 1), ('oppfield6effects_stealth', 0), ('oppfield6effects_taunt', 0), ('oppfield6effects_windfury', 0), ('opphealth', 9), ('opphero', 8), ('oppnumcardsinhand', 5), ('oppnumminions', 7), ('oppnumsecrets', 4), ('oppweaponatt', 258), ('oppweapondur', 211)])\n"
     ]
    }
   ],
   "source": [
    "print(\"Sample observation\", env.observation_space.sample()) # Get a random observation"
   ]
  },
  {
   "cell_type": "code",
   "execution_count": 2,
   "id": "8954585f",
   "metadata": {},
   "outputs": [
    {
     "name": "stdout",
     "output_type": "stream",
     "text": [
      "\n",
      " _____ACTION SPACE_____ \n",
      "\n",
      "Action Space Shape 869\n",
      "Action Space Sample 565\n"
     ]
    }
   ],
   "source": [
    "print(\"\\n _____ACTION SPACE_____ \\n\")\n",
    "print(\"Action Space Shape\", env.action_space.n)\n",
    "print(\"Action Space Sample\", env.action_space.sample()) # Take a random action"
   ]
  },
  {
   "cell_type": "markdown",
   "id": "846796fb",
   "metadata": {},
   "source": [
    "https://stable-baselines3.readthedocs.io/en/master/guide/quickstart.html"
   ]
  },
  {
   "cell_type": "markdown",
   "id": "e40d8297",
   "metadata": {},
   "source": [
    "https://stable-baselines3.readthedocs.io/en/master/modules/dqn.html"
   ]
  },
  {
   "cell_type": "code",
   "execution_count": 3,
   "id": "24caac0d",
   "metadata": {},
   "outputs": [
    {
     "name": "stdout",
     "output_type": "stream",
     "text": [
      "HearthstoneEnv - Version 0.2.0\n"
     ]
    },
    {
     "name": "stderr",
     "output_type": "stream",
     "text": [
      "[fireplace.entity]: Setting up game Game(players=(Player(name='Player1', hero=None), Player(name='Player2', hero=None)))\n",
      "[fireplace.entity]: Tossing the coin... Player2 wins!\n",
      "[fireplace.actions]: Player(name='Player1', hero=<Hero ('Valeera Sanguinar')>) triggering <TargetedAction: Summon(<Summon.CARD>=<HeroPower ('Dagger Mastery')>)> targeting [Player(name='Player1', hero=<Hero ('Valeera Sanguinar')>)]\n",
      "[fireplace.actions]: Player1 summons [<HeroPower ('Dagger Mastery')>]\n",
      "[fireplace.entity]: Empty stack, refreshing auras and processing deaths\n",
      "[fireplace.actions]: Player(name='Player1', hero=<Hero ('Valeera Sanguinar')>) triggering <TargetedAction: Summon(<Summon.CARD>=<Hero ('Valeera Sanguinar')>)> targeting [Player(name='Player1', hero=<Hero ('Valeera Sanguinar')>)]\n",
      "[fireplace.actions]: Player1 summons [<Hero ('Valeera Sanguinar')>]\n",
      "[fireplace.entity]: Empty stack, refreshing auras and processing deaths\n",
      "[fireplace.entity]: Player(name='Player1', hero=<Hero ('Valeera Sanguinar')>) shuffles their deck\n",
      "[fireplace.card]: <Minion ('Master Swordsmith')> moves from <Zone.DECK: 2> to <Zone.HAND: 3>\n",
      "[fireplace.card]: <Minion ('Runic Egg')> moves from <Zone.DECK: 2> to <Zone.HAND: 3>\n",
      "[fireplace.card]: <Minion ('Rusty Recycler')> moves from <Zone.DECK: 2> to <Zone.HAND: 3>\n",
      "[fireplace.card]: <Minion (\"Disciple of C'Thun\")> moves from <Zone.DECK: 2> to <Zone.HAND: 3>\n",
      "[fireplace.actions]: Player(name='Player2', hero=<Hero ('The Lich King')>) triggering <TargetedAction: Summon(<Summon.CARD>=<HeroPower ('Ghoul Charge')>)> targeting [Player(name='Player2', hero=<Hero ('The Lich King')>)]\n",
      "[fireplace.actions]: Player2 summons [<HeroPower ('Ghoul Charge')>]\n",
      "[fireplace.entity]: Empty stack, refreshing auras and processing deaths\n",
      "[fireplace.actions]: Player(name='Player2', hero=<Hero ('The Lich King')>) triggering <TargetedAction: Summon(<Summon.CARD>=<Hero ('The Lich King')>)> targeting [Player(name='Player2', hero=<Hero ('The Lich King')>)]\n",
      "[fireplace.actions]: Player2 summons [<Hero ('The Lich King')>]\n",
      "[fireplace.entity]: Empty stack, refreshing auras and processing deaths\n",
      "[fireplace.entity]: Player(name='Player2', hero=<Hero ('The Lich King')>) shuffles their deck\n",
      "[fireplace.card]: <Minion ('Sunwalker')> moves from <Zone.DECK: 2> to <Zone.HAND: 3>\n",
      "[fireplace.card]: <Minion ('Anubisath Sentinel')> moves from <Zone.DECK: 2> to <Zone.HAND: 3>\n",
      "[fireplace.card]: <Minion ('Bloodworm')> moves from <Zone.DECK: 2> to <Zone.HAND: 3>\n",
      "[fireplace.entity]: Entering mulligan phase\n"
     ]
    },
    {
     "name": "stdout",
     "output_type": "stream",
     "text": [
      ">>> Initialize PLAYER1\n",
      ">>> Initialize PLAYER2\n",
      ">>> Initialize GAME\n"
     ]
    }
   ],
   "source": [
    "import gymnasium as gym\n",
    "import gym_hearthstone\n",
    "from stable_baselines3 import DQN\n",
    "\n",
    "env = gym.make('Hearthstone-v1')"
   ]
  },
  {
   "cell_type": "code",
   "execution_count": 4,
   "id": "6db4d1c5",
   "metadata": {},
   "outputs": [
    {
     "name": "stdout",
     "output_type": "stream",
     "text": [
      "Using cpu device\n",
      "Wrapping the env with a `Monitor` wrapper\n",
      "Wrapping the env in a DummyVecEnv.\n"
     ]
    },
    {
     "name": "stderr",
     "output_type": "stream",
     "text": [
      "C:\\Users\\lfsanchez\\AppData\\Roaming\\Python\\Python39\\site-packages\\stable_baselines3\\common\\buffers.py:564: UserWarning: This system does not have apparently enough memory to store the complete replay buffer 5.84GB > 3.93GB\n",
      "  warnings.warn(\n"
     ]
    }
   ],
   "source": [
    "model = DQN(\"MultiInputPolicy\", env, verbose=1)"
   ]
  },
  {
   "cell_type": "code",
   "execution_count": 5,
   "id": "2117b05b",
   "metadata": {
    "scrolled": false
   },
   "outputs": [
    {
     "name": "stderr",
     "output_type": "stream",
     "text": [
      "C:\\Users\\lfsanchez\\Anaconda3\\envs\\RLGAMES\\lib\\site-packages\\gymnasium\\utils\\passive_env_checker.py:190: UserWarning: \u001b[33mWARN: Future gymnasium versions will require that `Env.reset` can be passed a `seed` instead of using `Env.seed` for resetting the environment random number generator.\u001b[0m\n",
      "  logger.warn(\n",
      "C:\\Users\\lfsanchez\\Anaconda3\\envs\\RLGAMES\\lib\\site-packages\\gymnasium\\utils\\passive_env_checker.py:203: UserWarning: \u001b[33mWARN: Future gymnasium versions will require that `Env.reset` can be passed `options` to allow the environment initialisation to be passed additional information.\u001b[0m\n",
      "  logger.warn(\n",
      "[fireplace.entity]: Setting up game Game(players=(Player(name='Player1', hero=None), Player(name='Player2', hero=None)))\n",
      "[fireplace.entity]: Tossing the coin... Player2 wins!\n"
     ]
    },
    {
     "name": "stdout",
     "output_type": "stream",
     "text": [
      ">>> Initialize PLAYER1\n",
      ">>> Initialize PLAYER2\n",
      ">>> Initialize GAME\n",
      "exception making decks--trying again''\n"
     ]
    },
    {
     "name": "stderr",
     "output_type": "stream",
     "text": [
      "[fireplace.entity]: Setting up game Game(players=(Player(name='Player1', hero=None), Player(name='Player2', hero=None)))\n",
      "[fireplace.entity]: Tossing the coin... Player2 wins!\n"
     ]
    },
    {
     "name": "stdout",
     "output_type": "stream",
     "text": [
      ">>> Initialize PLAYER1\n",
      ">>> Initialize PLAYER2\n",
      ">>> Initialize GAME\n",
      "exception making decks--trying again''\n"
     ]
    },
    {
     "name": "stderr",
     "output_type": "stream",
     "text": [
      "[fireplace.entity]: Setting up game Game(players=(Player(name='Player1', hero=None), Player(name='Player2', hero=None)))\n",
      "[fireplace.entity]: Tossing the coin... Player1 wins!\n"
     ]
    },
    {
     "name": "stdout",
     "output_type": "stream",
     "text": [
      ">>> Initialize PLAYER1\n",
      ">>> Initialize PLAYER2\n",
      ">>> Initialize GAME\n",
      "exception making decks--trying again''\n"
     ]
    },
    {
     "name": "stderr",
     "output_type": "stream",
     "text": [
      "[fireplace.entity]: Setting up game Game(players=(Player(name='Player1', hero=None), Player(name='Player2', hero=None)))\n",
      "[fireplace.entity]: Tossing the coin... Player2 wins!\n",
      "[fireplace.actions]: Player(name='Player1', hero=<Hero ('Illidan Stormrage')>) triggering <TargetedAction: Summon(<Summon.CARD>=<HeroPower ('Demon Claws')>)> targeting [Player(name='Player1', hero=<Hero ('Illidan Stormrage')>)]\n",
      "[fireplace.actions]: Player1 summons [<HeroPower ('Demon Claws')>]\n",
      "[fireplace.entity]: Empty stack, refreshing auras and processing deaths\n",
      "[fireplace.actions]: Player(name='Player1', hero=<Hero ('Illidan Stormrage')>) triggering <TargetedAction: Summon(<Summon.CARD>=<Hero ('Illidan Stormrage')>)> targeting [Player(name='Player1', hero=<Hero ('Illidan Stormrage')>)]\n",
      "[fireplace.actions]: Player1 summons [<Hero ('Illidan Stormrage')>]\n",
      "[fireplace.entity]: Empty stack, refreshing auras and processing deaths\n",
      "[fireplace.entity]: Player(name='Player1', hero=<Hero ('Illidan Stormrage')>) shuffles their deck\n",
      "[fireplace.card]: <Minion ('Fire Fly')> moves from <Zone.DECK: 2> to <Zone.HAND: 3>\n",
      "[fireplace.card]: <Minion ('Ancient Harbinger')> moves from <Zone.DECK: 2> to <Zone.HAND: 3>\n",
      "[fireplace.card]: <Minion ('Frostwolf Grunt')> moves from <Zone.DECK: 2> to <Zone.HAND: 3>\n",
      "[fireplace.card]: <Minion ('Wolfrider')> moves from <Zone.DECK: 2> to <Zone.HAND: 3>\n",
      "[fireplace.actions]: Player(name='Player2', hero=<Hero ('Rexxar')>) triggering <TargetedAction: Summon(<Summon.CARD>=<HeroPower ('Steady Shot')>)> targeting [Player(name='Player2', hero=<Hero ('Rexxar')>)]\n",
      "[fireplace.actions]: Player2 summons [<HeroPower ('Steady Shot')>]\n",
      "[fireplace.entity]: Empty stack, refreshing auras and processing deaths\n",
      "[fireplace.actions]: Player(name='Player2', hero=<Hero ('Rexxar')>) triggering <TargetedAction: Summon(<Summon.CARD>=<Hero ('Rexxar')>)> targeting [Player(name='Player2', hero=<Hero ('Rexxar')>)]\n",
      "[fireplace.actions]: Player2 summons [<Hero ('Rexxar')>]\n",
      "[fireplace.entity]: Empty stack, refreshing auras and processing deaths\n",
      "[fireplace.entity]: Player(name='Player2', hero=<Hero ('Rexxar')>) shuffles their deck\n",
      "[fireplace.card]: <Minion ('Swamp King Dred')> moves from <Zone.DECK: 2> to <Zone.HAND: 3>\n",
      "[fireplace.card]: <Minion ('Venture Co. Mercenary')> moves from <Zone.DECK: 2> to <Zone.HAND: 3>\n",
      "[fireplace.card]: <Minion ('Mad Bomber')> moves from <Zone.DECK: 2> to <Zone.HAND: 3>\n",
      "[fireplace.entity]: Entering mulligan phase\n"
     ]
    },
    {
     "name": "stdout",
     "output_type": "stream",
     "text": [
      ">>> Initialize PLAYER1\n",
      ">>> Initialize PLAYER2\n",
      ">>> Initialize GAME\n",
      ">>>> <class 'fireplace.card.Minion'> Swamp King Dred\n",
      ">>>> <class 'fireplace.card.Minion'> Venture Co. Mercenary\n",
      ">>>> <class 'fireplace.card.Minion'> Mad Bomber\n",
      ">>>> no  3\n",
      ">>>> no  4\n",
      ">>>> no  5\n",
      ">>>> no  6\n",
      ">>>> no  7\n",
      ">>>> no  8\n",
      ">>>> no  9\n",
      ">>> possible_actions 3:[[<Move.mulligan: 5>, <Minion ('Swamp King Dred')>], [<Move.mulligan: 5>, <Minion ('Venture Co. Mercenary')>], [<Move.mulligan: 5>, <Minion ('Mad Bomber')>]]\n",
      ">>> alreadySelectedActions 0:[]\n",
      ">>> possible_actions 3:[[<Move.mulligan: 5>, <Minion ('Swamp King Dred')>], [<Move.mulligan: 5>, <Minion ('Venture Co. Mercenary')>], [<Move.mulligan: 5>, <Minion ('Mad Bomber')>]]\n",
      "doing single action for AI[<Move.mulligan: 5>, <Minion ('Mad Bomber')>]\n",
      ">>>> <class 'fireplace.card.Minion'> Swamp King Dred\n",
      ">>>> <class 'fireplace.card.Minion'> Venture Co. Mercenary\n",
      ">>>> <class 'fireplace.card.Minion'> Mad Bomber\n",
      ">>>> no  3\n",
      ">>>> no  4\n",
      ">>>> no  5\n",
      ">>>> no  6\n",
      ">>>> no  7\n",
      ">>>> no  8\n",
      ">>>> no  9\n",
      ">>> possible_actions 3:[[<Move.mulligan: 5>, <Minion ('Swamp King Dred')>], [<Move.mulligan: 5>, <Minion ('Venture Co. Mercenary')>], [<Move.mulligan: 5>, <Minion ('Mad Bomber')>]]\n",
      ">>> alreadySelectedActions 1:[[<Move.mulligan: 5>, <Minion ('Mad Bomber')>]]\n",
      ">>> possible_actions 2:[[<Move.mulligan: 5>, <Minion ('Swamp King Dred')>], [<Move.mulligan: 5>, <Minion ('Venture Co. Mercenary')>]]\n",
      "doing single action for AI[<Move.mulligan: 5>, <Minion ('Venture Co. Mercenary')>]\n",
      ">>>> <class 'fireplace.card.Minion'> Swamp King Dred\n",
      ">>>> <class 'fireplace.card.Minion'> Venture Co. Mercenary\n",
      ">>>> <class 'fireplace.card.Minion'> Mad Bomber\n",
      ">>>> no  3\n",
      ">>>> no  4\n",
      ">>>> no  5\n",
      ">>>> no  6\n",
      ">>>> no  7\n",
      ">>>> no  8\n",
      ">>>> no  9\n"
     ]
    },
    {
     "name": "stderr",
     "output_type": "stream",
     "text": [
      "C:\\Users\\lfsanchez\\Anaconda3\\envs\\RLGAMES\\lib\\site-packages\\gymnasium\\utils\\passive_env_checker.py:211: UserWarning: \u001b[33mWARN: The result returned by `env.reset()` was not a tuple of the form `(obs, info)`, where `obs` is a observation and `info` is a dictionary containing additional information. Actual type: `<class 'dict'>`\u001b[0m\n",
      "  logger.warn(\n",
      "C:\\Users\\lfsanchez\\Anaconda3\\envs\\RLGAMES\\lib\\site-packages\\gymnasium\\utils\\passive_env_checker.py:235: DeprecationWarning: \u001b[33mWARN: Core environment is written in old step API which returns one bool instead of two. It is recommended to rewrite the environment with new step API. \u001b[0m\n",
      "  logger.deprecation(\n",
      "C:\\Users\\lfsanchez\\Anaconda3\\envs\\RLGAMES\\lib\\site-packages\\gymnasium\\utils\\passive_env_checker.py:181: UserWarning: \u001b[33mWARN: The obs returned by the `step()` method is not within the observation space.\u001b[0m\n",
      "  logger.warn(f\"{pre} is not within the observation space.\")\n"
     ]
    },
    {
     "name": "stdout",
     "output_type": "stream",
     "text": [
      ">>> possible_actions 3:[[<Move.mulligan: 5>, <Minion ('Swamp King Dred')>], [<Move.mulligan: 5>, <Minion ('Venture Co. Mercenary')>], [<Move.mulligan: 5>, <Minion ('Mad Bomber')>]]\n",
      ">>> alreadySelectedActions 2:[[<Move.mulligan: 5>, <Minion ('Mad Bomber')>], [<Move.mulligan: 5>, <Minion ('Venture Co. Mercenary')>]]\n",
      ">>> possible_actions 1:[[<Move.mulligan: 5>, <Minion ('Swamp King Dred')>]]\n",
      "doing single action for AI[<Move.mulligan: 5>, <Minion ('Swamp King Dred')>]\n",
      ">>>> <class 'fireplace.card.Minion'> Swamp King Dred\n",
      ">>>> <class 'fireplace.card.Minion'> Venture Co. Mercenary\n",
      ">>>> <class 'fireplace.card.Minion'> Mad Bomber\n",
      ">>>> no  3\n",
      ">>>> no  4\n",
      ">>>> no  5\n",
      ">>>> no  6\n",
      ">>>> no  7\n",
      ">>>> no  8\n",
      ">>>> no  9\n",
      ">>> possible_actions 3:[[<Move.mulligan: 5>, <Minion ('Swamp King Dred')>], [<Move.mulligan: 5>, <Minion ('Venture Co. Mercenary')>], [<Move.mulligan: 5>, <Minion ('Mad Bomber')>]]\n",
      ">>> alreadySelectedActions 3:[[<Move.mulligan: 5>, <Minion ('Mad Bomber')>], [<Move.mulligan: 5>, <Minion ('Venture Co. Mercenary')>], [<Move.mulligan: 5>, <Minion ('Swamp King Dred')>]]\n",
      ">>> possible_actions 0:[]\n"
     ]
    },
    {
     "ename": "IndexError",
     "evalue": "list index out of range",
     "output_type": "error",
     "traceback": [
      "\u001b[1;31m---------------------------------------------------------------------------\u001b[0m",
      "\u001b[1;31mIndexError\u001b[0m                                Traceback (most recent call last)",
      "\u001b[1;32mC:\\Users\\LFSANC~1\\AppData\\Local\\Temp/ipykernel_12148/1642314937.py\u001b[0m in \u001b[0;36m<module>\u001b[1;34m\u001b[0m\n\u001b[1;32m----> 1\u001b[1;33m \u001b[0mmodel\u001b[0m\u001b[1;33m.\u001b[0m\u001b[0mlearn\u001b[0m\u001b[1;33m(\u001b[0m\u001b[0mtotal_timesteps\u001b[0m\u001b[1;33m=\u001b[0m\u001b[1;36m10\u001b[0m\u001b[1;33m,\u001b[0m \u001b[0mlog_interval\u001b[0m\u001b[1;33m=\u001b[0m\u001b[1;36m4\u001b[0m\u001b[1;33m)\u001b[0m\u001b[1;33m\u001b[0m\u001b[1;33m\u001b[0m\u001b[0m\n\u001b[0m",
      "\u001b[1;32m~\\AppData\\Roaming\\Python\\Python39\\site-packages\\stable_baselines3\\dqn\\dqn.py\u001b[0m in \u001b[0;36mlearn\u001b[1;34m(self, total_timesteps, callback, log_interval, tb_log_name, reset_num_timesteps, progress_bar)\u001b[0m\n\u001b[0;32m    263\u001b[0m     ) -> SelfDQN:\n\u001b[0;32m    264\u001b[0m \u001b[1;33m\u001b[0m\u001b[0m\n\u001b[1;32m--> 265\u001b[1;33m         return super().learn(\n\u001b[0m\u001b[0;32m    266\u001b[0m             \u001b[0mtotal_timesteps\u001b[0m\u001b[1;33m=\u001b[0m\u001b[0mtotal_timesteps\u001b[0m\u001b[1;33m,\u001b[0m\u001b[1;33m\u001b[0m\u001b[1;33m\u001b[0m\u001b[0m\n\u001b[0;32m    267\u001b[0m             \u001b[0mcallback\u001b[0m\u001b[1;33m=\u001b[0m\u001b[0mcallback\u001b[0m\u001b[1;33m,\u001b[0m\u001b[1;33m\u001b[0m\u001b[1;33m\u001b[0m\u001b[0m\n",
      "\u001b[1;32m~\\AppData\\Roaming\\Python\\Python39\\site-packages\\stable_baselines3\\common\\off_policy_algorithm.py\u001b[0m in \u001b[0;36mlearn\u001b[1;34m(self, total_timesteps, callback, log_interval, tb_log_name, reset_num_timesteps, progress_bar)\u001b[0m\n\u001b[0;32m    332\u001b[0m \u001b[1;33m\u001b[0m\u001b[0m\n\u001b[0;32m    333\u001b[0m         \u001b[1;32mwhile\u001b[0m \u001b[0mself\u001b[0m\u001b[1;33m.\u001b[0m\u001b[0mnum_timesteps\u001b[0m \u001b[1;33m<\u001b[0m \u001b[0mtotal_timesteps\u001b[0m\u001b[1;33m:\u001b[0m\u001b[1;33m\u001b[0m\u001b[1;33m\u001b[0m\u001b[0m\n\u001b[1;32m--> 334\u001b[1;33m             rollout = self.collect_rollouts(\n\u001b[0m\u001b[0;32m    335\u001b[0m                 \u001b[0mself\u001b[0m\u001b[1;33m.\u001b[0m\u001b[0menv\u001b[0m\u001b[1;33m,\u001b[0m\u001b[1;33m\u001b[0m\u001b[1;33m\u001b[0m\u001b[0m\n\u001b[0;32m    336\u001b[0m                 \u001b[0mtrain_freq\u001b[0m\u001b[1;33m=\u001b[0m\u001b[0mself\u001b[0m\u001b[1;33m.\u001b[0m\u001b[0mtrain_freq\u001b[0m\u001b[1;33m,\u001b[0m\u001b[1;33m\u001b[0m\u001b[1;33m\u001b[0m\u001b[0m\n",
      "\u001b[1;32m~\\AppData\\Roaming\\Python\\Python39\\site-packages\\stable_baselines3\\common\\off_policy_algorithm.py\u001b[0m in \u001b[0;36mcollect_rollouts\u001b[1;34m(self, env, callback, train_freq, replay_buffer, action_noise, learning_starts, log_interval)\u001b[0m\n\u001b[0;32m    565\u001b[0m \u001b[1;33m\u001b[0m\u001b[0m\n\u001b[0;32m    566\u001b[0m             \u001b[1;31m# Rescale and perform action\u001b[0m\u001b[1;33m\u001b[0m\u001b[1;33m\u001b[0m\u001b[0m\n\u001b[1;32m--> 567\u001b[1;33m             \u001b[0mnew_obs\u001b[0m\u001b[1;33m,\u001b[0m \u001b[0mrewards\u001b[0m\u001b[1;33m,\u001b[0m \u001b[0mdones\u001b[0m\u001b[1;33m,\u001b[0m \u001b[0minfos\u001b[0m \u001b[1;33m=\u001b[0m \u001b[0menv\u001b[0m\u001b[1;33m.\u001b[0m\u001b[0mstep\u001b[0m\u001b[1;33m(\u001b[0m\u001b[0mactions\u001b[0m\u001b[1;33m)\u001b[0m\u001b[1;33m\u001b[0m\u001b[1;33m\u001b[0m\u001b[0m\n\u001b[0m\u001b[0;32m    568\u001b[0m \u001b[1;33m\u001b[0m\u001b[0m\n\u001b[0;32m    569\u001b[0m             \u001b[0mself\u001b[0m\u001b[1;33m.\u001b[0m\u001b[0mnum_timesteps\u001b[0m \u001b[1;33m+=\u001b[0m \u001b[0menv\u001b[0m\u001b[1;33m.\u001b[0m\u001b[0mnum_envs\u001b[0m\u001b[1;33m\u001b[0m\u001b[1;33m\u001b[0m\u001b[0m\n",
      "\u001b[1;32m~\\AppData\\Roaming\\Python\\Python39\\site-packages\\stable_baselines3\\common\\vec_env\\base_vec_env.py\u001b[0m in \u001b[0;36mstep\u001b[1;34m(self, actions)\u001b[0m\n\u001b[0;32m    161\u001b[0m         \"\"\"\n\u001b[0;32m    162\u001b[0m         \u001b[0mself\u001b[0m\u001b[1;33m.\u001b[0m\u001b[0mstep_async\u001b[0m\u001b[1;33m(\u001b[0m\u001b[0mactions\u001b[0m\u001b[1;33m)\u001b[0m\u001b[1;33m\u001b[0m\u001b[1;33m\u001b[0m\u001b[0m\n\u001b[1;32m--> 163\u001b[1;33m         \u001b[1;32mreturn\u001b[0m \u001b[0mself\u001b[0m\u001b[1;33m.\u001b[0m\u001b[0mstep_wait\u001b[0m\u001b[1;33m(\u001b[0m\u001b[1;33m)\u001b[0m\u001b[1;33m\u001b[0m\u001b[1;33m\u001b[0m\u001b[0m\n\u001b[0m\u001b[0;32m    164\u001b[0m \u001b[1;33m\u001b[0m\u001b[0m\n\u001b[0;32m    165\u001b[0m     \u001b[1;32mdef\u001b[0m \u001b[0mget_images\u001b[0m\u001b[1;33m(\u001b[0m\u001b[0mself\u001b[0m\u001b[1;33m)\u001b[0m \u001b[1;33m->\u001b[0m \u001b[0mSequence\u001b[0m\u001b[1;33m[\u001b[0m\u001b[0mnp\u001b[0m\u001b[1;33m.\u001b[0m\u001b[0mndarray\u001b[0m\u001b[1;33m]\u001b[0m\u001b[1;33m:\u001b[0m\u001b[1;33m\u001b[0m\u001b[1;33m\u001b[0m\u001b[0m\n",
      "\u001b[1;32m~\\AppData\\Roaming\\Python\\Python39\\site-packages\\stable_baselines3\\common\\vec_env\\dummy_vec_env.py\u001b[0m in \u001b[0;36mstep_wait\u001b[1;34m(self)\u001b[0m\n\u001b[0;32m     52\u001b[0m     \u001b[1;32mdef\u001b[0m \u001b[0mstep_wait\u001b[0m\u001b[1;33m(\u001b[0m\u001b[0mself\u001b[0m\u001b[1;33m)\u001b[0m \u001b[1;33m->\u001b[0m \u001b[0mVecEnvStepReturn\u001b[0m\u001b[1;33m:\u001b[0m\u001b[1;33m\u001b[0m\u001b[1;33m\u001b[0m\u001b[0m\n\u001b[0;32m     53\u001b[0m         \u001b[1;32mfor\u001b[0m \u001b[0menv_idx\u001b[0m \u001b[1;32min\u001b[0m \u001b[0mrange\u001b[0m\u001b[1;33m(\u001b[0m\u001b[0mself\u001b[0m\u001b[1;33m.\u001b[0m\u001b[0mnum_envs\u001b[0m\u001b[1;33m)\u001b[0m\u001b[1;33m:\u001b[0m\u001b[1;33m\u001b[0m\u001b[1;33m\u001b[0m\u001b[0m\n\u001b[1;32m---> 54\u001b[1;33m             obs, self.buf_rews[env_idx], self.buf_dones[env_idx], self.buf_infos[env_idx] = self.envs[env_idx].step(\n\u001b[0m\u001b[0;32m     55\u001b[0m                 \u001b[0mself\u001b[0m\u001b[1;33m.\u001b[0m\u001b[0mactions\u001b[0m\u001b[1;33m[\u001b[0m\u001b[0menv_idx\u001b[0m\u001b[1;33m]\u001b[0m\u001b[1;33m\u001b[0m\u001b[1;33m\u001b[0m\u001b[0m\n\u001b[0;32m     56\u001b[0m             )\n",
      "\u001b[1;32m~\\AppData\\Roaming\\Python\\Python39\\site-packages\\stable_baselines3\\common\\monitor.py\u001b[0m in \u001b[0;36mstep\u001b[1;34m(self, action)\u001b[0m\n\u001b[0;32m     92\u001b[0m         \u001b[1;32mif\u001b[0m \u001b[0mself\u001b[0m\u001b[1;33m.\u001b[0m\u001b[0mneeds_reset\u001b[0m\u001b[1;33m:\u001b[0m\u001b[1;33m\u001b[0m\u001b[1;33m\u001b[0m\u001b[0m\n\u001b[0;32m     93\u001b[0m             \u001b[1;32mraise\u001b[0m \u001b[0mRuntimeError\u001b[0m\u001b[1;33m(\u001b[0m\u001b[1;34m\"Tried to step environment that needs reset\"\u001b[0m\u001b[1;33m)\u001b[0m\u001b[1;33m\u001b[0m\u001b[1;33m\u001b[0m\u001b[0m\n\u001b[1;32m---> 94\u001b[1;33m         \u001b[0mobservation\u001b[0m\u001b[1;33m,\u001b[0m \u001b[0mreward\u001b[0m\u001b[1;33m,\u001b[0m \u001b[0mdone\u001b[0m\u001b[1;33m,\u001b[0m \u001b[0minfo\u001b[0m \u001b[1;33m=\u001b[0m \u001b[0mself\u001b[0m\u001b[1;33m.\u001b[0m\u001b[0menv\u001b[0m\u001b[1;33m.\u001b[0m\u001b[0mstep\u001b[0m\u001b[1;33m(\u001b[0m\u001b[0maction\u001b[0m\u001b[1;33m)\u001b[0m\u001b[1;33m\u001b[0m\u001b[1;33m\u001b[0m\u001b[0m\n\u001b[0m\u001b[0;32m     95\u001b[0m         \u001b[0mself\u001b[0m\u001b[1;33m.\u001b[0m\u001b[0mrewards\u001b[0m\u001b[1;33m.\u001b[0m\u001b[0mappend\u001b[0m\u001b[1;33m(\u001b[0m\u001b[0mreward\u001b[0m\u001b[1;33m)\u001b[0m\u001b[1;33m\u001b[0m\u001b[1;33m\u001b[0m\u001b[0m\n\u001b[0;32m     96\u001b[0m         \u001b[1;32mif\u001b[0m \u001b[0mdone\u001b[0m\u001b[1;33m:\u001b[0m\u001b[1;33m\u001b[0m\u001b[1;33m\u001b[0m\u001b[0m\n",
      "\u001b[1;32m~\\Anaconda3\\envs\\RLGAMES\\lib\\site-packages\\gymnasium\\wrappers\\order_enforcing.py\u001b[0m in \u001b[0;36mstep\u001b[1;34m(self, action)\u001b[0m\n\u001b[0;32m     36\u001b[0m         \u001b[1;32mif\u001b[0m \u001b[1;32mnot\u001b[0m \u001b[0mself\u001b[0m\u001b[1;33m.\u001b[0m\u001b[0m_has_reset\u001b[0m\u001b[1;33m:\u001b[0m\u001b[1;33m\u001b[0m\u001b[1;33m\u001b[0m\u001b[0m\n\u001b[0;32m     37\u001b[0m             \u001b[1;32mraise\u001b[0m \u001b[0mResetNeeded\u001b[0m\u001b[1;33m(\u001b[0m\u001b[1;34m\"Cannot call env.step() before calling env.reset()\"\u001b[0m\u001b[1;33m)\u001b[0m\u001b[1;33m\u001b[0m\u001b[1;33m\u001b[0m\u001b[0m\n\u001b[1;32m---> 38\u001b[1;33m         \u001b[1;32mreturn\u001b[0m \u001b[0mself\u001b[0m\u001b[1;33m.\u001b[0m\u001b[0menv\u001b[0m\u001b[1;33m.\u001b[0m\u001b[0mstep\u001b[0m\u001b[1;33m(\u001b[0m\u001b[0maction\u001b[0m\u001b[1;33m)\u001b[0m\u001b[1;33m\u001b[0m\u001b[1;33m\u001b[0m\u001b[0m\n\u001b[0m\u001b[0;32m     39\u001b[0m \u001b[1;33m\u001b[0m\u001b[0m\n\u001b[0;32m     40\u001b[0m     \u001b[1;32mdef\u001b[0m \u001b[0mreset\u001b[0m\u001b[1;33m(\u001b[0m\u001b[0mself\u001b[0m\u001b[1;33m,\u001b[0m \u001b[1;33m**\u001b[0m\u001b[0mkwargs\u001b[0m\u001b[1;33m)\u001b[0m\u001b[1;33m:\u001b[0m\u001b[1;33m\u001b[0m\u001b[1;33m\u001b[0m\u001b[0m\n",
      "\u001b[1;32m~\\Anaconda3\\envs\\RLGAMES\\lib\\site-packages\\gymnasium\\wrappers\\env_checker.py\u001b[0m in \u001b[0;36mstep\u001b[1;34m(self, action)\u001b[0m\n\u001b[0;32m     37\u001b[0m             \u001b[1;32mreturn\u001b[0m \u001b[0menv_step_passive_checker\u001b[0m\u001b[1;33m(\u001b[0m\u001b[0mself\u001b[0m\u001b[1;33m.\u001b[0m\u001b[0menv\u001b[0m\u001b[1;33m,\u001b[0m \u001b[0maction\u001b[0m\u001b[1;33m)\u001b[0m\u001b[1;33m\u001b[0m\u001b[1;33m\u001b[0m\u001b[0m\n\u001b[0;32m     38\u001b[0m         \u001b[1;32melse\u001b[0m\u001b[1;33m:\u001b[0m\u001b[1;33m\u001b[0m\u001b[1;33m\u001b[0m\u001b[0m\n\u001b[1;32m---> 39\u001b[1;33m             \u001b[1;32mreturn\u001b[0m \u001b[0mself\u001b[0m\u001b[1;33m.\u001b[0m\u001b[0menv\u001b[0m\u001b[1;33m.\u001b[0m\u001b[0mstep\u001b[0m\u001b[1;33m(\u001b[0m\u001b[0maction\u001b[0m\u001b[1;33m)\u001b[0m\u001b[1;33m\u001b[0m\u001b[1;33m\u001b[0m\u001b[0m\n\u001b[0m\u001b[0;32m     40\u001b[0m \u001b[1;33m\u001b[0m\u001b[0m\n\u001b[0;32m     41\u001b[0m     \u001b[1;32mdef\u001b[0m \u001b[0mreset\u001b[0m\u001b[1;33m(\u001b[0m\u001b[0mself\u001b[0m\u001b[1;33m,\u001b[0m \u001b[1;33m**\u001b[0m\u001b[0mkwargs\u001b[0m\u001b[1;33m)\u001b[0m\u001b[1;33m:\u001b[0m\u001b[1;33m\u001b[0m\u001b[1;33m\u001b[0m\u001b[0m\n",
      "\u001b[1;32mc:\\users\\lfsanchez\\onedrive - universidad pontificia comillas\\comillas\\workspace\\hearthstone-gym\\gym_hearthstone\\envs\\hearthstone_unnested_env.py\u001b[0m in \u001b[0;36mstep\u001b[1;34m(self, action)\u001b[0m\n\u001b[0;32m    773\u001b[0m         \"\"\"\n\u001b[0;32m    774\u001b[0m         \u001b[0mself\u001b[0m\u001b[1;33m.\u001b[0m\u001b[0mcurr_step\u001b[0m \u001b[1;33m+=\u001b[0m \u001b[1;36m1\u001b[0m\u001b[1;33m\u001b[0m\u001b[1;33m\u001b[0m\u001b[0m\n\u001b[1;32m--> 775\u001b[1;33m         \u001b[0mself\u001b[0m\u001b[1;33m.\u001b[0m\u001b[0m_take_action\u001b[0m\u001b[1;33m(\u001b[0m\u001b[0maction\u001b[0m\u001b[1;33m)\u001b[0m\u001b[1;33m\u001b[0m\u001b[1;33m\u001b[0m\u001b[0m\n\u001b[0m\u001b[0;32m    776\u001b[0m         \u001b[0mreward\u001b[0m\u001b[1;33m=\u001b[0m\u001b[0mself\u001b[0m\u001b[1;33m.\u001b[0m\u001b[0m_get_reward\u001b[0m\u001b[1;33m(\u001b[0m\u001b[1;33m)\u001b[0m\u001b[1;33m\u001b[0m\u001b[1;33m\u001b[0m\u001b[0m\n\u001b[0;32m    777\u001b[0m         \u001b[0mob\u001b[0m\u001b[1;33m=\u001b[0m\u001b[0mself\u001b[0m\u001b[1;33m.\u001b[0m\u001b[0m_get_state\u001b[0m\u001b[1;33m(\u001b[0m\u001b[1;33m)\u001b[0m\u001b[1;33m\u001b[0m\u001b[1;33m\u001b[0m\u001b[0m\n",
      "\u001b[1;32mc:\\users\\lfsanchez\\onedrive - universidad pontificia comillas\\comillas\\workspace\\hearthstone-gym\\gym_hearthstone\\envs\\hearthstone_unnested_env.py\u001b[0m in \u001b[0;36m_take_action\u001b[1;34m(self, action)\u001b[0m\n\u001b[0;32m    793\u001b[0m \u001b[1;33m\u001b[0m\u001b[0m\n\u001b[0;32m    794\u001b[0m         \u001b[1;32mwhile\u001b[0m \u001b[0mlen\u001b[0m\u001b[1;33m(\u001b[0m\u001b[0mpossible_actions\u001b[0m\u001b[1;33m)\u001b[0m\u001b[1;33m<\u001b[0m\u001b[1;36m869\u001b[0m\u001b[1;33m:\u001b[0m \u001b[1;31m#fill the entire action space by repeating some valid moves\u001b[0m\u001b[1;33m\u001b[0m\u001b[1;33m\u001b[0m\u001b[0m\n\u001b[1;32m--> 795\u001b[1;33m             \u001b[0mpossible_actions\u001b[0m\u001b[1;33m.\u001b[0m\u001b[0mappend\u001b[0m\u001b[1;33m(\u001b[0m\u001b[0mpossible_actions\u001b[0m\u001b[1;33m[\u001b[0m\u001b[0mcounter\u001b[0m\u001b[1;33m]\u001b[0m\u001b[1;33m)\u001b[0m\u001b[1;33m\u001b[0m\u001b[1;33m\u001b[0m\u001b[0m\n\u001b[0m\u001b[0;32m    796\u001b[0m             \u001b[0mcounter\u001b[0m\u001b[1;33m=\u001b[0m\u001b[0mcounter\u001b[0m\u001b[1;33m+\u001b[0m\u001b[1;36m1\u001b[0m\u001b[1;33m\u001b[0m\u001b[1;33m\u001b[0m\u001b[0m\n\u001b[0;32m    797\u001b[0m \u001b[1;33m\u001b[0m\u001b[0m\n",
      "\u001b[1;31mIndexError\u001b[0m: list index out of range"
     ]
    }
   ],
   "source": [
    "model.learn(total_timesteps=10, log_interval=4)"
   ]
  },
  {
   "cell_type": "code",
   "execution_count": null,
   "id": "eebd33f0",
   "metadata": {},
   "outputs": [],
   "source": []
  }
 ],
 "metadata": {
  "kernelspec": {
   "display_name": "Python 3.9 [RLGAMES]",
   "language": "python",
   "name": "rlgames"
  },
  "language_info": {
   "codemirror_mode": {
    "name": "ipython",
    "version": 3
   },
   "file_extension": ".py",
   "mimetype": "text/x-python",
   "name": "python",
   "nbconvert_exporter": "python",
   "pygments_lexer": "ipython3",
   "version": "3.9.16"
  }
 },
 "nbformat": 4,
 "nbformat_minor": 5
}
