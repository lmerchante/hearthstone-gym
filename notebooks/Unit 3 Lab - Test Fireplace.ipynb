{
 "cells": [
  {
   "cell_type": "markdown",
   "id": "df8966f6",
   "metadata": {},
   "source": [
    "# Train your first Deep Reinforcement Learning Agent\n",
    "\n",
    "PYTHON 3.9"
   ]
  },
  {
   "cell_type": "code",
   "execution_count": 1,
   "id": "bc58fdb7",
   "metadata": {},
   "outputs": [],
   "source": [
    "from fireplace import cards, exceptions, utils\n",
    "from fireplace.player import Player\n",
    "from fireplace.game import Game\n",
    "from fireplace.deck import Deck\n",
    "from fireplace.utils import get_script_definition, random_draft"
   ]
  },
  {
   "cell_type": "code",
   "execution_count": 2,
   "id": "38df8027",
   "metadata": {},
   "outputs": [],
   "source": [
    "from hearthstone.enums import PlayState, Step, Mulligan, State, CardClass, Race, CardSet, CardType"
   ]
  },
  {
   "cell_type": "code",
   "execution_count": 3,
   "id": "d8fffb58",
   "metadata": {},
   "outputs": [],
   "source": [
    "import re\n",
    "import string\n",
    "import random"
   ]
  },
  {
   "cell_type": "code",
   "execution_count": 4,
   "id": "601b4826",
   "metadata": {},
   "outputs": [
    {
     "name": "stderr",
     "output_type": "stream",
     "text": [
      "[fireplace.__init__]: Initializing card database\n",
      "[fireplace.__init__]: Merged 25793 cards\n"
     ]
    }
   ],
   "source": [
    "cards.db.initialize()"
   ]
  },
  {
   "cell_type": "code",
   "execution_count": 5,
   "id": "b2051694",
   "metadata": {},
   "outputs": [],
   "source": [
    "GREEN = \"\\033[92m\"\n",
    "RED = \"\\033[91m\"\n",
    "ENDC = \"\\033[0m\"\n",
    "PREFIXES = {\n",
    "    GREEN: \"Implemented\",\n",
    "    RED: \"Not implemented\",\n",
    "}\n",
    "implemented_cards = []\n",
    "unimplemented_cards = []"
   ]
  },
  {
   "cell_type": "code",
   "execution_count": 6,
   "id": "a9992743",
   "metadata": {},
   "outputs": [],
   "source": [
    "SOLVED_KEYWORDS = [\n",
    "    \"Windfury\", \"Charge\", \"Divine Shield\", \"Taunt\", \"Stealth\", \"Poisonous\",\n",
    "    r\"Can't be targeted by spells or Hero Powers\\.\",\n",
    "    r\"Can't attack\\.\",\n",
    "    \"Destroy any minion damaged by this minion.\",\n",
    "    r\"Your Hero Power deals \\d+ extra damage.\",\n",
    "    r\"Spell Damage \\+\\d+\",\n",
    "    r\"Overload: \\(\\d+\\)\",\n",
    "]"
   ]
  },
  {
   "cell_type": "code",
   "execution_count": 7,
   "id": "fecae9db",
   "metadata": {},
   "outputs": [],
   "source": [
    "DUMMY_CARDS = (\n",
    "    \"PlaceholderCard\",  # Placeholder Card\n",
    "    \"CS2_022e\",  # Polymorph\n",
    "    \"EX1_246e\",  # Hexxed\n",
    "    \"EX1_345t\",  # Shadow of Nothing\n",
    "    \"GAME_006\",  # NOOOOOOOOOOOO\n",
    "    \"LOEA04_27\",  # Animated Statue\n",
    "    \"Mekka4e\",  # Transformed\n",
    "    \"NEW1_025e\",  # Bolstered (Unused)\n",
    "    \"TU4c_005\",  # Hidden Gnome\n",
    "    \"TU4c_007\",  # Mukla's Big Brother\n",
    "\n",
    "    # Dynamic buffs set by their parent\n",
    "    \"CS2_236e\",  # Divine Spirit\n",
    "    \"EX1_304e\",  # Consume (Void Terror)\n",
    "    \"LOE_030e\",  # Hollow (Unused)\n",
    "    \"NEW1_018e\",  # Treasure Crazed (Bloodsail Raider)\n",
    ")"
   ]
  },
  {
   "cell_type": "markdown",
   "id": "e4582388",
   "metadata": {},
   "source": [
    "Por algun motivo separo unas cartas que llamo IMPLEMENTADAS de unas cartas que llamo NO_IMPLEMENTADAS"
   ]
  },
  {
   "cell_type": "code",
   "execution_count": 8,
   "id": "d1db6336",
   "metadata": {},
   "outputs": [
    {
     "name": "stdout",
     "output_type": "stream",
     "text": [
      "IMPLEMENTED CARDS: 7923\n",
      "UNIMPLEMENTED CARDS: 17870\n"
     ]
    }
   ],
   "source": [
    "for id in sorted(cards.db):\n",
    "    card = cards.db[id]\n",
    "    ret = card.description\n",
    "    ret = re.sub(\"<i>.+</i>\", \"\", ret)\n",
    "    ret = re.sub(\"(<b>|</b>)\", \"\", ret)\n",
    "    ret = re.sub(\"(\" + \"|\".join(SOLVED_KEYWORDS) + \")\", \"\", ret)\n",
    "    ret = re.sub(\"<[^>]*>\", \"\", ret)\n",
    "    exclude_chars = string.punctuation + string.whitespace\n",
    "    ret = \"\".join([ch for ch in ret if ch not in exclude_chars])\n",
    "    description = ret\n",
    "    implemented = False\n",
    "\n",
    "    if not description:\n",
    "        # Minions without card text or with basic abilities are implemented\n",
    "        implemented = True\n",
    "    elif card.card_set == CardSet.CREDITS:\n",
    "        implemented = True\n",
    "\n",
    "    if id in DUMMY_CARDS:\n",
    "        implemented = True\n",
    "\n",
    "    carddef = get_script_definition(id)\n",
    "    if carddef:\n",
    "        implemented = True\n",
    "\n",
    "    color = GREEN if implemented else RED\n",
    "    name = color + \"%s: %s\" % (PREFIXES[color], card.name) + ENDC\n",
    "\n",
    "    if implemented:\n",
    "        implemented_cards.append(card.id)\n",
    "    else:\n",
    "        unimplemented_cards.append(card.id)\n",
    "\n",
    "IMPLEMENTED_CARDS = len(implemented_cards)\n",
    "UNIMPLEMENTED_CARDS = len(unimplemented_cards)\n",
    "\n",
    "print(\"IMPLEMENTED CARDS: \"+str(IMPLEMENTED_CARDS))\n",
    "print(\"UNIMPLEMENTED CARDS: \"+str(UNIMPLEMENTED_CARDS))"
   ]
  },
  {
   "cell_type": "code",
   "execution_count": 9,
   "id": "b46b657c",
   "metadata": {},
   "outputs": [
    {
     "data": {
      "text/plain": [
       "['AIBot_DemonHunterTrainee_001_hb',\n",
       " 'AIBot_DruidTrainee_002_hb',\n",
       " 'AIBot_HunterTrainee_003_hb',\n",
       " 'AIBot_MageTrainee_004_hb',\n",
       " 'AIBot_PaladinTrainee_005_hb']"
      ]
     },
     "execution_count": 9,
     "metadata": {},
     "output_type": "execute_result"
    }
   ],
   "source": [
    "implemented_cards[0:5]"
   ]
  },
  {
   "cell_type": "code",
   "execution_count": 29,
   "id": "13e3ce51",
   "metadata": {},
   "outputs": [],
   "source": [
    "c=cards.db[implemented_cards[0]]"
   ]
  },
  {
   "cell_type": "code",
   "execution_count": 148,
   "id": "21536251",
   "metadata": {},
   "outputs": [
    {
     "data": {
      "text/plain": [
       "hearthstone.cardxml.CardXML"
      ]
     },
     "execution_count": 148,
     "metadata": {},
     "output_type": "execute_result"
    }
   ],
   "source": [
    "type(c)"
   ]
  },
  {
   "cell_type": "code",
   "execution_count": 149,
   "id": "497aad84",
   "metadata": {},
   "outputs": [
    {
     "data": {
      "text/plain": [
       "<AIBot_DemonHunterTrainee_001_hb: 'DemonHunter Trainee'>"
      ]
     },
     "execution_count": 149,
     "metadata": {},
     "output_type": "execute_result"
    }
   ],
   "source": [
    "c"
   ]
  },
  {
   "cell_type": "code",
   "execution_count": 150,
   "id": "c94603dd",
   "metadata": {},
   "outputs": [
    {
     "data": {
      "text/plain": [
       "{<GameTag.CARDNAME: 185>: {'deDE': 'Dämonenjägerlehrling',\n",
       "  'enUS': 'DemonHunter Trainee',\n",
       "  'esES': 'Aprendiz de cazador de demonios',\n",
       "  'esMX': 'Aprendiz de cazador de demonios',\n",
       "  'frFR': 'Recrue chasseur de démons',\n",
       "  'itIT': 'Apprendista Cacciatore di Demoni',\n",
       "  'jaJP': 'デーモンハンター訓練生',\n",
       "  'koKR': '악마사냥꾼 수련생',\n",
       "  'plPL': 'Początkujący łowca demonów',\n",
       "  'ptBR': 'Aprendiz de Caçador de Demônios',\n",
       "  'ruRU': 'Иллидари-новобранец',\n",
       "  'thTH': 'ดีมอนฮันเตอร์ฝึกหัด',\n",
       "  'zhCN': '恶魔猎手训练假人',\n",
       "  'zhTW': '惡魔獵人新手'},\n",
       " <GameTag.CARDTEXT: 184>: {},\n",
       " <GameTag.FLAVORTEXT: 351>: {},\n",
       " <GameTag.HOW_TO_EARN: 364>: {},\n",
       " <GameTag.HOW_TO_EARN_GOLDEN: 365>: {},\n",
       " <GameTag.CardTextInPlay: 252>: {},\n",
       " <GameTag.TARGETING_ARROW_TEXT: 325>: {},\n",
       " <GameTag.ARTISTNAME: 342>: '',\n",
       " <GameTag.LocalizationNotes: 344>: ''}"
      ]
     },
     "execution_count": 150,
     "metadata": {},
     "output_type": "execute_result"
    }
   ],
   "source": [
    "c.strings"
   ]
  },
  {
   "cell_type": "markdown",
   "id": "7a0cbe59",
   "metadata": {},
   "source": [
    "Todas las cartas son de tipo **hearthstone.cardxml.CardXML** y todas tienen los mismos atributos, sólo que unos tienen valor y otros no. Por ejemplo, DIVINE_SHIELD, las cartas de tipo SPELL no deberían tenerlo, pero siguen teniendo ese atributo puesto a False"
   ]
  },
  {
   "cell_type": "code",
   "execution_count": 151,
   "id": "9b8dc484",
   "metadata": {},
   "outputs": [],
   "source": [
    "for id in sorted(cards.db):\n",
    "    card = cards.db[id]\n",
    "    card.divine_shield "
   ]
  },
  {
   "cell_type": "markdown",
   "id": "57e7ce21",
   "metadata": {},
   "source": [
    "Importamos diferentes constantes de HEARTHSTONE"
   ]
  },
  {
   "cell_type": "code",
   "execution_count": 34,
   "id": "9698ca94",
   "metadata": {},
   "outputs": [
    {
     "data": {
      "text/plain": [
       "[<PlayState.INVALID: 0>,\n",
       " <PlayState.PLAYING: 1>,\n",
       " <PlayState.WINNING: 2>,\n",
       " <PlayState.LOSING: 3>,\n",
       " <PlayState.WON: 4>,\n",
       " <PlayState.LOST: 5>,\n",
       " <PlayState.TIED: 6>,\n",
       " <PlayState.DISCONNECTED: 7>,\n",
       " <PlayState.CONCEDED: 8>]"
      ]
     },
     "execution_count": 34,
     "metadata": {},
     "output_type": "execute_result"
    }
   ],
   "source": [
    "from hearthstone.enums import PlayState, Step, Mulligan, State, CardClass, Race, CardSet, CardType\n",
    "list(PlayState)"
   ]
  },
  {
   "cell_type": "code",
   "execution_count": 37,
   "id": "bead75a3",
   "metadata": {},
   "outputs": [
    {
     "data": {
      "text/plain": [
       "[<Step.INVALID: 0>,\n",
       " <Step.BEGIN_FIRST: 1>,\n",
       " <Step.BEGIN_SHUFFLE: 2>,\n",
       " <Step.BEGIN_DRAW: 3>,\n",
       " <Step.BEGIN_MULLIGAN: 4>,\n",
       " <Step.MAIN_BEGIN: 5>,\n",
       " <Step.MAIN_READY: 6>,\n",
       " <Step.MAIN_RESOURCE: 7>,\n",
       " <Step.MAIN_DRAW: 8>,\n",
       " <Step.MAIN_START: 9>,\n",
       " <Step.MAIN_ACTION: 10>,\n",
       " <Step.MAIN_COMBAT: 11>,\n",
       " <Step.MAIN_END: 12>,\n",
       " <Step.MAIN_NEXT: 13>,\n",
       " <Step.FINAL_WRAPUP: 14>,\n",
       " <Step.FINAL_GAMEOVER: 15>,\n",
       " <Step.MAIN_CLEANUP: 16>,\n",
       " <Step.MAIN_START_TRIGGERS: 17>,\n",
       " <Step.MAIN_SET_ACTION_STEP_TYPE: 18>,\n",
       " <Step.MAIN_PRE_ACTION: 19>,\n",
       " <Step.MAIN_POST_ACTION: 20>]"
      ]
     },
     "execution_count": 37,
     "metadata": {},
     "output_type": "execute_result"
    }
   ],
   "source": [
    "list(Step)"
   ]
  },
  {
   "cell_type": "code",
   "execution_count": 36,
   "id": "43364833",
   "metadata": {},
   "outputs": [
    {
     "data": {
      "text/plain": [
       "[<Mulligan.INVALID: 0>,\n",
       " <Mulligan.INPUT: 1>,\n",
       " <Mulligan.DEALING: 2>,\n",
       " <Mulligan.WAITING: 3>,\n",
       " <Mulligan.DONE: 4>]"
      ]
     },
     "execution_count": 36,
     "metadata": {},
     "output_type": "execute_result"
    }
   ],
   "source": [
    "list(Mulligan)"
   ]
  },
  {
   "cell_type": "code",
   "execution_count": 38,
   "id": "55b4914f",
   "metadata": {},
   "outputs": [
    {
     "data": {
      "text/plain": [
       "[<State.INVALID: 0>,\n",
       " <State.LOADING: 1>,\n",
       " <State.RUNNING: 2>,\n",
       " <State.COMPLETE: 3>]"
      ]
     },
     "execution_count": 38,
     "metadata": {},
     "output_type": "execute_result"
    }
   ],
   "source": [
    "list(State)"
   ]
  },
  {
   "cell_type": "code",
   "execution_count": 39,
   "id": "59c0efc7",
   "metadata": {},
   "outputs": [
    {
     "data": {
      "text/plain": [
       "[<CardClass.INVALID: 0>,\n",
       " <CardClass.DEATHKNIGHT: 1>,\n",
       " <CardClass.DRUID: 2>,\n",
       " <CardClass.HUNTER: 3>,\n",
       " <CardClass.MAGE: 4>,\n",
       " <CardClass.PALADIN: 5>,\n",
       " <CardClass.PRIEST: 6>,\n",
       " <CardClass.ROGUE: 7>,\n",
       " <CardClass.SHAMAN: 8>,\n",
       " <CardClass.WARLOCK: 9>,\n",
       " <CardClass.WARRIOR: 10>,\n",
       " <CardClass.DREAM: 11>,\n",
       " <CardClass.NEUTRAL: 12>,\n",
       " <CardClass.WHIZBANG: 13>,\n",
       " <CardClass.DEMONHUNTER: 14>]"
      ]
     },
     "execution_count": 39,
     "metadata": {},
     "output_type": "execute_result"
    }
   ],
   "source": [
    "list(CardClass)"
   ]
  },
  {
   "cell_type": "code",
   "execution_count": 107,
   "id": "e5652b73",
   "metadata": {},
   "outputs": [
    {
     "name": "stdout",
     "output_type": "stream",
     "text": [
      "CardClass.INVALID - \n",
      "CardClass.DEATHKNIGHT - HERO_11\n",
      "CardClass.DRUID - HERO_06\n",
      "CardClass.HUNTER - HERO_05\n",
      "CardClass.MAGE - HERO_08\n",
      "CardClass.PALADIN - HERO_04\n",
      "CardClass.PRIEST - HERO_09\n",
      "CardClass.ROGUE - HERO_03\n",
      "CardClass.SHAMAN - HERO_02\n",
      "CardClass.WARLOCK - HERO_07\n",
      "CardClass.WARRIOR - HERO_01\n",
      "CardClass.DREAM - \n",
      "CardClass.NEUTRAL - \n",
      "CardClass.WHIZBANG - BOT_914h\n",
      "CardClass.DEMONHUNTER - HERO_10\n"
     ]
    }
   ],
   "source": [
    "for i in list(CardClass):\n",
    "    print(i,\"-\",i.default_hero)"
   ]
  },
  {
   "cell_type": "markdown",
   "id": "ee07e822",
   "metadata": {},
   "source": [
    "Parece que hay algunas CardClass que no tienen héroe asociado. Cuando hagamos un RANDOM para elegir los héroes de inicio, vamos a eliminar esas que no tengan un héroe asociado porque me da que puede dar un fallo más adelante. Voy a eliminarlas de las opciones"
   ]
  },
  {
   "cell_type": "code",
   "execution_count": 152,
   "id": "967af477",
   "metadata": {},
   "outputs": [
    {
     "data": {
      "text/plain": [
       "[<CardClass.DEATHKNIGHT: 1>,\n",
       " <CardClass.DRUID: 2>,\n",
       " <CardClass.HUNTER: 3>,\n",
       " <CardClass.MAGE: 4>,\n",
       " <CardClass.PALADIN: 5>,\n",
       " <CardClass.PRIEST: 6>,\n",
       " <CardClass.ROGUE: 7>,\n",
       " <CardClass.SHAMAN: 8>,\n",
       " <CardClass.WARLOCK: 9>,\n",
       " <CardClass.WARRIOR: 10>,\n",
       " <CardClass.WHIZBANG: 13>,\n",
       " <CardClass.DEMONHUNTER: 14>]"
      ]
     },
     "execution_count": 152,
     "metadata": {},
     "output_type": "execute_result"
    }
   ],
   "source": [
    "heroes=list(CardClass)\n",
    "heroes.remove(CardClass.INVALID)\n",
    "heroes.remove(CardClass.DREAM)\n",
    "heroes.remove(CardClass.NEUTRAL)\n",
    "heroes"
   ]
  },
  {
   "cell_type": "code",
   "execution_count": 40,
   "id": "da342366",
   "metadata": {},
   "outputs": [
    {
     "data": {
      "text/plain": [
       "[<Race.INVALID: 0>,\n",
       " <Race.BLOODELF: 1>,\n",
       " <Race.DRAENEI: 2>,\n",
       " <Race.DWARF: 3>,\n",
       " <Race.GNOME: 4>,\n",
       " <Race.GOBLIN: 5>,\n",
       " <Race.HUMAN: 6>,\n",
       " <Race.NIGHTELF: 7>,\n",
       " <Race.ORC: 8>,\n",
       " <Race.TAUREN: 9>,\n",
       " <Race.TROLL: 10>,\n",
       " <Race.UNDEAD: 11>,\n",
       " <Race.WORGEN: 12>,\n",
       " <Race.GOBLIN2: 13>,\n",
       " <Race.MURLOC: 14>,\n",
       " <Race.DEMON: 15>,\n",
       " <Race.SCOURGE: 16>,\n",
       " <Race.MECHANICAL: 17>,\n",
       " <Race.ELEMENTAL: 18>,\n",
       " <Race.OGRE: 19>,\n",
       " <Race.BEAST: 20>,\n",
       " <Race.TOTEM: 21>,\n",
       " <Race.NERUBIAN: 22>,\n",
       " <Race.PIRATE: 23>,\n",
       " <Race.DRAGON: 24>,\n",
       " <Race.BLANK: 25>,\n",
       " <Race.ALL: 26>,\n",
       " <Race.EGG: 38>,\n",
       " <Race.QUILBOAR: 43>,\n",
       " <Race.CENTAUR: 80>,\n",
       " <Race.FURBOLG: 81>,\n",
       " <Race.HIGHELF: 83>,\n",
       " <Race.TREANT: 84>,\n",
       " <Race.OWLKIN: 85>,\n",
       " <Race.HALFORC: 88>,\n",
       " <Race.LOCK: 89>,\n",
       " <Race.NAGA: 92>,\n",
       " <Race.OLDGOD: 93>,\n",
       " <Race.PANDAREN: 94>,\n",
       " <Race.GRONN: 95>,\n",
       " <Race.CELESTIAL: 96>,\n",
       " <Race.GNOLL: 97>,\n",
       " <Race.GOLEM: 98>,\n",
       " <Race.HARPY: 99>,\n",
       " <Race.VULPERA: 100>]"
      ]
     },
     "execution_count": 40,
     "metadata": {},
     "output_type": "execute_result"
    }
   ],
   "source": [
    "list(Race)"
   ]
  },
  {
   "cell_type": "code",
   "execution_count": 41,
   "id": "a55ba55b",
   "metadata": {},
   "outputs": [
    {
     "data": {
      "text/plain": [
       "[<CardSet.INVALID: 0>,\n",
       " <CardSet.TEST_TEMPORARY: 1>,\n",
       " <CardSet.BASIC: 2>,\n",
       " <CardSet.EXPERT1: 3>,\n",
       " <CardSet.HOF: 4>,\n",
       " <CardSet.MISSIONS: 5>,\n",
       " <CardSet.DEMO: 6>,\n",
       " <CardSet.NONE: 7>,\n",
       " <CardSet.CHEAT: 8>,\n",
       " <CardSet.BLANK: 9>,\n",
       " <CardSet.DEBUG_SP: 10>,\n",
       " <CardSet.PROMO: 11>,\n",
       " <CardSet.NAXX: 12>,\n",
       " <CardSet.GVG: 13>,\n",
       " <CardSet.BRM: 14>,\n",
       " <CardSet.TGT: 15>,\n",
       " <CardSet.CREDITS: 16>,\n",
       " <CardSet.HERO_SKINS: 17>,\n",
       " <CardSet.TB: 18>,\n",
       " <CardSet.SLUSH: 19>,\n",
       " <CardSet.LOE: 20>,\n",
       " <CardSet.OG: 21>,\n",
       " <CardSet.OG_RESERVE: 22>,\n",
       " <CardSet.KARA: 23>,\n",
       " <CardSet.KARA_RESERVE: 24>,\n",
       " <CardSet.GANGS: 25>,\n",
       " <CardSet.GANGS_RESERVE: 26>,\n",
       " <CardSet.UNGORO: 27>,\n",
       " <CardSet.ICECROWN: 1001>,\n",
       " <CardSet.LOOTAPALOOZA: 1004>,\n",
       " <CardSet.GILNEAS: 1125>,\n",
       " <CardSet.BOOMSDAY: 1127>,\n",
       " <CardSet.TROLL: 1129>,\n",
       " <CardSet.DALARAN: 1130>,\n",
       " <CardSet.ULDUM: 1158>,\n",
       " <CardSet.DRAGONS: 1347>,\n",
       " <CardSet.YEAR_OF_THE_DRAGON: 1403>,\n",
       " <CardSet.BLACK_TEMPLE: 1414>,\n",
       " <CardSet.WILD_EVENT: 1439>,\n",
       " <CardSet.SCHOLOMANCE: 1443>,\n",
       " <CardSet.BATTLEGROUNDS: 1453>,\n",
       " <CardSet.DEMON_HUNTER_INITIATE: 1463>,\n",
       " <CardSet.DARKMOON_FAIRE: 1466>,\n",
       " <CardSet.THE_BARRENS: 1525>,\n",
       " <CardSet.WAILING_CAVERNS: 1559>,\n",
       " <CardSet.STORMWIND: 1578>,\n",
       " <CardSet.LETTUCE: 1586>,\n",
       " <CardSet.ALTERAC_VALLEY: 1626>,\n",
       " <CardSet.LEGACY: 1635>,\n",
       " <CardSet.CORE: 1637>,\n",
       " <CardSet.VANILLA: 1646>,\n",
       " <CardSet.THE_SUNKEN_CITY: 1658>,\n",
       " <CardSet.REVENDRETH: 1691>,\n",
       " <CardSet.MERCENARIES_DEV: 1705>,\n",
       " <CardSet.RETURN_OF_THE_LICH_KING: 1776>,\n",
       " <CardSet.PATH_OF_ARTHAS: 1869>,\n",
       " <CardSet.TAVERNS_OF_TIME: 1143>,\n",
       " <CardSet.PLACEHOLDER_202204: 1810>]"
      ]
     },
     "execution_count": 41,
     "metadata": {},
     "output_type": "execute_result"
    }
   ],
   "source": [
    "list(CardSet)"
   ]
  },
  {
   "cell_type": "code",
   "execution_count": 42,
   "id": "fe32078b",
   "metadata": {},
   "outputs": [
    {
     "data": {
      "text/plain": [
       "[<CardType.INVALID: 0>,\n",
       " <CardType.GAME: 1>,\n",
       " <CardType.PLAYER: 2>,\n",
       " <CardType.HERO: 3>,\n",
       " <CardType.MINION: 4>,\n",
       " <CardType.SPELL: 5>,\n",
       " <CardType.ENCHANTMENT: 6>,\n",
       " <CardType.WEAPON: 7>,\n",
       " <CardType.ITEM: 8>,\n",
       " <CardType.TOKEN: 9>,\n",
       " <CardType.HERO_POWER: 10>,\n",
       " <CardType.BLANK: 11>,\n",
       " <CardType.GAME_MODE_BUTTON: 12>,\n",
       " <CardType.MOVE_MINION_HOVER_TARGET: 22>,\n",
       " <CardType.LETTUCE_ABILITY: 23>,\n",
       " <CardType.BATTLEGROUND_HERO_BUDDY: 24>,\n",
       " <CardType.LOCATION: 39>,\n",
       " <CardType.BATTLEGROUND_QUEST_REWARD: 40>]"
      ]
     },
     "execution_count": 42,
     "metadata": {},
     "output_type": "execute_result"
    }
   ],
   "source": [
    "list(CardType)"
   ]
  },
  {
   "cell_type": "markdown",
   "id": "8582212a",
   "metadata": {},
   "source": [
    "Ahora vamos a replicar los pasos de la función **def setup_game(self)** para ver si funciona"
   ]
  },
  {
   "cell_type": "code",
   "execution_count": 114,
   "id": "f74282e7",
   "metadata": {},
   "outputs": [
    {
     "name": "stdout",
     "output_type": "stream",
     "text": [
      "CardClass.ROGUE\n",
      "HERO_03\n"
     ]
    }
   ],
   "source": [
    "hero1=random.choice(heroes)\n",
    "print(hero1)\n",
    "print(hero1.default_hero)"
   ]
  },
  {
   "cell_type": "markdown",
   "id": "091ef665",
   "metadata": {},
   "source": [
    "Metemos en una función los comandos que van a elegir las cartas para un determinado héroe. En esas cartas vamos a meter las del héroe más las cartas neutras"
   ]
  },
  {
   "cell_type": "code",
   "execution_count": 115,
   "id": "f8cc3ad2",
   "metadata": {},
   "outputs": [
    {
     "data": {
      "text/plain": [
       "[<CardClass.ROGUE: 7>, <CardClass.NEUTRAL: 12>]"
      ]
     },
     "execution_count": 115,
     "metadata": {},
     "output_type": "execute_result"
    }
   ],
   "source": [
    "[hero1, CardClass.NEUTRAL]"
   ]
  },
  {
   "cell_type": "code",
   "execution_count": 138,
   "id": "c5f0561f",
   "metadata": {},
   "outputs": [],
   "source": [
    "def get_collection(heroe):\n",
    "    collection = []\n",
    "    for card in cards.db.keys():\n",
    "        if str(card) not in implemented_cards:\n",
    "                continue\n",
    "        cls = cards.db[card]\n",
    "        if not cls.collectible:\n",
    "            continue\n",
    "        if cls.type == CardType.HERO:\n",
    "            # Heroes are collectible...\n",
    "            continue\n",
    "        if cls.card_class and cls.card_class in [heroe, CardClass.NEUTRAL]:\n",
    "            # Play with more possibilities\n",
    "            collection.append(cls)\n",
    "    count=0\n",
    "    for j in collection:\n",
    "        if j.card_class == heroe:\n",
    "            count=count+1\n",
    "    print(\"Totales Neutras + hero: \",len(collection))\n",
    "    print(\"Cartas de heroe: \",count)\n",
    "    return collection"
   ]
  },
  {
   "cell_type": "markdown",
   "id": "ff5fd8c7",
   "metadata": {},
   "source": [
    "De entre esa collección vamos a elegir las 30 cartas del DECK de cada jugador. Ojo, parece que es posible que los dos players tengan cartas NEUTRAS repetidas ya que las cartas que se le han asignado a un jugador no se eliminan de las cartas que se le van a asignar al segundo jugador. Confirmar con JESUS que es así."
   ]
  },
  {
   "cell_type": "code",
   "execution_count": 153,
   "id": "05cdf16e",
   "metadata": {},
   "outputs": [],
   "source": [
    "def get_deck(collection):\n",
    "    deck=[]\n",
    "    while len(deck) < Deck.MAX_CARDS:\n",
    "        card = random.choice(collection)\n",
    "        if deck.count(card.id) < card.max_count_in_deck:\n",
    "            deck.append(card.id)\n",
    "    return deck"
   ]
  },
  {
   "cell_type": "code",
   "execution_count": 140,
   "id": "d06feb56",
   "metadata": {},
   "outputs": [
    {
     "name": "stdout",
     "output_type": "stream",
     "text": [
      "Totales Neutras + hero:  862\n",
      "Cartas de heroe:  123\n"
     ]
    }
   ],
   "source": [
    "collection1=get_collection(hero1)"
   ]
  },
  {
   "cell_type": "code",
   "execution_count": 141,
   "id": "3e3ad2ca",
   "metadata": {},
   "outputs": [
    {
     "name": "stdout",
     "output_type": "stream",
     "text": [
      "['KAR_094', 'EX1_614', 'EX1_126', 'EX1_557', 'GIL_513', 'ICC_811', 'CFM_790', 'AT_098', 'GIL_118', 'ICC_913', 'GIL_819', 'AT_129', 'UNG_851', 'VAN_CS2_124', 'CFM_647', 'AT_115', 'EX1_562', 'BOT_534', 'AT_123', 'CFM_666', 'UNG_057', 'EX1_126', 'GIL_120', 'BOT_270', 'ICC_098', 'VAN_EX1_008', 'OG_330', 'LOOT_516', 'AT_112', 'CS2_120']\n"
     ]
    }
   ],
   "source": [
    "deck1=get_deck(collection1)\n",
    "print(deck1)"
   ]
  },
  {
   "cell_type": "code",
   "execution_count": 142,
   "id": "f2744551",
   "metadata": {},
   "outputs": [
    {
     "name": "stdout",
     "output_type": "stream",
     "text": [
      "CardClass.SHAMAN\n",
      "Totales Neutras + hero:  865\n",
      "Cartas de heroe:  126\n",
      "['GVG_118', 'BRM_027', 'BOT_079', 'CS2_120', 'BOT_083', 'CORE_EX1_008', 'VAN_CS2_186', 'AT_085', 'KAR_030a', 'ICC_025', 'GVG_074', 'AT_114', 'AT_083', 'OG_338', 'SCH_143', 'ICC_023', 'KAR_073', 'VAN_EX1_010', 'GVG_037', 'CORE_CS2_142', 'OG_272', 'ICC_901', 'ICC_220', 'CFM_810', 'EX1_283', 'AT_106', 'GIL_531', 'UNG_806', 'AT_046', 'ICC_089']\n"
     ]
    }
   ],
   "source": [
    "hero2=random.choice(heroes)\n",
    "print(hero2)\n",
    "collection2=get_collection(hero2)\n",
    "deck2=get_deck(collection2)\n",
    "print(deck2)"
   ]
  },
  {
   "cell_type": "code",
   "execution_count": 143,
   "id": "1bb18afb",
   "metadata": {},
   "outputs": [],
   "source": [
    "from fireplace.player import Player\n",
    "player1=Player(\"Player1\", deck1, hero1.default_hero)\n",
    "player2=Player(\"Player2\", deck2, hero2.default_hero)"
   ]
  },
  {
   "cell_type": "markdown",
   "id": "4f8fad80",
   "metadata": {},
   "source": [
    "Vemos que inicialmente la mano y el deck de cada jugador están vacías:"
   ]
  },
  {
   "cell_type": "code",
   "execution_count": 144,
   "id": "d2abb81f",
   "metadata": {},
   "outputs": [
    {
     "data": {
      "text/plain": [
       "(<Deck (0 cards)>, [])"
      ]
     },
     "execution_count": 144,
     "metadata": {},
     "output_type": "execute_result"
    }
   ],
   "source": [
    "player1.deck,player1.hand"
   ]
  },
  {
   "cell_type": "code",
   "execution_count": 145,
   "id": "221dd595",
   "metadata": {},
   "outputs": [
    {
     "name": "stderr",
     "output_type": "stream",
     "text": [
      "[fireplace.entity]: Setting up game Game(players=(Player(name='Player1', hero=None), Player(name='Player2', hero=None)))\n",
      "[fireplace.entity]: Tossing the coin... Player2 wins!\n",
      "[fireplace.actions]: Player(name='Player1', hero=<Hero ('Valeera Sanguinar')>) triggering <TargetedAction: Summon(<Summon.CARD>=<HeroPower ('Dagger Mastery')>)> targeting [Player(name='Player1', hero=<Hero ('Valeera Sanguinar')>)]\n",
      "[fireplace.actions]: Player1 summons [<HeroPower ('Dagger Mastery')>]\n",
      "[fireplace.entity]: Empty stack, refreshing auras and processing deaths\n",
      "[fireplace.actions]: Player(name='Player1', hero=<Hero ('Valeera Sanguinar')>) triggering <TargetedAction: Summon(<Summon.CARD>=<Hero ('Valeera Sanguinar')>)> targeting [Player(name='Player1', hero=<Hero ('Valeera Sanguinar')>)]\n",
      "[fireplace.actions]: Player1 summons [<Hero ('Valeera Sanguinar')>]\n",
      "[fireplace.entity]: Empty stack, refreshing auras and processing deaths\n",
      "[fireplace.entity]: Player(name='Player1', hero=<Hero ('Valeera Sanguinar')>) shuffles their deck\n",
      "[fireplace.card]: <Minion ('River Crocolisk')> moves from <Zone.DECK: 2> to <Zone.HAND: 3>\n",
      "[fireplace.card]: <Minion ('Tainted Zealot')> moves from <Zone.DECK: 2> to <Zone.HAND: 3>\n",
      "[fireplace.card]: <Minion ('Master Jouster')> moves from <Zone.DECK: 2> to <Zone.HAND: 3>\n",
      "[fireplace.card]: <Minion ('Bull Dozer')> moves from <Zone.DECK: 2> to <Zone.HAND: 3>\n",
      "[fireplace.actions]: Player(name='Player2', hero=<Hero ('Thrall')>) triggering <TargetedAction: Summon(<Summon.CARD>=<HeroPower ('Totemic Call')>)> targeting [Player(name='Player2', hero=<Hero ('Thrall')>)]\n",
      "[fireplace.actions]: Player2 summons [<HeroPower ('Totemic Call')>]\n",
      "[fireplace.entity]: Empty stack, refreshing auras and processing deaths\n",
      "[fireplace.actions]: Player(name='Player2', hero=<Hero ('Thrall')>) triggering <TargetedAction: Summon(<Summon.CARD>=<Hero ('Thrall')>)> targeting [Player(name='Player2', hero=<Hero ('Thrall')>)]\n",
      "[fireplace.actions]: Player2 summons [<Hero ('Thrall')>]\n",
      "[fireplace.entity]: Empty stack, refreshing auras and processing deaths\n",
      "[fireplace.entity]: Player(name='Player2', hero=<Hero ('Thrall')>) shuffles their deck\n",
      "[fireplace.card]: <Minion ('River Crocolisk')> moves from <Zone.DECK: 2> to <Zone.HAND: 3>\n",
      "[fireplace.card]: <Minion ('Drakkari Enchanter')> moves from <Zone.DECK: 2> to <Zone.HAND: 3>\n",
      "[fireplace.card]: <Spell ('Ice Fishing')> moves from <Zone.DECK: 2> to <Zone.HAND: 3>\n",
      "[fireplace.entity]: Entering mulligan phase\n"
     ]
    }
   ],
   "source": [
    "game=Game(players=(player1, player2))\n",
    "game.start()"
   ]
  },
  {
   "cell_type": "markdown",
   "id": "66b1e2fc",
   "metadata": {},
   "source": [
    "Después de iniciar el juego, ya tienen valores:"
   ]
  },
  {
   "cell_type": "code",
   "execution_count": 146,
   "id": "16cb9320",
   "metadata": {},
   "outputs": [
    {
     "data": {
      "text/plain": [
       "(<Deck (26 cards)>,\n",
       " [<Minion ('River Crocolisk')>,\n",
       "  <Minion ('Tainted Zealot')>,\n",
       "  <Minion ('Master Jouster')>,\n",
       "  <Minion ('Bull Dozer')>])"
      ]
     },
     "execution_count": 146,
     "metadata": {},
     "output_type": "execute_result"
    }
   ],
   "source": [
    "player1.deck,player1.hand"
   ]
  },
  {
   "cell_type": "code",
   "execution_count": 147,
   "id": "2733082a",
   "metadata": {},
   "outputs": [
    {
     "data": {
      "text/plain": [
       "(<Deck (27 cards)>,\n",
       " [<Minion ('River Crocolisk')>,\n",
       "  <Minion ('Drakkari Enchanter')>,\n",
       "  <Spell ('Ice Fishing')>])"
      ]
     },
     "execution_count": 147,
     "metadata": {},
     "output_type": "execute_result"
    }
   ],
   "source": [
    "player2.deck,player2.hand"
   ]
  },
  {
   "cell_type": "markdown",
   "id": "3afbce36",
   "metadata": {},
   "source": [
    "### Corrección del error AttributeError: 'Spell' object has no attribute 'divine_shield'"
   ]
  },
  {
   "cell_type": "markdown",
   "id": "1db428b0",
   "metadata": {},
   "source": [
    "La función **def _get_state(self)** da error cuando salen algunas cartas, por ejemplo la carta \"Lock and Load\" que es de tipo SPELL. Cuando se va a calcular el estado y se mira el valor del atributo divine_shield, obtenemos el error:\n",
    "\n",
    "    AttributeError: 'Spell' object has no attribute 'divine_shield'\n",
    "    \n",
    "Cuando en realidad en las cartas de la librería HEARTHSTONE todas tienen ese atributo. Me da que Fireplace debe crear clases diferentes para cartas diferentes...\n",
    "\n",
    "En esta ejecución veo que al jugador 2 le ha tocado un:\n",
    "\n",
    "    'fireplace.card.Spell' Ice Fishing\n",
    "    \n",
    "Si esa carta le hubiera tocado al jugador 1, al ejecutar la función _get_state(self) tal y como está definida, debería dar otro error de ese tipo:\n",
    "\n",
    "    \"myhand2effects_divineshield\": 1 if 0 < len(p1.hand) and p1.hand[0].divine_shield else 0,\n",
    "\n",
    "[Recordar que la función que devuelve el status no puede devolver la mano del contrincante que teóricamente es desconocida]\n",
    "\n",
    "Vamos a aislar ese SPELL para ver qué atributos tiene de entre estos:\n",
    "\n",
    "\"myhand0effects_windfury\":        SI  \n",
    "\"myhand0effects_divineshield\":    NO  \n",
    "\"myhand0effects_charge\":          NO  \n",
    "\"myhand0effects_taunt\":           NO  \n",
    "\"myhand0effects_stealth\":         NO  \n",
    "\"myhand0effects_poisonous\":       NO  \n",
    "\"myhand0effects_cantbetargeted\":  NO  \n",
    "\"myhand0effects_aura\":            SI  \n",
    "\"myhand0effects_deathrattle\":     NO  \n",
    "\"myhand0effects_frozen\":          NO  \n",
    "\"myhand0effects_silenced\":        NO  \n",
    "\n",
    "Lo que me lleva a dos preguntas:\n",
    "\n",
    "* Esto es así sólo en <Spell ('Ice Fishing')> o puede haber otros SPELLS que sí que los tengan??\n",
    "* Puede que tengamos que añadir otros efectos de los SPELLs para que el get_status esté más completo? ¿Sólo se han incluido estos por simplificar o porque no hay mas (windfury,divineshield, charge, taunt, stealth, poisonous, cantbetargeted,aura, deathratttle, frozen, silenced)?\n",
    "\n",
    "PREGUNTAR A JESUS"
   ]
  },
  {
   "cell_type": "code",
   "execution_count": 157,
   "id": "30e3f82a",
   "metadata": {},
   "outputs": [
    {
     "data": {
      "text/plain": [
       "<Spell ('Ice Fishing')>"
      ]
     },
     "execution_count": 157,
     "metadata": {},
     "output_type": "execute_result"
    }
   ],
   "source": [
    "player2.hand[2]"
   ]
  },
  {
   "cell_type": "code",
   "execution_count": 189,
   "id": "48442535",
   "metadata": {},
   "outputs": [
    {
     "ename": "AttributeError",
     "evalue": "'Spell' object has no attribute 'divine_shield'",
     "output_type": "error",
     "traceback": [
      "\u001b[1;31m---------------------------------------------------------------------------\u001b[0m",
      "\u001b[1;31mAttributeError\u001b[0m                            Traceback (most recent call last)",
      "\u001b[1;32mC:\\Users\\LFSANC~1\\AppData\\Local\\Temp/ipykernel_14928/4194967028.py\u001b[0m in \u001b[0;36m<module>\u001b[1;34m\u001b[0m\n\u001b[0;32m      1\u001b[0m \u001b[0mc\u001b[0m\u001b[1;33m=\u001b[0m\u001b[0mplayer2\u001b[0m\u001b[1;33m.\u001b[0m\u001b[0mhand\u001b[0m\u001b[1;33m[\u001b[0m\u001b[1;36m2\u001b[0m\u001b[1;33m]\u001b[0m\u001b[1;33m\u001b[0m\u001b[1;33m\u001b[0m\u001b[0m\n\u001b[1;32m----> 2\u001b[1;33m \u001b[0mc\u001b[0m\u001b[1;33m.\u001b[0m\u001b[0mdivine_shield\u001b[0m\u001b[1;33m\u001b[0m\u001b[1;33m\u001b[0m\u001b[0m\n\u001b[0m",
      "\u001b[1;31mAttributeError\u001b[0m: 'Spell' object has no attribute 'divine_shield'"
     ]
    }
   ],
   "source": [
    "c=player2.hand[2]\n",
    "c.divine_shield"
   ]
  },
  {
   "cell_type": "markdown",
   "id": "5b552e0f",
   "metadata": {},
   "source": [
    "Si la respuesta a las otras dos preguntas es que ningún SPELL tiene esos atributos, y tampoco hay que añadir atributos nuevos, podríamos resolver el problema:\n",
    "    \n",
    "    AttributeError: 'Spell' object has no attribute 'divine_shield'\n",
    "        \n",
    "Modificando la línea:\n",
    "    \n",
    "    \"myhand2effects_divineshield\": 1 if 0 < len(p1.hand) and p1.hand[0].divine_shield else 0,\n",
    "    \n",
    "Por:"
   ]
  },
  {
   "cell_type": "code",
   "execution_count": 190,
   "id": "d8de8e1f",
   "metadata": {},
   "outputs": [],
   "source": [
    "def get_divine_shield(card):\n",
    "    try:\n",
    "        return card.divine_shield\n",
    "    except AttributeError:\n",
    "        return 0      "
   ]
  },
  {
   "cell_type": "code",
   "execution_count": 202,
   "id": "4bed9e83",
   "metadata": {},
   "outputs": [
    {
     "data": {
      "text/plain": [
       "0"
      ]
     },
     "execution_count": 202,
     "metadata": {},
     "output_type": "execute_result"
    }
   ],
   "source": [
    "1 if 2 < len(p2.hand) and get_divine_shield(p2.hand[2]) else 0"
   ]
  },
  {
   "cell_type": "markdown",
   "id": "bb2c198f",
   "metadata": {},
   "source": [
    "Notar que sólo devuelve 1 si el valor del atributo divine_shield es diferente de 0. Si esa carta no tiene divine_shield, como es el caso de los SPELL o lo tiene pero vale 0, sigue devolviendo 0. Entiendo que esto es correcto.\n",
    "\n",
    "CONSULTAR CON JESUS\n",
    "\n",
    "El problema es que cada vez que haya que invocar a get_status va a tener que llamar un montón de veces a estas funciones. Creo que va a ralentizar mucho el proceso. Lo suyo sería modificar la clase SPELL de fireplace para añadirle los atributos que ahora mismo no tiene. O bien, meter una condición que detecte si es un objeto de la clase SPELL... Algo como esto:"
   ]
  },
  {
   "cell_type": "code",
   "execution_count": 203,
   "id": "1e64a174",
   "metadata": {},
   "outputs": [
    {
     "data": {
      "text/plain": [
       "0"
      ]
     },
     "execution_count": 203,
     "metadata": {},
     "output_type": "execute_result"
    }
   ],
   "source": [
    "1 if 2 < len(p2.hand) and p2.hand[2].type!=5 and p2.hand[2].divine_shield  else 0"
   ]
  },
  {
   "cell_type": "markdown",
   "id": "bde800cb",
   "metadata": {},
   "source": [
    "Esta idea me gusta más. Habrá que ver más adelante, si hay otras cartas que no tengan atributos e ir metiendo condiciones cada vez más complicadas. En este caso, la condición:\n",
    "\n",
    "    p2.hand[2].type!=5\n",
    "    \n",
    "Chequea si es una carta de tipo SPELL. Pero puede que haga falta chequear si hay cartas de otros tipos."
   ]
  },
  {
   "cell_type": "code",
   "execution_count": 154,
   "id": "a31be37a",
   "metadata": {},
   "outputs": [],
   "source": [
    "p1=player1\n",
    "p2=player2"
   ]
  },
  {
   "cell_type": "code",
   "execution_count": 156,
   "id": "afc68874",
   "metadata": {},
   "outputs": [
    {
     "name": "stdout",
     "output_type": "stream",
     "text": [
      ">>>> <class 'fireplace.card.Minion'> River Crocolisk\n",
      ">>>> <class 'fireplace.card.Minion'> Drakkari Enchanter\n",
      ">>>> <class 'fireplace.card.Spell'> Ice Fishing\n",
      ">>>> no  3\n",
      ">>>> no  4\n",
      ">>>> no  5\n",
      ">>>> no  6\n",
      ">>>> no  7\n",
      ">>>> no  8\n",
      ">>>> no  9\n"
     ]
    }
   ],
   "source": [
    "for i in range(10):\n",
    "    try:\n",
    "        print(\">>>>\",type(p2.hand[i]),p2.hand[i])\n",
    "    except:\n",
    "        print(\">>>> no \",i)"
   ]
  },
  {
   "cell_type": "markdown",
   "id": "d391232b",
   "metadata": {},
   "source": [
    "## Expresiones regulares"
   ]
  },
  {
   "cell_type": "code",
   "execution_count": 33,
   "id": "4a5aaef5",
   "metadata": {
    "scrolled": false
   },
   "outputs": [],
   "source": [
    "for id in sorted(cards.db):\n",
    "    card = cards.db[id]\n",
    "    ret = card.description\n",
    "    ret_org=ret\n",
    "    ret=ret.replace(\"\\n\",\" \") \n",
    "    ret = re.sub(\"<i>.+</i>\", \"\", ret,flags=re.IGNORECASE)\n",
    "    ret = re.sub(r\"<\\/?b[^>]*>\", \"\", ret)\n",
    "    ret = re.sub(\"(\" + \"|\".join(SOLVED_KEYWORDS) + \")\", \"\", ret)\n",
    "    ret2 = re.sub(\"<[^>]*>\", \"\", ret)"
   ]
  },
  {
   "cell_type": "markdown",
   "id": "f161024f",
   "metadata": {},
   "source": [
    "## Class Autonum\n",
    "\n",
    "Para qué vale??"
   ]
  },
  {
   "cell_type": "code",
   "execution_count": null,
   "id": "fd8029c4",
   "metadata": {},
   "outputs": [],
   "source": [
    "from enum import Enum\n",
    "\n",
    "class AutoNumber(Enum):\n",
    "\tdef __new__(cls):\n",
    "\t\tvalue = len(cls.__members__)  # note no + 1\n",
    "\t\tobj = object.__new__(cls)\n",
    "\t\tobj._value_ = value\n",
    "\t\treturn obj\n",
    "\n",
    "class Move(AutoNumber):\n",
    "\tend_turn = ()\n",
    "\thero_power = ()\n",
    "\tminion_attack = ()\n",
    "\thero_attack = ()\n",
    "\tplay_card = ()\n",
    "\tmulligan = ()\n",
    "\tchoice = ()"
   ]
  },
  {
   "cell_type": "markdown",
   "id": "2cc387cb",
   "metadata": {},
   "source": [
    "## Modify hearthstone environment from nested to unnested"
   ]
  },
  {
   "cell_type": "code",
   "execution_count": 241,
   "id": "b5072209",
   "metadata": {},
   "outputs": [],
   "source": [
    "from gymnasium import spaces\n",
    "modify={\"myhand0effects\": spaces.Dict({\n",
    "                \"windfury\": spaces.Discrete(2),\n",
    "                \"divineshield\": spaces.Discrete(2),\n",
    "                \"charge\": spaces.Discrete(2),\n",
    "                \"taunt\": spaces.Discrete(2),\n",
    "                \"stealth\": spaces.Discrete(2),\n",
    "                \"poisonous\": spaces.Discrete(2),\n",
    "                \"cantbetargeted\": spaces.Discrete(2),\n",
    "                \"aura\": spaces.Discrete(2),\n",
    "                \"deathrattle\": spaces.Discrete(2),\n",
    "                \"frozen\": spaces.Discrete(2),\n",
    "                \"silenced\": spaces.Discrete(2)}\n",
    "            ),\n",
    "            \"myhand1effects\": spaces.Dict({\n",
    "                \"windfury\": spaces.Discrete(2),\n",
    "                \"divineshield\": spaces.Discrete(2),\n",
    "                \"charge\": spaces.Discrete(2),\n",
    "                \"taunt\": spaces.Discrete(2),\n",
    "                \"stealth\": spaces.Discrete(2),\n",
    "                \"poisonous\": spaces.Discrete(2),\n",
    "                \"cantbetargeted\": spaces.Discrete(2),\n",
    "                \"aura\": spaces.Discrete(2),\n",
    "                \"deathrattle\": spaces.Discrete(2),\n",
    "                \"frozen\": spaces.Discrete(2),\n",
    "                \"silenced\": spaces.Discrete(2)}\n",
    "            ),\n",
    "            \"myhand2effects\": spaces.Dict({\n",
    "                \"windfury\": spaces.Discrete(2),\n",
    "                \"divineshield\": spaces.Discrete(2),\n",
    "                \"charge\": spaces.Discrete(2),\n",
    "                \"taunt\": spaces.Discrete(2),\n",
    "                \"stealth\": spaces.Discrete(2),\n",
    "                \"poisonous\": spaces.Discrete(2),\n",
    "                \"cantbetargeted\": spaces.Discrete(2),\n",
    "                \"aura\": spaces.Discrete(2),\n",
    "                \"deathrattle\": spaces.Discrete(2),\n",
    "                \"frozen\": spaces.Discrete(2),\n",
    "                \"silenced\": spaces.Discrete(2)}\n",
    "            ),\n",
    "            \"myhand3effects\": spaces.Dict({\n",
    "                \"windfury\": spaces.Discrete(2),\n",
    "                \"divineshield\": spaces.Discrete(2),\n",
    "                \"charge\": spaces.Discrete(2),\n",
    "                \"taunt\": spaces.Discrete(2),\n",
    "                \"stealth\": spaces.Discrete(2),\n",
    "                \"poisonous\": spaces.Discrete(2),\n",
    "                \"cantbetargeted\": spaces.Discrete(2),\n",
    "                \"aura\": spaces.Discrete(2),\n",
    "                \"deathrattle\": spaces.Discrete(2),\n",
    "                \"frozen\": spaces.Discrete(2),\n",
    "                \"silenced\": spaces.Discrete(2)}\n",
    "            ),\n",
    "            \"myhand4effects\": spaces.Dict({\n",
    "                \"windfury\": spaces.Discrete(2),\n",
    "                \"divineshield\": spaces.Discrete(2),\n",
    "                \"charge\": spaces.Discrete(2),\n",
    "                \"taunt\": spaces.Discrete(2),\n",
    "                \"stealth\": spaces.Discrete(2),\n",
    "                \"poisonous\": spaces.Discrete(2),\n",
    "                \"cantbetargeted\": spaces.Discrete(2),\n",
    "                \"aura\": spaces.Discrete(2),\n",
    "                \"deathrattle\": spaces.Discrete(2),\n",
    "                \"frozen\": spaces.Discrete(2),\n",
    "                \"silenced\": spaces.Discrete(2)}\n",
    "            ),\n",
    "            \"myhand5effects\": spaces.Dict({\n",
    "                \"windfury\": spaces.Discrete(2),\n",
    "                \"divineshield\": spaces.Discrete(2),\n",
    "                \"charge\": spaces.Discrete(2),\n",
    "                \"taunt\": spaces.Discrete(2),\n",
    "                \"stealth\": spaces.Discrete(2),\n",
    "                \"poisonous\": spaces.Discrete(2),\n",
    "                \"cantbetargeted\": spaces.Discrete(2),\n",
    "                \"aura\": spaces.Discrete(2),\n",
    "                \"deathrattle\": spaces.Discrete(2),\n",
    "                \"frozen\": spaces.Discrete(2),\n",
    "                \"silenced\": spaces.Discrete(2)}\n",
    "            ),\n",
    "            \"myhand6effects\": spaces.Dict({\n",
    "                \"windfury\": spaces.Discrete(2),\n",
    "                \"divineshield\": spaces.Discrete(2),\n",
    "                \"charge\": spaces.Discrete(2),\n",
    "                \"taunt\": spaces.Discrete(2),\n",
    "                \"stealth\": spaces.Discrete(2),\n",
    "                \"poisonous\": spaces.Discrete(2),\n",
    "                \"cantbetargeted\": spaces.Discrete(2),\n",
    "                \"aura\": spaces.Discrete(2),\n",
    "                \"deathrattle\": spaces.Discrete(2),\n",
    "                \"frozen\": spaces.Discrete(2),\n",
    "                \"silenced\": spaces.Discrete(2)}\n",
    "            ),\n",
    "            \"myhand7effects\": spaces.Dict({\n",
    "                \"windfury\": spaces.Discrete(2),\n",
    "                \"divineshield\": spaces.Discrete(2),\n",
    "                \"charge\": spaces.Discrete(2),\n",
    "                \"taunt\": spaces.Discrete(2),\n",
    "                \"stealth\": spaces.Discrete(2),\n",
    "                \"poisonous\": spaces.Discrete(2),\n",
    "                \"cantbetargeted\": spaces.Discrete(2),\n",
    "                \"aura\": spaces.Discrete(2),\n",
    "                \"deathrattle\": spaces.Discrete(2),\n",
    "                \"frozen\": spaces.Discrete(2),\n",
    "                \"silenced\": spaces.Discrete(2)}\n",
    "            ),\n",
    "            \"myhand8effects\": spaces.Dict({\n",
    "                \"windfury\": spaces.Discrete(2),\n",
    "                \"divineshield\": spaces.Discrete(2),\n",
    "                \"charge\": spaces.Discrete(2),\n",
    "                \"taunt\": spaces.Discrete(2),\n",
    "                \"stealth\": spaces.Discrete(2),\n",
    "                \"poisonous\": spaces.Discrete(2),\n",
    "                \"cantbetargeted\": spaces.Discrete(2),\n",
    "                \"aura\": spaces.Discrete(2),\n",
    "                \"deathrattle\": spaces.Discrete(2),\n",
    "                \"frozen\": spaces.Discrete(2),\n",
    "                \"silenced\": spaces.Discrete(2)}\n",
    "            ),\n",
    "            \"myhand9effects\": spaces.Dict({\n",
    "                \"windfury\": spaces.Discrete(2),\n",
    "                \"divineshield\": spaces.Discrete(2),\n",
    "                \"charge\": spaces.Discrete(2),\n",
    "                \"taunt\": spaces.Discrete(2),\n",
    "                \"stealth\": spaces.Discrete(2),\n",
    "                \"poisonous\": spaces.Discrete(2),\n",
    "                \"cantbetargeted\": spaces.Discrete(2),\n",
    "                \"aura\": spaces.Discrete(2),\n",
    "                \"deathrattle\": spaces.Discrete(2),\n",
    "                \"frozen\": spaces.Discrete(2),\n",
    "                \"silenced\": spaces.Discrete(2)}\n",
    "            ),\n",
    "            \"myfield0effects\": spaces.Dict({\n",
    "                \"windfury\": spaces.Discrete(2),\n",
    "                \"divineshield\": spaces.Discrete(2),\n",
    "                \"charge\": spaces.Discrete(2),\n",
    "                \"taunt\": spaces.Discrete(2),\n",
    "                \"stealth\": spaces.Discrete(2),\n",
    "                \"poisonous\": spaces.Discrete(2),\n",
    "                \"cantbetargeted\": spaces.Discrete(2),\n",
    "                \"aura\": spaces.Discrete(2),\n",
    "                \"deathrattle\": spaces.Discrete(2),\n",
    "                \"frozen\": spaces.Discrete(2),\n",
    "                \"silenced\": spaces.Discrete(2)}\n",
    "            ),\n",
    "            \"myfield1effects\": spaces.Dict({\n",
    "                \"windfury\": spaces.Discrete(2),\n",
    "                \"divineshield\": spaces.Discrete(2),\n",
    "                \"charge\": spaces.Discrete(2),\n",
    "                \"taunt\": spaces.Discrete(2),\n",
    "                \"stealth\": spaces.Discrete(2),\n",
    "                \"poisonous\": spaces.Discrete(2),\n",
    "                \"cantbetargeted\": spaces.Discrete(2),\n",
    "                \"aura\": spaces.Discrete(2),\n",
    "                \"deathrattle\": spaces.Discrete(2),\n",
    "                \"frozen\": spaces.Discrete(2),\n",
    "                \"silenced\": spaces.Discrete(2)}\n",
    "            ),\n",
    "            \"myfield2effects\": spaces.Dict({\n",
    "                \"windfury\": spaces.Discrete(2),\n",
    "                \"divineshield\": spaces.Discrete(2),\n",
    "                \"charge\": spaces.Discrete(2),\n",
    "                \"taunt\": spaces.Discrete(2),\n",
    "                \"stealth\": spaces.Discrete(2),\n",
    "                \"poisonous\": spaces.Discrete(2),\n",
    "                \"cantbetargeted\": spaces.Discrete(2),\n",
    "                \"aura\": spaces.Discrete(2),\n",
    "                \"deathrattle\": spaces.Discrete(2),\n",
    "                \"frozen\": spaces.Discrete(2),\n",
    "                \"silenced\": spaces.Discrete(2)}\n",
    "            ),\n",
    "            \"myfield3effects\": spaces.Dict({\n",
    "                \"windfury\": spaces.Discrete(2),\n",
    "                \"divineshield\": spaces.Discrete(2),\n",
    "                \"charge\": spaces.Discrete(2),\n",
    "                \"taunt\": spaces.Discrete(2),\n",
    "                \"stealth\": spaces.Discrete(2),\n",
    "                \"poisonous\": spaces.Discrete(2),\n",
    "                \"cantbetargeted\": spaces.Discrete(2),\n",
    "                \"aura\": spaces.Discrete(2),\n",
    "                \"deathrattle\": spaces.Discrete(2),\n",
    "                \"frozen\": spaces.Discrete(2),\n",
    "                \"silenced\": spaces.Discrete(2)}\n",
    "            ),\n",
    "            \"myfield4effects\": spaces.Dict({\n",
    "                \"windfury\": spaces.Discrete(2),\n",
    "                \"divineshield\": spaces.Discrete(2),\n",
    "                \"charge\": spaces.Discrete(2),\n",
    "                \"taunt\": spaces.Discrete(2),\n",
    "                \"stealth\": spaces.Discrete(2),\n",
    "                \"poisonous\": spaces.Discrete(2),\n",
    "                \"cantbetargeted\": spaces.Discrete(2),\n",
    "                \"aura\": spaces.Discrete(2),\n",
    "                \"deathrattle\": spaces.Discrete(2),\n",
    "                \"frozen\": spaces.Discrete(2),\n",
    "                \"silenced\": spaces.Discrete(2)}\n",
    "            ),\n",
    "            \"myfield5effects\": spaces.Dict({\n",
    "                \"windfury\": spaces.Discrete(2),\n",
    "                \"divineshield\": spaces.Discrete(2),\n",
    "                \"charge\": spaces.Discrete(2),\n",
    "                \"taunt\": spaces.Discrete(2),\n",
    "                \"stealth\": spaces.Discrete(2),\n",
    "                \"poisonous\": spaces.Discrete(2),\n",
    "                \"cantbetargeted\": spaces.Discrete(2),\n",
    "                \"aura\": spaces.Discrete(2),\n",
    "                \"deathrattle\": spaces.Discrete(2),\n",
    "                \"frozen\": spaces.Discrete(2),\n",
    "                \"silenced\": spaces.Discrete(2)}\n",
    "            ),\n",
    "            \"myfield6effects\": spaces.Dict({\n",
    "                \"windfury\": spaces.Discrete(2),\n",
    "                \"divineshield\": spaces.Discrete(2),\n",
    "                \"charge\": spaces.Discrete(2),\n",
    "                \"taunt\": spaces.Discrete(2),\n",
    "                \"stealth\": spaces.Discrete(2),\n",
    "                \"poisonous\": spaces.Discrete(2),\n",
    "                \"cantbetargeted\": spaces.Discrete(2),\n",
    "                \"aura\": spaces.Discrete(2),\n",
    "                \"deathrattle\": spaces.Discrete(2),\n",
    "                \"frozen\": spaces.Discrete(2),\n",
    "                \"silenced\": spaces.Discrete(2)}\n",
    "            ),\n",
    "            \"oppfield0effects\": spaces.Dict({\n",
    "                \"windfury\": spaces.Discrete(2),\n",
    "                \"divineshield\": spaces.Discrete(2),\n",
    "                \"charge\": spaces.Discrete(2),\n",
    "                \"taunt\": spaces.Discrete(2),\n",
    "                \"stealth\": spaces.Discrete(2),\n",
    "                \"poisonous\": spaces.Discrete(2),\n",
    "                \"cantbetargeted\": spaces.Discrete(2),\n",
    "                \"aura\": spaces.Discrete(2),\n",
    "                \"deathrattle\": spaces.Discrete(2),\n",
    "                \"frozen\": spaces.Discrete(2),\n",
    "                \"silenced\": spaces.Discrete(2)}\n",
    "            ),\n",
    "            \"oppfield1effects\": spaces.Dict({\n",
    "                \"windfury\": spaces.Discrete(2),\n",
    "                \"divineshield\": spaces.Discrete(2),\n",
    "                \"charge\": spaces.Discrete(2),\n",
    "                \"taunt\": spaces.Discrete(2),\n",
    "                \"stealth\": spaces.Discrete(2),\n",
    "                \"poisonous\": spaces.Discrete(2),\n",
    "                \"cantbetargeted\": spaces.Discrete(2),\n",
    "                \"aura\": spaces.Discrete(2),\n",
    "                \"deathrattle\": spaces.Discrete(2),\n",
    "                \"frozen\": spaces.Discrete(2),\n",
    "                \"silenced\": spaces.Discrete(2)}\n",
    "            ),\n",
    "            \"oppfield2effects\": spaces.Dict({\n",
    "                \"windfury\": spaces.Discrete(2),\n",
    "                \"divineshield\": spaces.Discrete(2),\n",
    "                \"charge\": spaces.Discrete(2),\n",
    "                \"taunt\": spaces.Discrete(2),\n",
    "                \"stealth\": spaces.Discrete(2),\n",
    "                \"poisonous\": spaces.Discrete(2),\n",
    "                \"cantbetargeted\": spaces.Discrete(2),\n",
    "                \"aura\": spaces.Discrete(2),\n",
    "                \"deathrattle\": spaces.Discrete(2),\n",
    "                \"frozen\": spaces.Discrete(2),\n",
    "                \"silenced\": spaces.Discrete(2)}\n",
    "            ),\n",
    "            \"oppfield3effects\": spaces.Dict({\n",
    "                \"windfury\": spaces.Discrete(2),\n",
    "                \"divineshield\": spaces.Discrete(2),\n",
    "                \"charge\": spaces.Discrete(2),\n",
    "                \"taunt\": spaces.Discrete(2),\n",
    "                \"stealth\": spaces.Discrete(2),\n",
    "                \"poisonous\": spaces.Discrete(2),\n",
    "                \"cantbetargeted\": spaces.Discrete(2),\n",
    "                \"aura\": spaces.Discrete(2),\n",
    "                \"deathrattle\": spaces.Discrete(2),\n",
    "                \"frozen\": spaces.Discrete(2),\n",
    "                \"silenced\": spaces.Discrete(2)}\n",
    "            ),\n",
    "            \"oppfield4effects\": spaces.Dict({\n",
    "                \"windfury\": spaces.Discrete(2),\n",
    "                \"divineshield\": spaces.Discrete(2),\n",
    "                \"charge\": spaces.Discrete(2),\n",
    "                \"taunt\": spaces.Discrete(2),\n",
    "                \"stealth\": spaces.Discrete(2),\n",
    "                \"poisonous\": spaces.Discrete(2),\n",
    "                \"cantbetargeted\": spaces.Discrete(2),\n",
    "                \"aura\": spaces.Discrete(2),\n",
    "                \"deathrattle\": spaces.Discrete(2),\n",
    "                \"frozen\": spaces.Discrete(2),\n",
    "                \"silenced\": spaces.Discrete(2)}\n",
    "            ),\n",
    "            \"oppfield5effects\": spaces.Dict({\n",
    "                \"windfury\": spaces.Discrete(2),\n",
    "                \"divineshield\": spaces.Discrete(2),\n",
    "                \"charge\": spaces.Discrete(2),\n",
    "                \"taunt\": spaces.Discrete(2),\n",
    "                \"stealth\": spaces.Discrete(2),\n",
    "                \"poisonous\": spaces.Discrete(2),\n",
    "                \"cantbetargeted\": spaces.Discrete(2),\n",
    "                \"aura\": spaces.Discrete(2),\n",
    "                \"deathrattle\": spaces.Discrete(2),\n",
    "                \"frozen\": spaces.Discrete(2),\n",
    "                \"silenced\": spaces.Discrete(2)}\n",
    "            ),\n",
    "            \"oppfield6effects\": spaces.Dict({\n",
    "                \"windfury\": spaces.Discrete(2),\n",
    "                \"divineshield\": spaces.Discrete(2),\n",
    "                \"charge\": spaces.Discrete(2),\n",
    "                \"taunt\": spaces.Discrete(2),\n",
    "                \"stealth\": spaces.Discrete(2),\n",
    "                \"poisonous\": spaces.Discrete(2),\n",
    "                \"cantbetargeted\": spaces.Discrete(2),\n",
    "                \"aura\": spaces.Discrete(2),\n",
    "                \"deathrattle\": spaces.Discrete(2),\n",
    "                \"frozen\": spaces.Discrete(2),\n",
    "                \"silenced\": spaces.Discrete(2)}\n",
    "            )}"
   ]
  },
  {
   "cell_type": "code",
   "execution_count": 242,
   "id": "d6503367",
   "metadata": {},
   "outputs": [
    {
     "data": {
      "text/plain": [
       "KeysView(Dict('aura': Discrete(2), 'cantbetargeted': Discrete(2), 'charge': Discrete(2), 'deathrattle': Discrete(2), 'divineshield': Discrete(2), 'frozen': Discrete(2), 'poisonous': Discrete(2), 'silenced': Discrete(2), 'stealth': Discrete(2), 'taunt': Discrete(2), 'windfury': Discrete(2)))"
      ]
     },
     "execution_count": 242,
     "metadata": {},
     "output_type": "execute_result"
    }
   ],
   "source": [
    "modify[\"myhand0effects\"].keys()"
   ]
  },
  {
   "cell_type": "code",
   "execution_count": 243,
   "id": "0ab918a6",
   "metadata": {},
   "outputs": [
    {
     "name": "stdout",
     "output_type": "stream",
     "text": [
      "\"myhand0effects_aura\": spaces.Discrete(2),\n",
      "\"myhand0effects_cantbetargeted\": spaces.Discrete(2),\n",
      "\"myhand0effects_charge\": spaces.Discrete(2),\n",
      "\"myhand0effects_deathrattle\": spaces.Discrete(2),\n",
      "\"myhand0effects_divineshield\": spaces.Discrete(2),\n",
      "\"myhand0effects_frozen\": spaces.Discrete(2),\n",
      "\"myhand0effects_poisonous\": spaces.Discrete(2),\n",
      "\"myhand0effects_silenced\": spaces.Discrete(2),\n",
      "\"myhand0effects_stealth\": spaces.Discrete(2),\n",
      "\"myhand0effects_taunt\": spaces.Discrete(2),\n",
      "\"myhand0effects_windfury\": spaces.Discrete(2),\n",
      "\"myhand1effects_aura\": spaces.Discrete(2),\n",
      "\"myhand1effects_cantbetargeted\": spaces.Discrete(2),\n",
      "\"myhand1effects_charge\": spaces.Discrete(2),\n",
      "\"myhand1effects_deathrattle\": spaces.Discrete(2),\n",
      "\"myhand1effects_divineshield\": spaces.Discrete(2),\n",
      "\"myhand1effects_frozen\": spaces.Discrete(2),\n",
      "\"myhand1effects_poisonous\": spaces.Discrete(2),\n",
      "\"myhand1effects_silenced\": spaces.Discrete(2),\n",
      "\"myhand1effects_stealth\": spaces.Discrete(2),\n",
      "\"myhand1effects_taunt\": spaces.Discrete(2),\n",
      "\"myhand1effects_windfury\": spaces.Discrete(2),\n",
      "\"myhand2effects_aura\": spaces.Discrete(2),\n",
      "\"myhand2effects_cantbetargeted\": spaces.Discrete(2),\n",
      "\"myhand2effects_charge\": spaces.Discrete(2),\n",
      "\"myhand2effects_deathrattle\": spaces.Discrete(2),\n",
      "\"myhand2effects_divineshield\": spaces.Discrete(2),\n",
      "\"myhand2effects_frozen\": spaces.Discrete(2),\n",
      "\"myhand2effects_poisonous\": spaces.Discrete(2),\n",
      "\"myhand2effects_silenced\": spaces.Discrete(2),\n",
      "\"myhand2effects_stealth\": spaces.Discrete(2),\n",
      "\"myhand2effects_taunt\": spaces.Discrete(2),\n",
      "\"myhand2effects_windfury\": spaces.Discrete(2),\n",
      "\"myhand3effects_aura\": spaces.Discrete(2),\n",
      "\"myhand3effects_cantbetargeted\": spaces.Discrete(2),\n",
      "\"myhand3effects_charge\": spaces.Discrete(2),\n",
      "\"myhand3effects_deathrattle\": spaces.Discrete(2),\n",
      "\"myhand3effects_divineshield\": spaces.Discrete(2),\n",
      "\"myhand3effects_frozen\": spaces.Discrete(2),\n",
      "\"myhand3effects_poisonous\": spaces.Discrete(2),\n",
      "\"myhand3effects_silenced\": spaces.Discrete(2),\n",
      "\"myhand3effects_stealth\": spaces.Discrete(2),\n",
      "\"myhand3effects_taunt\": spaces.Discrete(2),\n",
      "\"myhand3effects_windfury\": spaces.Discrete(2),\n",
      "\"myhand4effects_aura\": spaces.Discrete(2),\n",
      "\"myhand4effects_cantbetargeted\": spaces.Discrete(2),\n",
      "\"myhand4effects_charge\": spaces.Discrete(2),\n",
      "\"myhand4effects_deathrattle\": spaces.Discrete(2),\n",
      "\"myhand4effects_divineshield\": spaces.Discrete(2),\n",
      "\"myhand4effects_frozen\": spaces.Discrete(2),\n",
      "\"myhand4effects_poisonous\": spaces.Discrete(2),\n",
      "\"myhand4effects_silenced\": spaces.Discrete(2),\n",
      "\"myhand4effects_stealth\": spaces.Discrete(2),\n",
      "\"myhand4effects_taunt\": spaces.Discrete(2),\n",
      "\"myhand4effects_windfury\": spaces.Discrete(2),\n",
      "\"myhand5effects_aura\": spaces.Discrete(2),\n",
      "\"myhand5effects_cantbetargeted\": spaces.Discrete(2),\n",
      "\"myhand5effects_charge\": spaces.Discrete(2),\n",
      "\"myhand5effects_deathrattle\": spaces.Discrete(2),\n",
      "\"myhand5effects_divineshield\": spaces.Discrete(2),\n",
      "\"myhand5effects_frozen\": spaces.Discrete(2),\n",
      "\"myhand5effects_poisonous\": spaces.Discrete(2),\n",
      "\"myhand5effects_silenced\": spaces.Discrete(2),\n",
      "\"myhand5effects_stealth\": spaces.Discrete(2),\n",
      "\"myhand5effects_taunt\": spaces.Discrete(2),\n",
      "\"myhand5effects_windfury\": spaces.Discrete(2),\n",
      "\"myhand6effects_aura\": spaces.Discrete(2),\n",
      "\"myhand6effects_cantbetargeted\": spaces.Discrete(2),\n",
      "\"myhand6effects_charge\": spaces.Discrete(2),\n",
      "\"myhand6effects_deathrattle\": spaces.Discrete(2),\n",
      "\"myhand6effects_divineshield\": spaces.Discrete(2),\n",
      "\"myhand6effects_frozen\": spaces.Discrete(2),\n",
      "\"myhand6effects_poisonous\": spaces.Discrete(2),\n",
      "\"myhand6effects_silenced\": spaces.Discrete(2),\n",
      "\"myhand6effects_stealth\": spaces.Discrete(2),\n",
      "\"myhand6effects_taunt\": spaces.Discrete(2),\n",
      "\"myhand6effects_windfury\": spaces.Discrete(2),\n",
      "\"myhand7effects_aura\": spaces.Discrete(2),\n",
      "\"myhand7effects_cantbetargeted\": spaces.Discrete(2),\n",
      "\"myhand7effects_charge\": spaces.Discrete(2),\n",
      "\"myhand7effects_deathrattle\": spaces.Discrete(2),\n",
      "\"myhand7effects_divineshield\": spaces.Discrete(2),\n",
      "\"myhand7effects_frozen\": spaces.Discrete(2),\n",
      "\"myhand7effects_poisonous\": spaces.Discrete(2),\n",
      "\"myhand7effects_silenced\": spaces.Discrete(2),\n",
      "\"myhand7effects_stealth\": spaces.Discrete(2),\n",
      "\"myhand7effects_taunt\": spaces.Discrete(2),\n",
      "\"myhand7effects_windfury\": spaces.Discrete(2),\n",
      "\"myhand8effects_aura\": spaces.Discrete(2),\n",
      "\"myhand8effects_cantbetargeted\": spaces.Discrete(2),\n",
      "\"myhand8effects_charge\": spaces.Discrete(2),\n",
      "\"myhand8effects_deathrattle\": spaces.Discrete(2),\n",
      "\"myhand8effects_divineshield\": spaces.Discrete(2),\n",
      "\"myhand8effects_frozen\": spaces.Discrete(2),\n",
      "\"myhand8effects_poisonous\": spaces.Discrete(2),\n",
      "\"myhand8effects_silenced\": spaces.Discrete(2),\n",
      "\"myhand8effects_stealth\": spaces.Discrete(2),\n",
      "\"myhand8effects_taunt\": spaces.Discrete(2),\n",
      "\"myhand8effects_windfury\": spaces.Discrete(2),\n",
      "\"myhand9effects_aura\": spaces.Discrete(2),\n",
      "\"myhand9effects_cantbetargeted\": spaces.Discrete(2),\n",
      "\"myhand9effects_charge\": spaces.Discrete(2),\n",
      "\"myhand9effects_deathrattle\": spaces.Discrete(2),\n",
      "\"myhand9effects_divineshield\": spaces.Discrete(2),\n",
      "\"myhand9effects_frozen\": spaces.Discrete(2),\n",
      "\"myhand9effects_poisonous\": spaces.Discrete(2),\n",
      "\"myhand9effects_silenced\": spaces.Discrete(2),\n",
      "\"myhand9effects_stealth\": spaces.Discrete(2),\n",
      "\"myhand9effects_taunt\": spaces.Discrete(2),\n",
      "\"myhand9effects_windfury\": spaces.Discrete(2),\n",
      "\"myfield0effects_aura\": spaces.Discrete(2),\n",
      "\"myfield0effects_cantbetargeted\": spaces.Discrete(2),\n",
      "\"myfield0effects_charge\": spaces.Discrete(2),\n",
      "\"myfield0effects_deathrattle\": spaces.Discrete(2),\n",
      "\"myfield0effects_divineshield\": spaces.Discrete(2),\n",
      "\"myfield0effects_frozen\": spaces.Discrete(2),\n",
      "\"myfield0effects_poisonous\": spaces.Discrete(2),\n",
      "\"myfield0effects_silenced\": spaces.Discrete(2),\n",
      "\"myfield0effects_stealth\": spaces.Discrete(2),\n",
      "\"myfield0effects_taunt\": spaces.Discrete(2),\n",
      "\"myfield0effects_windfury\": spaces.Discrete(2),\n",
      "\"myfield1effects_aura\": spaces.Discrete(2),\n",
      "\"myfield1effects_cantbetargeted\": spaces.Discrete(2),\n",
      "\"myfield1effects_charge\": spaces.Discrete(2),\n",
      "\"myfield1effects_deathrattle\": spaces.Discrete(2),\n",
      "\"myfield1effects_divineshield\": spaces.Discrete(2),\n",
      "\"myfield1effects_frozen\": spaces.Discrete(2),\n",
      "\"myfield1effects_poisonous\": spaces.Discrete(2),\n",
      "\"myfield1effects_silenced\": spaces.Discrete(2),\n",
      "\"myfield1effects_stealth\": spaces.Discrete(2),\n",
      "\"myfield1effects_taunt\": spaces.Discrete(2),\n",
      "\"myfield1effects_windfury\": spaces.Discrete(2),\n",
      "\"myfield2effects_aura\": spaces.Discrete(2),\n",
      "\"myfield2effects_cantbetargeted\": spaces.Discrete(2),\n",
      "\"myfield2effects_charge\": spaces.Discrete(2),\n",
      "\"myfield2effects_deathrattle\": spaces.Discrete(2),\n",
      "\"myfield2effects_divineshield\": spaces.Discrete(2),\n",
      "\"myfield2effects_frozen\": spaces.Discrete(2),\n",
      "\"myfield2effects_poisonous\": spaces.Discrete(2),\n",
      "\"myfield2effects_silenced\": spaces.Discrete(2),\n",
      "\"myfield2effects_stealth\": spaces.Discrete(2),\n",
      "\"myfield2effects_taunt\": spaces.Discrete(2),\n",
      "\"myfield2effects_windfury\": spaces.Discrete(2),\n",
      "\"myfield3effects_aura\": spaces.Discrete(2),\n",
      "\"myfield3effects_cantbetargeted\": spaces.Discrete(2),\n",
      "\"myfield3effects_charge\": spaces.Discrete(2),\n",
      "\"myfield3effects_deathrattle\": spaces.Discrete(2),\n",
      "\"myfield3effects_divineshield\": spaces.Discrete(2),\n",
      "\"myfield3effects_frozen\": spaces.Discrete(2),\n",
      "\"myfield3effects_poisonous\": spaces.Discrete(2),\n",
      "\"myfield3effects_silenced\": spaces.Discrete(2),\n",
      "\"myfield3effects_stealth\": spaces.Discrete(2),\n",
      "\"myfield3effects_taunt\": spaces.Discrete(2),\n",
      "\"myfield3effects_windfury\": spaces.Discrete(2),\n",
      "\"myfield4effects_aura\": spaces.Discrete(2),\n",
      "\"myfield4effects_cantbetargeted\": spaces.Discrete(2),\n",
      "\"myfield4effects_charge\": spaces.Discrete(2),\n",
      "\"myfield4effects_deathrattle\": spaces.Discrete(2),\n",
      "\"myfield4effects_divineshield\": spaces.Discrete(2),\n",
      "\"myfield4effects_frozen\": spaces.Discrete(2),\n",
      "\"myfield4effects_poisonous\": spaces.Discrete(2),\n",
      "\"myfield4effects_silenced\": spaces.Discrete(2),\n",
      "\"myfield4effects_stealth\": spaces.Discrete(2),\n",
      "\"myfield4effects_taunt\": spaces.Discrete(2),\n",
      "\"myfield4effects_windfury\": spaces.Discrete(2),\n",
      "\"myfield5effects_aura\": spaces.Discrete(2),\n",
      "\"myfield5effects_cantbetargeted\": spaces.Discrete(2),\n",
      "\"myfield5effects_charge\": spaces.Discrete(2),\n",
      "\"myfield5effects_deathrattle\": spaces.Discrete(2),\n",
      "\"myfield5effects_divineshield\": spaces.Discrete(2),\n",
      "\"myfield5effects_frozen\": spaces.Discrete(2),\n",
      "\"myfield5effects_poisonous\": spaces.Discrete(2),\n",
      "\"myfield5effects_silenced\": spaces.Discrete(2),\n",
      "\"myfield5effects_stealth\": spaces.Discrete(2),\n",
      "\"myfield5effects_taunt\": spaces.Discrete(2),\n",
      "\"myfield5effects_windfury\": spaces.Discrete(2),\n",
      "\"myfield6effects_aura\": spaces.Discrete(2),\n",
      "\"myfield6effects_cantbetargeted\": spaces.Discrete(2),\n",
      "\"myfield6effects_charge\": spaces.Discrete(2),\n",
      "\"myfield6effects_deathrattle\": spaces.Discrete(2),\n",
      "\"myfield6effects_divineshield\": spaces.Discrete(2),\n",
      "\"myfield6effects_frozen\": spaces.Discrete(2),\n",
      "\"myfield6effects_poisonous\": spaces.Discrete(2),\n",
      "\"myfield6effects_silenced\": spaces.Discrete(2),\n",
      "\"myfield6effects_stealth\": spaces.Discrete(2),\n",
      "\"myfield6effects_taunt\": spaces.Discrete(2),\n",
      "\"myfield6effects_windfury\": spaces.Discrete(2),\n",
      "\"oppfield0effects_aura\": spaces.Discrete(2),\n",
      "\"oppfield0effects_cantbetargeted\": spaces.Discrete(2),\n",
      "\"oppfield0effects_charge\": spaces.Discrete(2),\n",
      "\"oppfield0effects_deathrattle\": spaces.Discrete(2),\n",
      "\"oppfield0effects_divineshield\": spaces.Discrete(2),\n",
      "\"oppfield0effects_frozen\": spaces.Discrete(2),\n",
      "\"oppfield0effects_poisonous\": spaces.Discrete(2),\n",
      "\"oppfield0effects_silenced\": spaces.Discrete(2),\n",
      "\"oppfield0effects_stealth\": spaces.Discrete(2),\n",
      "\"oppfield0effects_taunt\": spaces.Discrete(2),\n",
      "\"oppfield0effects_windfury\": spaces.Discrete(2),\n",
      "\"oppfield1effects_aura\": spaces.Discrete(2),\n",
      "\"oppfield1effects_cantbetargeted\": spaces.Discrete(2),\n",
      "\"oppfield1effects_charge\": spaces.Discrete(2),\n",
      "\"oppfield1effects_deathrattle\": spaces.Discrete(2),\n",
      "\"oppfield1effects_divineshield\": spaces.Discrete(2),\n",
      "\"oppfield1effects_frozen\": spaces.Discrete(2),\n",
      "\"oppfield1effects_poisonous\": spaces.Discrete(2),\n",
      "\"oppfield1effects_silenced\": spaces.Discrete(2),\n",
      "\"oppfield1effects_stealth\": spaces.Discrete(2),\n",
      "\"oppfield1effects_taunt\": spaces.Discrete(2),\n",
      "\"oppfield1effects_windfury\": spaces.Discrete(2),\n",
      "\"oppfield2effects_aura\": spaces.Discrete(2),\n",
      "\"oppfield2effects_cantbetargeted\": spaces.Discrete(2),\n",
      "\"oppfield2effects_charge\": spaces.Discrete(2),\n",
      "\"oppfield2effects_deathrattle\": spaces.Discrete(2),\n",
      "\"oppfield2effects_divineshield\": spaces.Discrete(2),\n",
      "\"oppfield2effects_frozen\": spaces.Discrete(2),\n",
      "\"oppfield2effects_poisonous\": spaces.Discrete(2),\n",
      "\"oppfield2effects_silenced\": spaces.Discrete(2),\n",
      "\"oppfield2effects_stealth\": spaces.Discrete(2),\n",
      "\"oppfield2effects_taunt\": spaces.Discrete(2),\n",
      "\"oppfield2effects_windfury\": spaces.Discrete(2),\n",
      "\"oppfield3effects_aura\": spaces.Discrete(2),\n",
      "\"oppfield3effects_cantbetargeted\": spaces.Discrete(2),\n",
      "\"oppfield3effects_charge\": spaces.Discrete(2),\n",
      "\"oppfield3effects_deathrattle\": spaces.Discrete(2),\n",
      "\"oppfield3effects_divineshield\": spaces.Discrete(2),\n",
      "\"oppfield3effects_frozen\": spaces.Discrete(2),\n",
      "\"oppfield3effects_poisonous\": spaces.Discrete(2),\n",
      "\"oppfield3effects_silenced\": spaces.Discrete(2),\n",
      "\"oppfield3effects_stealth\": spaces.Discrete(2),\n",
      "\"oppfield3effects_taunt\": spaces.Discrete(2),\n",
      "\"oppfield3effects_windfury\": spaces.Discrete(2),\n",
      "\"oppfield4effects_aura\": spaces.Discrete(2),\n",
      "\"oppfield4effects_cantbetargeted\": spaces.Discrete(2),\n",
      "\"oppfield4effects_charge\": spaces.Discrete(2),\n",
      "\"oppfield4effects_deathrattle\": spaces.Discrete(2),\n",
      "\"oppfield4effects_divineshield\": spaces.Discrete(2),\n",
      "\"oppfield4effects_frozen\": spaces.Discrete(2),\n",
      "\"oppfield4effects_poisonous\": spaces.Discrete(2),\n",
      "\"oppfield4effects_silenced\": spaces.Discrete(2),\n",
      "\"oppfield4effects_stealth\": spaces.Discrete(2),\n",
      "\"oppfield4effects_taunt\": spaces.Discrete(2),\n",
      "\"oppfield4effects_windfury\": spaces.Discrete(2),\n",
      "\"oppfield5effects_aura\": spaces.Discrete(2),\n",
      "\"oppfield5effects_cantbetargeted\": spaces.Discrete(2),\n",
      "\"oppfield5effects_charge\": spaces.Discrete(2),\n",
      "\"oppfield5effects_deathrattle\": spaces.Discrete(2),\n",
      "\"oppfield5effects_divineshield\": spaces.Discrete(2),\n",
      "\"oppfield5effects_frozen\": spaces.Discrete(2),\n",
      "\"oppfield5effects_poisonous\": spaces.Discrete(2),\n",
      "\"oppfield5effects_silenced\": spaces.Discrete(2),\n",
      "\"oppfield5effects_stealth\": spaces.Discrete(2),\n",
      "\"oppfield5effects_taunt\": spaces.Discrete(2),\n",
      "\"oppfield5effects_windfury\": spaces.Discrete(2),\n",
      "\"oppfield6effects_aura\": spaces.Discrete(2),\n",
      "\"oppfield6effects_cantbetargeted\": spaces.Discrete(2),\n",
      "\"oppfield6effects_charge\": spaces.Discrete(2),\n",
      "\"oppfield6effects_deathrattle\": spaces.Discrete(2),\n",
      "\"oppfield6effects_divineshield\": spaces.Discrete(2),\n",
      "\"oppfield6effects_frozen\": spaces.Discrete(2),\n",
      "\"oppfield6effects_poisonous\": spaces.Discrete(2),\n",
      "\"oppfield6effects_silenced\": spaces.Discrete(2),\n",
      "\"oppfield6effects_stealth\": spaces.Discrete(2),\n",
      "\"oppfield6effects_taunt\": spaces.Discrete(2),\n",
      "\"oppfield6effects_windfury\": spaces.Discrete(2),\n"
     ]
    }
   ],
   "source": [
    "for k,v in modify.items():\n",
    "    for kk,vv in v.items():\n",
    "        print('\"'+k+\"_\"+kk+'\": spaces.Discrete(2),')"
   ]
  },
  {
   "cell_type": "markdown",
   "id": "d60b62d1",
   "metadata": {},
   "source": [
    "### Modify hearthstone environment from nested to unnested\n",
    "\n",
    "Y también modificado para añadir la condición de no buscar ciertos atributos cuando la carta es de tipo SPELL"
   ]
  },
  {
   "cell_type": "code",
   "execution_count": 256,
   "id": "afd16233",
   "metadata": {},
   "outputs": [],
   "source": [
    "code=\"\"\"\"\"myhand0effects_windfury\": 1 if 0 < len(p1.hand) and p1.hand[0].windfury else 0,\n",
    "\"myhand0effects_divineshield\": 1 if 0 < len(p1.hand) and p1.hand[0].divine_shield else 0,\n",
    "\"myhand0effects_charge\": 1 if 0 < len(p1.hand) and p1.hand[0].charge else 0,\n",
    "\"myhand0effects_taunt\": 1 if 0 < len(p1.hand) and p1.hand[0].taunt else 0,\n",
    "\"myhand0effects_stealth\": 1 if 0 < len(p1.hand) and p1.hand[0].stealthed else 0,\n",
    "\"myhand0effects_poisonous\": 1 if 0 < len(p1.hand) and p1.hand[0].poisonous else 0,\n",
    "\"myhand0effects_cantbetargeted\": 1 if 0 < len(p1.hand) and (p1.hand[0].cant_be_targeted_by_abilities or p1.hand[0].cant_be_targeted_by_hero_powers) else 0,\n",
    "\"myhand0effects_aura\": 1 if 0 < len(p1.hand) and p1.hand[0].aura else 0,\n",
    "\"myhand0effects_deathrattle\": 1 if 0 < len(p1.hand) and p1.hand[0].has_deathrattle else 0,\n",
    "\"myhand0effects_frozen\": 1 if 0 < len(p1.hand) and p1.hand[0].frozen else 0,\n",
    "\"myhand0effects_silenced\": 1 if 0 < len(p1.hand) and p1.hand[0].silenced else 0,\n",
    "\"myhand1effects_windfury\": 1 if 1 < len(p1.hand) and p1.hand[1].windfury else 0,\n",
    "\"myhand1effects_divineshield\": 1 if 1 < len(p1.hand) and p1.hand[1].divine_shield else 0,\n",
    "\"myhand1effects_charge\": 1 if 1 < len(p1.hand) and p1.hand[1].charge else 0,\n",
    "\"myhand1effects_taunt\": 1 if 1 < len(p1.hand) and p1.hand[1].taunt else 0,\n",
    "\"myhand1effects_stealth\": 1 if 1 < len(p1.hand) and p1.hand[1].stealthed else 0,\n",
    "\"myhand1effects_poisonous\": 1 if 1 < len(p1.hand) and p1.hand[1].poisonous else 0,\n",
    "\"myhand1effects_cantbetargeted\": 1 if 1 < len(p1.hand) and (p1.hand[1].cant_be_targeted_by_abilities or p1.hand[1].cant_be_targeted_by_hero_powers) else 0,\n",
    "\"myhand1effects_aura\": 1 if 1 < len(p1.hand) and p1.hand[1].aura else 0,\n",
    "\"myhand1effects_deathrattle\": 1 if 1 < len(p1.hand) and p1.hand[1].has_deathrattle else 0,\n",
    "\"myhand1effects_frozen\": 1 if 1 < len(p1.hand) and p1.hand[1].frozen else 0,\n",
    "\"myhand1effects_silenced\": 1 if 1 < len(p1.hand) and p1.hand[1].silenced else 0,\n",
    "\"myhand2effects_windfury\": 1 if 2 < len(p1.hand) and p1.hand[2].windfury else 0,\n",
    "\"myhand2effects_divineshield\": 1 if 2 < len(p1.hand) and p1.hand[2].divine_shield else 0,\n",
    "\"myhand2effects_charge\": 1 if 2 < len(p1.hand) and p1.hand[2].charge else 0,\n",
    "\"myhand2effects_taunt\": 1 if 2 < len(p1.hand) and p1.hand[2].taunt else 0,\n",
    "\"myhand2effects_stealth\": 1 if 2 < len(p1.hand) and p1.hand[2].stealthed else 0,\n",
    "\"myhand2effects_poisonous\": 1 if 2 < len(p1.hand) and p1.hand[2].poisonous else 0,\n",
    "\"myhand2effects_cantbetargeted\": 1 if 2 < len(p1.hand) and (p1.hand[2].cant_be_targeted_by_abilities or p1.hand[2].cant_be_targeted_by_hero_powers) else 0,\n",
    "\"myhand2effects_aura\": 1 if 2 < len(p1.hand) and p1.hand[2].aura else 0,\n",
    "\"myhand2effects_deathrattle\": 1 if 2 < len(p1.hand) and p1.hand[2].has_deathrattle else 0,\n",
    "\"myhand2effects_frozen\": 1 if 2 < len(p1.hand) and p1.hand[2].frozen else 0,\n",
    "\"myhand2effects_silenced\": 1 if 2 < len(p1.hand) and p1.hand[2].silenced else 0,\n",
    "\"myhand3effects_windfury\": 1 if 3 < len(p1.hand) and p1.hand[3].windfury else 0,\n",
    "\"myhand3effects_divineshield\": 1 if 3 < len(p1.hand) and p1.hand[3].divine_shield else 0,\n",
    "\"myhand3effects_charge\": 1 if 3 < len(p1.hand) and p1.hand[3].charge else 0,\n",
    "\"myhand3effects_taunt\": 1 if 3 < len(p1.hand) and p1.hand[3].taunt else 0,\n",
    "\"myhand3effects_stealth\": 1 if 3 < len(p1.hand) and p1.hand[3].stealthed else 0,\n",
    "\"myhand3effects_poisonous\": 1 if 3 < len(p1.hand) and p1.hand[3].poisonous else 0,\n",
    "\"myhand3effects_cantbetargeted\": 1 if 3 < len(p1.hand) and (p1.hand[3].cant_be_targeted_by_abilities or p1.hand[3].cant_be_targeted_by_hero_powers) else 0,\n",
    "\"myhand3effects_aura\": 1 if 3 < len(p1.hand) and p1.hand[3].aura else 0,\n",
    "\"myhand3effects_deathrattle\": 1 if 3 < len(p1.hand) and p1.hand[3].has_deathrattle else 0,\n",
    "\"myhand3effects_frozen\": 1 if 3 < len(p1.hand) and p1.hand[3].frozen else 0,\n",
    "\"myhand3effects_silenced\": 1 if 3 < len(p1.hand) and p1.hand[3].silenced else 0,\n",
    "\"myhand4effects_windfury\": 1 if 4 < len(p1.hand) and p1.hand[4].windfury else 0,\n",
    "\"myhand4effects_divineshield\": 1 if 4 < len(p1.hand) and p1.hand[4].divine_shield else 0,\n",
    "\"myhand4effects_charge\": 1 if 4 < len(p1.hand) and p1.hand[4].charge else 0,\n",
    "\"myhand4effects_taunt\": 1 if 4 < len(p1.hand) and p1.hand[4].taunt else 0,\n",
    "\"myhand4effects_stealth\": 1 if 4 < len(p1.hand) and p1.hand[4].stealthed else 0,\n",
    "\"myhand4effects_poisonous\": 1 if 4 < len(p1.hand) and p1.hand[4].poisonous else 0,\n",
    "\"myhand4effects_cantbetargeted\": 1 if 4 < len(p1.hand) and (p1.hand[4].cant_be_targeted_by_abilities or p1.hand[4].cant_be_targeted_by_hero_powers) else 0,\n",
    "\"myhand4effects_aura\": 1 if 4 < len(p1.hand) and p1.hand[4].aura else 0,\n",
    "\"myhand4effects_deathrattle\": 1 if 4 < len(p1.hand) and p1.hand[4].has_deathrattle else 0,\n",
    "\"myhand4effects_frozen\": 1 if 4 < len(p1.hand) and p1.hand[4].frozen else 0,\n",
    "\"myhand4effects_silenced\": 1 if 4 < len(p1.hand) and p1.hand[4].silenced else 0,\n",
    "\"myhand5effects_windfury\": 1 if 5 < len(p1.hand) and p1.hand[5].windfury else 0,\n",
    "\"myhand5effects_divineshield\": 1 if 5 < len(p1.hand) and p1.hand[5].divine_shield else 0,\n",
    "\"myhand5effects_charge\": 1 if 5 < len(p1.hand) and p1.hand[5].charge else 0,\n",
    "\"myhand5effects_taunt\": 1 if 5 < len(p1.hand) and p1.hand[5].taunt else 0,\n",
    "\"myhand5effects_stealth\": 1 if 5 < len(p1.hand) and p1.hand[5].stealthed else 0,\n",
    "\"myhand5effects_poisonous\": 1 if 5 < len(p1.hand) and p1.hand[5].poisonous else 0,\n",
    "\"myhand5effects_cantbetargeted\": 1 if 5 < len(p1.hand) and (p1.hand[5].cant_be_targeted_by_abilities or p1.hand[5].cant_be_targeted_by_hero_powers) else 0,\n",
    "\"myhand5effects_aura\": 1 if 5 < len(p1.hand) and p1.hand[5].aura else 0,\n",
    "\"myhand5effects_deathrattle\": 1 if 5 < len(p1.hand) and p1.hand[5].has_deathrattle else 0,\n",
    "\"myhand5effects_frozen\": 1 if 5 < len(p1.hand) and p1.hand[5].frozen else 0,\n",
    "\"myhand5effects_silenced\": 1 if 5 < len(p1.hand) and p1.hand[5].silenced else 0,\n",
    "\"myhand6effects_windfury\": 1 if 6 < len(p1.hand) and p1.hand[6].windfury else 0,\n",
    "\"myhand6effects_divineshield\": 1 if 6 < len(p1.hand) and p1.hand[6].divine_shield else 0,\n",
    "\"myhand6effects_charge\": 1 if 6 < len(p1.hand) and p1.hand[6].charge else 0,\n",
    "\"myhand6effects_taunt\": 1 if 6 < len(p1.hand) and p1.hand[6].taunt else 0,\n",
    "\"myhand6effects_stealth\": 1 if 6 < len(p1.hand) and p1.hand[6].stealthed else 0,\n",
    "\"myhand6effects_poisonous\": 1 if 6 < len(p1.hand) and p1.hand[6].poisonous else 0,\n",
    "\"myhand6effects_cantbetargeted\": 1 if 6 < len(p1.hand) and (p1.hand[6].cant_be_targeted_by_abilities or p1.hand[6].cant_be_targeted_by_hero_powers) else 0,\n",
    "\"myhand6effects_aura\": 1 if 6 < len(p1.hand) and p1.hand[6].aura else 0,\n",
    "\"myhand6effects_deathrattle\": 1 if 6 < len(p1.hand) and p1.hand[6].has_deathrattle else 0,\n",
    "\"myhand6effects_frozen\": 1 if 6 < len(p1.hand) and p1.hand[6].frozen else 0,\n",
    "\"myhand6effects_silenced\": 1 if 6 < len(p1.hand) and p1.hand[6].silenced else 0,\n",
    "\"myhand7effects_windfury\": 1 if 7 < len(p1.hand) and p1.hand[7].windfury else 0,\n",
    "\"myhand7effects_divineshield\": 1 if 7 < len(p1.hand) and p1.hand[7].divine_shield else 0,\n",
    "\"myhand7effects_charge\": 1 if 7 < len(p1.hand) and p1.hand[7].charge else 0,\n",
    "\"myhand7effects_taunt\": 1 if 7 < len(p1.hand) and p1.hand[7].taunt else 0,\n",
    "\"myhand7effects_stealth\": 1 if 7 < len(p1.hand) and p1.hand[7].stealthed else 0,\n",
    "\"myhand7effects_poisonous\": 1 if 7 < len(p1.hand) and p1.hand[7].poisonous else 0,\n",
    "\"myhand7effects_cantbetargeted\": 1 if 7 < len(p1.hand) and (p1.hand[7].cant_be_targeted_by_abilities or p1.hand[7].cant_be_targeted_by_hero_powers) else 0,\n",
    "\"myhand7effects_aura\": 1 if 7 < len(p1.hand) and p1.hand[7].aura else 0,\n",
    "\"myhand7effects_deathrattle\": 1 if 7 < len(p1.hand) and p1.hand[7].has_deathrattle else 0,\n",
    "\"myhand7effects_frozen\": 1 if 7 < len(p1.hand) and p1.hand[7].frozen else 0,\n",
    "\"myhand7effects_silenced\": 1 if 7 < len(p1.hand) and p1.hand[7].silenced else 0,\n",
    "\"myhand8effects_windfury\": 1 if 8 < len(p1.hand) and p1.hand[8].windfury else 0,\n",
    "\"myhand8effects_divineshield\": 1 if 8 < len(p1.hand) and p1.hand[8].divine_shield else 0,\n",
    "\"myhand8effects_charge\": 1 if 8 < len(p1.hand) and p1.hand[8].charge else 0,\n",
    "\"myhand8effects_taunt\": 1 if 8 < len(p1.hand) and p1.hand[8].taunt else 0,\n",
    "\"myhand8effects_stealth\": 1 if 8 < len(p1.hand) and p1.hand[8].stealthed else 0,\n",
    "\"myhand8effects_poisonous\": 1 if 8 < len(p1.hand) and p1.hand[8].poisonous else 0,\n",
    "\"myhand8effects_cantbetargeted\": 1 if 8 < len(p1.hand) and (p1.hand[8].cant_be_targeted_by_abilities or p1.hand[8].cant_be_targeted_by_hero_powers) else 0,\n",
    "\"myhand8effects_aura\": 1 if 8 < len(p1.hand) and p1.hand[8].aura else 0,\n",
    "\"myhand8effects_deathrattle\": 1 if 8 < len(p1.hand) and p1.hand[8].has_deathrattle else 0,\n",
    "\"myhand8effects_frozen\": 1 if 8 < len(p1.hand) and p1.hand[8].frozen else 0,\n",
    "\"myhand8effects_silenced\": 1 if 8 < len(p1.hand) and p1.hand[8].silenced else 0,\n",
    "\"myhand9effects_windfury\": 1 if 9 < len(p1.hand) and p1.hand[9].windfury else 0,\n",
    "\"myhand9effects_divineshield\": 1 if 9 < len(p1.hand) and p1.hand[9].divine_shield else 0,\n",
    "\"myhand9effects_charge\": 1 if 9 < len(p1.hand) and p1.hand[9].charge else 0,\n",
    "\"myhand9effects_taunt\": 1 if 9 < len(p1.hand) and p1.hand[9].taunt else 0,\n",
    "\"myhand9effects_stealth\": 1 if 9 < len(p1.hand) and p1.hand[9].stealthed else 0,\n",
    "\"myhand9effects_poisonous\": 1 if 9 < len(p1.hand) and p1.hand[9].poisonous else 0,\n",
    "\"myhand9effects_cantbetargeted\": 1 if 9 < len(p1.hand) and (p1.hand[9].cant_be_targeted_by_abilities or p1.hand[9].cant_be_targeted_by_hero_powers) else 0,\n",
    "\"myhand9effects_aura\": 1 if 9 < len(p1.hand) and p1.hand[9].aura else 0,\n",
    "\"myhand9effects_deathrattle\": 1 if 9 < len(p1.hand) and p1.hand[9].has_deathrattle else 0,\n",
    "\"myhand9effects_frozen\": 1 if 9 < len(p1.hand) and p1.hand[9].frozen else 0,\n",
    "\"myhand9effects_silenced\": 1 if 9 < len(p1.hand) and p1.hand[9].silenced else 0,\n",
    "\"myfield0effects_windfury\": 1 if 0 < len(p1.field) and p1.field[0].windfury else 0,\n",
    "\"myfield0effects_divineshield\": 1 if 0 < len(p1.field) and p1.field[0].divine_shield else 0,\n",
    "\"myfield0effects_charge\": 1 if 0 < len(p1.field) and p1.field[0].charge else 0,\n",
    "\"myfield0effects_taunt\": 1 if 0 < len(p1.field) and p1.field[0].taunt else 0,\n",
    "\"myfield0effects_stealth\": 1 if 0 < len(p1.field) and p1.field[0].stealthed else 0,\n",
    "\"myfield0effects_poisonous\": 1 if 0 < len(p1.field) and p1.field[0].poisonous else 0,\n",
    "\"myfield0effects_cantbetargeted\": 1 if 0 < len(p1.field) and (p1.field[0].cant_be_targeted_by_abilities or p1.field[0].cant_be_targeted_by_hero_powers) else 0,\n",
    "\"myfield0effects_aura\": 1 if 0 < len(p1.field) and p1.field[0].aura else 0,\n",
    "\"myfield0effects_deathrattle\": 1 if 0 < len(p1.field) and p1.field[0].has_deathrattle else 0,\n",
    "\"myfield0effects_frozen\": 1 if 0 < len(p1.field) and p1.field[0].frozen else 0,\n",
    "\"myfield0effects_silenced\": 1 if 0 < len(p1.field) and p1.field[0].silenced else 0,\n",
    "\"myfield1effects_windfury\": 1 if 1 < len(p1.field) and p1.field[1].windfury else 0,\n",
    "\"myfield1effects_divineshield\": 1 if 1 < len(p1.field) and p1.field[1].divine_shield else 0,\n",
    "\"myfield1effects_charge\": 1 if 1 < len(p1.field) and p1.field[1].charge else 0,\n",
    "\"myfield1effects_taunt\": 1 if 1 < len(p1.field) and p1.field[1].taunt else 0,\n",
    "\"myfield1effects_stealth\": 1 if 1 < len(p1.field) and p1.field[1].stealthed else 0,\n",
    "\"myfield1effects_poisonous\": 1 if 1 < len(p1.field) and p1.field[1].poisonous else 0,\n",
    "\"myfield1effects_cantbetargeted\": 1 if 1 < len(p1.field) and (p1.field[1].cant_be_targeted_by_abilities or p1.field[1].cant_be_targeted_by_hero_powers) else 0,\n",
    "\"myfield1effects_aura\": 1 if 1 < len(p1.field) and p1.field[1].aura else 0,\n",
    "\"myfield1effects_deathrattle\": 1 if 1 < len(p1.field) and p1.field[1].has_deathrattle else 0,\n",
    "\"myfield1effects_frozen\": 1 if 1 < len(p1.field) and p1.field[1].frozen else 0,\n",
    "\"myfield1effects_silenced\": 1 if 1 < len(p1.field) and p1.field[1].silenced else 0,\n",
    "\"myfield2effects_windfury\": 1 if 2 < len(p1.field) and p1.field[2].windfury else 0,\n",
    "\"myfield2effects_divineshield\": 1 if 2 < len(p1.field) and p1.field[2].divine_shield else 0,\n",
    "\"myfield2effects_charge\": 1 if 2 < len(p1.field) and p1.field[2].charge else 0,\n",
    "\"myfield2effects_taunt\": 1 if 2 < len(p1.field) and p1.field[2].taunt else 0,\n",
    "\"myfield2effects_stealth\": 1 if 2 < len(p1.field) and p1.field[2].stealthed else 0,\n",
    "\"myfield2effects_poisonous\": 1 if 2 < len(p1.field) and p1.field[2].poisonous else 0,\n",
    "\"myfield2effects_cantbetargeted\": 1 if 2 < len(p1.field) and (p1.field[2].cant_be_targeted_by_abilities or p1.field[2].cant_be_targeted_by_hero_powers) else 0,\n",
    "\"myfield2effects_aura\": 1 if 2 < len(p1.field) and p1.field[2].aura else 0,\n",
    "\"myfield2effects_deathrattle\": 1 if 2 < len(p1.field) and p1.field[2].has_deathrattle else 0,\n",
    "\"myfield2effects_frozen\": 1 if 2 < len(p1.field) and p1.field[2].frozen else 0,\n",
    "\"myfield2effects_silenced\": 1 if 2 < len(p1.field) and p1.field[2].silenced else 0,\n",
    "\"myfield3effects_windfury\": 1 if 3 < len(p1.field) and p1.field[3].windfury else 0,\n",
    "\"myfield3effects_divineshield\": 1 if 3 < len(p1.field) and p1.field[3].divine_shield else 0,\n",
    "\"myfield3effects_charge\": 1 if 3 < len(p1.field) and p1.field[3].charge else 0,\n",
    "\"myfield3effects_taunt\": 1 if 3 < len(p1.field) and p1.field[3].taunt else 0,\n",
    "\"myfield3effects_stealth\": 1 if 3 < len(p1.field) and p1.field[3].stealthed else 0,\n",
    "\"myfield3effects_poisonous\": 1 if 3 < len(p1.field) and p1.field[3].poisonous else 0,\n",
    "\"myfield3effects_cantbetargeted\": 1 if 3 < len(p1.field) and (p1.field[3].cant_be_targeted_by_abilities or p1.field[3].cant_be_targeted_by_hero_powers) else 0,\n",
    "\"myfield3effects_aura\": 1 if 3 < len(p1.field) and p1.field[3].aura else 0,\n",
    "\"myfield3effects_deathrattle\": 1 if 3 < len(p1.field) and p1.field[3].has_deathrattle else 0,\n",
    "\"myfield3effects_frozen\": 1 if 3 < len(p1.field) and p1.field[3].frozen else 0,\n",
    "\"myfield3effects_silenced\": 1 if 3 < len(p1.field) and p1.field[3].silenced else 0,\n",
    "\"myfield4effects_windfury\": 1 if 4 < len(p1.field) and p1.field[4].windfury else 0,\n",
    "\"myfield4effects_divineshield\": 1 if 4 < len(p1.field) and p1.field[4].divine_shield else 0,\n",
    "\"myfield4effects_charge\": 1 if 4 < len(p1.field) and p1.field[4].charge else 0,\n",
    "\"myfield4effects_taunt\": 1 if 4 < len(p1.field) and p1.field[4].taunt else 0,\n",
    "\"myfield4effects_stealth\": 1 if 4 < len(p1.field) and p1.field[4].stealthed else 0,\n",
    "\"myfield4effects_poisonous\": 1 if 4 < len(p1.field) and p1.field[4].poisonous else 0,\n",
    "\"myfield4effects_cantbetargeted\": 1 if 4 < len(p1.field) and (p1.field[4].cant_be_targeted_by_abilities or p1.field[4].cant_be_targeted_by_hero_powers) else 0,\n",
    "\"myfield4effects_aura\": 1 if 4 < len(p1.field) and p1.field[4].aura else 0,\n",
    "\"myfield4effects_deathrattle\": 1 if 4 < len(p1.field) and p1.field[4].has_deathrattle else 0,\n",
    "\"myfield4effects_frozen\": 1 if 4 < len(p1.field) and p1.field[4].frozen else 0,\n",
    "\"myfield4effects_silenced\": 1 if 4 < len(p1.field) and p1.field[4].silenced else 0,\n",
    "\"myfield5effects_windfury\": 1 if 5 < len(p1.field) and p1.field[5].windfury else 0,\n",
    "\"myfield5effects_divineshield\": 1 if 5 < len(p1.field) and p1.field[5].divine_shield else 0,\n",
    "\"myfield5effects_charge\": 1 if 5 < len(p1.field) and p1.field[5].charge else 0,\n",
    "\"myfield5effects_taunt\": 1 if 5 < len(p1.field) and p1.field[5].taunt else 0,\n",
    "\"myfield5effects_stealth\": 1 if 5 < len(p1.field) and p1.field[5].stealthed else 0,\n",
    "\"myfield5effects_poisonous\": 1 if 5 < len(p1.field) and p1.field[5].poisonous else 0,\n",
    "\"myfield5effects_cantbetargeted\": 1 if 5 < len(p1.field) and (p1.field[5].cant_be_targeted_by_abilities or p1.field[5].cant_be_targeted_by_hero_powers) else 0,\n",
    "\"myfield5effects_aura\": 1 if 5 < len(p1.field) and p1.field[5].aura else 0,\n",
    "\"myfield5effects_deathrattle\": 1 if 5 < len(p1.field) and p1.field[5].has_deathrattle else 0,\n",
    "\"myfield5effects_frozen\": 1 if 5 < len(p1.field) and p1.field[5].frozen else 0,\n",
    "\"myfield5effects_silenced\": 1 if 5 < len(p1.field) and p1.field[5].silenced else 0,\n",
    "\"myfield6effects_windfury\": 1 if 6 < len(p1.field) and p1.field[6].windfury else 0,\n",
    "\"myfield6effects_divineshield\": 1 if 6 < len(p1.field) and p1.field[6].divine_shield else 0,\n",
    "\"myfield6effects_charge\": 1 if 6 < len(p1.field) and p1.field[6].charge else 0,\n",
    "\"myfield6effects_taunt\": 1 if 6 < len(p1.field) and p1.field[6].taunt else 0,\n",
    "\"myfield6effects_stealth\": 1 if 6 < len(p1.field) and p1.field[6].stealthed else 0,\n",
    "\"myfield6effects_poisonous\": 1 if 6 < len(p1.field) and p1.field[6].poisonous else 0,\n",
    "\"myfield6effects_cantbetargeted\": 1 if 6 < len(p1.field) and (p1.field[6].cant_be_targeted_by_abilities or p1.field[6].cant_be_targeted_by_hero_powers) else 0,\n",
    "\"myfield6effects_aura\": 1 if 6 < len(p1.field) and p1.field[6].aura else 0,\n",
    "\"myfield6effects_deathrattle\": 1 if 6 < len(p1.field) and p1.field[6].has_deathrattle else 0,\n",
    "\"myfield6effects_frozen\": 1 if 6 < len(p1.field) and p1.field[6].frozen else 0,\n",
    "\"myfield6effects_silenced\": 1 if 6 < len(p1.field) and p1.field[6].silenced else 0,\n",
    "\"oppfield0effects_windfury\": 1 if 0 < len(p2.field) and p2.field[0].windfury else 0,\n",
    "\"oppfield0effects_divineshield\": 1 if 0 < len(p2.field) and p2.field[0].divine_shield else 0,\n",
    "\"oppfield0effects_charge\": 1 if 0 < len(p2.field) and p2.field[0].charge else 0,\n",
    "\"oppfield0effects_taunt\": 1 if 0 < len(p2.field) and p2.field[0].taunt else 0,\n",
    "\"oppfield0effects_stealth\": 1 if 0 < len(p2.field) and p2.field[0].stealthed else 0,\n",
    "\"oppfield0effects_poisonous\": 1 if 0 < len(p2.field) and p2.field[0].poisonous else 0,\n",
    "\"oppfield0effects_cantbetargeted\": 1 if 0 < len(p2.field) and (p2.field[0].cant_be_targeted_by_abilities or p2.field[0].cant_be_targeted_by_hero_powers) else 0,\n",
    "\"oppfield0effects_aura\": 1 if 0 < len(p2.field) and p2.field[0].aura else 0,\n",
    "\"oppfield0effects_deathrattle\": 1 if 0 < len(p2.field) and p2.field[0].has_deathrattle else 0,\n",
    "\"oppfield0effects_frozen\": 1 if 0 < len(p2.field) and p2.field[0].frozen else 0,\n",
    "\"oppfield0effects_silenced\": 1 if 0 < len(p2.field) and p2.field[0].silenced else 0,\n",
    "\"oppfield1effects_windfury\": 1 if 1 < len(p2.field) and p2.field[1].windfury else 0,\n",
    "\"oppfield1effects_divineshield\": 1 if 1 < len(p2.field) and p2.field[1].divine_shield else 0,\n",
    "\"oppfield1effects_charge\": 1 if 1 < len(p2.field) and p2.field[1].charge else 0,\n",
    "\"oppfield1effects_taunt\": 1 if 1 < len(p2.field) and p2.field[1].taunt else 0,\n",
    "\"oppfield1effects_stealth\": 1 if 1 < len(p2.field) and p2.field[1].stealthed else 0,\n",
    "\"oppfield1effects_poisonous\": 1 if 1 < len(p2.field) and p2.field[1].poisonous else 0,\n",
    "\"oppfield1effects_cantbetargeted\": 1 if 1 < len(p2.field) and (p2.field[1].cant_be_targeted_by_abilities or p2.field[1].cant_be_targeted_by_hero_powers) else 0,\n",
    "\"oppfield1effects_aura\": 1 if 1 < len(p2.field) and p2.field[1].aura else 0,\n",
    "\"oppfield1effects_deathrattle\": 1 if 1 < len(p2.field) and p2.field[1].has_deathrattle else 0,\n",
    "\"oppfield1effects_frozen\": 1 if 1 < len(p2.field) and p2.field[1].frozen else 0,\n",
    "\"oppfield1effects_silenced\": 1 if 1 < len(p2.field) and p2.field[1].silenced else 0,\n",
    "\"oppfield2effects_windfury\": 1 if 2 < len(p2.field) and p2.field[2].windfury else 0,\n",
    "\"oppfield2effects_divineshield\": 1 if 2 < len(p2.field) and p2.field[2].divine_shield else 0,\n",
    "\"oppfield2effects_charge\": 1 if 2 < len(p2.field) and p2.field[2].charge else 0,\n",
    "\"oppfield2effects_taunt\": 1 if 2 < len(p2.field) and p2.field[2].taunt else 0,\n",
    "\"oppfield2effects_stealth\": 1 if 2 < len(p2.field) and p2.field[2].stealthed else 0,\n",
    "\"oppfield2effects_poisonous\": 1 if 2 < len(p2.field) and p2.field[2].poisonous else 0,\n",
    "\"oppfield2effects_cantbetargeted\": 1 if 2 < len(p2.field) and (p2.field[2].cant_be_targeted_by_abilities or p2.field[2].cant_be_targeted_by_hero_powers) else 0,\n",
    "\"oppfield2effects_aura\": 1 if 2 < len(p2.field) and p2.field[2].aura else 0,\n",
    "\"oppfield2effects_deathrattle\": 1 if 2 < len(p2.field) and p2.field[2].has_deathrattle else 0,\n",
    "\"oppfield2effects_frozen\": 1 if 2 < len(p2.field) and p2.field[2].frozen else 0,\n",
    "\"oppfield2effects_silenced\": 1 if 2 < len(p2.field) and p2.field[2].silenced else 0,\n",
    "\"oppfield3effects_windfury\": 1 if 3 < len(p2.field) and p2.field[3].windfury else 0,\n",
    "\"oppfield3effects_divineshield\": 1 if 3 < len(p2.field) and p2.field[3].divine_shield else 0,\n",
    "\"oppfield3effects_charge\": 1 if 3 < len(p2.field) and p2.field[3].charge else 0,\n",
    "\"oppfield3effects_taunt\": 1 if 3 < len(p2.field) and p2.field[3].taunt else 0,\n",
    "\"oppfield3effects_stealth\": 1 if 3 < len(p2.field) and p2.field[3].stealthed else 0,\n",
    "\"oppfield3effects_poisonous\": 1 if 3 < len(p2.field) and p2.field[3].poisonous else 0,\n",
    "\"oppfield3effects_cantbetargeted\": 1 if 3 < len(p2.field) and (p2.field[3].cant_be_targeted_by_abilities or p2.field[3].cant_be_targeted_by_hero_powers) else 0,\n",
    "\"oppfield3effects_aura\": 1 if 3 < len(p2.field) and p2.field[3].aura else 0,\n",
    "\"oppfield3effects_deathrattle\": 1 if 3 < len(p2.field) and p2.field[3].has_deathrattle else 0,\n",
    "\"oppfield3effects_frozen\": 1 if 3 < len(p2.field) and p2.field[3].frozen else 0,\n",
    "\"oppfield3effects_silenced\": 1 if 3 < len(p2.field) and p2.field[3].silenced else 0,\n",
    "\"oppfield4effects_windfury\": 1 if 4 < len(p2.field) and p2.field[4].windfury else 0,\n",
    "\"oppfield4effects_divineshield\": 1 if 4 < len(p2.field) and p2.field[4].divine_shield else 0,\n",
    "\"oppfield4effects_charge\": 1 if 4 < len(p2.field) and p2.field[4].charge else 0,\n",
    "\"oppfield4effects_taunt\": 1 if 4 < len(p2.field) and p2.field[4].taunt else 0,\n",
    "\"oppfield4effects_stealth\": 1 if 4 < len(p2.field) and p2.field[4].stealthed else 0,\n",
    "\"oppfield4effects_poisonous\": 1 if 4 < len(p2.field) and p2.field[4].poisonous else 0,\n",
    "\"oppfield4effects_cantbetargeted\": 1 if 4 < len(p2.field) and (p2.field[4].cant_be_targeted_by_abilities or p2.field[4].cant_be_targeted_by_hero_powers) else 0,\n",
    "\"oppfield4effects_aura\": 1 if 4 < len(p2.field) and p2.field[4].aura else 0,\n",
    "\"oppfield4effects_deathrattle\": 1 if 4 < len(p2.field) and p2.field[4].has_deathrattle else 0,\n",
    "\"oppfield4effects_frozen\": 1 if 4 < len(p2.field) and p2.field[4].frozen else 0,\n",
    "\"oppfield4effects_silenced\": 1 if 4 < len(p2.field) and p2.field[4].silenced else 0,\n",
    "\"oppfield5effects_windfury\": 1 if 5 < len(p2.field) and p2.field[5].windfury else 0,\n",
    "\"oppfield5effects_divineshield\": 1 if 5 < len(p2.field) and p2.field[5].divine_shield else 0,\n",
    "\"oppfield5effects_charge\": 1 if 5 < len(p2.field) and p2.field[5].charge else 0,\n",
    "\"oppfield5effects_taunt\": 1 if 5 < len(p2.field) and p2.field[5].taunt else 0,\n",
    "\"oppfield5effects_stealth\": 1 if 5 < len(p2.field) and p2.field[5].stealthed else 0,\n",
    "\"oppfield5effects_poisonous\": 1 if 5 < len(p2.field) and p2.field[5].poisonous else 0,\n",
    "\"oppfield5effects_cantbetargeted\": 1 if 5 < len(p2.field) and (p2.field[5].cant_be_targeted_by_abilities or p2.field[5].cant_be_targeted_by_hero_powers) else 0,\n",
    "\"oppfield5effects_aura\": 1 if 5 < len(p2.field) and p2.field[5].aura else 0,\n",
    "\"oppfield5effects_deathrattle\": 1 if 5 < len(p2.field) and p2.field[5].has_deathrattle else 0,\n",
    "\"oppfield5effects_frozen\": 1 if 5 < len(p2.field) and p2.field[5].frozen else 0,\n",
    "\"oppfield5effects_silenced\": 1 if 5 < len(p2.field) and p2.field[5].silenced else 0,\n",
    "\"oppfield6effects_windfury\": 1 if 6 < len(p2.field) and p2.field[6].windfury else 0,\n",
    "\"oppfield6effects_divineshield\": 1 if 6 < len(p2.field) and p2.field[6].divine_shield else 0,\n",
    "\"oppfield6effects_charge\": 1 if 6 < len(p2.field) and p2.field[6].charge else 0,\n",
    "\"oppfield6effects_taunt\": 1 if 6 < len(p2.field) and p2.field[6].taunt else 0,\n",
    "\"oppfield6effects_stealth\": 1 if 6 < len(p2.field) and p2.field[6].stealthed else 0,\n",
    "\"oppfield6effects_poisonous\": 1 if 6 < len(p2.field) and p2.field[6].poisonous else 0,\n",
    "\"oppfield6effects_cantbetargeted\": 1 if 6 < len(p2.field) and (p2.field[6].cant_be_targeted_by_abilities or p2.field[6].cant_be_targeted_by_hero_powers) else 0,\n",
    "\"oppfield6effects_aura\": 1 if 6 < len(p2.field) and p2.field[6].aura else 0,\n",
    "\"oppfield6effects_deathrattle\": 1 if 6 < len(p2.field) and p2.field[6].has_deathrattle else 0,\n",
    "\"oppfield6effects_frozen\": 1 if 6 < len(p2.field) and p2.field[6].frozen else 0,\n",
    "\"oppfield6effects_silenced\": 1 if 6 < len(p2.field) and p2.field[6].silenced else 0,\"\"\""
   ]
  },
  {
   "cell_type": "markdown",
   "id": "45d4ebd3",
   "metadata": {},
   "source": [
    "Este es el código para añadir la condición de que no sea una carta de tipo SPELL"
   ]
  },
  {
   "cell_type": "code",
   "execution_count": 257,
   "id": "3555e385",
   "metadata": {},
   "outputs": [
    {
     "data": {
      "text/plain": [
       "'\"oppfield3effects_frozen\": 1 if 3 < len(p2.field) and p2.field[3].type!=5 and p2.field[3].frozen else 0,'"
      ]
     },
     "execution_count": 257,
     "metadata": {},
     "output_type": "execute_result"
    }
   ],
   "source": [
    "modify=[\"divineshield\", \"charge\", \"taunt\", \"stealth\", \"poisonous\", \"cantbetargeted\", \"deathrattle\", \"frozen\", \"silenced\"]\n",
    "line='\"oppfield3effects_frozen\": 1 if 3 < len(p2.field) and p2.field[3].frozen else 0,'\n",
    "add_string=\"{}.{}[{}].type!=5\"\n",
    "p=\"p1\" if \"p1\" in line else \"p2\"\n",
    "fildhand=\"field\" if \"field\" in line else \"hand\"\n",
    "position=re.search(r'\\[(\\d+)\\]', line).group(1)\n",
    "components=line.split(\" and \")\n",
    "components.insert(1,add_string.format(p,fildhand,position))\n",
    "newline=\" and \".join(components)\n",
    "newline"
   ]
  },
  {
   "cell_type": "markdown",
   "id": "ce3a4684",
   "metadata": {},
   "source": [
    "Y este el código que lo aplica:"
   ]
  },
  {
   "cell_type": "code",
   "execution_count": 258,
   "id": "aa09bc94",
   "metadata": {},
   "outputs": [],
   "source": [
    "newcode=[]\n",
    "modify=[\"divineshield\", \"charge\", \"taunt\", \"stealth\", \"poisonous\", \"cantbetargeted\", \"deathrattle\", \"frozen\", \"silenced\"]\n",
    "add_string=\"{}.{}[{}].type!=5\"\n",
    "for line in code.split(\"\\n\"):\n",
    "    found=False\n",
    "    for word in modify:\n",
    "        if word in line:\n",
    "            found=True\n",
    "            p=\"p1\" if \"p1\" in line else \"p2\"\n",
    "            fildhand=\"field\" if \"field\" in line else \"hand\"\n",
    "            position=re.search(r'\\[(\\d+)\\]', line).group(1)\n",
    "            components=line.split(\" and \")\n",
    "            if len(components)!=2:\n",
    "                print(\"ERROR\")\n",
    "            else:\n",
    "                components.insert(1,add_string.format(p,fildhand,position))\n",
    "                newline=\" and \".join(components)\n",
    "                newcode.append(newline)\n",
    "                break\n",
    "    if found==False:\n",
    "        newcode.append(line) "
   ]
  },
  {
   "cell_type": "code",
   "execution_count": 259,
   "id": "0ea1d70d",
   "metadata": {},
   "outputs": [
    {
     "data": {
      "text/plain": [
       "True"
      ]
     },
     "execution_count": 259,
     "metadata": {},
     "output_type": "execute_result"
    }
   ],
   "source": [
    "len(newcode)==len(code.split(\"\\n\"))"
   ]
  },
  {
   "cell_type": "markdown",
   "id": "a91debfd",
   "metadata": {},
   "source": [
    "Este es el resultado que nos llevamos al hearthstone_unnested_env.py"
   ]
  },
  {
   "cell_type": "code",
   "execution_count": 260,
   "id": "4b370b52",
   "metadata": {
    "scrolled": false
   },
   "outputs": [
    {
     "name": "stdout",
     "output_type": "stream",
     "text": [
      "\"\"myhand0effects_windfury\": 1 if 0 < len(p1.hand) and p1.hand[0].windfury else 0,\n",
      "\"myhand0effects_divineshield\": 1 if 0 < len(p1.hand) and p1.hand[0].type!=5 and p1.hand[0].divine_shield else 0,\n",
      "\"myhand0effects_charge\": 1 if 0 < len(p1.hand) and p1.hand[0].type!=5 and p1.hand[0].charge else 0,\n",
      "\"myhand0effects_taunt\": 1 if 0 < len(p1.hand) and p1.hand[0].type!=5 and p1.hand[0].taunt else 0,\n",
      "\"myhand0effects_stealth\": 1 if 0 < len(p1.hand) and p1.hand[0].type!=5 and p1.hand[0].stealthed else 0,\n",
      "\"myhand0effects_poisonous\": 1 if 0 < len(p1.hand) and p1.hand[0].type!=5 and p1.hand[0].poisonous else 0,\n",
      "\"myhand0effects_cantbetargeted\": 1 if 0 < len(p1.hand) and p1.hand[0].type!=5 and (p1.hand[0].cant_be_targeted_by_abilities or p1.hand[0].cant_be_targeted_by_hero_powers) else 0,\n",
      "\"myhand0effects_aura\": 1 if 0 < len(p1.hand) and p1.hand[0].aura else 0,\n",
      "\"myhand0effects_deathrattle\": 1 if 0 < len(p1.hand) and p1.hand[0].type!=5 and p1.hand[0].has_deathrattle else 0,\n",
      "\"myhand0effects_frozen\": 1 if 0 < len(p1.hand) and p1.hand[0].type!=5 and p1.hand[0].frozen else 0,\n",
      "\"myhand0effects_silenced\": 1 if 0 < len(p1.hand) and p1.hand[0].type!=5 and p1.hand[0].silenced else 0,\n",
      "\"myhand1effects_windfury\": 1 if 1 < len(p1.hand) and p1.hand[1].windfury else 0,\n",
      "\"myhand1effects_divineshield\": 1 if 1 < len(p1.hand) and p1.hand[1].type!=5 and p1.hand[1].divine_shield else 0,\n",
      "\"myhand1effects_charge\": 1 if 1 < len(p1.hand) and p1.hand[1].type!=5 and p1.hand[1].charge else 0,\n",
      "\"myhand1effects_taunt\": 1 if 1 < len(p1.hand) and p1.hand[1].type!=5 and p1.hand[1].taunt else 0,\n",
      "\"myhand1effects_stealth\": 1 if 1 < len(p1.hand) and p1.hand[1].type!=5 and p1.hand[1].stealthed else 0,\n",
      "\"myhand1effects_poisonous\": 1 if 1 < len(p1.hand) and p1.hand[1].type!=5 and p1.hand[1].poisonous else 0,\n",
      "\"myhand1effects_cantbetargeted\": 1 if 1 < len(p1.hand) and p1.hand[1].type!=5 and (p1.hand[1].cant_be_targeted_by_abilities or p1.hand[1].cant_be_targeted_by_hero_powers) else 0,\n",
      "\"myhand1effects_aura\": 1 if 1 < len(p1.hand) and p1.hand[1].aura else 0,\n",
      "\"myhand1effects_deathrattle\": 1 if 1 < len(p1.hand) and p1.hand[1].type!=5 and p1.hand[1].has_deathrattle else 0,\n",
      "\"myhand1effects_frozen\": 1 if 1 < len(p1.hand) and p1.hand[1].type!=5 and p1.hand[1].frozen else 0,\n",
      "\"myhand1effects_silenced\": 1 if 1 < len(p1.hand) and p1.hand[1].type!=5 and p1.hand[1].silenced else 0,\n",
      "\"myhand2effects_windfury\": 1 if 2 < len(p1.hand) and p1.hand[2].windfury else 0,\n",
      "\"myhand2effects_divineshield\": 1 if 2 < len(p1.hand) and p1.hand[2].type!=5 and p1.hand[2].divine_shield else 0,\n",
      "\"myhand2effects_charge\": 1 if 2 < len(p1.hand) and p1.hand[2].type!=5 and p1.hand[2].charge else 0,\n",
      "\"myhand2effects_taunt\": 1 if 2 < len(p1.hand) and p1.hand[2].type!=5 and p1.hand[2].taunt else 0,\n",
      "\"myhand2effects_stealth\": 1 if 2 < len(p1.hand) and p1.hand[2].type!=5 and p1.hand[2].stealthed else 0,\n",
      "\"myhand2effects_poisonous\": 1 if 2 < len(p1.hand) and p1.hand[2].type!=5 and p1.hand[2].poisonous else 0,\n",
      "\"myhand2effects_cantbetargeted\": 1 if 2 < len(p1.hand) and p1.hand[2].type!=5 and (p1.hand[2].cant_be_targeted_by_abilities or p1.hand[2].cant_be_targeted_by_hero_powers) else 0,\n",
      "\"myhand2effects_aura\": 1 if 2 < len(p1.hand) and p1.hand[2].aura else 0,\n",
      "\"myhand2effects_deathrattle\": 1 if 2 < len(p1.hand) and p1.hand[2].type!=5 and p1.hand[2].has_deathrattle else 0,\n",
      "\"myhand2effects_frozen\": 1 if 2 < len(p1.hand) and p1.hand[2].type!=5 and p1.hand[2].frozen else 0,\n",
      "\"myhand2effects_silenced\": 1 if 2 < len(p1.hand) and p1.hand[2].type!=5 and p1.hand[2].silenced else 0,\n",
      "\"myhand3effects_windfury\": 1 if 3 < len(p1.hand) and p1.hand[3].windfury else 0,\n",
      "\"myhand3effects_divineshield\": 1 if 3 < len(p1.hand) and p1.hand[3].type!=5 and p1.hand[3].divine_shield else 0,\n",
      "\"myhand3effects_charge\": 1 if 3 < len(p1.hand) and p1.hand[3].type!=5 and p1.hand[3].charge else 0,\n",
      "\"myhand3effects_taunt\": 1 if 3 < len(p1.hand) and p1.hand[3].type!=5 and p1.hand[3].taunt else 0,\n",
      "\"myhand3effects_stealth\": 1 if 3 < len(p1.hand) and p1.hand[3].type!=5 and p1.hand[3].stealthed else 0,\n",
      "\"myhand3effects_poisonous\": 1 if 3 < len(p1.hand) and p1.hand[3].type!=5 and p1.hand[3].poisonous else 0,\n",
      "\"myhand3effects_cantbetargeted\": 1 if 3 < len(p1.hand) and p1.hand[3].type!=5 and (p1.hand[3].cant_be_targeted_by_abilities or p1.hand[3].cant_be_targeted_by_hero_powers) else 0,\n",
      "\"myhand3effects_aura\": 1 if 3 < len(p1.hand) and p1.hand[3].aura else 0,\n",
      "\"myhand3effects_deathrattle\": 1 if 3 < len(p1.hand) and p1.hand[3].type!=5 and p1.hand[3].has_deathrattle else 0,\n",
      "\"myhand3effects_frozen\": 1 if 3 < len(p1.hand) and p1.hand[3].type!=5 and p1.hand[3].frozen else 0,\n",
      "\"myhand3effects_silenced\": 1 if 3 < len(p1.hand) and p1.hand[3].type!=5 and p1.hand[3].silenced else 0,\n",
      "\"myhand4effects_windfury\": 1 if 4 < len(p1.hand) and p1.hand[4].windfury else 0,\n",
      "\"myhand4effects_divineshield\": 1 if 4 < len(p1.hand) and p1.hand[4].type!=5 and p1.hand[4].divine_shield else 0,\n",
      "\"myhand4effects_charge\": 1 if 4 < len(p1.hand) and p1.hand[4].type!=5 and p1.hand[4].charge else 0,\n",
      "\"myhand4effects_taunt\": 1 if 4 < len(p1.hand) and p1.hand[4].type!=5 and p1.hand[4].taunt else 0,\n",
      "\"myhand4effects_stealth\": 1 if 4 < len(p1.hand) and p1.hand[4].type!=5 and p1.hand[4].stealthed else 0,\n",
      "\"myhand4effects_poisonous\": 1 if 4 < len(p1.hand) and p1.hand[4].type!=5 and p1.hand[4].poisonous else 0,\n",
      "\"myhand4effects_cantbetargeted\": 1 if 4 < len(p1.hand) and p1.hand[4].type!=5 and (p1.hand[4].cant_be_targeted_by_abilities or p1.hand[4].cant_be_targeted_by_hero_powers) else 0,\n",
      "\"myhand4effects_aura\": 1 if 4 < len(p1.hand) and p1.hand[4].aura else 0,\n",
      "\"myhand4effects_deathrattle\": 1 if 4 < len(p1.hand) and p1.hand[4].type!=5 and p1.hand[4].has_deathrattle else 0,\n",
      "\"myhand4effects_frozen\": 1 if 4 < len(p1.hand) and p1.hand[4].type!=5 and p1.hand[4].frozen else 0,\n",
      "\"myhand4effects_silenced\": 1 if 4 < len(p1.hand) and p1.hand[4].type!=5 and p1.hand[4].silenced else 0,\n",
      "\"myhand5effects_windfury\": 1 if 5 < len(p1.hand) and p1.hand[5].windfury else 0,\n",
      "\"myhand5effects_divineshield\": 1 if 5 < len(p1.hand) and p1.hand[5].type!=5 and p1.hand[5].divine_shield else 0,\n",
      "\"myhand5effects_charge\": 1 if 5 < len(p1.hand) and p1.hand[5].type!=5 and p1.hand[5].charge else 0,\n",
      "\"myhand5effects_taunt\": 1 if 5 < len(p1.hand) and p1.hand[5].type!=5 and p1.hand[5].taunt else 0,\n",
      "\"myhand5effects_stealth\": 1 if 5 < len(p1.hand) and p1.hand[5].type!=5 and p1.hand[5].stealthed else 0,\n",
      "\"myhand5effects_poisonous\": 1 if 5 < len(p1.hand) and p1.hand[5].type!=5 and p1.hand[5].poisonous else 0,\n",
      "\"myhand5effects_cantbetargeted\": 1 if 5 < len(p1.hand) and p1.hand[5].type!=5 and (p1.hand[5].cant_be_targeted_by_abilities or p1.hand[5].cant_be_targeted_by_hero_powers) else 0,\n",
      "\"myhand5effects_aura\": 1 if 5 < len(p1.hand) and p1.hand[5].aura else 0,\n",
      "\"myhand5effects_deathrattle\": 1 if 5 < len(p1.hand) and p1.hand[5].type!=5 and p1.hand[5].has_deathrattle else 0,\n",
      "\"myhand5effects_frozen\": 1 if 5 < len(p1.hand) and p1.hand[5].type!=5 and p1.hand[5].frozen else 0,\n",
      "\"myhand5effects_silenced\": 1 if 5 < len(p1.hand) and p1.hand[5].type!=5 and p1.hand[5].silenced else 0,\n",
      "\"myhand6effects_windfury\": 1 if 6 < len(p1.hand) and p1.hand[6].windfury else 0,\n",
      "\"myhand6effects_divineshield\": 1 if 6 < len(p1.hand) and p1.hand[6].type!=5 and p1.hand[6].divine_shield else 0,\n",
      "\"myhand6effects_charge\": 1 if 6 < len(p1.hand) and p1.hand[6].type!=5 and p1.hand[6].charge else 0,\n",
      "\"myhand6effects_taunt\": 1 if 6 < len(p1.hand) and p1.hand[6].type!=5 and p1.hand[6].taunt else 0,\n",
      "\"myhand6effects_stealth\": 1 if 6 < len(p1.hand) and p1.hand[6].type!=5 and p1.hand[6].stealthed else 0,\n",
      "\"myhand6effects_poisonous\": 1 if 6 < len(p1.hand) and p1.hand[6].type!=5 and p1.hand[6].poisonous else 0,\n",
      "\"myhand6effects_cantbetargeted\": 1 if 6 < len(p1.hand) and p1.hand[6].type!=5 and (p1.hand[6].cant_be_targeted_by_abilities or p1.hand[6].cant_be_targeted_by_hero_powers) else 0,\n",
      "\"myhand6effects_aura\": 1 if 6 < len(p1.hand) and p1.hand[6].aura else 0,\n",
      "\"myhand6effects_deathrattle\": 1 if 6 < len(p1.hand) and p1.hand[6].type!=5 and p1.hand[6].has_deathrattle else 0,\n",
      "\"myhand6effects_frozen\": 1 if 6 < len(p1.hand) and p1.hand[6].type!=5 and p1.hand[6].frozen else 0,\n",
      "\"myhand6effects_silenced\": 1 if 6 < len(p1.hand) and p1.hand[6].type!=5 and p1.hand[6].silenced else 0,\n",
      "\"myhand7effects_windfury\": 1 if 7 < len(p1.hand) and p1.hand[7].windfury else 0,\n",
      "\"myhand7effects_divineshield\": 1 if 7 < len(p1.hand) and p1.hand[7].type!=5 and p1.hand[7].divine_shield else 0,\n",
      "\"myhand7effects_charge\": 1 if 7 < len(p1.hand) and p1.hand[7].type!=5 and p1.hand[7].charge else 0,\n",
      "\"myhand7effects_taunt\": 1 if 7 < len(p1.hand) and p1.hand[7].type!=5 and p1.hand[7].taunt else 0,\n",
      "\"myhand7effects_stealth\": 1 if 7 < len(p1.hand) and p1.hand[7].type!=5 and p1.hand[7].stealthed else 0,\n",
      "\"myhand7effects_poisonous\": 1 if 7 < len(p1.hand) and p1.hand[7].type!=5 and p1.hand[7].poisonous else 0,\n",
      "\"myhand7effects_cantbetargeted\": 1 if 7 < len(p1.hand) and p1.hand[7].type!=5 and (p1.hand[7].cant_be_targeted_by_abilities or p1.hand[7].cant_be_targeted_by_hero_powers) else 0,\n",
      "\"myhand7effects_aura\": 1 if 7 < len(p1.hand) and p1.hand[7].aura else 0,\n",
      "\"myhand7effects_deathrattle\": 1 if 7 < len(p1.hand) and p1.hand[7].type!=5 and p1.hand[7].has_deathrattle else 0,\n",
      "\"myhand7effects_frozen\": 1 if 7 < len(p1.hand) and p1.hand[7].type!=5 and p1.hand[7].frozen else 0,\n",
      "\"myhand7effects_silenced\": 1 if 7 < len(p1.hand) and p1.hand[7].type!=5 and p1.hand[7].silenced else 0,\n",
      "\"myhand8effects_windfury\": 1 if 8 < len(p1.hand) and p1.hand[8].windfury else 0,\n",
      "\"myhand8effects_divineshield\": 1 if 8 < len(p1.hand) and p1.hand[8].type!=5 and p1.hand[8].divine_shield else 0,\n",
      "\"myhand8effects_charge\": 1 if 8 < len(p1.hand) and p1.hand[8].type!=5 and p1.hand[8].charge else 0,\n",
      "\"myhand8effects_taunt\": 1 if 8 < len(p1.hand) and p1.hand[8].type!=5 and p1.hand[8].taunt else 0,\n",
      "\"myhand8effects_stealth\": 1 if 8 < len(p1.hand) and p1.hand[8].type!=5 and p1.hand[8].stealthed else 0,\n",
      "\"myhand8effects_poisonous\": 1 if 8 < len(p1.hand) and p1.hand[8].type!=5 and p1.hand[8].poisonous else 0,\n",
      "\"myhand8effects_cantbetargeted\": 1 if 8 < len(p1.hand) and p1.hand[8].type!=5 and (p1.hand[8].cant_be_targeted_by_abilities or p1.hand[8].cant_be_targeted_by_hero_powers) else 0,\n",
      "\"myhand8effects_aura\": 1 if 8 < len(p1.hand) and p1.hand[8].aura else 0,\n",
      "\"myhand8effects_deathrattle\": 1 if 8 < len(p1.hand) and p1.hand[8].type!=5 and p1.hand[8].has_deathrattle else 0,\n",
      "\"myhand8effects_frozen\": 1 if 8 < len(p1.hand) and p1.hand[8].type!=5 and p1.hand[8].frozen else 0,\n",
      "\"myhand8effects_silenced\": 1 if 8 < len(p1.hand) and p1.hand[8].type!=5 and p1.hand[8].silenced else 0,\n",
      "\"myhand9effects_windfury\": 1 if 9 < len(p1.hand) and p1.hand[9].windfury else 0,\n",
      "\"myhand9effects_divineshield\": 1 if 9 < len(p1.hand) and p1.hand[9].type!=5 and p1.hand[9].divine_shield else 0,\n",
      "\"myhand9effects_charge\": 1 if 9 < len(p1.hand) and p1.hand[9].type!=5 and p1.hand[9].charge else 0,\n",
      "\"myhand9effects_taunt\": 1 if 9 < len(p1.hand) and p1.hand[9].type!=5 and p1.hand[9].taunt else 0,\n",
      "\"myhand9effects_stealth\": 1 if 9 < len(p1.hand) and p1.hand[9].type!=5 and p1.hand[9].stealthed else 0,\n",
      "\"myhand9effects_poisonous\": 1 if 9 < len(p1.hand) and p1.hand[9].type!=5 and p1.hand[9].poisonous else 0,\n",
      "\"myhand9effects_cantbetargeted\": 1 if 9 < len(p1.hand) and p1.hand[9].type!=5 and (p1.hand[9].cant_be_targeted_by_abilities or p1.hand[9].cant_be_targeted_by_hero_powers) else 0,\n",
      "\"myhand9effects_aura\": 1 if 9 < len(p1.hand) and p1.hand[9].aura else 0,\n",
      "\"myhand9effects_deathrattle\": 1 if 9 < len(p1.hand) and p1.hand[9].type!=5 and p1.hand[9].has_deathrattle else 0,\n",
      "\"myhand9effects_frozen\": 1 if 9 < len(p1.hand) and p1.hand[9].type!=5 and p1.hand[9].frozen else 0,\n",
      "\"myhand9effects_silenced\": 1 if 9 < len(p1.hand) and p1.hand[9].type!=5 and p1.hand[9].silenced else 0,\n",
      "\"myfield0effects_windfury\": 1 if 0 < len(p1.field) and p1.field[0].windfury else 0,\n",
      "\"myfield0effects_divineshield\": 1 if 0 < len(p1.field) and p1.field[0].type!=5 and p1.field[0].divine_shield else 0,\n",
      "\"myfield0effects_charge\": 1 if 0 < len(p1.field) and p1.field[0].type!=5 and p1.field[0].charge else 0,\n",
      "\"myfield0effects_taunt\": 1 if 0 < len(p1.field) and p1.field[0].type!=5 and p1.field[0].taunt else 0,\n",
      "\"myfield0effects_stealth\": 1 if 0 < len(p1.field) and p1.field[0].type!=5 and p1.field[0].stealthed else 0,\n",
      "\"myfield0effects_poisonous\": 1 if 0 < len(p1.field) and p1.field[0].type!=5 and p1.field[0].poisonous else 0,\n",
      "\"myfield0effects_cantbetargeted\": 1 if 0 < len(p1.field) and p1.field[0].type!=5 and (p1.field[0].cant_be_targeted_by_abilities or p1.field[0].cant_be_targeted_by_hero_powers) else 0,\n",
      "\"myfield0effects_aura\": 1 if 0 < len(p1.field) and p1.field[0].aura else 0,\n",
      "\"myfield0effects_deathrattle\": 1 if 0 < len(p1.field) and p1.field[0].type!=5 and p1.field[0].has_deathrattle else 0,\n",
      "\"myfield0effects_frozen\": 1 if 0 < len(p1.field) and p1.field[0].type!=5 and p1.field[0].frozen else 0,\n",
      "\"myfield0effects_silenced\": 1 if 0 < len(p1.field) and p1.field[0].type!=5 and p1.field[0].silenced else 0,\n",
      "\"myfield1effects_windfury\": 1 if 1 < len(p1.field) and p1.field[1].windfury else 0,\n",
      "\"myfield1effects_divineshield\": 1 if 1 < len(p1.field) and p1.field[1].type!=5 and p1.field[1].divine_shield else 0,\n",
      "\"myfield1effects_charge\": 1 if 1 < len(p1.field) and p1.field[1].type!=5 and p1.field[1].charge else 0,\n",
      "\"myfield1effects_taunt\": 1 if 1 < len(p1.field) and p1.field[1].type!=5 and p1.field[1].taunt else 0,\n",
      "\"myfield1effects_stealth\": 1 if 1 < len(p1.field) and p1.field[1].type!=5 and p1.field[1].stealthed else 0,\n",
      "\"myfield1effects_poisonous\": 1 if 1 < len(p1.field) and p1.field[1].type!=5 and p1.field[1].poisonous else 0,\n",
      "\"myfield1effects_cantbetargeted\": 1 if 1 < len(p1.field) and p1.field[1].type!=5 and (p1.field[1].cant_be_targeted_by_abilities or p1.field[1].cant_be_targeted_by_hero_powers) else 0,\n",
      "\"myfield1effects_aura\": 1 if 1 < len(p1.field) and p1.field[1].aura else 0,\n",
      "\"myfield1effects_deathrattle\": 1 if 1 < len(p1.field) and p1.field[1].type!=5 and p1.field[1].has_deathrattle else 0,\n",
      "\"myfield1effects_frozen\": 1 if 1 < len(p1.field) and p1.field[1].type!=5 and p1.field[1].frozen else 0,\n",
      "\"myfield1effects_silenced\": 1 if 1 < len(p1.field) and p1.field[1].type!=5 and p1.field[1].silenced else 0,\n",
      "\"myfield2effects_windfury\": 1 if 2 < len(p1.field) and p1.field[2].windfury else 0,\n",
      "\"myfield2effects_divineshield\": 1 if 2 < len(p1.field) and p1.field[2].type!=5 and p1.field[2].divine_shield else 0,\n",
      "\"myfield2effects_charge\": 1 if 2 < len(p1.field) and p1.field[2].type!=5 and p1.field[2].charge else 0,\n",
      "\"myfield2effects_taunt\": 1 if 2 < len(p1.field) and p1.field[2].type!=5 and p1.field[2].taunt else 0,\n",
      "\"myfield2effects_stealth\": 1 if 2 < len(p1.field) and p1.field[2].type!=5 and p1.field[2].stealthed else 0,\n",
      "\"myfield2effects_poisonous\": 1 if 2 < len(p1.field) and p1.field[2].type!=5 and p1.field[2].poisonous else 0,\n",
      "\"myfield2effects_cantbetargeted\": 1 if 2 < len(p1.field) and p1.field[2].type!=5 and (p1.field[2].cant_be_targeted_by_abilities or p1.field[2].cant_be_targeted_by_hero_powers) else 0,\n",
      "\"myfield2effects_aura\": 1 if 2 < len(p1.field) and p1.field[2].aura else 0,\n",
      "\"myfield2effects_deathrattle\": 1 if 2 < len(p1.field) and p1.field[2].type!=5 and p1.field[2].has_deathrattle else 0,\n",
      "\"myfield2effects_frozen\": 1 if 2 < len(p1.field) and p1.field[2].type!=5 and p1.field[2].frozen else 0,\n",
      "\"myfield2effects_silenced\": 1 if 2 < len(p1.field) and p1.field[2].type!=5 and p1.field[2].silenced else 0,\n",
      "\"myfield3effects_windfury\": 1 if 3 < len(p1.field) and p1.field[3].windfury else 0,\n",
      "\"myfield3effects_divineshield\": 1 if 3 < len(p1.field) and p1.field[3].type!=5 and p1.field[3].divine_shield else 0,\n",
      "\"myfield3effects_charge\": 1 if 3 < len(p1.field) and p1.field[3].type!=5 and p1.field[3].charge else 0,\n",
      "\"myfield3effects_taunt\": 1 if 3 < len(p1.field) and p1.field[3].type!=5 and p1.field[3].taunt else 0,\n",
      "\"myfield3effects_stealth\": 1 if 3 < len(p1.field) and p1.field[3].type!=5 and p1.field[3].stealthed else 0,\n",
      "\"myfield3effects_poisonous\": 1 if 3 < len(p1.field) and p1.field[3].type!=5 and p1.field[3].poisonous else 0,\n",
      "\"myfield3effects_cantbetargeted\": 1 if 3 < len(p1.field) and p1.field[3].type!=5 and (p1.field[3].cant_be_targeted_by_abilities or p1.field[3].cant_be_targeted_by_hero_powers) else 0,\n",
      "\"myfield3effects_aura\": 1 if 3 < len(p1.field) and p1.field[3].aura else 0,\n",
      "\"myfield3effects_deathrattle\": 1 if 3 < len(p1.field) and p1.field[3].type!=5 and p1.field[3].has_deathrattle else 0,\n",
      "\"myfield3effects_frozen\": 1 if 3 < len(p1.field) and p1.field[3].type!=5 and p1.field[3].frozen else 0,\n",
      "\"myfield3effects_silenced\": 1 if 3 < len(p1.field) and p1.field[3].type!=5 and p1.field[3].silenced else 0,\n",
      "\"myfield4effects_windfury\": 1 if 4 < len(p1.field) and p1.field[4].windfury else 0,\n",
      "\"myfield4effects_divineshield\": 1 if 4 < len(p1.field) and p1.field[4].type!=5 and p1.field[4].divine_shield else 0,\n",
      "\"myfield4effects_charge\": 1 if 4 < len(p1.field) and p1.field[4].type!=5 and p1.field[4].charge else 0,\n",
      "\"myfield4effects_taunt\": 1 if 4 < len(p1.field) and p1.field[4].type!=5 and p1.field[4].taunt else 0,\n",
      "\"myfield4effects_stealth\": 1 if 4 < len(p1.field) and p1.field[4].type!=5 and p1.field[4].stealthed else 0,\n",
      "\"myfield4effects_poisonous\": 1 if 4 < len(p1.field) and p1.field[4].type!=5 and p1.field[4].poisonous else 0,\n",
      "\"myfield4effects_cantbetargeted\": 1 if 4 < len(p1.field) and p1.field[4].type!=5 and (p1.field[4].cant_be_targeted_by_abilities or p1.field[4].cant_be_targeted_by_hero_powers) else 0,\n",
      "\"myfield4effects_aura\": 1 if 4 < len(p1.field) and p1.field[4].aura else 0,\n",
      "\"myfield4effects_deathrattle\": 1 if 4 < len(p1.field) and p1.field[4].type!=5 and p1.field[4].has_deathrattle else 0,\n",
      "\"myfield4effects_frozen\": 1 if 4 < len(p1.field) and p1.field[4].type!=5 and p1.field[4].frozen else 0,\n",
      "\"myfield4effects_silenced\": 1 if 4 < len(p1.field) and p1.field[4].type!=5 and p1.field[4].silenced else 0,\n",
      "\"myfield5effects_windfury\": 1 if 5 < len(p1.field) and p1.field[5].windfury else 0,\n",
      "\"myfield5effects_divineshield\": 1 if 5 < len(p1.field) and p1.field[5].type!=5 and p1.field[5].divine_shield else 0,\n",
      "\"myfield5effects_charge\": 1 if 5 < len(p1.field) and p1.field[5].type!=5 and p1.field[5].charge else 0,\n",
      "\"myfield5effects_taunt\": 1 if 5 < len(p1.field) and p1.field[5].type!=5 and p1.field[5].taunt else 0,\n",
      "\"myfield5effects_stealth\": 1 if 5 < len(p1.field) and p1.field[5].type!=5 and p1.field[5].stealthed else 0,\n",
      "\"myfield5effects_poisonous\": 1 if 5 < len(p1.field) and p1.field[5].type!=5 and p1.field[5].poisonous else 0,\n",
      "\"myfield5effects_cantbetargeted\": 1 if 5 < len(p1.field) and p1.field[5].type!=5 and (p1.field[5].cant_be_targeted_by_abilities or p1.field[5].cant_be_targeted_by_hero_powers) else 0,\n",
      "\"myfield5effects_aura\": 1 if 5 < len(p1.field) and p1.field[5].aura else 0,\n",
      "\"myfield5effects_deathrattle\": 1 if 5 < len(p1.field) and p1.field[5].type!=5 and p1.field[5].has_deathrattle else 0,\n",
      "\"myfield5effects_frozen\": 1 if 5 < len(p1.field) and p1.field[5].type!=5 and p1.field[5].frozen else 0,\n",
      "\"myfield5effects_silenced\": 1 if 5 < len(p1.field) and p1.field[5].type!=5 and p1.field[5].silenced else 0,\n",
      "\"myfield6effects_windfury\": 1 if 6 < len(p1.field) and p1.field[6].windfury else 0,\n",
      "\"myfield6effects_divineshield\": 1 if 6 < len(p1.field) and p1.field[6].type!=5 and p1.field[6].divine_shield else 0,\n",
      "\"myfield6effects_charge\": 1 if 6 < len(p1.field) and p1.field[6].type!=5 and p1.field[6].charge else 0,\n",
      "\"myfield6effects_taunt\": 1 if 6 < len(p1.field) and p1.field[6].type!=5 and p1.field[6].taunt else 0,\n",
      "\"myfield6effects_stealth\": 1 if 6 < len(p1.field) and p1.field[6].type!=5 and p1.field[6].stealthed else 0,\n",
      "\"myfield6effects_poisonous\": 1 if 6 < len(p1.field) and p1.field[6].type!=5 and p1.field[6].poisonous else 0,\n",
      "\"myfield6effects_cantbetargeted\": 1 if 6 < len(p1.field) and p1.field[6].type!=5 and (p1.field[6].cant_be_targeted_by_abilities or p1.field[6].cant_be_targeted_by_hero_powers) else 0,\n",
      "\"myfield6effects_aura\": 1 if 6 < len(p1.field) and p1.field[6].aura else 0,\n",
      "\"myfield6effects_deathrattle\": 1 if 6 < len(p1.field) and p1.field[6].type!=5 and p1.field[6].has_deathrattle else 0,\n",
      "\"myfield6effects_frozen\": 1 if 6 < len(p1.field) and p1.field[6].type!=5 and p1.field[6].frozen else 0,\n",
      "\"myfield6effects_silenced\": 1 if 6 < len(p1.field) and p1.field[6].type!=5 and p1.field[6].silenced else 0,\n",
      "\"oppfield0effects_windfury\": 1 if 0 < len(p2.field) and p2.field[0].windfury else 0,\n",
      "\"oppfield0effects_divineshield\": 1 if 0 < len(p2.field) and p2.field[0].type!=5 and p2.field[0].divine_shield else 0,\n",
      "\"oppfield0effects_charge\": 1 if 0 < len(p2.field) and p2.field[0].type!=5 and p2.field[0].charge else 0,\n",
      "\"oppfield0effects_taunt\": 1 if 0 < len(p2.field) and p2.field[0].type!=5 and p2.field[0].taunt else 0,\n",
      "\"oppfield0effects_stealth\": 1 if 0 < len(p2.field) and p2.field[0].type!=5 and p2.field[0].stealthed else 0,\n",
      "\"oppfield0effects_poisonous\": 1 if 0 < len(p2.field) and p2.field[0].type!=5 and p2.field[0].poisonous else 0,\n",
      "\"oppfield0effects_cantbetargeted\": 1 if 0 < len(p2.field) and p2.field[0].type!=5 and (p2.field[0].cant_be_targeted_by_abilities or p2.field[0].cant_be_targeted_by_hero_powers) else 0,\n",
      "\"oppfield0effects_aura\": 1 if 0 < len(p2.field) and p2.field[0].aura else 0,\n",
      "\"oppfield0effects_deathrattle\": 1 if 0 < len(p2.field) and p2.field[0].type!=5 and p2.field[0].has_deathrattle else 0,\n",
      "\"oppfield0effects_frozen\": 1 if 0 < len(p2.field) and p2.field[0].type!=5 and p2.field[0].frozen else 0,\n",
      "\"oppfield0effects_silenced\": 1 if 0 < len(p2.field) and p2.field[0].type!=5 and p2.field[0].silenced else 0,\n",
      "\"oppfield1effects_windfury\": 1 if 1 < len(p2.field) and p2.field[1].windfury else 0,\n",
      "\"oppfield1effects_divineshield\": 1 if 1 < len(p2.field) and p2.field[1].type!=5 and p2.field[1].divine_shield else 0,\n",
      "\"oppfield1effects_charge\": 1 if 1 < len(p2.field) and p2.field[1].type!=5 and p2.field[1].charge else 0,\n",
      "\"oppfield1effects_taunt\": 1 if 1 < len(p2.field) and p2.field[1].type!=5 and p2.field[1].taunt else 0,\n",
      "\"oppfield1effects_stealth\": 1 if 1 < len(p2.field) and p2.field[1].type!=5 and p2.field[1].stealthed else 0,\n",
      "\"oppfield1effects_poisonous\": 1 if 1 < len(p2.field) and p2.field[1].type!=5 and p2.field[1].poisonous else 0,\n",
      "\"oppfield1effects_cantbetargeted\": 1 if 1 < len(p2.field) and p2.field[1].type!=5 and (p2.field[1].cant_be_targeted_by_abilities or p2.field[1].cant_be_targeted_by_hero_powers) else 0,\n",
      "\"oppfield1effects_aura\": 1 if 1 < len(p2.field) and p2.field[1].aura else 0,\n",
      "\"oppfield1effects_deathrattle\": 1 if 1 < len(p2.field) and p2.field[1].type!=5 and p2.field[1].has_deathrattle else 0,\n",
      "\"oppfield1effects_frozen\": 1 if 1 < len(p2.field) and p2.field[1].type!=5 and p2.field[1].frozen else 0,\n",
      "\"oppfield1effects_silenced\": 1 if 1 < len(p2.field) and p2.field[1].type!=5 and p2.field[1].silenced else 0,\n",
      "\"oppfield2effects_windfury\": 1 if 2 < len(p2.field) and p2.field[2].windfury else 0,\n",
      "\"oppfield2effects_divineshield\": 1 if 2 < len(p2.field) and p2.field[2].type!=5 and p2.field[2].divine_shield else 0,\n",
      "\"oppfield2effects_charge\": 1 if 2 < len(p2.field) and p2.field[2].type!=5 and p2.field[2].charge else 0,\n",
      "\"oppfield2effects_taunt\": 1 if 2 < len(p2.field) and p2.field[2].type!=5 and p2.field[2].taunt else 0,\n",
      "\"oppfield2effects_stealth\": 1 if 2 < len(p2.field) and p2.field[2].type!=5 and p2.field[2].stealthed else 0,\n",
      "\"oppfield2effects_poisonous\": 1 if 2 < len(p2.field) and p2.field[2].type!=5 and p2.field[2].poisonous else 0,\n",
      "\"oppfield2effects_cantbetargeted\": 1 if 2 < len(p2.field) and p2.field[2].type!=5 and (p2.field[2].cant_be_targeted_by_abilities or p2.field[2].cant_be_targeted_by_hero_powers) else 0,\n",
      "\"oppfield2effects_aura\": 1 if 2 < len(p2.field) and p2.field[2].aura else 0,\n",
      "\"oppfield2effects_deathrattle\": 1 if 2 < len(p2.field) and p2.field[2].type!=5 and p2.field[2].has_deathrattle else 0,\n",
      "\"oppfield2effects_frozen\": 1 if 2 < len(p2.field) and p2.field[2].type!=5 and p2.field[2].frozen else 0,\n",
      "\"oppfield2effects_silenced\": 1 if 2 < len(p2.field) and p2.field[2].type!=5 and p2.field[2].silenced else 0,\n",
      "\"oppfield3effects_windfury\": 1 if 3 < len(p2.field) and p2.field[3].windfury else 0,\n",
      "\"oppfield3effects_divineshield\": 1 if 3 < len(p2.field) and p2.field[3].type!=5 and p2.field[3].divine_shield else 0,\n",
      "\"oppfield3effects_charge\": 1 if 3 < len(p2.field) and p2.field[3].type!=5 and p2.field[3].charge else 0,\n",
      "\"oppfield3effects_taunt\": 1 if 3 < len(p2.field) and p2.field[3].type!=5 and p2.field[3].taunt else 0,\n",
      "\"oppfield3effects_stealth\": 1 if 3 < len(p2.field) and p2.field[3].type!=5 and p2.field[3].stealthed else 0,\n",
      "\"oppfield3effects_poisonous\": 1 if 3 < len(p2.field) and p2.field[3].type!=5 and p2.field[3].poisonous else 0,\n",
      "\"oppfield3effects_cantbetargeted\": 1 if 3 < len(p2.field) and p2.field[3].type!=5 and (p2.field[3].cant_be_targeted_by_abilities or p2.field[3].cant_be_targeted_by_hero_powers) else 0,\n",
      "\"oppfield3effects_aura\": 1 if 3 < len(p2.field) and p2.field[3].aura else 0,\n",
      "\"oppfield3effects_deathrattle\": 1 if 3 < len(p2.field) and p2.field[3].type!=5 and p2.field[3].has_deathrattle else 0,\n",
      "\"oppfield3effects_frozen\": 1 if 3 < len(p2.field) and p2.field[3].type!=5 and p2.field[3].frozen else 0,\n",
      "\"oppfield3effects_silenced\": 1 if 3 < len(p2.field) and p2.field[3].type!=5 and p2.field[3].silenced else 0,\n",
      "\"oppfield4effects_windfury\": 1 if 4 < len(p2.field) and p2.field[4].windfury else 0,\n",
      "\"oppfield4effects_divineshield\": 1 if 4 < len(p2.field) and p2.field[4].type!=5 and p2.field[4].divine_shield else 0,\n",
      "\"oppfield4effects_charge\": 1 if 4 < len(p2.field) and p2.field[4].type!=5 and p2.field[4].charge else 0,\n",
      "\"oppfield4effects_taunt\": 1 if 4 < len(p2.field) and p2.field[4].type!=5 and p2.field[4].taunt else 0,\n",
      "\"oppfield4effects_stealth\": 1 if 4 < len(p2.field) and p2.field[4].type!=5 and p2.field[4].stealthed else 0,\n",
      "\"oppfield4effects_poisonous\": 1 if 4 < len(p2.field) and p2.field[4].type!=5 and p2.field[4].poisonous else 0,\n",
      "\"oppfield4effects_cantbetargeted\": 1 if 4 < len(p2.field) and p2.field[4].type!=5 and (p2.field[4].cant_be_targeted_by_abilities or p2.field[4].cant_be_targeted_by_hero_powers) else 0,\n",
      "\"oppfield4effects_aura\": 1 if 4 < len(p2.field) and p2.field[4].aura else 0,\n",
      "\"oppfield4effects_deathrattle\": 1 if 4 < len(p2.field) and p2.field[4].type!=5 and p2.field[4].has_deathrattle else 0,\n",
      "\"oppfield4effects_frozen\": 1 if 4 < len(p2.field) and p2.field[4].type!=5 and p2.field[4].frozen else 0,\n",
      "\"oppfield4effects_silenced\": 1 if 4 < len(p2.field) and p2.field[4].type!=5 and p2.field[4].silenced else 0,\n",
      "\"oppfield5effects_windfury\": 1 if 5 < len(p2.field) and p2.field[5].windfury else 0,\n",
      "\"oppfield5effects_divineshield\": 1 if 5 < len(p2.field) and p2.field[5].type!=5 and p2.field[5].divine_shield else 0,\n",
      "\"oppfield5effects_charge\": 1 if 5 < len(p2.field) and p2.field[5].type!=5 and p2.field[5].charge else 0,\n",
      "\"oppfield5effects_taunt\": 1 if 5 < len(p2.field) and p2.field[5].type!=5 and p2.field[5].taunt else 0,\n",
      "\"oppfield5effects_stealth\": 1 if 5 < len(p2.field) and p2.field[5].type!=5 and p2.field[5].stealthed else 0,\n",
      "\"oppfield5effects_poisonous\": 1 if 5 < len(p2.field) and p2.field[5].type!=5 and p2.field[5].poisonous else 0,\n",
      "\"oppfield5effects_cantbetargeted\": 1 if 5 < len(p2.field) and p2.field[5].type!=5 and (p2.field[5].cant_be_targeted_by_abilities or p2.field[5].cant_be_targeted_by_hero_powers) else 0,\n",
      "\"oppfield5effects_aura\": 1 if 5 < len(p2.field) and p2.field[5].aura else 0,\n",
      "\"oppfield5effects_deathrattle\": 1 if 5 < len(p2.field) and p2.field[5].type!=5 and p2.field[5].has_deathrattle else 0,\n",
      "\"oppfield5effects_frozen\": 1 if 5 < len(p2.field) and p2.field[5].type!=5 and p2.field[5].frozen else 0,\n",
      "\"oppfield5effects_silenced\": 1 if 5 < len(p2.field) and p2.field[5].type!=5 and p2.field[5].silenced else 0,\n",
      "\"oppfield6effects_windfury\": 1 if 6 < len(p2.field) and p2.field[6].windfury else 0,\n",
      "\"oppfield6effects_divineshield\": 1 if 6 < len(p2.field) and p2.field[6].type!=5 and p2.field[6].divine_shield else 0,\n",
      "\"oppfield6effects_charge\": 1 if 6 < len(p2.field) and p2.field[6].type!=5 and p2.field[6].charge else 0,\n",
      "\"oppfield6effects_taunt\": 1 if 6 < len(p2.field) and p2.field[6].type!=5 and p2.field[6].taunt else 0,\n",
      "\"oppfield6effects_stealth\": 1 if 6 < len(p2.field) and p2.field[6].type!=5 and p2.field[6].stealthed else 0,\n",
      "\"oppfield6effects_poisonous\": 1 if 6 < len(p2.field) and p2.field[6].type!=5 and p2.field[6].poisonous else 0,\n",
      "\"oppfield6effects_cantbetargeted\": 1 if 6 < len(p2.field) and p2.field[6].type!=5 and (p2.field[6].cant_be_targeted_by_abilities or p2.field[6].cant_be_targeted_by_hero_powers) else 0,\n",
      "\"oppfield6effects_aura\": 1 if 6 < len(p2.field) and p2.field[6].aura else 0,\n",
      "\"oppfield6effects_deathrattle\": 1 if 6 < len(p2.field) and p2.field[6].type!=5 and p2.field[6].has_deathrattle else 0,\n",
      "\"oppfield6effects_frozen\": 1 if 6 < len(p2.field) and p2.field[6].type!=5 and p2.field[6].frozen else 0,\n",
      "\"oppfield6effects_silenced\": 1 if 6 < len(p2.field) and p2.field[6].type!=5 and p2.field[6].silenced else 0,\n"
     ]
    }
   ],
   "source": [
    "print(\"\\n\".join(newcode))"
   ]
  },
  {
   "cell_type": "code",
   "execution_count": null,
   "id": "4931500a",
   "metadata": {},
   "outputs": [],
   "source": []
  },
  {
   "cell_type": "code",
   "execution_count": null,
   "id": "3629b06b",
   "metadata": {},
   "outputs": [],
   "source": []
  },
  {
   "cell_type": "code",
   "execution_count": null,
   "id": "808d6b7a",
   "metadata": {},
   "outputs": [],
   "source": []
  },
  {
   "cell_type": "code",
   "execution_count": 36,
   "id": "af276b4d",
   "metadata": {},
   "outputs": [
    {
     "data": {
      "text/plain": [
       "[<CardClass.INVALID: 0>,\n",
       " <CardClass.DEATHKNIGHT: 1>,\n",
       " <CardClass.DRUID: 2>,\n",
       " <CardClass.HUNTER: 3>,\n",
       " <CardClass.MAGE: 4>,\n",
       " <CardClass.PALADIN: 5>,\n",
       " <CardClass.PRIEST: 6>,\n",
       " <CardClass.ROGUE: 7>,\n",
       " <CardClass.SHAMAN: 8>,\n",
       " <CardClass.WARLOCK: 9>,\n",
       " <CardClass.WARRIOR: 10>,\n",
       " <CardClass.DREAM: 11>,\n",
       " <CardClass.NEUTRAL: 12>,\n",
       " <CardClass.WHIZBANG: 13>,\n",
       " <CardClass.DEMONHUNTER: 14>]"
      ]
     },
     "execution_count": 36,
     "metadata": {},
     "output_type": "execute_result"
    }
   ],
   "source": [
    "from hearthstone.enums import PlayState, Step, Mulligan, State, CardClass, Race, CardSet, CardType\n",
    "\n",
    "list(CardClass)"
   ]
  },
  {
   "cell_type": "code",
   "execution_count": 68,
   "id": "46d052a5",
   "metadata": {},
   "outputs": [],
   "source": [
    "class HearthstoneUnnestedEnv():\n",
    "    \n",
    "    def setup_game(self):\n",
    "            while True:\n",
    "                print(\"iter\")\n",
    "                try:\n",
    "                    # At the root pretend the player just moved is p2 - p1 has the first move\n",
    "                    self.playerJustMoved=2\n",
    "                    self.playerToMove=1\n",
    "                    self.players_ordered=None\n",
    "                    self.hero1=random.choice(list(CardClass))\n",
    "                    self.deck1=None\n",
    "                    self.hero2=random.choice(list(CardClass))\n",
    "                    self.deck2=None\n",
    "                    self.game=None\n",
    "                    self.lastMovePlayed=None\n",
    "                    if self.hero1 is None or self.hero2 is None or self.deck1 is None or self.deck2 is None:\n",
    "                        self.deck1=[]\n",
    "                        self.deck2=[]\n",
    "                        self.collection1 = []\n",
    "                        self.collection2 = []\n",
    "                        for card in cards.db.keys():\n",
    "                            if str(card) not in implemented_cards:\n",
    "                                continue\n",
    "                            cls = cards.db[card]\n",
    "                            if not cls.collectible:\n",
    "                                continue\n",
    "                            if cls.type == CardType.HERO:\n",
    "                                # Heroes are collectible...\n",
    "                                continue\n",
    "                            if cls.card_class and cls.card_class in [self.hero1, CardClass.NEUTRAL]:\n",
    "                                # Play with more possibilities\n",
    "                                self.collection1.append(cls)\n",
    "                            if cls.card_class and cls.card_class in [self.hero2, CardClass.NEUTRAL]:\n",
    "                                # Play with more possibilities\n",
    "                                self.collection2.append(cls)\n",
    "                            \n",
    "\n",
    "                        while len(self.deck1) < Deck.MAX_CARDS:\n",
    "                            card = random.choice(self.collection1)\n",
    "                            if self.deck1.count(card.id) < card.max_count_in_deck:\n",
    "                                self.deck1.append(card.id)\n",
    "\n",
    "                        while len(self.deck2) < Deck.MAX_CARDS:\n",
    "                            card = random.choice(self.collection2)\n",
    "                            if self.deck2.count(card.id) < card.max_count_in_deck:\n",
    "                                self.deck2.append(card.id)\n",
    "\n",
    "                        self.player1=Player(\"Player1\", self.deck1, self.hero1.default_hero)\n",
    "                        self.player2=Player(\"Player2\", self.deck2, self.hero2.default_hero)\n",
    "\n",
    "                        self.game=Game(players=(self.player1, self.player2))\n",
    "                        self.game.start()\n",
    "                        self.players_ordered=[self.game.player1, self.game.player2]\n",
    "                        # At the root pretend the player just moved is p2 - p1 has the first move\n",
    "                        self.playerJustMoved=2\n",
    "                        self.playerToMove=1\n",
    "                        self.lastMovePlayed=None\n",
    "                        return\n",
    "                except Exception as ex:\n",
    "                    print(\"exception making decks--trying again\"+str(ex))"
   ]
  },
  {
   "cell_type": "code",
   "execution_count": 69,
   "id": "88f2079d",
   "metadata": {
    "scrolled": false
   },
   "outputs": [
    {
     "name": "stdout",
     "output_type": "stream",
     "text": [
      "iter\n"
     ]
    },
    {
     "name": "stderr",
     "output_type": "stream",
     "text": [
      "[fireplace.entity]: Setting up game Game(players=(Player(name='Player1', hero=None), Player(name='Player2', hero=None)))\n",
      "[fireplace.entity]: Tossing the coin... Player1 wins!\n",
      "[fireplace.actions]: Player(name='Player1', hero=<Hero ('Rexxar')>) triggering <TargetedAction: Summon(<Summon.CARD>=<HeroPower ('Steady Shot')>)> targeting [Player(name='Player1', hero=<Hero ('Rexxar')>)]\n",
      "[fireplace.actions]: Player1 summons [<HeroPower ('Steady Shot')>]\n",
      "[fireplace.entity]: Empty stack, refreshing auras and processing deaths\n",
      "[fireplace.actions]: Player(name='Player1', hero=<Hero ('Rexxar')>) triggering <TargetedAction: Summon(<Summon.CARD>=<Hero ('Rexxar')>)> targeting [Player(name='Player1', hero=<Hero ('Rexxar')>)]\n",
      "[fireplace.actions]: Player1 summons [<Hero ('Rexxar')>]\n",
      "[fireplace.entity]: Empty stack, refreshing auras and processing deaths\n",
      "[fireplace.entity]: Player(name='Player1', hero=<Hero ('Rexxar')>) shuffles their deck\n",
      "[fireplace.card]: <Minion ('Cauldron Elemental')> moves from <Zone.DECK: 2> to <Zone.HAND: 3>\n",
      "[fireplace.card]: <Spell ('Cybertech Chip')> moves from <Zone.DECK: 2> to <Zone.HAND: 3>\n",
      "[fireplace.card]: <Minion (\"Y'Shaarj, Rage Unbound\")> moves from <Zone.DECK: 2> to <Zone.HAND: 3>\n",
      "[fireplace.actions]: Player(name='Player2', hero=<Hero ('Garrosh Hellscream')>) triggering <TargetedAction: Summon(<Summon.CARD>=<HeroPower ('Armor Up!')>)> targeting [Player(name='Player2', hero=<Hero ('Garrosh Hellscream')>)]\n",
      "[fireplace.actions]: Player2 summons [<HeroPower ('Armor Up!')>]\n",
      "[fireplace.entity]: Empty stack, refreshing auras and processing deaths\n",
      "[fireplace.actions]: Player(name='Player2', hero=<Hero ('Garrosh Hellscream')>) triggering <TargetedAction: Summon(<Summon.CARD>=<Hero ('Garrosh Hellscream')>)> targeting [Player(name='Player2', hero=<Hero ('Garrosh Hellscream')>)]\n",
      "[fireplace.actions]: Player2 summons [<Hero ('Garrosh Hellscream')>]\n",
      "[fireplace.entity]: Empty stack, refreshing auras and processing deaths\n",
      "[fireplace.entity]: Player(name='Player2', hero=<Hero ('Garrosh Hellscream')>) shuffles their deck\n",
      "[fireplace.card]: <Minion ('Murloc Raider')> moves from <Zone.DECK: 2> to <Zone.HAND: 3>\n",
      "[fireplace.card]: <Minion ('Aya Blackpaw')> moves from <Zone.DECK: 2> to <Zone.HAND: 3>\n",
      "[fireplace.card]: <Spell ('Rocket Boots')> moves from <Zone.DECK: 2> to <Zone.HAND: 3>\n",
      "[fireplace.card]: <Minion ('Fire Plume Phoenix')> moves from <Zone.DECK: 2> to <Zone.HAND: 3>\n",
      "[fireplace.entity]: Entering mulligan phase\n"
     ]
    }
   ],
   "source": [
    "a=HearthstoneUnnestedEnv()\n",
    "a.setup_game()"
   ]
  },
  {
   "cell_type": "code",
   "execution_count": 70,
   "id": "5e79c620",
   "metadata": {},
   "outputs": [
    {
     "name": "stdout",
     "output_type": "stream",
     "text": [
      "872\n",
      "859\n"
     ]
    }
   ],
   "source": [
    "print(len(a.collection1))\n",
    "print(len(a.collection2))"
   ]
  },
  {
   "cell_type": "code",
   "execution_count": 77,
   "id": "6712a904",
   "metadata": {},
   "outputs": [
    {
     "data": {
      "text/plain": [
       "[<Minion ('Cauldron Elemental')>,\n",
       " <Spell ('Cybertech Chip')>,\n",
       " <Minion (\"Y'Shaarj, Rage Unbound\")>]"
      ]
     },
     "execution_count": 77,
     "metadata": {},
     "output_type": "execute_result"
    }
   ],
   "source": [
    "a.player1.choice.cards"
   ]
  },
  {
   "cell_type": "code",
   "execution_count": 78,
   "id": "cd3e6256",
   "metadata": {},
   "outputs": [
    {
     "data": {
      "text/plain": [
       "[<Minion ('Cauldron Elemental')>,\n",
       " <Spell ('Cybertech Chip')>,\n",
       " <Minion (\"Y'Shaarj, Rage Unbound\")>]"
      ]
     },
     "execution_count": 78,
     "metadata": {},
     "output_type": "execute_result"
    }
   ],
   "source": [
    "a.player1.hand"
   ]
  },
  {
   "cell_type": "code",
   "execution_count": 79,
   "id": "43322276",
   "metadata": {},
   "outputs": [],
   "source": [
    "a.game.current_player"
   ]
  },
  {
   "cell_type": "markdown",
   "id": "8f7dcea9",
   "metadata": {},
   "source": [
    "**\\_\\_init\\_\\_**  Inicializa los espacios de acción y observaciones y llama a **setup_game()**\n",
    "\n",
    "**reset**  Llama a **setup_game()** y devuelve el estado inicial: **self._get_state()** definida en **gym.Env**\n",
    "\n",
    "**setup_game()** Realiza varias acciones:\n",
    "* Elige un HERO para cada jugador\n",
    "* Crea un deck para cada jugador\n",
    "* Inicializa el juego e invoca a la funcion START()\n",
    "\n",
    "**step(action)** El método se limita a invocar a las funciones **_take_action(action)**, **._get_reward()** y **_get_state()**. Se le pasa una de las 869 acciones definidas y devuelve 4 elementos:\n",
    "* una observación del entorno\n",
    "* la reward conseguida con esa acción\n",
    "* buleano diciendo si el episodio a terminado\n",
    "* info para debugging  \n",
    "\n",
    "**\\_\\_getMoves**: Pedirle a Jesús que lo revise. En función del momento del juego, los movimientos posibles son Move.mulligan, Move.choice o Move.play_card, Move.hero_power, Move.minion_attack, Move.hero_attack y Move.end_turn. Ojo, el movimiento Move.end_turn parece que no se añade siempre. Y cuando se meter por el ELSE identificado como \"# Play card\", valid_moves no sería una lista vacía?? Por qué hace un range(len(valid_moves))???\n",
    "\n",
    "\n",
    "**\\_\\_doMove**: Pedirle a Jesús que lo revise. Entre otras cosas, cambia el valor del turno del jugador. \n",
    "\n",
    "\n",
    "**_take_action** Empieza calculando cuales son las posibles acciones. Y de todas las posibles acciones eliminar acciones que ya hayan sido seleccionadas antes (y que estarán en la lista **alreadySelectedActions**). El caso es que hay un punto de fallo en el que se eliminan las acciones que ya se han elegido y puede darse la circunstancia que las posibles acciones queden a 0. Por lo que el programa falla. Preguntar a Jesús si tiene sentido.\n",
    "Quiero entender que un jugador puede hacer todos los movimientos que quiera antes de pasar el turno?? La función **\\_\\_getMoves** debería de devolver una lista con acciones entre las que se incluya el valor Move.end_turn??\n",
    "\n",
    "El funcionamiento en general es que la AI que estamos entrenado realiza la acción pedida y la añade a la lista **alreadySelectedActions** para evitar que se vuelva a usar otra vez. En caso de que la acción seleccionada fuera una pérdida de turno para la AI, entonces:\n",
    "1. se le pasa el turno al otro player (llamado RANDOM) invocando a la función \\_\\_doMove con la acción\n",
    "2. se vacía la lista alreadySelectedActions \n",
    "3. se obtienen las posibles acciones del RANDOM player\n",
    "4. se elige una acción random de entre las disponibles\n",
    "5. se añade a la lista alreadySelectedActions\n",
    "6. se realiza la acción elegida\n",
    "7. Se vuelven a calcular las posibles acciones\n",
    "8. se eliminan las que ya se hayan elegido antes\n",
    "9. se vuelve a elegir otra random. \n",
    "10. Y así hasta que se sevuelva la acción Move.end_turn en cuyo caso se ejecuta, se vacía la lista alreadySelectedActions y se le pasa el turno al jugador AI\n",
    "\n",
    "\n",
    "Tampoco entiendo porqué si hay 869 acciones que parece que están asignadas, al final, se llena la lista de 869 acciones con repeticiones de las acciones posibles. No debería corresponderse siempre un número con la misma acción????\n",
    "\n",
    "**\\_get_reward**  "
   ]
  },
  {
   "cell_type": "code",
   "execution_count": null,
   "id": "b9bf4c59",
   "metadata": {},
   "outputs": [],
   "source": []
  }
 ],
 "metadata": {
  "kernelspec": {
   "display_name": "Python 3.9 [RLGAMES]",
   "language": "python",
   "name": "rlgames"
  },
  "language_info": {
   "codemirror_mode": {
    "name": "ipython",
    "version": 3
   },
   "file_extension": ".py",
   "mimetype": "text/x-python",
   "name": "python",
   "nbconvert_exporter": "python",
   "pygments_lexer": "ipython3",
   "version": "3.9.16"
  }
 },
 "nbformat": 4,
 "nbformat_minor": 5
}
