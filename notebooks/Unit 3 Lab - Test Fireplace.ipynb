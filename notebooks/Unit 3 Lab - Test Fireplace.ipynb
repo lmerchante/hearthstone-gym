{
 "cells": [
  {
   "cell_type": "markdown",
   "id": "df8966f6",
   "metadata": {},
   "source": [
    "# Train your first Deep Reinforcement Learning Agent\n",
    "\n",
    "PYTHON 3.9"
   ]
  },
  {
   "cell_type": "code",
   "execution_count": 1,
   "id": "bc58fdb7",
   "metadata": {},
   "outputs": [],
   "source": [
    "from fireplace import cards, exceptions, utils\n",
    "from fireplace.player import Player\n",
    "from fireplace.game import Game\n",
    "from fireplace.deck import Deck\n",
    "from fireplace.utils import get_script_definition, random_draft"
   ]
  },
  {
   "cell_type": "code",
   "execution_count": 2,
   "id": "38df8027",
   "metadata": {},
   "outputs": [],
   "source": [
    "from hearthstone.enums import PlayState, Step, Mulligan, State, CardClass, Race, CardSet, CardType"
   ]
  },
  {
   "cell_type": "code",
   "execution_count": 3,
   "id": "d8fffb58",
   "metadata": {},
   "outputs": [],
   "source": [
    "import re\n",
    "import string\n",
    "import random"
   ]
  },
  {
   "cell_type": "code",
   "execution_count": 4,
   "id": "601b4826",
   "metadata": {},
   "outputs": [
    {
     "name": "stderr",
     "output_type": "stream",
     "text": [
      "[fireplace.__init__]: Initializing card database\n",
      "[fireplace.__init__]: Merged 26667 cards\n"
     ]
    }
   ],
   "source": [
    "cards.db.initialize()"
   ]
  },
  {
   "cell_type": "code",
   "execution_count": 5,
   "id": "b2051694",
   "metadata": {},
   "outputs": [],
   "source": [
    "GREEN = \"\\033[92m\"\n",
    "RED = \"\\033[91m\"\n",
    "ENDC = \"\\033[0m\"\n",
    "PREFIXES = {\n",
    "    GREEN: \"Implemented\",\n",
    "    RED: \"Not implemented\",\n",
    "}\n",
    "implemented_cards = []\n",
    "unimplemented_cards = []"
   ]
  },
  {
   "cell_type": "code",
   "execution_count": 6,
   "id": "a9992743",
   "metadata": {},
   "outputs": [],
   "source": [
    "SOLVED_KEYWORDS = [\n",
    "    \"Windfury\", \"Charge\", \"Divine Shield\", \"Taunt\", \"Stealth\", \"Poisonous\",\n",
    "    r\"Can't be targeted by spells or Hero Powers\\.\",\n",
    "    r\"Can't attack\\.\",\n",
    "    \"Destroy any minion damaged by this minion.\",\n",
    "    r\"Your Hero Power deals \\d+ extra damage.\",\n",
    "    r\"Spell Damage \\+\\d+\",\n",
    "    r\"Overload: \\(\\d+\\)\",\n",
    "]"
   ]
  },
  {
   "cell_type": "code",
   "execution_count": 7,
   "id": "fecae9db",
   "metadata": {},
   "outputs": [],
   "source": [
    "DUMMY_CARDS = (\n",
    "    \"PlaceholderCard\",  # Placeholder Card\n",
    "    \"CS2_022e\",  # Polymorph\n",
    "    \"EX1_246e\",  # Hexxed\n",
    "    \"EX1_345t\",  # Shadow of Nothing\n",
    "    \"GAME_006\",  # NOOOOOOOOOOOO\n",
    "    \"LOEA04_27\",  # Animated Statue\n",
    "    \"Mekka4e\",  # Transformed\n",
    "    \"NEW1_025e\",  # Bolstered (Unused)\n",
    "    \"TU4c_005\",  # Hidden Gnome\n",
    "    \"TU4c_007\",  # Mukla's Big Brother\n",
    "\n",
    "    # Dynamic buffs set by their parent\n",
    "    \"CS2_236e\",  # Divine Spirit\n",
    "    \"EX1_304e\",  # Consume (Void Terror)\n",
    "    \"LOE_030e\",  # Hollow (Unused)\n",
    "    \"NEW1_018e\",  # Treasure Crazed (Bloodsail Raider)\n",
    ")"
   ]
  },
  {
   "cell_type": "markdown",
   "id": "e4582388",
   "metadata": {},
   "source": [
    "Por algun motivo separo unas cartas que llamo IMPLEMENTADAS de unas cartas que llamo NO_IMPLEMENTADAS"
   ]
  },
  {
   "cell_type": "code",
   "execution_count": 8,
   "id": "d1db6336",
   "metadata": {},
   "outputs": [
    {
     "name": "stdout",
     "output_type": "stream",
     "text": [
      "IMPLEMENTED CARDS: 8042\n",
      "UNIMPLEMENTED CARDS: 18625\n"
     ]
    }
   ],
   "source": [
    "for id in sorted(cards.db):\n",
    "    card = cards.db[id]\n",
    "    ret = card.description\n",
    "    ret = re.sub(\"<i>.+</i>\", \"\", ret)\n",
    "    ret = re.sub(\"(<b>|</b>)\", \"\", ret)\n",
    "    ret = re.sub(\"(\" + \"|\".join(SOLVED_KEYWORDS) + \")\", \"\", ret)\n",
    "    ret = re.sub(\"<[^>]*>\", \"\", ret)\n",
    "    exclude_chars = string.punctuation + string.whitespace\n",
    "    ret = \"\".join([ch for ch in ret if ch not in exclude_chars])\n",
    "    description = ret\n",
    "    implemented = False\n",
    "\n",
    "    if not description:\n",
    "        # Minions without card text or with basic abilities are implemented\n",
    "        implemented = True\n",
    "    elif card.card_set == CardSet.CREDITS:\n",
    "        implemented = True\n",
    "\n",
    "    if id in DUMMY_CARDS:\n",
    "        implemented = True\n",
    "\n",
    "    carddef = get_script_definition(id)\n",
    "    if carddef:\n",
    "        implemented = True\n",
    "\n",
    "    color = GREEN if implemented else RED\n",
    "    name = color + \"%s: %s\" % (PREFIXES[color], card.name) + ENDC\n",
    "\n",
    "    if implemented:\n",
    "        implemented_cards.append(card.id)\n",
    "    else:\n",
    "        unimplemented_cards.append(card.id)\n",
    "\n",
    "IMPLEMENTED_CARDS = len(implemented_cards)\n",
    "UNIMPLEMENTED_CARDS = len(unimplemented_cards)\n",
    "\n",
    "print(\"IMPLEMENTED CARDS: \"+str(IMPLEMENTED_CARDS))\n",
    "print(\"UNIMPLEMENTED CARDS: \"+str(UNIMPLEMENTED_CARDS))"
   ]
  },
  {
   "cell_type": "code",
   "execution_count": 9,
   "id": "b46b657c",
   "metadata": {},
   "outputs": [
    {
     "data": {
      "text/plain": [
       "['AIBot_DemonHunterTrainee_001_hb',\n",
       " 'AIBot_DruidTrainee_002_hb',\n",
       " 'AIBot_HunterTrainee_003_hb',\n",
       " 'AIBot_MageTrainee_004_hb',\n",
       " 'AIBot_PaladinTrainee_005_hb']"
      ]
     },
     "execution_count": 9,
     "metadata": {},
     "output_type": "execute_result"
    }
   ],
   "source": [
    "implemented_cards[0:5]"
   ]
  },
  {
   "cell_type": "code",
   "execution_count": 27,
   "id": "5a29d70f",
   "metadata": {},
   "outputs": [],
   "source": [
    "import sys\n",
    "sys.path.append('../gym_hearthstone/envs/decks/classic')\n"
   ]
  },
  {
   "cell_type": "code",
   "execution_count": 67,
   "id": "3c1bc61e",
   "metadata": {},
   "outputs": [],
   "source": [
    "from classic import classic_Zoo_Warlock"
   ]
  },
  {
   "cell_type": "code",
   "execution_count": 68,
   "id": "ef2ed4ba",
   "metadata": {},
   "outputs": [
    {
     "name": "stdout",
     "output_type": "stream",
     "text": [
      "['EX1_308', 'EX1_319', 'EX1_302', 'CS2_189', 'EX1_310', 'CS2_188', 'EX1_029', 'EX1_004', 'EX1_162', 'NEW1_019', 'EX1_393', 'EX1_556', 'EX1_019', 'EX1_046', 'EX1_093', 'EX1_308', 'EX1_319', 'EX1_302', 'CS2_189', 'EX1_310', 'CS2_188', 'EX1_029', 'EX1_004', 'EX1_162', 'NEW1_019', 'EX1_393', 'EX1_556', 'EX1_019', 'EX1_046', 'EX1_093']\n"
     ]
    }
   ],
   "source": [
    "deck = classic_Zoo_Warlock.get_classic_zoo_warlock()\n",
    "print(deck)"
   ]
  },
  {
   "cell_type": "code",
   "execution_count": 69,
   "id": "36d0346a",
   "metadata": {},
   "outputs": [
    {
     "name": "stdout",
     "output_type": "stream",
     "text": [
      "NICE!!\n",
      "NICE!!\n",
      "NICE!!\n",
      "NICE!!\n",
      "NICE!!\n",
      "NICE!!\n",
      "NICE!!\n",
      "NICE!!\n",
      "NICE!!\n",
      "NICE!!\n",
      "NICE!!\n",
      "NICE!!\n",
      "NICE!!\n",
      "NICE!!\n",
      "NICE!!\n",
      "NICE!!\n",
      "NICE!!\n",
      "NICE!!\n",
      "NICE!!\n",
      "NICE!!\n",
      "NICE!!\n",
      "NICE!!\n",
      "NICE!!\n",
      "NICE!!\n",
      "NICE!!\n",
      "NICE!!\n",
      "NICE!!\n",
      "NICE!!\n",
      "NICE!!\n",
      "NICE!!\n"
     ]
    }
   ],
   "source": [
    "for card in deck:\n",
    "    if card in implemented_cards:\n",
    "        print(\"NICE!!\")\n",
    "    else:\n",
    "        print(\"Press F to pay Respects\")"
   ]
  },
  {
   "cell_type": "code",
   "execution_count": null,
   "id": "9b20c46a",
   "metadata": {},
   "outputs": [],
   "source": []
  },
  {
   "cell_type": "code",
   "execution_count": 35,
   "id": "13e3ce51",
   "metadata": {},
   "outputs": [],
   "source": [
    "c=cards.db[implemented_cards[0]]"
   ]
  },
  {
   "cell_type": "code",
   "execution_count": 36,
   "id": "21536251",
   "metadata": {},
   "outputs": [
    {
     "data": {
      "text/plain": [
       "'AIBot_DemonHunterTrainee_001_hb'"
      ]
     },
     "execution_count": 36,
     "metadata": {},
     "output_type": "execute_result"
    }
   ],
   "source": [
    "c.id"
   ]
  },
  {
   "cell_type": "code",
   "execution_count": 31,
   "id": "759cd00d",
   "metadata": {},
   "outputs": [
    {
     "data": {
      "text/plain": [
       "<LOOT_008: 'Psychic Scream'>"
      ]
     },
     "execution_count": 31,
     "metadata": {},
     "output_type": "execute_result"
    }
   ],
   "source": [
    "cards.db[implemented_cards[4726]]"
   ]
  },
  {
   "cell_type": "code",
   "execution_count": 39,
   "id": "cd9ebd62",
   "metadata": {},
   "outputs": [],
   "source": [
    "for c in implemented_cards+unimplemented_cards:\n",
    "    cards.db[c].atk\n",
    "    cards.db[c].health"
   ]
  },
  {
   "cell_type": "markdown",
   "id": "7a0cbe59",
   "metadata": {},
   "source": [
    "Todas las cartas son de tipo **hearthstone.cardxml.CardXML** y todas tienen los mismos atributos, sólo que unos tienen valor y otros no. Por ejemplo, DIVINE_SHIELD, las cartas de tipo SPELL no deberían tenerlo, pero siguen teniendo ese atributo puesto a False"
   ]
  },
  {
   "cell_type": "code",
   "execution_count": 41,
   "id": "9b8dc484",
   "metadata": {},
   "outputs": [],
   "source": [
    "for id in sorted(cards.db):\n",
    "    card = cards.db[id]\n",
    "    card.divine_shield \n",
    "    card.atk\n",
    "    card.health"
   ]
  },
  {
   "cell_type": "markdown",
   "id": "57e7ce21",
   "metadata": {},
   "source": [
    "Importamos diferentes constantes de HEARTHSTONE"
   ]
  },
  {
   "cell_type": "code",
   "execution_count": 52,
   "id": "9698ca94",
   "metadata": {},
   "outputs": [
    {
     "data": {
      "text/plain": [
       "[<PlayState.INVALID: 0>,\n",
       " <PlayState.PLAYING: 1>,\n",
       " <PlayState.WINNING: 2>,\n",
       " <PlayState.LOSING: 3>,\n",
       " <PlayState.WON: 4>,\n",
       " <PlayState.LOST: 5>,\n",
       " <PlayState.TIED: 6>,\n",
       " <PlayState.DISCONNECTED: 7>,\n",
       " <PlayState.CONCEDED: 8>]"
      ]
     },
     "execution_count": 52,
     "metadata": {},
     "output_type": "execute_result"
    }
   ],
   "source": [
    "from hearthstone.enums import PlayState, Step, Mulligan, State, CardClass, Race, CardSet, CardType\n",
    "list(PlayState)"
   ]
  },
  {
   "cell_type": "code",
   "execution_count": 21,
   "id": "bead75a3",
   "metadata": {
    "collapsed": true
   },
   "outputs": [
    {
     "data": {
      "text/plain": [
       "[<Step.INVALID: 0>,\n",
       " <Step.BEGIN_FIRST: 1>,\n",
       " <Step.BEGIN_SHUFFLE: 2>,\n",
       " <Step.BEGIN_DRAW: 3>,\n",
       " <Step.BEGIN_MULLIGAN: 4>,\n",
       " <Step.MAIN_BEGIN: 5>,\n",
       " <Step.MAIN_READY: 6>,\n",
       " <Step.MAIN_RESOURCE: 7>,\n",
       " <Step.MAIN_DRAW: 8>,\n",
       " <Step.MAIN_START: 9>,\n",
       " <Step.MAIN_ACTION: 10>,\n",
       " <Step.MAIN_COMBAT: 11>,\n",
       " <Step.MAIN_END: 12>,\n",
       " <Step.MAIN_NEXT: 13>,\n",
       " <Step.FINAL_WRAPUP: 14>,\n",
       " <Step.FINAL_GAMEOVER: 15>,\n",
       " <Step.MAIN_CLEANUP: 16>,\n",
       " <Step.MAIN_START_TRIGGERS: 17>,\n",
       " <Step.MAIN_SET_ACTION_STEP_TYPE: 18>,\n",
       " <Step.MAIN_PRE_ACTION: 19>,\n",
       " <Step.MAIN_POST_ACTION: 20>]"
      ]
     },
     "execution_count": 21,
     "metadata": {},
     "output_type": "execute_result"
    }
   ],
   "source": [
    "list(Step)"
   ]
  },
  {
   "cell_type": "code",
   "execution_count": 22,
   "id": "43364833",
   "metadata": {},
   "outputs": [
    {
     "data": {
      "text/plain": [
       "[<Mulligan.INVALID: 0>,\n",
       " <Mulligan.INPUT: 1>,\n",
       " <Mulligan.DEALING: 2>,\n",
       " <Mulligan.WAITING: 3>,\n",
       " <Mulligan.DONE: 4>]"
      ]
     },
     "execution_count": 22,
     "metadata": {},
     "output_type": "execute_result"
    }
   ],
   "source": [
    "list(Mulligan)"
   ]
  },
  {
   "cell_type": "code",
   "execution_count": 23,
   "id": "55b4914f",
   "metadata": {},
   "outputs": [
    {
     "data": {
      "text/plain": [
       "[<State.INVALID: 0>,\n",
       " <State.LOADING: 1>,\n",
       " <State.RUNNING: 2>,\n",
       " <State.COMPLETE: 3>]"
      ]
     },
     "execution_count": 23,
     "metadata": {},
     "output_type": "execute_result"
    }
   ],
   "source": [
    "list(State)"
   ]
  },
  {
   "cell_type": "code",
   "execution_count": 24,
   "id": "59c0efc7",
   "metadata": {
    "collapsed": true
   },
   "outputs": [
    {
     "data": {
      "text/plain": [
       "[<CardClass.INVALID: 0>,\n",
       " <CardClass.DEATHKNIGHT: 1>,\n",
       " <CardClass.DRUID: 2>,\n",
       " <CardClass.HUNTER: 3>,\n",
       " <CardClass.MAGE: 4>,\n",
       " <CardClass.PALADIN: 5>,\n",
       " <CardClass.PRIEST: 6>,\n",
       " <CardClass.ROGUE: 7>,\n",
       " <CardClass.SHAMAN: 8>,\n",
       " <CardClass.WARLOCK: 9>,\n",
       " <CardClass.WARRIOR: 10>,\n",
       " <CardClass.DREAM: 11>,\n",
       " <CardClass.NEUTRAL: 12>,\n",
       " <CardClass.WHIZBANG: 13>,\n",
       " <CardClass.DEMONHUNTER: 14>]"
      ]
     },
     "execution_count": 24,
     "metadata": {},
     "output_type": "execute_result"
    }
   ],
   "source": [
    "list(CardClass)"
   ]
  },
  {
   "cell_type": "code",
   "execution_count": 25,
   "id": "e5652b73",
   "metadata": {
    "collapsed": true
   },
   "outputs": [
    {
     "name": "stdout",
     "output_type": "stream",
     "text": [
      "CardClass.INVALID - \n",
      "CardClass.DEATHKNIGHT - HERO_11\n",
      "CardClass.DRUID - HERO_06\n",
      "CardClass.HUNTER - HERO_05\n",
      "CardClass.MAGE - HERO_08\n",
      "CardClass.PALADIN - HERO_04\n",
      "CardClass.PRIEST - HERO_09\n",
      "CardClass.ROGUE - HERO_03\n",
      "CardClass.SHAMAN - HERO_02\n",
      "CardClass.WARLOCK - HERO_07\n",
      "CardClass.WARRIOR - HERO_01\n",
      "CardClass.DREAM - \n",
      "CardClass.NEUTRAL - \n",
      "CardClass.WHIZBANG - BOT_914h\n",
      "CardClass.DEMONHUNTER - HERO_10\n"
     ]
    }
   ],
   "source": [
    "for i in list(CardClass):\n",
    "    print(i,\"-\",i.default_hero)"
   ]
  },
  {
   "cell_type": "markdown",
   "id": "ee07e822",
   "metadata": {},
   "source": [
    "Parece que hay algunas CardClass que no tienen héroe asociado. Cuando hagamos un RANDOM para elegir los héroes de inicio, vamos a eliminar esas que no tengan un héroe asociado porque me da que puede dar un fallo más adelante. Voy a eliminarlas de las opciones"
   ]
  },
  {
   "cell_type": "markdown",
   "id": "e7d74e83",
   "metadata": {},
   "source": [
    "**comentario**\n",
    "<br>\n",
    "Probablemente haya que eliminar WhizBang también (No lo he testeado todavía pero creo que da error en Fireplace porque no está implementada)"
   ]
  },
  {
   "cell_type": "code",
   "execution_count": 32,
   "id": "967af477",
   "metadata": {},
   "outputs": [
    {
     "data": {
      "text/plain": [
       "[<CardClass.DEATHKNIGHT: 1>,\n",
       " <CardClass.DRUID: 2>,\n",
       " <CardClass.HUNTER: 3>,\n",
       " <CardClass.MAGE: 4>,\n",
       " <CardClass.PALADIN: 5>,\n",
       " <CardClass.PRIEST: 6>,\n",
       " <CardClass.ROGUE: 7>,\n",
       " <CardClass.SHAMAN: 8>,\n",
       " <CardClass.WARLOCK: 9>,\n",
       " <CardClass.WARRIOR: 10>,\n",
       " <CardClass.DEMONHUNTER: 14>]"
      ]
     },
     "execution_count": 32,
     "metadata": {},
     "output_type": "execute_result"
    }
   ],
   "source": [
    "heroes=list(CardClass)\n",
    "heroes.remove(CardClass.INVALID)\n",
    "heroes.remove(CardClass.DREAM)\n",
    "heroes.remove(CardClass.NEUTRAL)\n",
    "heroes.remove(CardClass.WHIZBANG)\n",
    "heroes"
   ]
  },
  {
   "cell_type": "code",
   "execution_count": 27,
   "id": "da342366",
   "metadata": {
    "collapsed": true
   },
   "outputs": [
    {
     "data": {
      "text/plain": [
       "[<Race.INVALID: 0>,\n",
       " <Race.BLOODELF: 1>,\n",
       " <Race.DRAENEI: 2>,\n",
       " <Race.DWARF: 3>,\n",
       " <Race.GNOME: 4>,\n",
       " <Race.GOBLIN: 5>,\n",
       " <Race.HUMAN: 6>,\n",
       " <Race.NIGHTELF: 7>,\n",
       " <Race.ORC: 8>,\n",
       " <Race.TAUREN: 9>,\n",
       " <Race.TROLL: 10>,\n",
       " <Race.UNDEAD: 11>,\n",
       " <Race.WORGEN: 12>,\n",
       " <Race.GOBLIN2: 13>,\n",
       " <Race.MURLOC: 14>,\n",
       " <Race.DEMON: 15>,\n",
       " <Race.SCOURGE: 16>,\n",
       " <Race.MECHANICAL: 17>,\n",
       " <Race.ELEMENTAL: 18>,\n",
       " <Race.OGRE: 19>,\n",
       " <Race.BEAST: 20>,\n",
       " <Race.TOTEM: 21>,\n",
       " <Race.NERUBIAN: 22>,\n",
       " <Race.PIRATE: 23>,\n",
       " <Race.DRAGON: 24>,\n",
       " <Race.BLANK: 25>,\n",
       " <Race.ALL: 26>,\n",
       " <Race.EGG: 38>,\n",
       " <Race.QUILBOAR: 43>,\n",
       " <Race.CENTAUR: 80>,\n",
       " <Race.FURBOLG: 81>,\n",
       " <Race.HIGHELF: 83>,\n",
       " <Race.TREANT: 84>,\n",
       " <Race.OWLKIN: 85>,\n",
       " <Race.HALFORC: 88>,\n",
       " <Race.LOCK: 89>,\n",
       " <Race.NAGA: 92>,\n",
       " <Race.OLDGOD: 93>,\n",
       " <Race.PANDAREN: 94>,\n",
       " <Race.GRONN: 95>,\n",
       " <Race.CELESTIAL: 96>,\n",
       " <Race.GNOLL: 97>,\n",
       " <Race.GOLEM: 98>,\n",
       " <Race.HARPY: 99>,\n",
       " <Race.VULPERA: 100>]"
      ]
     },
     "execution_count": 27,
     "metadata": {},
     "output_type": "execute_result"
    }
   ],
   "source": [
    "list(Race)"
   ]
  },
  {
   "cell_type": "code",
   "execution_count": 28,
   "id": "a55ba55b",
   "metadata": {
    "collapsed": true
   },
   "outputs": [
    {
     "data": {
      "text/plain": [
       "[<CardSet.INVALID: 0>,\n",
       " <CardSet.TEST_TEMPORARY: 1>,\n",
       " <CardSet.BASIC: 2>,\n",
       " <CardSet.EXPERT1: 3>,\n",
       " <CardSet.HOF: 4>,\n",
       " <CardSet.MISSIONS: 5>,\n",
       " <CardSet.DEMO: 6>,\n",
       " <CardSet.NONE: 7>,\n",
       " <CardSet.CHEAT: 8>,\n",
       " <CardSet.BLANK: 9>,\n",
       " <CardSet.DEBUG_SP: 10>,\n",
       " <CardSet.PROMO: 11>,\n",
       " <CardSet.NAXX: 12>,\n",
       " <CardSet.GVG: 13>,\n",
       " <CardSet.BRM: 14>,\n",
       " <CardSet.TGT: 15>,\n",
       " <CardSet.CREDITS: 16>,\n",
       " <CardSet.HERO_SKINS: 17>,\n",
       " <CardSet.TB: 18>,\n",
       " <CardSet.SLUSH: 19>,\n",
       " <CardSet.LOE: 20>,\n",
       " <CardSet.OG: 21>,\n",
       " <CardSet.OG_RESERVE: 22>,\n",
       " <CardSet.KARA: 23>,\n",
       " <CardSet.KARA_RESERVE: 24>,\n",
       " <CardSet.GANGS: 25>,\n",
       " <CardSet.GANGS_RESERVE: 26>,\n",
       " <CardSet.UNGORO: 27>,\n",
       " <CardSet.ICECROWN: 1001>,\n",
       " <CardSet.LOOTAPALOOZA: 1004>,\n",
       " <CardSet.GILNEAS: 1125>,\n",
       " <CardSet.BOOMSDAY: 1127>,\n",
       " <CardSet.TROLL: 1129>,\n",
       " <CardSet.DALARAN: 1130>,\n",
       " <CardSet.ULDUM: 1158>,\n",
       " <CardSet.DRAGONS: 1347>,\n",
       " <CardSet.YEAR_OF_THE_DRAGON: 1403>,\n",
       " <CardSet.BLACK_TEMPLE: 1414>,\n",
       " <CardSet.WILD_EVENT: 1439>,\n",
       " <CardSet.SCHOLOMANCE: 1443>,\n",
       " <CardSet.BATTLEGROUNDS: 1453>,\n",
       " <CardSet.DEMON_HUNTER_INITIATE: 1463>,\n",
       " <CardSet.DARKMOON_FAIRE: 1466>,\n",
       " <CardSet.THE_BARRENS: 1525>,\n",
       " <CardSet.WAILING_CAVERNS: 1559>,\n",
       " <CardSet.STORMWIND: 1578>,\n",
       " <CardSet.LETTUCE: 1586>,\n",
       " <CardSet.ALTERAC_VALLEY: 1626>,\n",
       " <CardSet.LEGACY: 1635>,\n",
       " <CardSet.CORE: 1637>,\n",
       " <CardSet.VANILLA: 1646>,\n",
       " <CardSet.THE_SUNKEN_CITY: 1658>,\n",
       " <CardSet.REVENDRETH: 1691>,\n",
       " <CardSet.MERCENARIES_DEV: 1705>,\n",
       " <CardSet.RETURN_OF_THE_LICH_KING: 1776>,\n",
       " <CardSet.BATTLE_OF_THE_BANDS: 1809>,\n",
       " <CardSet.PATH_OF_ARTHAS: 1869>,\n",
       " <CardSet.TAVERNS_OF_TIME: 1143>,\n",
       " <CardSet.PLACEHOLDER_202204: 1810>]"
      ]
     },
     "execution_count": 28,
     "metadata": {},
     "output_type": "execute_result"
    }
   ],
   "source": [
    "list(CardSet)"
   ]
  },
  {
   "cell_type": "code",
   "execution_count": 29,
   "id": "fe32078b",
   "metadata": {
    "collapsed": true
   },
   "outputs": [
    {
     "data": {
      "text/plain": [
       "[<CardType.INVALID: 0>,\n",
       " <CardType.GAME: 1>,\n",
       " <CardType.PLAYER: 2>,\n",
       " <CardType.HERO: 3>,\n",
       " <CardType.MINION: 4>,\n",
       " <CardType.SPELL: 5>,\n",
       " <CardType.ENCHANTMENT: 6>,\n",
       " <CardType.WEAPON: 7>,\n",
       " <CardType.ITEM: 8>,\n",
       " <CardType.TOKEN: 9>,\n",
       " <CardType.HERO_POWER: 10>,\n",
       " <CardType.BLANK: 11>,\n",
       " <CardType.GAME_MODE_BUTTON: 12>,\n",
       " <CardType.MOVE_MINION_HOVER_TARGET: 22>,\n",
       " <CardType.LETTUCE_ABILITY: 23>,\n",
       " <CardType.BATTLEGROUND_HERO_BUDDY: 24>,\n",
       " <CardType.LOCATION: 39>,\n",
       " <CardType.BATTLEGROUND_QUEST_REWARD: 40>]"
      ]
     },
     "execution_count": 29,
     "metadata": {},
     "output_type": "execute_result"
    }
   ],
   "source": [
    "list(CardType)"
   ]
  },
  {
   "cell_type": "markdown",
   "id": "8582212a",
   "metadata": {},
   "source": [
    "Ahora vamos a replicar los pasos de la función **def setup_game(self)** para ver si funciona"
   ]
  },
  {
   "cell_type": "code",
   "execution_count": 33,
   "id": "f74282e7",
   "metadata": {
    "scrolled": true
   },
   "outputs": [
    {
     "name": "stdout",
     "output_type": "stream",
     "text": [
      "CardClass.MAGE\n",
      "HERO_08\n"
     ]
    }
   ],
   "source": [
    "hero1 = CardClass.MAGE\n",
    "print(hero1)\n",
    "print(hero1.default_hero)"
   ]
  },
  {
   "cell_type": "markdown",
   "id": "091ef665",
   "metadata": {},
   "source": [
    "Metemos en una función los comandos que van a elegir las cartas para un determinado héroe. En esas cartas vamos a meter las del héroe más las cartas neutras"
   ]
  },
  {
   "cell_type": "code",
   "execution_count": 34,
   "id": "f8cc3ad2",
   "metadata": {},
   "outputs": [
    {
     "data": {
      "text/plain": [
       "[<CardClass.MAGE: 4>, <CardClass.NEUTRAL: 12>]"
      ]
     },
     "execution_count": 34,
     "metadata": {},
     "output_type": "execute_result"
    }
   ],
   "source": [
    "[hero1, CardClass.NEUTRAL]"
   ]
  },
  {
   "cell_type": "code",
   "execution_count": 35,
   "id": "c5f0561f",
   "metadata": {},
   "outputs": [],
   "source": [
    "def get_collection(heroe):\n",
    "    collection = []\n",
    "    for card in cards.db.keys():\n",
    "        if str(card) not in implemented_cards:\n",
    "                continue\n",
    "        cls = cards.db[card]\n",
    "        if not cls.collectible:\n",
    "            continue\n",
    "        if cls.type == CardType.HERO:\n",
    "            # Heroes are collectible...\n",
    "            continue\n",
    "        if cls.card_class and cls.card_class in [heroe, CardClass.NEUTRAL]:\n",
    "            # Play with more possibilities\n",
    "            collection.append(cls)\n",
    "    count=0\n",
    "    for j in collection:\n",
    "        if j.card_class == heroe:\n",
    "            count=count+1\n",
    "    print(\"Totales Neutras + hero: \",len(collection))\n",
    "    print(\"Cartas de heroe: \",count)\n",
    "    return collection"
   ]
  },
  {
   "cell_type": "markdown",
   "id": "ff5fd8c7",
   "metadata": {},
   "source": [
    "De entre esa collección vamos a elegir las 30 cartas del DECK de cada jugador. Ojo, parece que es posible que los dos players tengan cartas NEUTRAS repetidas ya que las cartas que se le han asignado a un jugador no se eliminan de las cartas que se le van a asignar al segundo jugador. Confirmar con JESUS que es así."
   ]
  },
  {
   "cell_type": "markdown",
   "id": "208bec8a",
   "metadata": {},
   "source": [
    "**comentario**\n",
    "<br>\n",
    "* El máximo número de cartas que se pueden llevar en cada mazo son 2 (No importa si son neutras o de clase)\n",
    "* Lo que sí importa es la rareza de la carta (Común, Poco común o Rara, Épica y Legendaria)\n",
    "* Solo se puede llevar un carta de las legendarias por considerarse más poderosas."
   ]
  },
  {
   "cell_type": "code",
   "execution_count": 36,
   "id": "05cdf16e",
   "metadata": {},
   "outputs": [],
   "source": [
    "def get_deck(collection):\n",
    "    deck=[]\n",
    "    while len(deck) < Deck.MAX_CARDS:\n",
    "        card = random.choice(collection)\n",
    "        if deck.count(card.id) < card.max_count_in_deck:\n",
    "            deck.append(card.id)\n",
    "    return deck"
   ]
  },
  {
   "cell_type": "code",
   "execution_count": 37,
   "id": "d06feb56",
   "metadata": {},
   "outputs": [
    {
     "name": "stdout",
     "output_type": "stream",
     "text": [
      "Totales Neutras + hero:  867\n",
      "Cartas de heroe:  128\n"
     ]
    }
   ],
   "source": [
    "collection1=get_collection(hero1)"
   ]
  },
  {
   "cell_type": "code",
   "execution_count": 38,
   "id": "3e3ad2ca",
   "metadata": {},
   "outputs": [
    {
     "name": "stdout",
     "output_type": "stream",
     "text": [
      "['EX1_162', 'GVG_094', 'LOOT_529', 'NEW1_041', 'KAR_029', 'EX1_062', 'TSC_065', 'EX1_620', 'EX1_508', 'CFM_806', 'LOOT_541', 'GIL_692', 'AT_070', 'OG_151', 'EX1_405', 'DAL_092', 'GIL_622', 'UNG_085', 'EX1_025', 'ICC_082', 'UNG_085', 'EX1_080', 'UNG_941', 'ICC_032', 'ICC_097', 'VAN_EX1_033', 'UNG_070', 'ICC_851', 'ICC_096', 'NEW1_017']\n"
     ]
    }
   ],
   "source": [
    "deck1=get_deck(collection1)\n",
    "print(deck1)"
   ]
  },
  {
   "cell_type": "code",
   "execution_count": 39,
   "id": "f2744551",
   "metadata": {},
   "outputs": [
    {
     "name": "stdout",
     "output_type": "stream",
     "text": [
      "CardClass.DEATHKNIGHT\n",
      "Totales Neutras + hero:  739\n",
      "Cartas de heroe:  0\n",
      "['DAL_090', 'CFM_852', 'OG_082', 'GIL_212', 'EX1_556', 'CFM_025', 'DAL_085', 'AT_111', 'CFM_806', 'EX1_006', 'GVG_114', 'CORE_EX1_017', 'OG_158', 'GVG_110', 'ICC_032', 'TSC_065', 'BOT_555', 'DAL_092', 'CS2_196', 'BOT_401', 'KAR_044', 'KAR_097', 'SCH_143', 'AT_115', 'ICC_913', 'BOT_907', 'CS2_182', 'BOT_562', 'ICC_018', 'LOOT_167']\n"
     ]
    }
   ],
   "source": [
    "hero2=random.choice(heroes)\n",
    "print(hero2)\n",
    "collection2=get_collection(hero2)\n",
    "deck2=get_deck(collection2)\n",
    "print(deck2)"
   ]
  },
  {
   "cell_type": "code",
   "execution_count": 40,
   "id": "1bb18afb",
   "metadata": {},
   "outputs": [],
   "source": [
    "from fireplace.player import Player\n",
    "player1=Player(\"Player1\", deck1, hero1.default_hero)\n",
    "player2=Player(\"Player2\", deck2, hero2.default_hero)"
   ]
  },
  {
   "cell_type": "markdown",
   "id": "4f8fad80",
   "metadata": {},
   "source": [
    "Vemos que inicialmente la mano y el deck de cada jugador están vacías:"
   ]
  },
  {
   "cell_type": "code",
   "execution_count": 41,
   "id": "d2abb81f",
   "metadata": {},
   "outputs": [
    {
     "data": {
      "text/plain": [
       "(<Deck (0 cards)>, [])"
      ]
     },
     "execution_count": 41,
     "metadata": {},
     "output_type": "execute_result"
    }
   ],
   "source": [
    "player1.deck,player1.hand"
   ]
  },
  {
   "cell_type": "code",
   "execution_count": 42,
   "id": "f31e312b",
   "metadata": {},
   "outputs": [
    {
     "data": {
      "text/plain": [
       "(<Deck (0 cards)>, [])"
      ]
     },
     "execution_count": 42,
     "metadata": {},
     "output_type": "execute_result"
    }
   ],
   "source": [
    "player2.deck,player2.hand\n"
   ]
  },
  {
   "cell_type": "markdown",
   "id": "c59fbfc2",
   "metadata": {},
   "source": [
    "# Inciar Juego"
   ]
  },
  {
   "cell_type": "code",
   "execution_count": 43,
   "id": "221dd595",
   "metadata": {},
   "outputs": [
    {
     "name": "stderr",
     "output_type": "stream",
     "text": [
      "[fireplace.entity]: Setting up game Game(players=(Player(name='Player1', hero=None), Player(name='Player2', hero=None)))\n",
      "[fireplace.entity]: Tossing the coin... Player2 wins!\n",
      "[fireplace.actions]: Player(name='Player1', hero=<Hero ('Jaina Proudmoore')>) triggering <TargetedAction: Summon(<Summon.CARD>=<HeroPower ('Fireblast')>)> targeting [Player(name='Player1', hero=<Hero ('Jaina Proudmoore')>)]\n",
      "[fireplace.actions]: Player1 summons [<HeroPower ('Fireblast')>]\n",
      "[fireplace.entity]: Empty stack, refreshing auras and processing deaths\n",
      "[fireplace.actions]: Player(name='Player1', hero=<Hero ('Jaina Proudmoore')>) triggering <TargetedAction: Summon(<Summon.CARD>=<Hero ('Jaina Proudmoore')>)> targeting [Player(name='Player1', hero=<Hero ('Jaina Proudmoore')>)]\n",
      "[fireplace.actions]: Player1 summons [<Hero ('Jaina Proudmoore')>]\n",
      "[fireplace.entity]: Empty stack, refreshing auras and processing deaths\n",
      "[fireplace.entity]: Player(name='Player1', hero=<Hero ('Jaina Proudmoore')>) shuffles their deck\n",
      "[fireplace.card]: <Minion (\"Skycap'n Kragg\")> moves from <Zone.DECK: 2> to <Zone.HAND: 3>\n",
      "[fireplace.card]: <Minion ('Secretkeeper')> moves from <Zone.DECK: 2> to <Zone.HAND: 3>\n",
      "[fireplace.card]: <Minion (\"Tentacle of N'Zoth\")> moves from <Zone.DECK: 2> to <Zone.HAND: 3>\n",
      "[fireplace.card]: <Minion (\"Tol'vir Stoneshaper\")> moves from <Zone.DECK: 2> to <Zone.HAND: 3>\n",
      "[fireplace.actions]: Player(name='Player2', hero=<Hero ('The Lich King')>) triggering <TargetedAction: Summon(<Summon.CARD>=<HeroPower ('Ghoul Charge')>)> targeting [Player(name='Player2', hero=<Hero ('The Lich King')>)]\n",
      "[fireplace.actions]: Player2 summons [<HeroPower ('Ghoul Charge')>]\n",
      "[fireplace.entity]: Empty stack, refreshing auras and processing deaths\n",
      "[fireplace.actions]: Player(name='Player2', hero=<Hero ('The Lich King')>) triggering <TargetedAction: Summon(<Summon.CARD>=<Hero ('The Lich King')>)> targeting [Player(name='Player2', hero=<Hero ('The Lich King')>)]\n",
      "[fireplace.actions]: Player2 summons [<Hero ('The Lich King')>]\n",
      "[fireplace.entity]: Empty stack, refreshing auras and processing deaths\n",
      "[fireplace.entity]: Player(name='Player2', hero=<Hero ('The Lich King')>) shuffles their deck\n",
      "[fireplace.card]: <Minion ('Dalaran Crusader')> moves from <Zone.DECK: 2> to <Zone.HAND: 3>\n",
      "[fireplace.card]: <Minion (\"Sneed's Old Shredder\")> moves from <Zone.DECK: 2> to <Zone.HAND: 3>\n",
      "[fireplace.card]: <Minion ('Fungalmancer')> moves from <Zone.DECK: 2> to <Zone.HAND: 3>\n",
      "[fireplace.entity]: Entering mulligan phase\n"
     ]
    }
   ],
   "source": [
    "game=Game(players=(player1, player2))\n",
    "game.start()"
   ]
  },
  {
   "cell_type": "markdown",
   "id": "66b1e2fc",
   "metadata": {},
   "source": [
    "## Mulligan"
   ]
  },
  {
   "cell_type": "code",
   "execution_count": 44,
   "id": "53c0c411",
   "metadata": {},
   "outputs": [
    {
     "data": {
      "text/plain": [
       "[<Minion (\"Skycap'n Kragg\")>,\n",
       " <Minion ('Secretkeeper')>,\n",
       " <Minion (\"Tentacle of N'Zoth\")>,\n",
       " <Minion (\"Tol'vir Stoneshaper\")>]"
      ]
     },
     "execution_count": 44,
     "metadata": {},
     "output_type": "execute_result"
    }
   ],
   "source": [
    "player1.choice.cards"
   ]
  },
  {
   "cell_type": "code",
   "execution_count": 45,
   "id": "9b48f53f",
   "metadata": {},
   "outputs": [
    {
     "data": {
      "text/plain": [
       "[<Minion ('Dalaran Crusader')>,\n",
       " <Minion (\"Sneed's Old Shredder\")>,\n",
       " <Minion ('Fungalmancer')>]"
      ]
     },
     "execution_count": 45,
     "metadata": {},
     "output_type": "execute_result"
    }
   ],
   "source": [
    "player2.choice.cards"
   ]
  },
  {
   "cell_type": "code",
   "execution_count": 46,
   "id": "ba74da08",
   "metadata": {},
   "outputs": [
    {
     "name": "stderr",
     "output_type": "stream",
     "text": [
      "[fireplace.entity]: Empty stack, refreshing auras and processing deaths\n",
      "[fireplace.entity]: Player(name='Player1', hero=<Hero ('Jaina Proudmoore')>) shuffles their deck\n"
     ]
    }
   ],
   "source": [
    "player1.choice.choose()"
   ]
  },
  {
   "cell_type": "code",
   "execution_count": 47,
   "id": "a98241d6",
   "metadata": {},
   "outputs": [
    {
     "name": "stderr",
     "output_type": "stream",
     "text": [
      "[fireplace.entity]: Empty stack, refreshing auras and processing deaths\n",
      "[fireplace.entity]: Player(name='Player2', hero=<Hero ('The Lich King')>) shuffles their deck\n",
      "[fireplace.entity]: Player1 gets The Coin (GAME_005)\n",
      "[fireplace.actions]: Player(name='Player1', hero=<Hero ('Jaina Proudmoore')>) triggering <TargetedAction: Give(<Give.CARD>='GAME_005')> targeting [Player(name='Player1', hero=<Hero ('Jaina Proudmoore')>)]\n",
      "[fireplace.actions]: Giving [<Spell ('The Coin')>] to Player1\n",
      "[fireplace.card]: <Spell ('The Coin')> moves from <Zone.SETASIDE: 6> to <Zone.HAND: 3>\n",
      "[fireplace.entity]: Empty stack, refreshing auras and processing deaths\n",
      "[fireplace.entity]: Player2 begins turn 1\n",
      "[fireplace.entity]: Player2 is now at 1 mana crystals\n",
      "[fireplace.actions]: Player(name='Player2', hero=<Hero ('The Lich King')>) triggering <TargetedAction: Draw()> targeting [Player(name='Player2', hero=<Hero ('The Lich King')>)]\n",
      "[fireplace.entity]: Player2 draws <Minion ('Refreshment Vendor')>\n",
      "[fireplace.card]: <Minion ('Refreshment Vendor')> moves from <Zone.DECK: 2> to <Zone.HAND: 3>\n",
      "[fireplace.entity]: Empty stack, refreshing auras and processing deaths\n"
     ]
    }
   ],
   "source": [
    "player2.choice.choose()"
   ]
  },
  {
   "cell_type": "markdown",
   "id": "987af6de",
   "metadata": {},
   "source": [
    "# Turno 1\n",
    "a partir de aquí se pueden testear fácilmente las cartas"
   ]
  },
  {
   "cell_type": "markdown",
   "id": "9306ec06",
   "metadata": {},
   "source": [
    "Usa este código para establecer el estado del juego"
   ]
  },
  {
   "cell_type": "code",
   "execution_count": 48,
   "id": "05a809d8",
   "metadata": {},
   "outputs": [
    {
     "name": "stderr",
     "output_type": "stream",
     "text": [
      "[fireplace.entity]: Player1 is now at 10 mana crystals\n",
      "[fireplace.entity]: Player2 is now at 10 mana crystals\n",
      "[fireplace.entity]: Discarding <Minion (\"Skycap'n Kragg\")>\n",
      "[fireplace.card]: <Minion (\"Skycap'n Kragg\")> moves from <Zone.HAND: 3> to <Zone.GRAVEYARD: 4>\n",
      "[fireplace.entity]: Discarding <Minion ('Secretkeeper')>\n",
      "[fireplace.card]: <Minion ('Secretkeeper')> moves from <Zone.HAND: 3> to <Zone.GRAVEYARD: 4>\n",
      "[fireplace.entity]: Discarding <Minion (\"Tentacle of N'Zoth\")>\n",
      "[fireplace.card]: <Minion (\"Tentacle of N'Zoth\")> moves from <Zone.HAND: 3> to <Zone.GRAVEYARD: 4>\n",
      "[fireplace.entity]: Discarding <Minion (\"Tol'vir Stoneshaper\")>\n",
      "[fireplace.card]: <Minion (\"Tol'vir Stoneshaper\")> moves from <Zone.HAND: 3> to <Zone.GRAVEYARD: 4>\n",
      "[fireplace.entity]: Discarding <Spell ('The Coin')>\n",
      "[fireplace.card]: <Spell ('The Coin')> moves from <Zone.HAND: 3> to <Zone.GRAVEYARD: 4>\n",
      "[fireplace.entity]: Discarding <Minion ('Dalaran Crusader')>\n",
      "[fireplace.card]: <Minion ('Dalaran Crusader')> moves from <Zone.HAND: 3> to <Zone.GRAVEYARD: 4>\n",
      "[fireplace.entity]: Discarding <Minion (\"Sneed's Old Shredder\")>\n",
      "[fireplace.card]: <Minion (\"Sneed's Old Shredder\")> moves from <Zone.HAND: 3> to <Zone.GRAVEYARD: 4>\n",
      "[fireplace.entity]: Discarding <Minion ('Fungalmancer')>\n",
      "[fireplace.card]: <Minion ('Fungalmancer')> moves from <Zone.HAND: 3> to <Zone.GRAVEYARD: 4>\n",
      "[fireplace.entity]: Discarding <Minion ('Refreshment Vendor')>\n",
      "[fireplace.card]: <Minion ('Refreshment Vendor')> moves from <Zone.HAND: 3> to <Zone.GRAVEYARD: 4>\n"
     ]
    }
   ],
   "source": [
    "player1.max_mana = 10\n",
    "player2.max_mana = 10\n",
    "\n",
    "# limpiamos las manos\n",
    "h = len(player1.hand)\n",
    "for i in range(h):\n",
    "    player1.hand[0].discard()\n",
    "    \n",
    "h = len(player2.hand)\n",
    "for i in range (h):\n",
    "    player2.hand[0].discard()\n",
    "\n",
    "\n",
    "# limpiamos el field\n",
    "h = len(player1.field)\n",
    "for i in range(h):\n",
    "    player1.field[0].discard()\n",
    "    \n",
    "h = len(player2.field)\n",
    "for i in range (h):\n",
    "    player2.field[0].discard()\n",
    "    \n",
    "# limpiamos secretos\n",
    "h = len(player1.secrets)\n",
    "for i in range(h):\n",
    "    player1.secrets[0].discard()\n",
    "    \n",
    "h = len(player2.secrets)\n",
    "for i in range (h):\n",
    "    player2.secrets[0].discard()"
   ]
  },
  {
   "cell_type": "code",
   "execution_count": 49,
   "id": "42514a30",
   "metadata": {},
   "outputs": [
    {
     "name": "stdout",
     "output_type": "stream",
     "text": [
      "[]\n",
      "[]\n",
      "[]\n",
      "[]\n",
      "[]\n",
      "[]\n"
     ]
    }
   ],
   "source": [
    "print(player1.field)\n",
    "print(player2.field)\n",
    "print(player1.secrets)\n",
    "print(player2.secrets)\n",
    "print(player1.hand)\n",
    "print(player2.hand)"
   ]
  },
  {
   "cell_type": "markdown",
   "id": "8d1893b1",
   "metadata": {},
   "source": [
    "## Hero Power - map actions"
   ]
  },
  {
   "cell_type": "code",
   "execution_count": 80,
   "id": "b29be0e0",
   "metadata": {},
   "outputs": [
    {
     "name": "stderr",
     "output_type": "stream",
     "text": [
      "[fireplace.entity]: Player2 ends turn 3\n",
      "[fireplace.entity]: Player1 begins turn 4\n",
      "[fireplace.entity]: Player1 is now at 10 mana crystals\n",
      "[fireplace.actions]: Player(name='Player1', hero=<Hero ('Jaina Proudmoore')>) triggering <TargetedAction: Draw()> targeting [Player(name='Player1', hero=<Hero ('Jaina Proudmoore')>)]\n",
      "[fireplace.entity]: Player1 draws <Minion ('Lifedrinker')>\n",
      "[fireplace.card]: <Minion ('Lifedrinker')> moves from <Zone.DECK: 2> to <Zone.HAND: 3>\n",
      "[fireplace.entity]: Empty stack, refreshing auras and processing deaths\n"
     ]
    },
    {
     "data": {
      "text/plain": [
       "[None]"
      ]
     },
     "execution_count": 80,
     "metadata": {},
     "output_type": "execute_result"
    }
   ],
   "source": [
    "game.end_turn()"
   ]
  },
  {
   "cell_type": "code",
   "execution_count": 78,
   "id": "02947f24",
   "metadata": {},
   "outputs": [
    {
     "name": "stderr",
     "output_type": "stream",
     "text": [
      "[fireplace.actions]: Player(name='Player2', hero=<Hero ('The Lich King')>) triggering <TargetedAction: Give(<Give.CARD>='EX1_029')> targeting [Player(name='Player2', hero=<Hero ('The Lich King')>)]\n",
      "[fireplace.actions]: Giving [<Minion ('Leper Gnome')>] to Player2\n",
      "[fireplace.card]: <Minion ('Leper Gnome')> moves from <Zone.SETASIDE: 6> to <Zone.HAND: 3>\n",
      "[fireplace.entity]: Empty stack, refreshing auras and processing deaths\n",
      "[fireplace.actions]: Player2 plays <Minion ('Leper Gnome')> (target=None, index=None)\n",
      "[fireplace.entity]: Player2 pays 1 mana\n",
      "[fireplace.card]: <Minion ('Leper Gnome')> moves from <Zone.HAND: 3> to <Zone.PLAY: 1>\n",
      "[fireplace.actions]: <Minion ('Leper Gnome')> triggering <TargetedAction: Battlecry(<Battlecry.TARGET>=None)> targeting [<Minion ('Leper Gnome')>]\n",
      "[fireplace.actions]: Activating <Minion ('Leper Gnome')> action targeting None\n",
      "[fireplace.entity]: Empty stack, refreshing auras and processing deaths\n",
      "[fireplace.entity]: Empty stack, refreshing auras and processing deaths\n"
     ]
    },
    {
     "data": {
      "text/plain": [
       "<Minion ('Leper Gnome')>"
      ]
     },
     "execution_count": 78,
     "metadata": {},
     "output_type": "execute_result"
    }
   ],
   "source": [
    "player2.give(\"EX1_029\").play()"
   ]
  },
  {
   "cell_type": "code",
   "execution_count": 69,
   "id": "f8f07b6d",
   "metadata": {},
   "outputs": [
    {
     "name": "stderr",
     "output_type": "stream",
     "text": [
      "[fireplace.actions]: Player(name='Player1', hero=<Hero ('Jaina Proudmoore')>) triggering <TargetedAction: Give(<Give.CARD>='EX1_029')> targeting [Player(name='Player1', hero=<Hero ('Jaina Proudmoore')>)]\n",
      "[fireplace.actions]: Giving [<Minion ('Leper Gnome')>] to Player1\n",
      "[fireplace.card]: <Minion ('Leper Gnome')> moves from <Zone.SETASIDE: 6> to <Zone.HAND: 3>\n",
      "[fireplace.entity]: Empty stack, refreshing auras and processing deaths\n"
     ]
    },
    {
     "ename": "InvalidAction",
     "evalue": "<Minion ('Leper Gnome')> isn't playable.",
     "output_type": "error",
     "traceback": [
      "\u001b[1;31m---------------------------------------------------------------------------\u001b[0m",
      "\u001b[1;31mInvalidAction\u001b[0m                             Traceback (most recent call last)",
      "Cell \u001b[1;32mIn[69], line 1\u001b[0m\n\u001b[1;32m----> 1\u001b[0m \u001b[43mplayer1\u001b[49m\u001b[38;5;241;43m.\u001b[39;49m\u001b[43mgive\u001b[49m\u001b[43m(\u001b[49m\u001b[38;5;124;43m\"\u001b[39;49m\u001b[38;5;124;43mEX1_029\u001b[39;49m\u001b[38;5;124;43m\"\u001b[39;49m\u001b[43m)\u001b[49m\u001b[38;5;241;43m.\u001b[39;49m\u001b[43mplay\u001b[49m\u001b[43m(\u001b[49m\u001b[43m)\u001b[49m\n",
      "File \u001b[1;32m~\\anaconda3\\envs\\env_gym-hearthstone\\lib\\site-packages\\fireplace\\card.py:321\u001b[0m, in \u001b[0;36mPlayableCard.play\u001b[1;34m(self, target, index, choose)\u001b[0m\n\u001b[0;32m    319\u001b[0m \tcard \u001b[38;5;241m=\u001b[39m \u001b[38;5;28mself\u001b[39m\n\u001b[0;32m    320\u001b[0m \u001b[38;5;28;01mif\u001b[39;00m \u001b[38;5;129;01mnot\u001b[39;00m \u001b[38;5;28mself\u001b[39m\u001b[38;5;241m.\u001b[39mis_playable():\n\u001b[1;32m--> 321\u001b[0m \t\u001b[38;5;28;01mraise\u001b[39;00m InvalidAction(\u001b[38;5;124m\"\u001b[39m\u001b[38;5;132;01m%r\u001b[39;00m\u001b[38;5;124m isn\u001b[39m\u001b[38;5;124m'\u001b[39m\u001b[38;5;124mt playable.\u001b[39m\u001b[38;5;124m\"\u001b[39m \u001b[38;5;241m%\u001b[39m (\u001b[38;5;28mself\u001b[39m))\n\u001b[0;32m    322\u001b[0m \u001b[38;5;28;01mif\u001b[39;00m card\u001b[38;5;241m.\u001b[39mrequires_target():\n\u001b[0;32m    323\u001b[0m \t\u001b[38;5;28;01mif\u001b[39;00m \u001b[38;5;129;01mnot\u001b[39;00m target:\n",
      "\u001b[1;31mInvalidAction\u001b[0m: <Minion ('Leper Gnome')> isn't playable."
     ]
    }
   ],
   "source": [
    "player1.give(\"EX1_029\").play()"
   ]
  },
  {
   "cell_type": "code",
   "execution_count": 79,
   "id": "a49d9896",
   "metadata": {},
   "outputs": [
    {
     "data": {
      "text/plain": [
       "[<Hero ('Jaina Proudmoore')>,\n",
       " <Minion ('Leper Gnome')>,\n",
       " <Minion ('Leper Gnome')>,\n",
       " <Minion ('Leper Gnome')>,\n",
       " <Minion ('Leper Gnome')>,\n",
       " <Minion ('Leper Gnome')>,\n",
       " <Minion ('Leper Gnome')>,\n",
       " <Minion ('Leper Gnome')>,\n",
       " <Hero ('The Lich King')>,\n",
       " <Minion ('Leper Gnome')>,\n",
       " <Minion ('Leper Gnome')>,\n",
       " <Minion ('Leper Gnome')>,\n",
       " <Minion ('Leper Gnome')>,\n",
       " <Minion ('Leper Gnome')>,\n",
       " <Minion ('Leper Gnome')>,\n",
       " <Minion ('Leper Gnome')>]"
      ]
     },
     "execution_count": 79,
     "metadata": {},
     "output_type": "execute_result"
    }
   ],
   "source": [
    "player1.hero.power.targets"
   ]
  },
  {
   "cell_type": "code",
   "execution_count": 83,
   "id": "a75c55b9",
   "metadata": {},
   "outputs": [
    {
     "data": {
      "text/plain": [
       "4"
      ]
     },
     "execution_count": 83,
     "metadata": {},
     "output_type": "execute_result"
    }
   ],
   "source": [
    "player1.hero.power.targets[1].type"
   ]
  },
  {
   "cell_type": "markdown",
   "id": "5e40063b",
   "metadata": {},
   "source": [
    "## Análisis del bucle Hero Power"
   ]
  },
  {
   "cell_type": "code",
   "execution_count": 96,
   "id": "20656435",
   "metadata": {},
   "outputs": [
    {
     "name": "stderr",
     "output_type": "stream",
     "text": [
      "[fireplace.actions]: Player(name='Player1', hero=<Hero ('Uther Lightbringer')>) triggering <TargetedAction: Give(<Give.CARD>='LOE_076')> targeting [Player(name='Player1', hero=<Hero ('Uther Lightbringer')>)]\n",
      "[fireplace.actions]: Giving [<Minion ('Sir Finley Mrrgglton')>] to Player1\n",
      "[fireplace.card]: <Minion ('Sir Finley Mrrgglton')> moves from <Zone.SETASIDE: 6> to <Zone.HAND: 3>\n",
      "[fireplace.entity]: Empty stack, refreshing auras and processing deaths\n",
      "[fireplace.actions]: Player1 plays <Minion ('Sir Finley Mrrgglton')> (target=None, index=None)\n",
      "[fireplace.entity]: Player1 pays 1 mana\n",
      "[fireplace.card]: <Minion ('Sir Finley Mrrgglton')> moves from <Zone.HAND: 3> to <Zone.PLAY: 1>\n",
      "[fireplace.actions]: <Minion ('Sir Finley Mrrgglton')> triggering <TargetedAction: Battlecry(<Battlecry.TARGET>=None)> targeting [<Minion ('Sir Finley Mrrgglton')>]\n",
      "[fireplace.actions]: Activating <Minion ('Sir Finley Mrrgglton')> action targeting None\n",
      "[fireplace.actions]: Player(name='Player1', hero=<Hero ('Uther Lightbringer')>) choice from [<HeroPower ('Demon Claws')>, <HeroPower ('Dagger Mastery')>, <HeroPower ('Totemic Call')>]\n",
      "[fireplace.entity]: Empty stack, refreshing auras and processing deaths\n",
      "[fireplace.entity]: Empty stack, refreshing auras and processing deaths\n"
     ]
    }
   ],
   "source": [
    "# LOE_076 Sr Finley (Hero Power Change)\n",
    "finley = player1.give(\"LOE_076\").play()"
   ]
  },
  {
   "cell_type": "code",
   "execution_count": 97,
   "id": "977f8d08",
   "metadata": {},
   "outputs": [
    {
     "data": {
      "text/plain": [
       "[<HeroPower ('Demon Claws')>,\n",
       " <HeroPower ('Dagger Mastery')>,\n",
       " <HeroPower ('Totemic Call')>]"
      ]
     },
     "execution_count": 97,
     "metadata": {},
     "output_type": "execute_result"
    }
   ],
   "source": [
    "player1.choice.cards"
   ]
  },
  {
   "cell_type": "code",
   "execution_count": 98,
   "id": "f2d2a2f2",
   "metadata": {},
   "outputs": [
    {
     "name": "stderr",
     "output_type": "stream",
     "text": [
      "[fireplace.entity]: Discarding <HeroPower ('Demon Claws')>\n",
      "[fireplace.card]: <HeroPower ('Demon Claws')> moves from <Zone.SETASIDE: 6> to <Zone.GRAVEYARD: 4>\n",
      "[fireplace.entity]: Discarding <HeroPower ('Dagger Mastery')>\n",
      "[fireplace.card]: <HeroPower ('Dagger Mastery')> moves from <Zone.SETASIDE: 6> to <Zone.GRAVEYARD: 4>\n",
      "[fireplace.actions]: <HeroPower ('Totemic Call')> triggering <TargetedAction: Destroy()> targeting [<HeroPower ('Totemic Call')>]\n",
      "[fireplace.actions]: <HeroPower ('Totemic Call')> destroys <HeroPower ('Totemic Call')>\n",
      "[fireplace.card]: <HeroPower ('Totemic Call')> moves from <Zone.PLAY: 1> to <Zone.GRAVEYARD: 4>\n",
      "[fireplace.entity]: Empty stack, refreshing auras and processing deaths\n",
      "[fireplace.card]: <HeroPower ('Totemic Call')> moves from <Zone.SETASIDE: 6> to <Zone.PLAY: 1>\n"
     ]
    }
   ],
   "source": [
    "player1.choice.choose(player1.choice.cards[2])"
   ]
  },
  {
   "cell_type": "markdown",
   "id": "04f3f8a7",
   "metadata": {},
   "source": [
    "## Error con Living Monument (Enchantment)"
   ]
  },
  {
   "cell_type": "code",
   "execution_count": 29,
   "id": "b1f1d732",
   "metadata": {},
   "outputs": [
    {
     "name": "stderr",
     "output_type": "stream",
     "text": [
      "[fireplace.actions]: Player(name='Player1', hero=<Hero ('Uther Lightbringer')>) triggering <TargetedAction: Give(<Give.CARD>='ULD_193')> targeting [Player(name='Player1', hero=<Hero ('Uther Lightbringer')>)]\n",
      "[fireplace.actions]: Giving [<Minion ('Living Monument')>] to Player1\n",
      "[fireplace.card]: <Minion ('Living Monument')> moves from <Zone.SETASIDE: 6> to <Zone.HAND: 3>\n",
      "[fireplace.entity]: Empty stack, refreshing auras and processing deaths\n",
      "[fireplace.actions]: Player1 plays <Minion ('Living Monument')> (target=None, index=None)\n",
      "[fireplace.entity]: Player1 pays 10 mana\n",
      "[fireplace.card]: <Minion ('Living Monument')> moves from <Zone.HAND: 3> to <Zone.PLAY: 1>\n",
      "[fireplace.actions]: <Minion ('Living Monument')> triggering <TargetedAction: Battlecry(<Battlecry.TARGET>=None)> targeting [<Minion ('Living Monument')>]\n",
      "[fireplace.actions]: Activating <Minion ('Living Monument')> action targeting None\n",
      "[fireplace.entity]: Empty stack, refreshing auras and processing deaths\n",
      "[fireplace.entity]: Empty stack, refreshing auras and processing deaths\n"
     ]
    }
   ],
   "source": [
    "living_monument = player1.give(\"ULD_193\").play()"
   ]
  },
  {
   "cell_type": "code",
   "execution_count": 45,
   "id": "a02b74cd",
   "metadata": {},
   "outputs": [
    {
     "name": "stdout",
     "output_type": "stream",
     "text": [
      "4\n",
      "6\n",
      "2\n"
     ]
    }
   ],
   "source": [
    "print(living_monument.type)\n",
    "print(living_monument.atk)\n",
    "print(living_monument.health)"
   ]
  },
  {
   "cell_type": "code",
   "execution_count": 31,
   "id": "422b87a8",
   "metadata": {},
   "outputs": [
    {
     "name": "stdout",
     "output_type": "stream",
     "text": [
      "True\n"
     ]
    }
   ],
   "source": [
    "print(living_monument in implemented_cards)"
   ]
  },
  {
   "cell_type": "code",
   "execution_count": 53,
   "id": "977dd8fe",
   "metadata": {},
   "outputs": [
    {
     "name": "stderr",
     "output_type": "stream",
     "text": [
      "[fireplace.entity]: Player1 ends turn 3\n",
      "[fireplace.entity]: Player2 begins turn 4\n",
      "[fireplace.entity]: Player2 is now at 10 mana crystals\n",
      "[fireplace.actions]: Player(name='Player2', hero=<Hero ('Malfurion Stormrage')>) triggering <TargetedAction: Draw()> targeting [Player(name='Player2', hero=<Hero ('Malfurion Stormrage')>)]\n",
      "[fireplace.entity]: Player2 draws <Minion ('Ravenholdt Assassin')>\n",
      "[fireplace.card]: <Minion ('Ravenholdt Assassin')> moves from <Zone.DECK: 2> to <Zone.HAND: 3>\n",
      "[fireplace.entity]: Empty stack, refreshing auras and processing deaths\n"
     ]
    },
    {
     "data": {
      "text/plain": [
       "[None]"
      ]
     },
     "execution_count": 53,
     "metadata": {},
     "output_type": "execute_result"
    }
   ],
   "source": [
    "game.end_turn()"
   ]
  },
  {
   "cell_type": "code",
   "execution_count": 54,
   "id": "cafc3392",
   "metadata": {},
   "outputs": [
    {
     "name": "stderr",
     "output_type": "stream",
     "text": [
      "[fireplace.actions]: Player(name='Player2', hero=<Hero ('Malfurion Stormrage')>) triggering <TargetedAction: Give(<Give.CARD>='GVG_014')> targeting [Player(name='Player2', hero=<Hero ('Malfurion Stormrage')>)]\n",
      "[fireplace.actions]: Giving [<Minion (\"Vol'jin\")>] to Player2\n",
      "[fireplace.card]: <Minion (\"Vol'jin\")> moves from <Zone.SETASIDE: 6> to <Zone.HAND: 3>\n",
      "[fireplace.entity]: Empty stack, refreshing auras and processing deaths\n"
     ]
    },
    {
     "data": {
      "text/plain": [
       "[<Minion ('Living Monument')>, <Minion (\"Vol'jin\")>]"
      ]
     },
     "execution_count": 54,
     "metadata": {},
     "output_type": "execute_result"
    }
   ],
   "source": [
    "voljin = player2.give(\"GVG_014\")\n",
    "voljin.targets"
   ]
  },
  {
   "cell_type": "code",
   "execution_count": 55,
   "id": "5be5df8f",
   "metadata": {},
   "outputs": [
    {
     "name": "stderr",
     "output_type": "stream",
     "text": [
      "[fireplace.actions]: Player2 plays <Minion (\"Vol'jin\")> (target=<Minion (\"Vol'jin\")>, index=None)\n",
      "[fireplace.entity]: Player2 pays 5 mana\n",
      "[fireplace.card]: <Minion (\"Vol'jin\")> moves from <Zone.HAND: 3> to <Zone.PLAY: 1>\n",
      "[fireplace.actions]: <Minion (\"Vol'jin\")> triggering <TargetedAction: Battlecry(<Battlecry.TARGET>=<Minion (\"Vol'jin\")>)> targeting [<Minion (\"Vol'jin\")>]\n",
      "[fireplace.actions]: Activating <Minion (\"Vol'jin\")> action targeting <Minion (\"Vol'jin\")>\n",
      "[fireplace.actions]: <Minion (\"Vol'jin\")> triggering <TargetedAction: SwapHealth(<SwapHealth.OTHER>=<fireplace.dsl.selector.FuncSelector object at 0x0000029875DFDEB0>, <SwapHealth.BUFF>='GVG_014a')> targeting [<Minion (\"Vol'jin\")>]\n",
      "[fireplace.entity]: Applying <Enchantment ('Shadowed')> to <Minion (\"Vol'jin\")>\n",
      "[fireplace.entity]: <Enchantment ('Shadowed')> removes all damage from <Minion (\"Vol'jin\")>\n",
      "[fireplace.card]: <Enchantment ('Shadowed')> moves from <Zone.SETASIDE: 6> to <Zone.PLAY: 1>\n",
      "[fireplace.entity]: Applying <Enchantment ('Shadowed')> to <Minion (\"Vol'jin\")>\n",
      "[fireplace.entity]: <Enchantment ('Shadowed')> removes all damage from <Minion (\"Vol'jin\")>\n",
      "[fireplace.card]: <Enchantment ('Shadowed')> moves from <Zone.SETASIDE: 6> to <Zone.PLAY: 1>\n",
      "[fireplace.entity]: Empty stack, refreshing auras and processing deaths\n",
      "[fireplace.entity]: Empty stack, refreshing auras and processing deaths\n"
     ]
    },
    {
     "data": {
      "text/plain": [
       "<Minion (\"Vol'jin\")>"
      ]
     },
     "execution_count": 55,
     "metadata": {},
     "output_type": "execute_result"
    }
   ],
   "source": [
    "voljin.play(voljin.targets[1])"
   ]
  },
  {
   "cell_type": "code",
   "execution_count": 42,
   "id": "b2df18e5",
   "metadata": {},
   "outputs": [
    {
     "data": {
      "text/plain": [
       "False"
      ]
     },
     "execution_count": 42,
     "metadata": {},
     "output_type": "execute_result"
    }
   ],
   "source": [
    "voljin.is_playable()"
   ]
  },
  {
   "cell_type": "code",
   "execution_count": 56,
   "id": "2cb5d8e2",
   "metadata": {},
   "outputs": [
    {
     "name": "stdout",
     "output_type": "stream",
     "text": [
      "1\n",
      "2\n"
     ]
    },
    {
     "data": {
      "text/plain": [
       "[<Minion (\"Vol'jin\")>, <Minion (\"Vol'jin\")>]"
      ]
     },
     "execution_count": 56,
     "metadata": {},
     "output_type": "execute_result"
    }
   ],
   "source": [
    "p1 = player1\n",
    "p2 = player2\n",
    "\n",
    "print(len(p1.field))\n",
    "print(len(p2.field))\n",
    "p2.field"
   ]
  },
  {
   "cell_type": "code",
   "execution_count": 58,
   "id": "422bbfa3",
   "metadata": {},
   "outputs": [
    {
     "data": {
      "text/plain": [
       "2"
      ]
     },
     "execution_count": 58,
     "metadata": {},
     "output_type": "execute_result"
    }
   ],
   "source": [
    "p2.field[0].health if 0 < len(p2.field) and p2.field[0].type != 7 and p2.field[0].type !=5 else 0"
   ]
  },
  {
   "cell_type": "code",
   "execution_count": 59,
   "id": "bd76eb17",
   "metadata": {},
   "outputs": [
    {
     "data": {
      "text/plain": [
       "10"
      ]
     },
     "execution_count": 59,
     "metadata": {},
     "output_type": "execute_result"
    }
   ],
   "source": [
    "p2.field[1].health if 1 < len(p2.field) and p2.field[1].type != 7 and p2.field[1].type !=5 else 0"
   ]
  },
  {
   "cell_type": "code",
   "execution_count": 57,
   "id": "38d74c22",
   "metadata": {},
   "outputs": [
    {
     "data": {
      "text/plain": [
       "2"
      ]
     },
     "execution_count": 57,
     "metadata": {},
     "output_type": "execute_result"
    }
   ],
   "source": [
    "p1.field[0].health if 0 < len(p1.field) and p1.field[0].type != 7 and p1.field[0].type !=5 else 0"
   ]
  },
  {
   "cell_type": "code",
   "execution_count": 130,
   "id": "a6a6b08d",
   "metadata": {
    "collapsed": true
   },
   "outputs": [],
   "source": [
    "for i in range(0):\n",
    "    print(\"xd\")"
   ]
  },
  {
   "cell_type": "markdown",
   "id": "940b2154",
   "metadata": {},
   "source": [
    "## Análisis de la carta NEW1_038 - Gruul"
   ]
  },
  {
   "cell_type": "code",
   "execution_count": 125,
   "id": "4572a6bc",
   "metadata": {},
   "outputs": [
    {
     "name": "stderr",
     "output_type": "stream",
     "text": [
      "[fireplace.actions]: Player(name='Player1', hero=<Hero ('Garrosh Hellscream')>) triggering <TargetedAction: Give(<Give.CARD>='NEW1_038')> targeting [Player(name='Player1', hero=<Hero ('Garrosh Hellscream')>)]\n",
      "[fireplace.actions]: Giving [<Minion ('Gruul')>] to Player1\n",
      "[fireplace.card]: <Minion ('Gruul')> moves from <Zone.SETASIDE: 6> to <Zone.HAND: 3>\n",
      "[fireplace.entity]: Empty stack, refreshing auras and processing deaths\n",
      "[fireplace.actions]: Player1 plays <Minion ('Gruul')> (target=None, index=None)\n",
      "[fireplace.entity]: Player1 pays 8 mana\n",
      "[fireplace.card]: <Minion ('Gruul')> moves from <Zone.HAND: 3> to <Zone.PLAY: 1>\n",
      "[fireplace.actions]: <Minion ('Gruul')> triggering <TargetedAction: Battlecry(<Battlecry.TARGET>=None)> targeting [<Minion ('Gruul')>]\n",
      "[fireplace.actions]: Activating <Minion ('Gruul')> action targeting None\n",
      "[fireplace.entity]: Empty stack, refreshing auras and processing deaths\n",
      "[fireplace.entity]: Empty stack, refreshing auras and processing deaths\n"
     ]
    }
   ],
   "source": [
    "gruul = player1.give(\"NEW1_038\").play()\n",
    "\n"
   ]
  },
  {
   "cell_type": "code",
   "execution_count": 126,
   "id": "0ffa40c6",
   "metadata": {},
   "outputs": [
    {
     "data": {
      "text/plain": [
       "4"
      ]
     },
     "execution_count": 126,
     "metadata": {},
     "output_type": "execute_result"
    }
   ],
   "source": [
    "gruul.type"
   ]
  },
  {
   "cell_type": "code",
   "execution_count": 127,
   "id": "b6db44d3",
   "metadata": {},
   "outputs": [
    {
     "name": "stderr",
     "output_type": "stream",
     "text": [
      "[fireplace.actions]: <Minion ('Gruul')> triggers off <Action: EndTurn(<EndTurn.PLAYER>=Player(name='Player1', hero=<Hero ('Garrosh Hellscream')>))> from Game(players=(Player(name='Player1', hero=<Hero ('Garrosh Hellscream')>), Player(name='Player2', hero=<Hero (\"Gul'dan\")>)))\n",
      "[fireplace.actions]: <Minion ('Gruul')> triggering <TargetedAction: Buff(<Buff.BUFF>='NEW1_038o')> targeting [<Minion ('Gruul')>]\n",
      "[fireplace.entity]: Applying <Enchantment ('Growth')> to <Minion ('Gruul')>\n",
      "[fireplace.card]: <Enchantment ('Growth')> moves from <Zone.SETASIDE: 6> to <Zone.PLAY: 1>\n",
      "[fireplace.entity]: Empty stack, refreshing auras and processing deaths\n",
      "[fireplace.entity]: Player1 ends turn 4\n",
      "[fireplace.entity]: Player2 begins turn 5\n",
      "[fireplace.entity]: Player2 is now at 10 mana crystals\n",
      "[fireplace.actions]: Player(name='Player2', hero=<Hero (\"Gul'dan\")>) triggering <TargetedAction: Draw()> targeting [Player(name='Player2', hero=<Hero (\"Gul'dan\")>)]\n",
      "[fireplace.entity]: Player2 draws <Minion ('Antique Healbot')>\n",
      "[fireplace.card]: <Minion ('Antique Healbot')> moves from <Zone.DECK: 2> to <Zone.HAND: 3>\n",
      "[fireplace.entity]: Empty stack, refreshing auras and processing deaths\n"
     ]
    },
    {
     "data": {
      "text/plain": [
       "[None]"
      ]
     },
     "execution_count": 127,
     "metadata": {},
     "output_type": "execute_result"
    }
   ],
   "source": [
    "game.end_turn()"
   ]
  },
  {
   "cell_type": "code",
   "execution_count": 128,
   "id": "605b37f2",
   "metadata": {},
   "outputs": [
    {
     "data": {
      "text/plain": [
       "4"
      ]
     },
     "execution_count": 128,
     "metadata": {},
     "output_type": "execute_result"
    }
   ],
   "source": [
    "gruul.type"
   ]
  },
  {
   "cell_type": "code",
   "execution_count": null,
   "id": "560ddf5c",
   "metadata": {},
   "outputs": [],
   "source": []
  },
  {
   "cell_type": "markdown",
   "id": "3082c588",
   "metadata": {},
   "source": [
    "## Análisis de Secretos"
   ]
  },
  {
   "cell_type": "code",
   "execution_count": 99,
   "id": "e274568a",
   "metadata": {},
   "outputs": [
    {
     "name": "stderr",
     "output_type": "stream",
     "text": [
      "[fireplace.actions]: Player(name='Player1', hero=<Hero ('Garrosh Hellscream')>) triggering <TargetedAction: Give(<Give.CARD>='EX1_287')> targeting [Player(name='Player1', hero=<Hero ('Garrosh Hellscream')>)]\n",
      "[fireplace.actions]: Giving [<Secret ('Counterspell')>] to Player1\n",
      "[fireplace.card]: <Secret ('Counterspell')> moves from <Zone.SETASIDE: 6> to <Zone.HAND: 3>\n",
      "[fireplace.entity]: Empty stack, refreshing auras and processing deaths\n",
      "[fireplace.actions]: Player1 plays <Secret ('Counterspell')> (target=None, index=None)\n",
      "[fireplace.entity]: Player1 pays 3 mana\n",
      "[fireplace.card]: <Secret ('Counterspell')> moves from <Zone.HAND: 3> to <Zone.SECRET: 7>\n",
      "[fireplace.actions]: <Secret ('Counterspell')> triggering <TargetedAction: Battlecry(<Battlecry.TARGET>=None)> targeting [<Secret ('Counterspell')>]\n",
      "[fireplace.actions]: Activating <Secret ('Counterspell')> action targeting None\n",
      "[fireplace.entity]: Empty stack, refreshing auras and processing deaths\n",
      "[fireplace.entity]: Empty stack, refreshing auras and processing deaths\n",
      "[fireplace.entity]: Player1 ends turn 7\n",
      "[fireplace.entity]: Player2 begins turn 8\n",
      "[fireplace.entity]: Player2 is now at 10 mana crystals\n",
      "[fireplace.actions]: Player(name='Player2', hero=<Hero (\"Gul'dan\")>) triggering <TargetedAction: Draw()> targeting [Player(name='Player2', hero=<Hero (\"Gul'dan\")>)]\n",
      "[fireplace.entity]: Player2 draws <Minion ('Thunder Lizard')>\n",
      "[fireplace.card]: <Minion ('Thunder Lizard')> moves from <Zone.DECK: 2> to <Zone.HAND: 3>\n",
      "[fireplace.entity]: Empty stack, refreshing auras and processing deaths\n"
     ]
    },
    {
     "data": {
      "text/plain": [
       "[None]"
      ]
     },
     "execution_count": 99,
     "metadata": {},
     "output_type": "execute_result"
    }
   ],
   "source": [
    "# player 1 juega el counter spell (secreto)\n",
    "player1.give(\"EX1_287\").play()\n",
    "game.end_turn()\n",
    "\n"
   ]
  },
  {
   "cell_type": "code",
   "execution_count": 103,
   "id": "959891bd",
   "metadata": {},
   "outputs": [
    {
     "name": "stderr",
     "output_type": "stream",
     "text": [
      "[fireplace.actions]: Player(name='Player2', hero=<Hero (\"Gul'dan\")>) triggering <TargetedAction: Give(<Give.CARD>='CS2_029')> targeting [Player(name='Player2', hero=<Hero (\"Gul'dan\")>)]\n",
      "[fireplace.actions]: Giving [<Spell ('Fireball')>] to Player2\n",
      "[fireplace.card]: <Spell ('Fireball')> moves from <Zone.SETASIDE: 6> to <Zone.HAND: 3>\n",
      "[fireplace.entity]: Empty stack, refreshing auras and processing deaths\n"
     ]
    },
    {
     "name": "stdout",
     "output_type": "stream",
     "text": [
      "[<Hero ('Garrosh Hellscream')>, <Hero (\"Gul'dan\")>, <Minion ('Silverback Patriarch')>, <Minion ('Silverback Patriarch')>, <Minion ('Silverback Patriarch')>, <Minion ('Silverback Patriarch')>]\n"
     ]
    }
   ],
   "source": [
    "# player 2 juega bola de fuego (hechizo)\n",
    "fireball = player2.give(\"CS2_029\")\n",
    "print(fireball.targets)"
   ]
  },
  {
   "cell_type": "code",
   "execution_count": 105,
   "id": "08f9f5f0",
   "metadata": {},
   "outputs": [
    {
     "name": "stderr",
     "output_type": "stream",
     "text": [
      "[fireplace.actions]: Player2 plays <Spell ('Fireball')> (target=<Hero ('Garrosh Hellscream')>, index=None)\n",
      "[fireplace.entity]: Player2 pays 4 mana\n",
      "[fireplace.card]: <Spell ('Fireball')> moves from <Zone.HAND: 3> to <Zone.PLAY: 1>\n",
      "[fireplace.actions]: <Secret ('Counterspell')> triggers off <Action: Play(<Play.PLAYER>=<Spell ('Fireball')>, <Play.CARD>=<Hero ('Garrosh Hellscream')>, <Play.TARGET>=None, <Play.INDEX>=None)> from Player(name='Player2', hero=<Hero (\"Gul'dan\")>)\n",
      "[fireplace.actions]: <Secret ('Counterspell')> triggering <TargetedAction: Reveal()> targeting [<Secret ('Counterspell')>]\n",
      "[fireplace.actions]: Revealing secret <Secret ('Counterspell')>\n",
      "[fireplace.card]: <Secret ('Counterspell')> moves from <Zone.SECRET: 7> to <Zone.GRAVEYARD: 4>\n",
      "[fireplace.actions]: <Secret ('Counterspell')> triggering <TargetedAction: Counter()> targeting [<Spell ('Fireball')>]\n",
      "[fireplace.entity]: Empty stack, refreshing auras and processing deaths\n",
      "[fireplace.entity]: Empty stack, refreshing auras and processing deaths\n"
     ]
    },
    {
     "data": {
      "text/plain": [
       "<Spell ('Fireball')>"
      ]
     },
     "execution_count": 105,
     "metadata": {},
     "output_type": "execute_result"
    }
   ],
   "source": [
    "fireball.play(fireball.targets[0])"
   ]
  },
  {
   "cell_type": "code",
   "execution_count": 108,
   "id": "ee3823cc",
   "metadata": {},
   "outputs": [
    {
     "name": "stdout",
     "output_type": "stream",
     "text": [
      "[]\n",
      "[]\n",
      "[]\n",
      "[]\n"
     ]
    }
   ],
   "source": [
    "print(player1.field)\n",
    "print(player2.field)\n",
    "print(player1.secrets)\n",
    "print(player2.secrets)"
   ]
  },
  {
   "cell_type": "code",
   "execution_count": null,
   "id": "7e4ea0d9",
   "metadata": {},
   "outputs": [],
   "source": [
    "# pasa turno\n",
    "game.end_turn()\n",
    "\n",
    "# player 2 juega bola de fuego (hechizo)\n",
    "player2.give().play()\n",
    "game.end_turn()"
   ]
  },
  {
   "cell_type": "code",
   "execution_count": null,
   "id": "e8e3209a",
   "metadata": {},
   "outputs": [],
   "source": [
    "print(player1.field)\n",
    "print(player2.field)\n",
    "print(player2.secrets)"
   ]
  },
  {
   "cell_type": "markdown",
   "id": "0ab7a069",
   "metadata": {},
   "source": [
    "## Resolviendo error Enchantment\n",
    "<hr>"
   ]
  },
  {
   "cell_type": "code",
   "execution_count": 118,
   "id": "6921003c",
   "metadata": {},
   "outputs": [
    {
     "name": "stderr",
     "output_type": "stream",
     "text": [
      "[fireplace.actions]: Player(name='Player1', hero=<Hero ('Garrosh Hellscream')>) triggering <TargetedAction: Give(<Give.CARD>='EX1_029')> targeting [Player(name='Player1', hero=<Hero ('Garrosh Hellscream')>)]\n",
      "[fireplace.actions]: Giving [<Minion ('Leper Gnome')>] to Player1\n",
      "[fireplace.card]: <Minion ('Leper Gnome')> moves from <Zone.SETASIDE: 6> to <Zone.HAND: 3>\n",
      "[fireplace.entity]: Empty stack, refreshing auras and processing deaths\n",
      "[fireplace.actions]: Player1 plays <Minion ('Leper Gnome')> (target=None, index=None)\n",
      "[fireplace.entity]: Player1 pays 1 mana\n",
      "[fireplace.card]: <Minion ('Leper Gnome')> moves from <Zone.HAND: 3> to <Zone.PLAY: 1>\n",
      "[fireplace.actions]: <Minion ('Leper Gnome')> triggering <TargetedAction: Battlecry(<Battlecry.TARGET>=None)> targeting [<Minion ('Leper Gnome')>]\n",
      "[fireplace.actions]: Activating <Minion ('Leper Gnome')> action targeting None\n",
      "[fireplace.entity]: Empty stack, refreshing auras and processing deaths\n",
      "[fireplace.entity]: Empty stack, refreshing auras and processing deaths\n",
      "[fireplace.entity]: Player1 ends turn 2\n",
      "[fireplace.entity]: Player2 begins turn 3\n",
      "[fireplace.entity]: Player2 is now at 10 mana crystals\n",
      "[fireplace.actions]: Player(name='Player2', hero=<Hero (\"Gul'dan\")>) triggering <TargetedAction: Draw()> targeting [Player(name='Player2', hero=<Hero (\"Gul'dan\")>)]\n",
      "[fireplace.entity]: Player2 draws <Minion ('Genzo, the Shark')>\n",
      "[fireplace.card]: <Minion ('Genzo, the Shark')> moves from <Zone.DECK: 2> to <Zone.HAND: 3>\n",
      "[fireplace.entity]: Empty stack, refreshing auras and processing deaths\n"
     ]
    },
    {
     "data": {
      "text/plain": [
       "[None]"
      ]
     },
     "execution_count": 118,
     "metadata": {},
     "output_type": "execute_result"
    }
   ],
   "source": [
    "# player 1 juega el gnomo\n",
    "player1.give(\"EX1_029\").play()\n",
    "game.end_turn()"
   ]
  },
  {
   "cell_type": "code",
   "execution_count": 119,
   "id": "ad7a2fa2",
   "metadata": {},
   "outputs": [
    {
     "name": "stderr",
     "output_type": "stream",
     "text": [
      "[fireplace.actions]: Player(name='Player2', hero=<Hero (\"Gul'dan\")>) triggering <TargetedAction: Give(<Give.CARD>='CS2_127')> targeting [Player(name='Player2', hero=<Hero (\"Gul'dan\")>)]\n",
      "[fireplace.actions]: Giving [<Minion ('Silverback Patriarch')>] to Player2\n",
      "[fireplace.card]: <Minion ('Silverback Patriarch')> moves from <Zone.SETASIDE: 6> to <Zone.HAND: 3>\n",
      "[fireplace.entity]: Empty stack, refreshing auras and processing deaths\n",
      "[fireplace.actions]: Player2 plays <Minion ('Silverback Patriarch')> (target=None, index=None)\n",
      "[fireplace.entity]: Player2 pays 3 mana\n",
      "[fireplace.card]: <Minion ('Silverback Patriarch')> moves from <Zone.HAND: 3> to <Zone.PLAY: 1>\n",
      "[fireplace.actions]: <Minion ('Silverback Patriarch')> triggering <TargetedAction: Battlecry(<Battlecry.TARGET>=None)> targeting [<Minion ('Silverback Patriarch')>]\n",
      "[fireplace.actions]: Activating <Minion ('Silverback Patriarch')> action targeting None\n",
      "[fireplace.entity]: Empty stack, refreshing auras and processing deaths\n",
      "[fireplace.entity]: Empty stack, refreshing auras and processing deaths\n",
      "[fireplace.actions]: Player(name='Player2', hero=<Hero (\"Gul'dan\")>) triggering <TargetedAction: Give(<Give.CARD>='BT_203')> targeting [Player(name='Player2', hero=<Hero (\"Gul'dan\")>)]\n",
      "[fireplace.actions]: Giving [<Secret ('Pack Tactics')>] to Player2\n",
      "[fireplace.card]: <Secret ('Pack Tactics')> moves from <Zone.SETASIDE: 6> to <Zone.HAND: 3>\n",
      "[fireplace.entity]: Empty stack, refreshing auras and processing deaths\n",
      "[fireplace.actions]: Player2 plays <Secret ('Pack Tactics')> (target=None, index=None)\n",
      "[fireplace.entity]: Player2 pays 2 mana\n",
      "[fireplace.card]: <Secret ('Pack Tactics')> moves from <Zone.HAND: 3> to <Zone.SECRET: 7>\n",
      "[fireplace.actions]: <Secret ('Pack Tactics')> triggering <TargetedAction: Battlecry(<Battlecry.TARGET>=None)> targeting [<Secret ('Pack Tactics')>]\n",
      "[fireplace.actions]: Activating <Secret ('Pack Tactics')> action targeting None\n",
      "[fireplace.entity]: Empty stack, refreshing auras and processing deaths\n",
      "[fireplace.entity]: Empty stack, refreshing auras and processing deaths\n",
      "[fireplace.entity]: Player2 ends turn 3\n",
      "[fireplace.entity]: Player1 begins turn 4\n",
      "[fireplace.entity]: Player1 is now at 10 mana crystals\n",
      "[fireplace.actions]: Player(name='Player1', hero=<Hero ('Garrosh Hellscream')>) triggering <TargetedAction: Draw()> targeting [Player(name='Player1', hero=<Hero ('Garrosh Hellscream')>)]\n",
      "[fireplace.entity]: Player1 draws <Minion ('Emperor Thaurissan')>\n",
      "[fireplace.card]: <Minion ('Emperor Thaurissan')> moves from <Zone.DECK: 2> to <Zone.HAND: 3>\n",
      "[fireplace.entity]: Empty stack, refreshing auras and processing deaths\n"
     ]
    },
    {
     "data": {
      "text/plain": [
       "[None]"
      ]
     },
     "execution_count": 119,
     "metadata": {},
     "output_type": "execute_result"
    }
   ],
   "source": [
    "# player 2 juega un bicho y el secreto Bad Tactics\n",
    "player2.give(\"CS2_127\").play()\n",
    "player2.give(\"BT_203\").play()\n",
    "game.end_turn()"
   ]
  },
  {
   "cell_type": "code",
   "execution_count": 120,
   "id": "a149bd29",
   "metadata": {},
   "outputs": [
    {
     "name": "stdout",
     "output_type": "stream",
     "text": [
      "[<Minion ('Leper Gnome')>]\n",
      "[<Minion ('Silverback Patriarch')>]\n",
      "[<Secret ('Pack Tactics')>]\n"
     ]
    }
   ],
   "source": [
    "print(player1.field)\n",
    "print(player2.field)\n",
    "print(player2.secrets)"
   ]
  },
  {
   "cell_type": "code",
   "execution_count": 121,
   "id": "967c1bab",
   "metadata": {},
   "outputs": [
    {
     "name": "stdout",
     "output_type": "stream",
     "text": [
      "[<Minion ('Silverback Patriarch')>]\n"
     ]
    }
   ],
   "source": [
    "# Targets of the gnome\n",
    "gnome = player1.field[0]\n",
    "targets = gnome.targets\n",
    "print(targets)"
   ]
  },
  {
   "cell_type": "code",
   "execution_count": 122,
   "id": "371adc5f",
   "metadata": {},
   "outputs": [
    {
     "name": "stderr",
     "output_type": "stream",
     "text": [
      "[fireplace.actions]: <Minion ('Leper Gnome')> attacks <Minion ('Silverback Patriarch')>\n",
      "[fireplace.actions]: <Secret ('Pack Tactics')> triggers off <Action: Attack(<Attack.ATTACKER>=<Minion ('Leper Gnome')>, <Attack.DEFENDER>=<Minion ('Silverback Patriarch')>)> from <Minion ('Leper Gnome')>\n",
      "[fireplace.actions]: <Secret ('Pack Tactics')> triggering <TargetedAction: Summon(<Summon.CARD>=ExactCopy(<Attack.DEFENDER>))> targeting [Player(name='Player2', hero=<Hero (\"Gul'dan\")>)]\n",
      "[fireplace.copy]: Creating a copy of <Minion ('Silverback Patriarch')>\n",
      "[fireplace.actions]: Player2 summons [<Minion ('Silverback Patriarch')>]\n",
      "[fireplace.card]: <Minion ('Silverback Patriarch')> moves from <Zone.SETASIDE: 6> to <Zone.PLAY: 1>\n",
      "[fireplace.actions]: <TargetedAction: Summon(<Summon.CARD>=ExactCopy(<Attack.DEFENDER>))> queues up callback <TargetedAction: Buff(<Buff.BUFF>='BT_203e')>\n",
      "[fireplace.actions]: <Secret ('Pack Tactics')> triggering <TargetedAction: Buff(<Buff.BUFF>='BT_203e')> targeting [<Minion ('Silverback Patriarch')>]\n",
      "[fireplace.entity]: Applying <Enchantment ('Packmate')> to <Minion ('Silverback Patriarch')>\n",
      "[fireplace.entity]: <Enchantment ('Packmate')> removes all damage from <Minion ('Silverback Patriarch')>\n",
      "[fireplace.card]: <Enchantment ('Packmate')> moves from <Zone.SETASIDE: 6> to <Zone.PLAY: 1>\n",
      "[fireplace.actions]: <Minion ('Leper Gnome')> triggering <TargetedAction: Hit(<Hit.AMOUNT>=2)> targeting [<Minion ('Silverback Patriarch')>]\n",
      "[fireplace.actions]: <Minion ('Leper Gnome')> triggering <TargetedAction: Predamage(<Predamage.AMOUNT>=2)> targeting [<Minion ('Silverback Patriarch')>]\n",
      "[fireplace.actions]: <Minion ('Leper Gnome')> triggering <TargetedAction: Damage()> targeting [<Minion ('Silverback Patriarch')>]\n",
      "[fireplace.actions]: <Minion ('Silverback Patriarch')> triggering <TargetedAction: Hit(<Hit.AMOUNT>=1)> targeting [<Minion ('Leper Gnome')>]\n",
      "[fireplace.actions]: <Minion ('Silverback Patriarch')> triggering <TargetedAction: Predamage(<Predamage.AMOUNT>=1)> targeting [<Minion ('Leper Gnome')>]\n",
      "[fireplace.actions]: <Minion ('Silverback Patriarch')> triggering <TargetedAction: Damage()> targeting [<Minion ('Leper Gnome')>]\n",
      "[fireplace.entity]: Empty stack, refreshing auras and processing deaths\n",
      "[fireplace.entity]: <Minion ('Leper Gnome')> is removed from the field\n",
      "[fireplace.card]: <Minion ('Leper Gnome')> moves from <Zone.PLAY: 1> to <Zone.GRAVEYARD: 4>\n",
      "[fireplace.entity]: Empty stack, refreshing auras and processing deaths\n",
      "[fireplace.actions]: Processing Death for <Minion ('Leper Gnome')>\n",
      "[fireplace.actions]: Game(players=(Player(name='Player1', hero=<Hero ('Garrosh Hellscream')>), Player(name='Player2', hero=<Hero (\"Gul'dan\")>))) triggering <TargetedAction: Deathrattle()> targeting [<Minion ('Leper Gnome')>]\n",
      "[fireplace.actions]: <Minion ('Leper Gnome')> triggering <TargetedAction: Hit(<Hit.AMOUNT>=2)> targeting [<Hero (\"Gul'dan\")>]\n",
      "[fireplace.actions]: <Minion ('Leper Gnome')> triggering <TargetedAction: Predamage(<Predamage.AMOUNT>=2)> targeting [<Hero (\"Gul'dan\")>]\n",
      "[fireplace.actions]: <Minion ('Leper Gnome')> triggering <TargetedAction: Damage()> targeting [<Hero (\"Gul'dan\")>]\n",
      "[fireplace.entity]: Empty stack, refreshing auras and processing deaths\n"
     ]
    }
   ],
   "source": [
    "# Atacamos al esbirro para activar el secreto Bad Tactics\n",
    "gnome.attack(targets[0])"
   ]
  },
  {
   "cell_type": "code",
   "execution_count": 123,
   "id": "051c00e6",
   "metadata": {},
   "outputs": [
    {
     "name": "stdout",
     "output_type": "stream",
     "text": [
      "[]\n",
      "[<Minion ('Silverback Patriarch')>, <Minion ('Silverback Patriarch')>]\n",
      "[<Secret ('Pack Tactics')>]\n"
     ]
    }
   ],
   "source": [
    "print(player1.field)\n",
    "print(player2.field)\n",
    "print(player2.secrets)"
   ]
  },
  {
   "cell_type": "code",
   "execution_count": 124,
   "id": "5df5038c",
   "metadata": {},
   "outputs": [
    {
     "name": "stdout",
     "output_type": "stream",
     "text": [
      "1\n",
      "2\n",
      "4\n",
      "\n",
      "3\n",
      "3\n",
      "4\n"
     ]
    }
   ],
   "source": [
    "print(player2.field[0].atk)\n",
    "print(player2.field[0].health)\n",
    "print(player2.field[0].type)\n",
    "print(\"\")\n",
    "print(player2.field[1].atk)\n",
    "print(player2.field[1].health)\n",
    "print(player2.field[1].type)\n"
   ]
  },
  {
   "cell_type": "markdown",
   "id": "69f9ad71",
   "metadata": {},
   "source": [
    "## Conclusiones\n",
    "\n",
    "    - El bicho creado se identifica como esbirro (Puedes pedirle ataque y defensa).\n",
    "    - Cuando el bicho sigue vivo también se identifica como esbirro.\n",
    "    - El SECRETO sigue activo después de usarlo (debería desaparecer)!!!\n",
    "    \n",
    "Esto es una contradicción de lo que he estado viendo..."
   ]
  },
  {
   "cell_type": "markdown",
   "id": "aa4a3bd8",
   "metadata": {},
   "source": [
    "### Resolviendo error de Kazakus (Bucle infinito)\n",
    "<hr>"
   ]
  },
  {
   "cell_type": "code",
   "execution_count": 73,
   "id": "f5157910",
   "metadata": {},
   "outputs": [
    {
     "name": "stderr",
     "output_type": "stream",
     "text": [
      "[fireplace.actions]: Player(name='Player2', hero=<Hero ('Garrosh Hellscream')>) triggering <TargetedAction: Give(<Give.CARD>='CFM_621')> targeting [Player(name='Player2', hero=<Hero ('Garrosh Hellscream')>)]\n",
      "[fireplace.actions]: Giving [<Minion ('Kazakus')>] to Player2\n",
      "[fireplace.card]: <Minion ('Kazakus')> moves from <Zone.SETASIDE: 6> to <Zone.HAND: 3>\n",
      "[fireplace.entity]: Empty stack, refreshing auras and processing deaths\n"
     ]
    },
    {
     "data": {
      "text/plain": [
       "<Minion ('Kazakus')>"
      ]
     },
     "execution_count": 73,
     "metadata": {},
     "output_type": "execute_result"
    }
   ],
   "source": [
    "player2.give(\"CFM_621\")"
   ]
  },
  {
   "cell_type": "code",
   "execution_count": 79,
   "id": "40694f39",
   "metadata": {},
   "outputs": [
    {
     "name": "stderr",
     "output_type": "stream",
     "text": [
      "[fireplace.entity]: Player1 ends turn 6\n",
      "[fireplace.entity]: Player2 begins turn 7\n",
      "[fireplace.entity]: Player2 is now at 4 mana crystals\n",
      "[fireplace.actions]: Player(name='Player2', hero=<Hero ('Garrosh Hellscream')>) triggering <TargetedAction: Draw()> targeting [Player(name='Player2', hero=<Hero ('Garrosh Hellscream')>)]\n",
      "[fireplace.entity]: Player2 draws <Minion ('Corpsetaker')>\n",
      "[fireplace.card]: <Minion ('Corpsetaker')> moves from <Zone.DECK: 2> to <Zone.HAND: 3>\n",
      "[fireplace.entity]: Empty stack, refreshing auras and processing deaths\n"
     ]
    },
    {
     "data": {
      "text/plain": [
       "[None]"
      ]
     },
     "execution_count": 79,
     "metadata": {},
     "output_type": "execute_result"
    }
   ],
   "source": [
    "game.end_turn()"
   ]
  },
  {
   "cell_type": "code",
   "execution_count": 80,
   "id": "9e621118",
   "metadata": {},
   "outputs": [
    {
     "name": "stderr",
     "output_type": "stream",
     "text": [
      "[fireplace.actions]: Player2 plays <Minion ('Kazakus')> (target=None, index=None)\n",
      "[fireplace.entity]: Player2 pays 4 mana\n",
      "[fireplace.card]: <Minion ('Kazakus')> moves from <Zone.HAND: 3> to <Zone.PLAY: 1>\n",
      "[fireplace.actions]: <Minion ('Kazakus')> triggering <TargetedAction: Battlecry(<Battlecry.TARGET>=None)> targeting [<Minion ('Kazakus')>]\n",
      "[fireplace.actions]: Activating <Minion ('Kazakus')> action targeting None\n",
      "[fireplace.entity]: Empty stack, refreshing auras and processing deaths\n",
      "[fireplace.entity]: Empty stack, refreshing auras and processing deaths\n"
     ]
    },
    {
     "data": {
      "text/plain": [
       "<Minion ('Kazakus')>"
      ]
     },
     "execution_count": 80,
     "metadata": {},
     "output_type": "execute_result"
    }
   ],
   "source": [
    "player2.hand[4].play()"
   ]
  },
  {
   "cell_type": "code",
   "execution_count": 85,
   "id": "d14b9beb",
   "metadata": {},
   "outputs": [
    {
     "data": {
      "text/plain": [
       "[<Spell ('Felbloom')>, <Spell ('Stonescale Oil')>, <Spell ('Icecap')>]"
      ]
     },
     "execution_count": 85,
     "metadata": {},
     "output_type": "execute_result"
    }
   ],
   "source": [
    "player2.choice.cards"
   ]
  },
  {
   "cell_type": "code",
   "execution_count": 86,
   "id": "704c8433",
   "metadata": {},
   "outputs": [
    {
     "name": "stdout",
     "output_type": "stream",
     "text": [
      "Felbloom\n"
     ]
    },
    {
     "ename": "KeyError",
     "evalue": "'CFM_621t1'",
     "output_type": "error",
     "traceback": [
      "\u001b[1;31m---------------------------------------------------------------------------\u001b[0m",
      "\u001b[1;31mKeyError\u001b[0m                                  Traceback (most recent call last)",
      "Cell \u001b[1;32mIn[86], line 2\u001b[0m\n\u001b[0;32m      1\u001b[0m \u001b[38;5;28mprint\u001b[39m(player2\u001b[38;5;241m.\u001b[39mchoice\u001b[38;5;241m.\u001b[39mcards[\u001b[38;5;241m0\u001b[39m])\n\u001b[1;32m----> 2\u001b[0m \u001b[43mplayer2\u001b[49m\u001b[38;5;241;43m.\u001b[39;49m\u001b[43mchoice\u001b[49m\u001b[38;5;241;43m.\u001b[39;49m\u001b[43mchoose\u001b[49m\u001b[43m(\u001b[49m\u001b[43mplayer2\u001b[49m\u001b[38;5;241;43m.\u001b[39;49m\u001b[43mchoice\u001b[49m\u001b[38;5;241;43m.\u001b[39;49m\u001b[43mcards\u001b[49m\u001b[43m[\u001b[49m\u001b[38;5;241;43m0\u001b[39;49m\u001b[43m]\u001b[49m\u001b[43m)\u001b[49m\n",
      "File \u001b[1;32m~\\anaconda3\\envs\\env_hs_gym\\lib\\site-packages\\fireplace\\actions.py:1549\u001b[0m, in \u001b[0;36mKazakusHelper.choose\u001b[1;34m(self, card)\u001b[0m\n\u001b[0;32m   1547\u001b[0m \t\u001b[38;5;28mself\u001b[39m\u001b[38;5;241m.\u001b[39mdo_step3()\n\u001b[0;32m   1548\u001b[0m \u001b[38;5;28;01mif\u001b[39;00m \u001b[38;5;28mlen\u001b[39m(\u001b[38;5;28mself\u001b[39m\u001b[38;5;241m.\u001b[39mchoosed_cards) \u001b[38;5;241m==\u001b[39m \u001b[38;5;241m3\u001b[39m:\n\u001b[1;32m-> 1549\u001b[0m \t\u001b[38;5;28;43mself\u001b[39;49m\u001b[38;5;241;43m.\u001b[39;49m\u001b[43mdone\u001b[49m\u001b[43m(\u001b[49m\u001b[43m)\u001b[49m\n\u001b[0;32m   1550\u001b[0m \t\u001b[38;5;28mself\u001b[39m\u001b[38;5;241m.\u001b[39mplayer\u001b[38;5;241m.\u001b[39mchoice \u001b[38;5;241m=\u001b[39m \u001b[38;5;28mself\u001b[39m\u001b[38;5;241m.\u001b[39mnext_choice\n",
      "File \u001b[1;32m~\\anaconda3\\envs\\env_hs_gym\\lib\\site-packages\\fireplace\\actions.py:1525\u001b[0m, in \u001b[0;36mKazakusHelper.done\u001b[1;34m(self)\u001b[0m\n\u001b[0;32m   1523\u001b[0m new_card \u001b[38;5;241m=\u001b[39m \u001b[38;5;28;01mNone\u001b[39;00m\n\u001b[0;32m   1524\u001b[0m \u001b[38;5;28;01mif\u001b[39;00m card\u001b[38;5;241m.\u001b[39mid \u001b[38;5;241m==\u001b[39m \u001b[38;5;124m\"\u001b[39m\u001b[38;5;124mCFM_621t11\u001b[39m\u001b[38;5;124m\"\u001b[39m:\n\u001b[1;32m-> 1525\u001b[0m \tnew_card \u001b[38;5;241m=\u001b[39m \u001b[38;5;28;43mself\u001b[39;49m\u001b[38;5;241;43m.\u001b[39;49m\u001b[43mplayer\u001b[49m\u001b[38;5;241;43m.\u001b[39;49m\u001b[43mcard\u001b[49m\u001b[43m(\u001b[49m\u001b[38;5;124;43m\"\u001b[39;49m\u001b[38;5;124;43mCFM_621t1\u001b[39;49m\u001b[38;5;124;43m\"\u001b[39;49m\u001b[43m)\u001b[49m\n\u001b[0;32m   1526\u001b[0m \u001b[38;5;28;01melif\u001b[39;00m card\u001b[38;5;241m.\u001b[39mid \u001b[38;5;241m==\u001b[39m \u001b[38;5;124m\"\u001b[39m\u001b[38;5;124mCFM_621t12\u001b[39m\u001b[38;5;124m\"\u001b[39m:\n\u001b[0;32m   1527\u001b[0m \tnew_card \u001b[38;5;241m=\u001b[39m \u001b[38;5;28mself\u001b[39m\u001b[38;5;241m.\u001b[39mplayer\u001b[38;5;241m.\u001b[39mcard(\u001b[38;5;124m\"\u001b[39m\u001b[38;5;124mCFM_621t14\u001b[39m\u001b[38;5;124m\"\u001b[39m)\n",
      "File \u001b[1;32m~\\anaconda3\\envs\\env_hs_gym\\lib\\site-packages\\fireplace\\player.py:150\u001b[0m, in \u001b[0;36mPlayer.card\u001b[1;34m(self, id, source, parent, zone)\u001b[0m\n\u001b[0;32m    149\u001b[0m \u001b[38;5;28;01mdef\u001b[39;00m \u001b[38;5;21mcard\u001b[39m(\u001b[38;5;28mself\u001b[39m, \u001b[38;5;28mid\u001b[39m, source\u001b[38;5;241m=\u001b[39m\u001b[38;5;28;01mNone\u001b[39;00m, parent\u001b[38;5;241m=\u001b[39m\u001b[38;5;28;01mNone\u001b[39;00m, zone\u001b[38;5;241m=\u001b[39mZone\u001b[38;5;241m.\u001b[39mSETASIDE):\n\u001b[1;32m--> 150\u001b[0m \tcard \u001b[38;5;241m=\u001b[39m \u001b[43mCard\u001b[49m\u001b[43m(\u001b[49m\u001b[38;5;28;43mid\u001b[39;49m\u001b[43m)\u001b[49m\n\u001b[0;32m    151\u001b[0m \tcard\u001b[38;5;241m.\u001b[39mcontroller \u001b[38;5;241m=\u001b[39m \u001b[38;5;28mself\u001b[39m\n\u001b[0;32m    152\u001b[0m \tcard\u001b[38;5;241m.\u001b[39mzone \u001b[38;5;241m=\u001b[39m zone\n",
      "File \u001b[1;32m~\\anaconda3\\envs\\env_hs_gym\\lib\\site-packages\\fireplace\\card.py:20\u001b[0m, in \u001b[0;36mCard\u001b[1;34m(id)\u001b[0m\n\u001b[0;32m     19\u001b[0m \u001b[38;5;28;01mdef\u001b[39;00m \u001b[38;5;21mCard\u001b[39m(\u001b[38;5;28mid\u001b[39m):\n\u001b[1;32m---> 20\u001b[0m \tdata \u001b[38;5;241m=\u001b[39m \u001b[43mcards\u001b[49m\u001b[38;5;241;43m.\u001b[39;49m\u001b[43mdb\u001b[49m\u001b[43m[\u001b[49m\u001b[38;5;28;43mid\u001b[39;49m\u001b[43m]\u001b[49m\n\u001b[0;32m     21\u001b[0m \tsubclass \u001b[38;5;241m=\u001b[39m {\n\u001b[0;32m     22\u001b[0m \t\tCardType\u001b[38;5;241m.\u001b[39mHERO: Hero,\n\u001b[0;32m     23\u001b[0m \t\tCardType\u001b[38;5;241m.\u001b[39mMINION: Minion,\n\u001b[1;32m   (...)\u001b[0m\n\u001b[0;32m     27\u001b[0m \t\tCardType\u001b[38;5;241m.\u001b[39mHERO_POWER: HeroPower,\n\u001b[0;32m     28\u001b[0m \t}[data\u001b[38;5;241m.\u001b[39mtype]\n\u001b[0;32m     29\u001b[0m \t\u001b[38;5;28;01mif\u001b[39;00m subclass \u001b[38;5;129;01mis\u001b[39;00m Spell \u001b[38;5;129;01mand\u001b[39;00m data\u001b[38;5;241m.\u001b[39msecret:\n",
      "\u001b[1;31mKeyError\u001b[0m: 'CFM_621t1'"
     ]
    }
   ],
   "source": [
    "print(player2.choice.cards[0])\n",
    "player2.choice.choose(player2.choice.cards[0])"
   ]
  },
  {
   "cell_type": "markdown",
   "id": "ef616705",
   "metadata": {},
   "source": [
    "### Análisis de los tipos de Cartas\n",
    "<hr>"
   ]
  },
  {
   "cell_type": "code",
   "execution_count": 37,
   "id": "16cb9320",
   "metadata": {},
   "outputs": [
    {
     "data": {
      "text/plain": [
       "(<Deck (26 cards)>,\n",
       " [<Minion ('Worgen Abomination')>,\n",
       "  <Spell ('Naturalize')>,\n",
       "  <Minion ('Dendrologist')>,\n",
       "  <Minion (\"C'Thun's Chosen\")>,\n",
       "  <Spell ('The Coin')>])"
      ]
     },
     "execution_count": 37,
     "metadata": {},
     "output_type": "execute_result"
    }
   ],
   "source": [
    "player1.deck,player1.hand"
   ]
  },
  {
   "cell_type": "code",
   "execution_count": 40,
   "id": "2733082a",
   "metadata": {},
   "outputs": [
    {
     "data": {
      "text/plain": [
       "(<Deck (26 cards)>,\n",
       " [<Minion ('Rotface')>,\n",
       "  <Minion ('Faerie Dragon')>,\n",
       "  <Minion ('Recruiter')>,\n",
       "  <Minion ('Axe Flinger')>,\n",
       "  <Minion ('Kazakus')>])"
      ]
     },
     "execution_count": 40,
     "metadata": {},
     "output_type": "execute_result"
    }
   ],
   "source": [
    "player2.deck,player2.hand"
   ]
  },
  {
   "cell_type": "code",
   "execution_count": 59,
   "id": "0572de09",
   "metadata": {},
   "outputs": [
    {
     "name": "stderr",
     "output_type": "stream",
     "text": [
      "[fireplace.actions]: Player(name='Player2', hero=<Hero ('Thrall')>) triggering <TargetedAction: Give(<Give.CARD>='EX1_536')> targeting [Player(name='Player2', hero=<Hero ('Thrall')>)]\n",
      "[fireplace.actions]: Giving [<Weapon ('Eaglehorn Bow')>] to Player2\n",
      "[fireplace.card]: <Weapon ('Eaglehorn Bow')> moves from <Zone.SETASIDE: 6> to <Zone.HAND: 3>\n",
      "[fireplace.entity]: Empty stack, refreshing auras and processing deaths\n"
     ]
    },
    {
     "name": "stdout",
     "output_type": "stream",
     "text": [
      "Thrall\n"
     ]
    },
    {
     "data": {
      "text/plain": [
       "<Weapon ('Eaglehorn Bow')>"
      ]
     },
     "execution_count": 59,
     "metadata": {},
     "output_type": "execute_result"
    }
   ],
   "source": [
    "print(player2.hero)\n",
    "player2.give(\"EX1_567\")\n",
    "player2.give(\"EX1_536\")"
   ]
  },
  {
   "cell_type": "code",
   "execution_count": 77,
   "id": "e40de0e9",
   "metadata": {},
   "outputs": [
    {
     "name": "stdout",
     "output_type": "stream",
     "text": [
      "1\n",
      "False\n",
      "False\n"
     ]
    }
   ],
   "source": [
    "weapon0 = player2.hand[3]\n",
    "# Check Windfury\n",
    "print(weapon0.windfury)\n",
    "# Check Aura\n",
    "print(weapon0.aura)\n",
    "# Check Deathrattle\n",
    "print(weapon0.has_deathrattle)\n",
    "\n",
    "\n",
    "## Las armas no tienen los siguientes atributos\n",
    "# divine_shield\n",
    "# charge\n",
    "# taunt\n",
    "# stealthed\n",
    "# poisonous\n",
    "# cantbetarget\n",
    "# frozen\n",
    "# silenced"
   ]
  },
  {
   "cell_type": "markdown",
   "id": "3afbce36",
   "metadata": {},
   "source": [
    "### Corrección del error AttributeError: 'Spell' object has no attribute 'divine_shield'"
   ]
  },
  {
   "cell_type": "markdown",
   "id": "1db428b0",
   "metadata": {},
   "source": [
    "La función **def _get_state(self)** da error cuando salen algunas cartas, por ejemplo la carta \"Lock and Load\" que es de tipo SPELL. Cuando se va a calcular el estado y se mira el valor del atributo divine_shield, obtenemos el error:\n",
    "\n",
    "    AttributeError: 'Spell' object has no attribute 'divine_shield'\n",
    "    \n",
    "Cuando en realidad en las cartas de la librería HEARTHSTONE todas tienen ese atributo. Me da que Fireplace debe crear clases diferentes para cartas diferentes...\n",
    "\n",
    "En esta ejecución veo que al jugador 2 le ha tocado un:\n",
    "\n",
    "    'fireplace.card.Spell' Ice Fishing\n",
    "    \n",
    "Si esa carta le hubiera tocado al jugador 1, al ejecutar la función _get_state(self) tal y como está definida, debería dar otro error de ese tipo:\n",
    "\n",
    "    \"myhand2effects_divineshield\": 1 if 0 < len(p1.hand) and p1.hand[0].divine_shield else 0,\n",
    "\n",
    "[Recordar que la función que devuelve el status no puede devolver la mano del contrincante que teóricamente es desconocida]\n",
    "\n",
    "Vamos a aislar ese SPELL para ver qué atributos tiene de entre estos:\n",
    "\n",
    "\"myhand0effects_windfury\":        SI  \n",
    "\"myhand0effects_divineshield\":    NO  \n",
    "\"myhand0effects_charge\":          NO  \n",
    "\"myhand0effects_taunt\":           NO  \n",
    "\"myhand0effects_stealth\":         NO  \n",
    "\"myhand0effects_poisonous\":       NO  \n",
    "\"myhand0effects_cantbetargeted\":  NO  \n",
    "\"myhand0effects_aura\":            SI  \n",
    "\"myhand0effects_deathrattle\":     NO  \n",
    "\"myhand0effects_frozen\":          NO  \n",
    "\"myhand0effects_silenced\":        NO  \n",
    "\n",
    "Lo que me lleva a dos preguntas:\n",
    "\n",
    "* Esto es así sólo en <Spell ('Ice Fishing')> o puede haber otros SPELLS que sí que los tengan??\n",
    "* Puede que tengamos que añadir otros efectos de los SPELLs para que el get_status esté más completo? ¿Sólo se han incluido estos por simplificar o porque no hay mas (windfury,divineshield, charge, taunt, stealth, poisonous, cantbetargeted,aura, deathratttle, frozen, silenced)?\n",
    "\n",
    "PREGUNTAR A JESUS"
   ]
  },
  {
   "cell_type": "code",
   "execution_count": 157,
   "id": "30e3f82a",
   "metadata": {},
   "outputs": [
    {
     "data": {
      "text/plain": [
       "<Spell ('Ice Fishing')>"
      ]
     },
     "execution_count": 157,
     "metadata": {},
     "output_type": "execute_result"
    }
   ],
   "source": [
    "player2.hand[2]"
   ]
  },
  {
   "cell_type": "code",
   "execution_count": 189,
   "id": "48442535",
   "metadata": {},
   "outputs": [
    {
     "ename": "AttributeError",
     "evalue": "'Spell' object has no attribute 'divine_shield'",
     "output_type": "error",
     "traceback": [
      "\u001b[1;31m---------------------------------------------------------------------------\u001b[0m",
      "\u001b[1;31mAttributeError\u001b[0m                            Traceback (most recent call last)",
      "\u001b[1;32mC:\\Users\\LFSANC~1\\AppData\\Local\\Temp/ipykernel_14928/4194967028.py\u001b[0m in \u001b[0;36m<module>\u001b[1;34m\u001b[0m\n\u001b[0;32m      1\u001b[0m \u001b[0mc\u001b[0m\u001b[1;33m=\u001b[0m\u001b[0mplayer2\u001b[0m\u001b[1;33m.\u001b[0m\u001b[0mhand\u001b[0m\u001b[1;33m[\u001b[0m\u001b[1;36m2\u001b[0m\u001b[1;33m]\u001b[0m\u001b[1;33m\u001b[0m\u001b[1;33m\u001b[0m\u001b[0m\n\u001b[1;32m----> 2\u001b[1;33m \u001b[0mc\u001b[0m\u001b[1;33m.\u001b[0m\u001b[0mdivine_shield\u001b[0m\u001b[1;33m\u001b[0m\u001b[1;33m\u001b[0m\u001b[0m\n\u001b[0m",
      "\u001b[1;31mAttributeError\u001b[0m: 'Spell' object has no attribute 'divine_shield'"
     ]
    }
   ],
   "source": [
    "c=player2.hand[2]\n",
    "c.divine_shield"
   ]
  },
  {
   "cell_type": "markdown",
   "id": "5b552e0f",
   "metadata": {},
   "source": [
    "Si la respuesta a las otras dos preguntas es que ningún SPELL tiene esos atributos, y tampoco hay que añadir atributos nuevos, podríamos resolver el problema:\n",
    "    \n",
    "    AttributeError: 'Spell' object has no attribute 'divine_shield'\n",
    "        \n",
    "Modificando la línea:\n",
    "    \n",
    "    \"myhand2effects_divineshield\": 1 if 0 < len(p1.hand) and p1.hand[0].divine_shield else 0,\n",
    "    \n",
    "Por:"
   ]
  },
  {
   "cell_type": "code",
   "execution_count": 190,
   "id": "d8de8e1f",
   "metadata": {},
   "outputs": [],
   "source": [
    "def get_divine_shield(card):\n",
    "    try:\n",
    "        return card.divine_shield\n",
    "    except AttributeError:\n",
    "        return 0      "
   ]
  },
  {
   "cell_type": "code",
   "execution_count": 202,
   "id": "4bed9e83",
   "metadata": {},
   "outputs": [
    {
     "data": {
      "text/plain": [
       "0"
      ]
     },
     "execution_count": 202,
     "metadata": {},
     "output_type": "execute_result"
    }
   ],
   "source": [
    "1 if 2 < len(p2.hand) and get_divine_shield(p2.hand[2]) else 0"
   ]
  },
  {
   "cell_type": "markdown",
   "id": "bb2c198f",
   "metadata": {},
   "source": [
    "Notar que sólo devuelve 1 si el valor del atributo divine_shield es diferente de 0. Si esa carta no tiene divine_shield, como es el caso de los SPELL o lo tiene pero vale 0, sigue devolviendo 0. Entiendo que esto es correcto.\n",
    "\n",
    "CONSULTAR CON JESUS\n",
    "\n",
    "El problema es que cada vez que haya que invocar a get_status va a tener que llamar un montón de veces a estas funciones. Creo que va a ralentizar mucho el proceso. Lo suyo sería modificar la clase SPELL de fireplace para añadirle los atributos que ahora mismo no tiene. O bien, meter una condición que detecte si es un objeto de la clase SPELL... Algo como esto:"
   ]
  },
  {
   "cell_type": "code",
   "execution_count": 203,
   "id": "1e64a174",
   "metadata": {},
   "outputs": [
    {
     "data": {
      "text/plain": [
       "0"
      ]
     },
     "execution_count": 203,
     "metadata": {},
     "output_type": "execute_result"
    }
   ],
   "source": [
    "1 if 2 < len(p2.hand) and p2.hand[2].type!=5 and p2.hand[2].divine_shield  else 0"
   ]
  },
  {
   "cell_type": "markdown",
   "id": "bde800cb",
   "metadata": {},
   "source": [
    "Esta idea me gusta más. Habrá que ver más adelante, si hay otras cartas que no tengan atributos e ir metiendo condiciones cada vez más complicadas. En este caso, la condición:\n",
    "\n",
    "    p2.hand[2].type!=5\n",
    "    \n",
    "Chequea si es una carta de tipo SPELL. Pero puede que haga falta chequear si hay cartas de otros tipos."
   ]
  },
  {
   "cell_type": "markdown",
   "id": "6904736a",
   "metadata": {},
   "source": [
    "**comentario**\n",
    "<br>\n",
    "Contesto a todo aquí al final que va ser más ordenado.\n",
    "<br>\n",
    "En principio las cartas de clase SPELL no tienen los atributos de los esbirros. \n",
    "No tienen *Attack*, ni *Divine_shield*, ni *Windfury* ... etc\n",
    "<br>\n",
    "Los SPELLS, sin embargo, si pueden dar estos attributos a un esbirro. (Puede ser su 'efecto')\n",
    "<br>\n",
    "Por ejemplo, un spell puede darle *Windfury* o *Divine_shield* a uno varios esbirros. \n",
    "<br>\n",
    "<br>\n",
    "No estoy seguro de cómo lo implementa Fireplace pero por lo que he visto yo creo que los Spells\n",
    "no tienen ninguno de estos atributos. Lo que no entiendo es porque el error salta solo con *Divine_shield*\n",
    "y no con otros atributos como *Windfury*.\n",
    "<br>\n",
    "\n",
    "Y para terminar los spells no son las únicas cartas que no tienen estos elementos:\n",
    "\n",
    "    type = 7 , que son las cartas 'Armas' pueden tener Windfury pero no Divine_shield\n",
    "\n",
    "Quizá teniendo eso en cuenta el fireplace gestiona *Windfury* de otra manera.\n",
    "<br>\n",
    "Lo que está claro es que la función que has creado debería funcionar para todas las cartas sin Divine_shield.\n",
    "<br>\n",
    "<br>\n",
    "Acabo de comprobar que has optado por comprobar que no es 'type = 5', así que para ser consistente añadiré también type = 7. Como las armas (type 7) sí tienen algunos atributos y no estoy seguro de como lo implementa Fireplace por ahora solo se lo añado a divine_shield."
   ]
  },
  {
   "cell_type": "markdown",
   "id": "73f80d79",
   "metadata": {},
   "source": [
    "Para comprobar que atributos funcionan con armas y cuales no voy a crear una carta de arma y probar el código\n",
    "    \n",
    "    Arma normal: Eaglehorn bow -> EX1_536 (Card code)\n",
    "    Arma con Windfury: Doomhammer -> EX1_567 (Card code)"
   ]
  },
  {
   "cell_type": "code",
   "execution_count": 154,
   "id": "a31be37a",
   "metadata": {},
   "outputs": [],
   "source": [
    "p1=player1\n",
    "p2=player2"
   ]
  },
  {
   "cell_type": "code",
   "execution_count": 156,
   "id": "afc68874",
   "metadata": {},
   "outputs": [
    {
     "name": "stdout",
     "output_type": "stream",
     "text": [
      ">>>> <class 'fireplace.card.Minion'> River Crocolisk\n",
      ">>>> <class 'fireplace.card.Minion'> Drakkari Enchanter\n",
      ">>>> <class 'fireplace.card.Spell'> Ice Fishing\n",
      ">>>> no  3\n",
      ">>>> no  4\n",
      ">>>> no  5\n",
      ">>>> no  6\n",
      ">>>> no  7\n",
      ">>>> no  8\n",
      ">>>> no  9\n"
     ]
    }
   ],
   "source": [
    "for i in range(10):\n",
    "    try:\n",
    "        print(\">>>>\",type(p2.hand[i]),p2.hand[i])\n",
    "    except:\n",
    "        print(\">>>> no \",i)"
   ]
  },
  {
   "cell_type": "markdown",
   "id": "d391232b",
   "metadata": {},
   "source": [
    "## Expresiones regulares"
   ]
  },
  {
   "cell_type": "code",
   "execution_count": 33,
   "id": "4a5aaef5",
   "metadata": {
    "scrolled": false
   },
   "outputs": [],
   "source": [
    "for id in sorted(cards.db):\n",
    "    card = cards.db[id]\n",
    "    ret = card.description\n",
    "    ret_org=ret\n",
    "    ret=ret.replace(\"\\n\",\" \") \n",
    "    ret = re.sub(\"<i>.+</i>\", \"\", ret,flags=re.IGNORECASE)\n",
    "    ret = re.sub(r\"<\\/?b[^>]*>\", \"\", ret)\n",
    "    ret = re.sub(\"(\" + \"|\".join(SOLVED_KEYWORDS) + \")\", \"\", ret)\n",
    "    ret2 = re.sub(\"<[^>]*>\", \"\", ret)"
   ]
  },
  {
   "cell_type": "markdown",
   "id": "f161024f",
   "metadata": {},
   "source": [
    "## Class Autonum\n",
    "\n",
    "Para qué vale??"
   ]
  },
  {
   "cell_type": "code",
   "execution_count": null,
   "id": "fd8029c4",
   "metadata": {},
   "outputs": [],
   "source": [
    "from enum import Enum\n",
    "\n",
    "class AutoNumber(Enum):\n",
    "\tdef __new__(cls):\n",
    "\t\tvalue = len(cls.__members__)  # note no + 1\n",
    "\t\tobj = object.__new__(cls)\n",
    "\t\tobj._value_ = value\n",
    "\t\treturn obj\n",
    "\n",
    "class Move(AutoNumber):\n",
    "\tend_turn = ()\n",
    "\thero_power = ()\n",
    "\tminion_attack = ()\n",
    "\thero_attack = ()\n",
    "\tplay_card = ()\n",
    "\tmulligan = ()\n",
    "\tchoice = ()"
   ]
  },
  {
   "cell_type": "markdown",
   "id": "2cc387cb",
   "metadata": {},
   "source": [
    "## Modify hearthstone environment from nested to unnested"
   ]
  },
  {
   "cell_type": "code",
   "execution_count": 241,
   "id": "b5072209",
   "metadata": {},
   "outputs": [],
   "source": [
    "from gymnasium import spaces\n",
    "modify={\"myhand0effects\": spaces.Dict({\n",
    "                \"windfury\": spaces.Discrete(2),\n",
    "                \"divineshield\": spaces.Discrete(2),\n",
    "                \"charge\": spaces.Discrete(2),\n",
    "                \"taunt\": spaces.Discrete(2),\n",
    "                \"stealth\": spaces.Discrete(2),\n",
    "                \"poisonous\": spaces.Discrete(2),\n",
    "                \"cantbetargeted\": spaces.Discrete(2),\n",
    "                \"aura\": spaces.Discrete(2),\n",
    "                \"deathrattle\": spaces.Discrete(2),\n",
    "                \"frozen\": spaces.Discrete(2),\n",
    "                \"silenced\": spaces.Discrete(2)}\n",
    "            ),\n",
    "            \"myhand1effects\": spaces.Dict({\n",
    "                \"windfury\": spaces.Discrete(2),\n",
    "                \"divineshield\": spaces.Discrete(2),\n",
    "                \"charge\": spaces.Discrete(2),\n",
    "                \"taunt\": spaces.Discrete(2),\n",
    "                \"stealth\": spaces.Discrete(2),\n",
    "                \"poisonous\": spaces.Discrete(2),\n",
    "                \"cantbetargeted\": spaces.Discrete(2),\n",
    "                \"aura\": spaces.Discrete(2),\n",
    "                \"deathrattle\": spaces.Discrete(2),\n",
    "                \"frozen\": spaces.Discrete(2),\n",
    "                \"silenced\": spaces.Discrete(2)}\n",
    "            ),\n",
    "            \"myhand2effects\": spaces.Dict({\n",
    "                \"windfury\": spaces.Discrete(2),\n",
    "                \"divineshield\": spaces.Discrete(2),\n",
    "                \"charge\": spaces.Discrete(2),\n",
    "                \"taunt\": spaces.Discrete(2),\n",
    "                \"stealth\": spaces.Discrete(2),\n",
    "                \"poisonous\": spaces.Discrete(2),\n",
    "                \"cantbetargeted\": spaces.Discrete(2),\n",
    "                \"aura\": spaces.Discrete(2),\n",
    "                \"deathrattle\": spaces.Discrete(2),\n",
    "                \"frozen\": spaces.Discrete(2),\n",
    "                \"silenced\": spaces.Discrete(2)}\n",
    "            ),\n",
    "            \"myhand3effects\": spaces.Dict({\n",
    "                \"windfury\": spaces.Discrete(2),\n",
    "                \"divineshield\": spaces.Discrete(2),\n",
    "                \"charge\": spaces.Discrete(2),\n",
    "                \"taunt\": spaces.Discrete(2),\n",
    "                \"stealth\": spaces.Discrete(2),\n",
    "                \"poisonous\": spaces.Discrete(2),\n",
    "                \"cantbetargeted\": spaces.Discrete(2),\n",
    "                \"aura\": spaces.Discrete(2),\n",
    "                \"deathrattle\": spaces.Discrete(2),\n",
    "                \"frozen\": spaces.Discrete(2),\n",
    "                \"silenced\": spaces.Discrete(2)}\n",
    "            ),\n",
    "            \"myhand4effects\": spaces.Dict({\n",
    "                \"windfury\": spaces.Discrete(2),\n",
    "                \"divineshield\": spaces.Discrete(2),\n",
    "                \"charge\": spaces.Discrete(2),\n",
    "                \"taunt\": spaces.Discrete(2),\n",
    "                \"stealth\": spaces.Discrete(2),\n",
    "                \"poisonous\": spaces.Discrete(2),\n",
    "                \"cantbetargeted\": spaces.Discrete(2),\n",
    "                \"aura\": spaces.Discrete(2),\n",
    "                \"deathrattle\": spaces.Discrete(2),\n",
    "                \"frozen\": spaces.Discrete(2),\n",
    "                \"silenced\": spaces.Discrete(2)}\n",
    "            ),\n",
    "            \"myhand5effects\": spaces.Dict({\n",
    "                \"windfury\": spaces.Discrete(2),\n",
    "                \"divineshield\": spaces.Discrete(2),\n",
    "                \"charge\": spaces.Discrete(2),\n",
    "                \"taunt\": spaces.Discrete(2),\n",
    "                \"stealth\": spaces.Discrete(2),\n",
    "                \"poisonous\": spaces.Discrete(2),\n",
    "                \"cantbetargeted\": spaces.Discrete(2),\n",
    "                \"aura\": spaces.Discrete(2),\n",
    "                \"deathrattle\": spaces.Discrete(2),\n",
    "                \"frozen\": spaces.Discrete(2),\n",
    "                \"silenced\": spaces.Discrete(2)}\n",
    "            ),\n",
    "            \"myhand6effects\": spaces.Dict({\n",
    "                \"windfury\": spaces.Discrete(2),\n",
    "                \"divineshield\": spaces.Discrete(2),\n",
    "                \"charge\": spaces.Discrete(2),\n",
    "                \"taunt\": spaces.Discrete(2),\n",
    "                \"stealth\": spaces.Discrete(2),\n",
    "                \"poisonous\": spaces.Discrete(2),\n",
    "                \"cantbetargeted\": spaces.Discrete(2),\n",
    "                \"aura\": spaces.Discrete(2),\n",
    "                \"deathrattle\": spaces.Discrete(2),\n",
    "                \"frozen\": spaces.Discrete(2),\n",
    "                \"silenced\": spaces.Discrete(2)}\n",
    "            ),\n",
    "            \"myhand7effects\": spaces.Dict({\n",
    "                \"windfury\": spaces.Discrete(2),\n",
    "                \"divineshield\": spaces.Discrete(2),\n",
    "                \"charge\": spaces.Discrete(2),\n",
    "                \"taunt\": spaces.Discrete(2),\n",
    "                \"stealth\": spaces.Discrete(2),\n",
    "                \"poisonous\": spaces.Discrete(2),\n",
    "                \"cantbetargeted\": spaces.Discrete(2),\n",
    "                \"aura\": spaces.Discrete(2),\n",
    "                \"deathrattle\": spaces.Discrete(2),\n",
    "                \"frozen\": spaces.Discrete(2),\n",
    "                \"silenced\": spaces.Discrete(2)}\n",
    "            ),\n",
    "            \"myhand8effects\": spaces.Dict({\n",
    "                \"windfury\": spaces.Discrete(2),\n",
    "                \"divineshield\": spaces.Discrete(2),\n",
    "                \"charge\": spaces.Discrete(2),\n",
    "                \"taunt\": spaces.Discrete(2),\n",
    "                \"stealth\": spaces.Discrete(2),\n",
    "                \"poisonous\": spaces.Discrete(2),\n",
    "                \"cantbetargeted\": spaces.Discrete(2),\n",
    "                \"aura\": spaces.Discrete(2),\n",
    "                \"deathrattle\": spaces.Discrete(2),\n",
    "                \"frozen\": spaces.Discrete(2),\n",
    "                \"silenced\": spaces.Discrete(2)}\n",
    "            ),\n",
    "            \"myhand9effects\": spaces.Dict({\n",
    "                \"windfury\": spaces.Discrete(2),\n",
    "                \"divineshield\": spaces.Discrete(2),\n",
    "                \"charge\": spaces.Discrete(2),\n",
    "                \"taunt\": spaces.Discrete(2),\n",
    "                \"stealth\": spaces.Discrete(2),\n",
    "                \"poisonous\": spaces.Discrete(2),\n",
    "                \"cantbetargeted\": spaces.Discrete(2),\n",
    "                \"aura\": spaces.Discrete(2),\n",
    "                \"deathrattle\": spaces.Discrete(2),\n",
    "                \"frozen\": spaces.Discrete(2),\n",
    "                \"silenced\": spaces.Discrete(2)}\n",
    "            ),\n",
    "            \"myfield0effects\": spaces.Dict({\n",
    "                \"windfury\": spaces.Discrete(2),\n",
    "                \"divineshield\": spaces.Discrete(2),\n",
    "                \"charge\": spaces.Discrete(2),\n",
    "                \"taunt\": spaces.Discrete(2),\n",
    "                \"stealth\": spaces.Discrete(2),\n",
    "                \"poisonous\": spaces.Discrete(2),\n",
    "                \"cantbetargeted\": spaces.Discrete(2),\n",
    "                \"aura\": spaces.Discrete(2),\n",
    "                \"deathrattle\": spaces.Discrete(2),\n",
    "                \"frozen\": spaces.Discrete(2),\n",
    "                \"silenced\": spaces.Discrete(2)}\n",
    "            ),\n",
    "            \"myfield1effects\": spaces.Dict({\n",
    "                \"windfury\": spaces.Discrete(2),\n",
    "                \"divineshield\": spaces.Discrete(2),\n",
    "                \"charge\": spaces.Discrete(2),\n",
    "                \"taunt\": spaces.Discrete(2),\n",
    "                \"stealth\": spaces.Discrete(2),\n",
    "                \"poisonous\": spaces.Discrete(2),\n",
    "                \"cantbetargeted\": spaces.Discrete(2),\n",
    "                \"aura\": spaces.Discrete(2),\n",
    "                \"deathrattle\": spaces.Discrete(2),\n",
    "                \"frozen\": spaces.Discrete(2),\n",
    "                \"silenced\": spaces.Discrete(2)}\n",
    "            ),\n",
    "            \"myfield2effects\": spaces.Dict({\n",
    "                \"windfury\": spaces.Discrete(2),\n",
    "                \"divineshield\": spaces.Discrete(2),\n",
    "                \"charge\": spaces.Discrete(2),\n",
    "                \"taunt\": spaces.Discrete(2),\n",
    "                \"stealth\": spaces.Discrete(2),\n",
    "                \"poisonous\": spaces.Discrete(2),\n",
    "                \"cantbetargeted\": spaces.Discrete(2),\n",
    "                \"aura\": spaces.Discrete(2),\n",
    "                \"deathrattle\": spaces.Discrete(2),\n",
    "                \"frozen\": spaces.Discrete(2),\n",
    "                \"silenced\": spaces.Discrete(2)}\n",
    "            ),\n",
    "            \"myfield3effects\": spaces.Dict({\n",
    "                \"windfury\": spaces.Discrete(2),\n",
    "                \"divineshield\": spaces.Discrete(2),\n",
    "                \"charge\": spaces.Discrete(2),\n",
    "                \"taunt\": spaces.Discrete(2),\n",
    "                \"stealth\": spaces.Discrete(2),\n",
    "                \"poisonous\": spaces.Discrete(2),\n",
    "                \"cantbetargeted\": spaces.Discrete(2),\n",
    "                \"aura\": spaces.Discrete(2),\n",
    "                \"deathrattle\": spaces.Discrete(2),\n",
    "                \"frozen\": spaces.Discrete(2),\n",
    "                \"silenced\": spaces.Discrete(2)}\n",
    "            ),\n",
    "            \"myfield4effects\": spaces.Dict({\n",
    "                \"windfury\": spaces.Discrete(2),\n",
    "                \"divineshield\": spaces.Discrete(2),\n",
    "                \"charge\": spaces.Discrete(2),\n",
    "                \"taunt\": spaces.Discrete(2),\n",
    "                \"stealth\": spaces.Discrete(2),\n",
    "                \"poisonous\": spaces.Discrete(2),\n",
    "                \"cantbetargeted\": spaces.Discrete(2),\n",
    "                \"aura\": spaces.Discrete(2),\n",
    "                \"deathrattle\": spaces.Discrete(2),\n",
    "                \"frozen\": spaces.Discrete(2),\n",
    "                \"silenced\": spaces.Discrete(2)}\n",
    "            ),\n",
    "            \"myfield5effects\": spaces.Dict({\n",
    "                \"windfury\": spaces.Discrete(2),\n",
    "                \"divineshield\": spaces.Discrete(2),\n",
    "                \"charge\": spaces.Discrete(2),\n",
    "                \"taunt\": spaces.Discrete(2),\n",
    "                \"stealth\": spaces.Discrete(2),\n",
    "                \"poisonous\": spaces.Discrete(2),\n",
    "                \"cantbetargeted\": spaces.Discrete(2),\n",
    "                \"aura\": spaces.Discrete(2),\n",
    "                \"deathrattle\": spaces.Discrete(2),\n",
    "                \"frozen\": spaces.Discrete(2),\n",
    "                \"silenced\": spaces.Discrete(2)}\n",
    "            ),\n",
    "            \"myfield6effects\": spaces.Dict({\n",
    "                \"windfury\": spaces.Discrete(2),\n",
    "                \"divineshield\": spaces.Discrete(2),\n",
    "                \"charge\": spaces.Discrete(2),\n",
    "                \"taunt\": spaces.Discrete(2),\n",
    "                \"stealth\": spaces.Discrete(2),\n",
    "                \"poisonous\": spaces.Discrete(2),\n",
    "                \"cantbetargeted\": spaces.Discrete(2),\n",
    "                \"aura\": spaces.Discrete(2),\n",
    "                \"deathrattle\": spaces.Discrete(2),\n",
    "                \"frozen\": spaces.Discrete(2),\n",
    "                \"silenced\": spaces.Discrete(2)}\n",
    "            ),\n",
    "            \"oppfield0effects\": spaces.Dict({\n",
    "                \"windfury\": spaces.Discrete(2),\n",
    "                \"divineshield\": spaces.Discrete(2),\n",
    "                \"charge\": spaces.Discrete(2),\n",
    "                \"taunt\": spaces.Discrete(2),\n",
    "                \"stealth\": spaces.Discrete(2),\n",
    "                \"poisonous\": spaces.Discrete(2),\n",
    "                \"cantbetargeted\": spaces.Discrete(2),\n",
    "                \"aura\": spaces.Discrete(2),\n",
    "                \"deathrattle\": spaces.Discrete(2),\n",
    "                \"frozen\": spaces.Discrete(2),\n",
    "                \"silenced\": spaces.Discrete(2)}\n",
    "            ),\n",
    "            \"oppfield1effects\": spaces.Dict({\n",
    "                \"windfury\": spaces.Discrete(2),\n",
    "                \"divineshield\": spaces.Discrete(2),\n",
    "                \"charge\": spaces.Discrete(2),\n",
    "                \"taunt\": spaces.Discrete(2),\n",
    "                \"stealth\": spaces.Discrete(2),\n",
    "                \"poisonous\": spaces.Discrete(2),\n",
    "                \"cantbetargeted\": spaces.Discrete(2),\n",
    "                \"aura\": spaces.Discrete(2),\n",
    "                \"deathrattle\": spaces.Discrete(2),\n",
    "                \"frozen\": spaces.Discrete(2),\n",
    "                \"silenced\": spaces.Discrete(2)}\n",
    "            ),\n",
    "            \"oppfield2effects\": spaces.Dict({\n",
    "                \"windfury\": spaces.Discrete(2),\n",
    "                \"divineshield\": spaces.Discrete(2),\n",
    "                \"charge\": spaces.Discrete(2),\n",
    "                \"taunt\": spaces.Discrete(2),\n",
    "                \"stealth\": spaces.Discrete(2),\n",
    "                \"poisonous\": spaces.Discrete(2),\n",
    "                \"cantbetargeted\": spaces.Discrete(2),\n",
    "                \"aura\": spaces.Discrete(2),\n",
    "                \"deathrattle\": spaces.Discrete(2),\n",
    "                \"frozen\": spaces.Discrete(2),\n",
    "                \"silenced\": spaces.Discrete(2)}\n",
    "            ),\n",
    "            \"oppfield3effects\": spaces.Dict({\n",
    "                \"windfury\": spaces.Discrete(2),\n",
    "                \"divineshield\": spaces.Discrete(2),\n",
    "                \"charge\": spaces.Discrete(2),\n",
    "                \"taunt\": spaces.Discrete(2),\n",
    "                \"stealth\": spaces.Discrete(2),\n",
    "                \"poisonous\": spaces.Discrete(2),\n",
    "                \"cantbetargeted\": spaces.Discrete(2),\n",
    "                \"aura\": spaces.Discrete(2),\n",
    "                \"deathrattle\": spaces.Discrete(2),\n",
    "                \"frozen\": spaces.Discrete(2),\n",
    "                \"silenced\": spaces.Discrete(2)}\n",
    "            ),\n",
    "            \"oppfield4effects\": spaces.Dict({\n",
    "                \"windfury\": spaces.Discrete(2),\n",
    "                \"divineshield\": spaces.Discrete(2),\n",
    "                \"charge\": spaces.Discrete(2),\n",
    "                \"taunt\": spaces.Discrete(2),\n",
    "                \"stealth\": spaces.Discrete(2),\n",
    "                \"poisonous\": spaces.Discrete(2),\n",
    "                \"cantbetargeted\": spaces.Discrete(2),\n",
    "                \"aura\": spaces.Discrete(2),\n",
    "                \"deathrattle\": spaces.Discrete(2),\n",
    "                \"frozen\": spaces.Discrete(2),\n",
    "                \"silenced\": spaces.Discrete(2)}\n",
    "            ),\n",
    "            \"oppfield5effects\": spaces.Dict({\n",
    "                \"windfury\": spaces.Discrete(2),\n",
    "                \"divineshield\": spaces.Discrete(2),\n",
    "                \"charge\": spaces.Discrete(2),\n",
    "                \"taunt\": spaces.Discrete(2),\n",
    "                \"stealth\": spaces.Discrete(2),\n",
    "                \"poisonous\": spaces.Discrete(2),\n",
    "                \"cantbetargeted\": spaces.Discrete(2),\n",
    "                \"aura\": spaces.Discrete(2),\n",
    "                \"deathrattle\": spaces.Discrete(2),\n",
    "                \"frozen\": spaces.Discrete(2),\n",
    "                \"silenced\": spaces.Discrete(2)}\n",
    "            ),\n",
    "            \"oppfield6effects\": spaces.Dict({\n",
    "                \"windfury\": spaces.Discrete(2),\n",
    "                \"divineshield\": spaces.Discrete(2),\n",
    "                \"charge\": spaces.Discrete(2),\n",
    "                \"taunt\": spaces.Discrete(2),\n",
    "                \"stealth\": spaces.Discrete(2),\n",
    "                \"poisonous\": spaces.Discrete(2),\n",
    "                \"cantbetargeted\": spaces.Discrete(2),\n",
    "                \"aura\": spaces.Discrete(2),\n",
    "                \"deathrattle\": spaces.Discrete(2),\n",
    "                \"frozen\": spaces.Discrete(2),\n",
    "                \"silenced\": spaces.Discrete(2)}\n",
    "            )}"
   ]
  },
  {
   "cell_type": "code",
   "execution_count": 242,
   "id": "d6503367",
   "metadata": {},
   "outputs": [
    {
     "data": {
      "text/plain": [
       "KeysView(Dict('aura': Discrete(2), 'cantbetargeted': Discrete(2), 'charge': Discrete(2), 'deathrattle': Discrete(2), 'divineshield': Discrete(2), 'frozen': Discrete(2), 'poisonous': Discrete(2), 'silenced': Discrete(2), 'stealth': Discrete(2), 'taunt': Discrete(2), 'windfury': Discrete(2)))"
      ]
     },
     "execution_count": 242,
     "metadata": {},
     "output_type": "execute_result"
    }
   ],
   "source": [
    "modify[\"myhand0effects\"].keys()"
   ]
  },
  {
   "cell_type": "code",
   "execution_count": 243,
   "id": "0ab918a6",
   "metadata": {},
   "outputs": [
    {
     "name": "stdout",
     "output_type": "stream",
     "text": [
      "\"myhand0effects_aura\": spaces.Discrete(2),\n",
      "\"myhand0effects_cantbetargeted\": spaces.Discrete(2),\n",
      "\"myhand0effects_charge\": spaces.Discrete(2),\n",
      "\"myhand0effects_deathrattle\": spaces.Discrete(2),\n",
      "\"myhand0effects_divineshield\": spaces.Discrete(2),\n",
      "\"myhand0effects_frozen\": spaces.Discrete(2),\n",
      "\"myhand0effects_poisonous\": spaces.Discrete(2),\n",
      "\"myhand0effects_silenced\": spaces.Discrete(2),\n",
      "\"myhand0effects_stealth\": spaces.Discrete(2),\n",
      "\"myhand0effects_taunt\": spaces.Discrete(2),\n",
      "\"myhand0effects_windfury\": spaces.Discrete(2),\n",
      "\"myhand1effects_aura\": spaces.Discrete(2),\n",
      "\"myhand1effects_cantbetargeted\": spaces.Discrete(2),\n",
      "\"myhand1effects_charge\": spaces.Discrete(2),\n",
      "\"myhand1effects_deathrattle\": spaces.Discrete(2),\n",
      "\"myhand1effects_divineshield\": spaces.Discrete(2),\n",
      "\"myhand1effects_frozen\": spaces.Discrete(2),\n",
      "\"myhand1effects_poisonous\": spaces.Discrete(2),\n",
      "\"myhand1effects_silenced\": spaces.Discrete(2),\n",
      "\"myhand1effects_stealth\": spaces.Discrete(2),\n",
      "\"myhand1effects_taunt\": spaces.Discrete(2),\n",
      "\"myhand1effects_windfury\": spaces.Discrete(2),\n",
      "\"myhand2effects_aura\": spaces.Discrete(2),\n",
      "\"myhand2effects_cantbetargeted\": spaces.Discrete(2),\n",
      "\"myhand2effects_charge\": spaces.Discrete(2),\n",
      "\"myhand2effects_deathrattle\": spaces.Discrete(2),\n",
      "\"myhand2effects_divineshield\": spaces.Discrete(2),\n",
      "\"myhand2effects_frozen\": spaces.Discrete(2),\n",
      "\"myhand2effects_poisonous\": spaces.Discrete(2),\n",
      "\"myhand2effects_silenced\": spaces.Discrete(2),\n",
      "\"myhand2effects_stealth\": spaces.Discrete(2),\n",
      "\"myhand2effects_taunt\": spaces.Discrete(2),\n",
      "\"myhand2effects_windfury\": spaces.Discrete(2),\n",
      "\"myhand3effects_aura\": spaces.Discrete(2),\n",
      "\"myhand3effects_cantbetargeted\": spaces.Discrete(2),\n",
      "\"myhand3effects_charge\": spaces.Discrete(2),\n",
      "\"myhand3effects_deathrattle\": spaces.Discrete(2),\n",
      "\"myhand3effects_divineshield\": spaces.Discrete(2),\n",
      "\"myhand3effects_frozen\": spaces.Discrete(2),\n",
      "\"myhand3effects_poisonous\": spaces.Discrete(2),\n",
      "\"myhand3effects_silenced\": spaces.Discrete(2),\n",
      "\"myhand3effects_stealth\": spaces.Discrete(2),\n",
      "\"myhand3effects_taunt\": spaces.Discrete(2),\n",
      "\"myhand3effects_windfury\": spaces.Discrete(2),\n",
      "\"myhand4effects_aura\": spaces.Discrete(2),\n",
      "\"myhand4effects_cantbetargeted\": spaces.Discrete(2),\n",
      "\"myhand4effects_charge\": spaces.Discrete(2),\n",
      "\"myhand4effects_deathrattle\": spaces.Discrete(2),\n",
      "\"myhand4effects_divineshield\": spaces.Discrete(2),\n",
      "\"myhand4effects_frozen\": spaces.Discrete(2),\n",
      "\"myhand4effects_poisonous\": spaces.Discrete(2),\n",
      "\"myhand4effects_silenced\": spaces.Discrete(2),\n",
      "\"myhand4effects_stealth\": spaces.Discrete(2),\n",
      "\"myhand4effects_taunt\": spaces.Discrete(2),\n",
      "\"myhand4effects_windfury\": spaces.Discrete(2),\n",
      "\"myhand5effects_aura\": spaces.Discrete(2),\n",
      "\"myhand5effects_cantbetargeted\": spaces.Discrete(2),\n",
      "\"myhand5effects_charge\": spaces.Discrete(2),\n",
      "\"myhand5effects_deathrattle\": spaces.Discrete(2),\n",
      "\"myhand5effects_divineshield\": spaces.Discrete(2),\n",
      "\"myhand5effects_frozen\": spaces.Discrete(2),\n",
      "\"myhand5effects_poisonous\": spaces.Discrete(2),\n",
      "\"myhand5effects_silenced\": spaces.Discrete(2),\n",
      "\"myhand5effects_stealth\": spaces.Discrete(2),\n",
      "\"myhand5effects_taunt\": spaces.Discrete(2),\n",
      "\"myhand5effects_windfury\": spaces.Discrete(2),\n",
      "\"myhand6effects_aura\": spaces.Discrete(2),\n",
      "\"myhand6effects_cantbetargeted\": spaces.Discrete(2),\n",
      "\"myhand6effects_charge\": spaces.Discrete(2),\n",
      "\"myhand6effects_deathrattle\": spaces.Discrete(2),\n",
      "\"myhand6effects_divineshield\": spaces.Discrete(2),\n",
      "\"myhand6effects_frozen\": spaces.Discrete(2),\n",
      "\"myhand6effects_poisonous\": spaces.Discrete(2),\n",
      "\"myhand6effects_silenced\": spaces.Discrete(2),\n",
      "\"myhand6effects_stealth\": spaces.Discrete(2),\n",
      "\"myhand6effects_taunt\": spaces.Discrete(2),\n",
      "\"myhand6effects_windfury\": spaces.Discrete(2),\n",
      "\"myhand7effects_aura\": spaces.Discrete(2),\n",
      "\"myhand7effects_cantbetargeted\": spaces.Discrete(2),\n",
      "\"myhand7effects_charge\": spaces.Discrete(2),\n",
      "\"myhand7effects_deathrattle\": spaces.Discrete(2),\n",
      "\"myhand7effects_divineshield\": spaces.Discrete(2),\n",
      "\"myhand7effects_frozen\": spaces.Discrete(2),\n",
      "\"myhand7effects_poisonous\": spaces.Discrete(2),\n",
      "\"myhand7effects_silenced\": spaces.Discrete(2),\n",
      "\"myhand7effects_stealth\": spaces.Discrete(2),\n",
      "\"myhand7effects_taunt\": spaces.Discrete(2),\n",
      "\"myhand7effects_windfury\": spaces.Discrete(2),\n",
      "\"myhand8effects_aura\": spaces.Discrete(2),\n",
      "\"myhand8effects_cantbetargeted\": spaces.Discrete(2),\n",
      "\"myhand8effects_charge\": spaces.Discrete(2),\n",
      "\"myhand8effects_deathrattle\": spaces.Discrete(2),\n",
      "\"myhand8effects_divineshield\": spaces.Discrete(2),\n",
      "\"myhand8effects_frozen\": spaces.Discrete(2),\n",
      "\"myhand8effects_poisonous\": spaces.Discrete(2),\n",
      "\"myhand8effects_silenced\": spaces.Discrete(2),\n",
      "\"myhand8effects_stealth\": spaces.Discrete(2),\n",
      "\"myhand8effects_taunt\": spaces.Discrete(2),\n",
      "\"myhand8effects_windfury\": spaces.Discrete(2),\n",
      "\"myhand9effects_aura\": spaces.Discrete(2),\n",
      "\"myhand9effects_cantbetargeted\": spaces.Discrete(2),\n",
      "\"myhand9effects_charge\": spaces.Discrete(2),\n",
      "\"myhand9effects_deathrattle\": spaces.Discrete(2),\n",
      "\"myhand9effects_divineshield\": spaces.Discrete(2),\n",
      "\"myhand9effects_frozen\": spaces.Discrete(2),\n",
      "\"myhand9effects_poisonous\": spaces.Discrete(2),\n",
      "\"myhand9effects_silenced\": spaces.Discrete(2),\n",
      "\"myhand9effects_stealth\": spaces.Discrete(2),\n",
      "\"myhand9effects_taunt\": spaces.Discrete(2),\n",
      "\"myhand9effects_windfury\": spaces.Discrete(2),\n",
      "\"myfield0effects_aura\": spaces.Discrete(2),\n",
      "\"myfield0effects_cantbetargeted\": spaces.Discrete(2),\n",
      "\"myfield0effects_charge\": spaces.Discrete(2),\n",
      "\"myfield0effects_deathrattle\": spaces.Discrete(2),\n",
      "\"myfield0effects_divineshield\": spaces.Discrete(2),\n",
      "\"myfield0effects_frozen\": spaces.Discrete(2),\n",
      "\"myfield0effects_poisonous\": spaces.Discrete(2),\n",
      "\"myfield0effects_silenced\": spaces.Discrete(2),\n",
      "\"myfield0effects_stealth\": spaces.Discrete(2),\n",
      "\"myfield0effects_taunt\": spaces.Discrete(2),\n",
      "\"myfield0effects_windfury\": spaces.Discrete(2),\n",
      "\"myfield1effects_aura\": spaces.Discrete(2),\n",
      "\"myfield1effects_cantbetargeted\": spaces.Discrete(2),\n",
      "\"myfield1effects_charge\": spaces.Discrete(2),\n",
      "\"myfield1effects_deathrattle\": spaces.Discrete(2),\n",
      "\"myfield1effects_divineshield\": spaces.Discrete(2),\n",
      "\"myfield1effects_frozen\": spaces.Discrete(2),\n",
      "\"myfield1effects_poisonous\": spaces.Discrete(2),\n",
      "\"myfield1effects_silenced\": spaces.Discrete(2),\n",
      "\"myfield1effects_stealth\": spaces.Discrete(2),\n",
      "\"myfield1effects_taunt\": spaces.Discrete(2),\n",
      "\"myfield1effects_windfury\": spaces.Discrete(2),\n",
      "\"myfield2effects_aura\": spaces.Discrete(2),\n",
      "\"myfield2effects_cantbetargeted\": spaces.Discrete(2),\n",
      "\"myfield2effects_charge\": spaces.Discrete(2),\n",
      "\"myfield2effects_deathrattle\": spaces.Discrete(2),\n",
      "\"myfield2effects_divineshield\": spaces.Discrete(2),\n",
      "\"myfield2effects_frozen\": spaces.Discrete(2),\n",
      "\"myfield2effects_poisonous\": spaces.Discrete(2),\n",
      "\"myfield2effects_silenced\": spaces.Discrete(2),\n",
      "\"myfield2effects_stealth\": spaces.Discrete(2),\n",
      "\"myfield2effects_taunt\": spaces.Discrete(2),\n",
      "\"myfield2effects_windfury\": spaces.Discrete(2),\n",
      "\"myfield3effects_aura\": spaces.Discrete(2),\n",
      "\"myfield3effects_cantbetargeted\": spaces.Discrete(2),\n",
      "\"myfield3effects_charge\": spaces.Discrete(2),\n",
      "\"myfield3effects_deathrattle\": spaces.Discrete(2),\n",
      "\"myfield3effects_divineshield\": spaces.Discrete(2),\n",
      "\"myfield3effects_frozen\": spaces.Discrete(2),\n",
      "\"myfield3effects_poisonous\": spaces.Discrete(2),\n",
      "\"myfield3effects_silenced\": spaces.Discrete(2),\n",
      "\"myfield3effects_stealth\": spaces.Discrete(2),\n",
      "\"myfield3effects_taunt\": spaces.Discrete(2),\n",
      "\"myfield3effects_windfury\": spaces.Discrete(2),\n",
      "\"myfield4effects_aura\": spaces.Discrete(2),\n",
      "\"myfield4effects_cantbetargeted\": spaces.Discrete(2),\n",
      "\"myfield4effects_charge\": spaces.Discrete(2),\n",
      "\"myfield4effects_deathrattle\": spaces.Discrete(2),\n",
      "\"myfield4effects_divineshield\": spaces.Discrete(2),\n",
      "\"myfield4effects_frozen\": spaces.Discrete(2),\n",
      "\"myfield4effects_poisonous\": spaces.Discrete(2),\n",
      "\"myfield4effects_silenced\": spaces.Discrete(2),\n",
      "\"myfield4effects_stealth\": spaces.Discrete(2),\n",
      "\"myfield4effects_taunt\": spaces.Discrete(2),\n",
      "\"myfield4effects_windfury\": spaces.Discrete(2),\n",
      "\"myfield5effects_aura\": spaces.Discrete(2),\n",
      "\"myfield5effects_cantbetargeted\": spaces.Discrete(2),\n",
      "\"myfield5effects_charge\": spaces.Discrete(2),\n",
      "\"myfield5effects_deathrattle\": spaces.Discrete(2),\n",
      "\"myfield5effects_divineshield\": spaces.Discrete(2),\n",
      "\"myfield5effects_frozen\": spaces.Discrete(2),\n",
      "\"myfield5effects_poisonous\": spaces.Discrete(2),\n",
      "\"myfield5effects_silenced\": spaces.Discrete(2),\n",
      "\"myfield5effects_stealth\": spaces.Discrete(2),\n",
      "\"myfield5effects_taunt\": spaces.Discrete(2),\n",
      "\"myfield5effects_windfury\": spaces.Discrete(2),\n",
      "\"myfield6effects_aura\": spaces.Discrete(2),\n",
      "\"myfield6effects_cantbetargeted\": spaces.Discrete(2),\n",
      "\"myfield6effects_charge\": spaces.Discrete(2),\n",
      "\"myfield6effects_deathrattle\": spaces.Discrete(2),\n",
      "\"myfield6effects_divineshield\": spaces.Discrete(2),\n",
      "\"myfield6effects_frozen\": spaces.Discrete(2),\n",
      "\"myfield6effects_poisonous\": spaces.Discrete(2),\n",
      "\"myfield6effects_silenced\": spaces.Discrete(2),\n",
      "\"myfield6effects_stealth\": spaces.Discrete(2),\n",
      "\"myfield6effects_taunt\": spaces.Discrete(2),\n",
      "\"myfield6effects_windfury\": spaces.Discrete(2),\n",
      "\"oppfield0effects_aura\": spaces.Discrete(2),\n",
      "\"oppfield0effects_cantbetargeted\": spaces.Discrete(2),\n",
      "\"oppfield0effects_charge\": spaces.Discrete(2),\n",
      "\"oppfield0effects_deathrattle\": spaces.Discrete(2),\n",
      "\"oppfield0effects_divineshield\": spaces.Discrete(2),\n",
      "\"oppfield0effects_frozen\": spaces.Discrete(2),\n",
      "\"oppfield0effects_poisonous\": spaces.Discrete(2),\n",
      "\"oppfield0effects_silenced\": spaces.Discrete(2),\n",
      "\"oppfield0effects_stealth\": spaces.Discrete(2),\n",
      "\"oppfield0effects_taunt\": spaces.Discrete(2),\n",
      "\"oppfield0effects_windfury\": spaces.Discrete(2),\n",
      "\"oppfield1effects_aura\": spaces.Discrete(2),\n",
      "\"oppfield1effects_cantbetargeted\": spaces.Discrete(2),\n",
      "\"oppfield1effects_charge\": spaces.Discrete(2),\n",
      "\"oppfield1effects_deathrattle\": spaces.Discrete(2),\n",
      "\"oppfield1effects_divineshield\": spaces.Discrete(2),\n",
      "\"oppfield1effects_frozen\": spaces.Discrete(2),\n",
      "\"oppfield1effects_poisonous\": spaces.Discrete(2),\n",
      "\"oppfield1effects_silenced\": spaces.Discrete(2),\n",
      "\"oppfield1effects_stealth\": spaces.Discrete(2),\n",
      "\"oppfield1effects_taunt\": spaces.Discrete(2),\n",
      "\"oppfield1effects_windfury\": spaces.Discrete(2),\n",
      "\"oppfield2effects_aura\": spaces.Discrete(2),\n",
      "\"oppfield2effects_cantbetargeted\": spaces.Discrete(2),\n",
      "\"oppfield2effects_charge\": spaces.Discrete(2),\n",
      "\"oppfield2effects_deathrattle\": spaces.Discrete(2),\n",
      "\"oppfield2effects_divineshield\": spaces.Discrete(2),\n",
      "\"oppfield2effects_frozen\": spaces.Discrete(2),\n",
      "\"oppfield2effects_poisonous\": spaces.Discrete(2),\n",
      "\"oppfield2effects_silenced\": spaces.Discrete(2),\n",
      "\"oppfield2effects_stealth\": spaces.Discrete(2),\n",
      "\"oppfield2effects_taunt\": spaces.Discrete(2),\n",
      "\"oppfield2effects_windfury\": spaces.Discrete(2),\n",
      "\"oppfield3effects_aura\": spaces.Discrete(2),\n",
      "\"oppfield3effects_cantbetargeted\": spaces.Discrete(2),\n",
      "\"oppfield3effects_charge\": spaces.Discrete(2),\n",
      "\"oppfield3effects_deathrattle\": spaces.Discrete(2),\n",
      "\"oppfield3effects_divineshield\": spaces.Discrete(2),\n",
      "\"oppfield3effects_frozen\": spaces.Discrete(2),\n",
      "\"oppfield3effects_poisonous\": spaces.Discrete(2),\n",
      "\"oppfield3effects_silenced\": spaces.Discrete(2),\n",
      "\"oppfield3effects_stealth\": spaces.Discrete(2),\n",
      "\"oppfield3effects_taunt\": spaces.Discrete(2),\n",
      "\"oppfield3effects_windfury\": spaces.Discrete(2),\n",
      "\"oppfield4effects_aura\": spaces.Discrete(2),\n",
      "\"oppfield4effects_cantbetargeted\": spaces.Discrete(2),\n",
      "\"oppfield4effects_charge\": spaces.Discrete(2),\n",
      "\"oppfield4effects_deathrattle\": spaces.Discrete(2),\n",
      "\"oppfield4effects_divineshield\": spaces.Discrete(2),\n",
      "\"oppfield4effects_frozen\": spaces.Discrete(2),\n",
      "\"oppfield4effects_poisonous\": spaces.Discrete(2),\n",
      "\"oppfield4effects_silenced\": spaces.Discrete(2),\n",
      "\"oppfield4effects_stealth\": spaces.Discrete(2),\n",
      "\"oppfield4effects_taunt\": spaces.Discrete(2),\n",
      "\"oppfield4effects_windfury\": spaces.Discrete(2),\n",
      "\"oppfield5effects_aura\": spaces.Discrete(2),\n",
      "\"oppfield5effects_cantbetargeted\": spaces.Discrete(2),\n",
      "\"oppfield5effects_charge\": spaces.Discrete(2),\n",
      "\"oppfield5effects_deathrattle\": spaces.Discrete(2),\n",
      "\"oppfield5effects_divineshield\": spaces.Discrete(2),\n",
      "\"oppfield5effects_frozen\": spaces.Discrete(2),\n",
      "\"oppfield5effects_poisonous\": spaces.Discrete(2),\n",
      "\"oppfield5effects_silenced\": spaces.Discrete(2),\n",
      "\"oppfield5effects_stealth\": spaces.Discrete(2),\n",
      "\"oppfield5effects_taunt\": spaces.Discrete(2),\n",
      "\"oppfield5effects_windfury\": spaces.Discrete(2),\n",
      "\"oppfield6effects_aura\": spaces.Discrete(2),\n",
      "\"oppfield6effects_cantbetargeted\": spaces.Discrete(2),\n",
      "\"oppfield6effects_charge\": spaces.Discrete(2),\n",
      "\"oppfield6effects_deathrattle\": spaces.Discrete(2),\n",
      "\"oppfield6effects_divineshield\": spaces.Discrete(2),\n",
      "\"oppfield6effects_frozen\": spaces.Discrete(2),\n",
      "\"oppfield6effects_poisonous\": spaces.Discrete(2),\n",
      "\"oppfield6effects_silenced\": spaces.Discrete(2),\n",
      "\"oppfield6effects_stealth\": spaces.Discrete(2),\n",
      "\"oppfield6effects_taunt\": spaces.Discrete(2),\n",
      "\"oppfield6effects_windfury\": spaces.Discrete(2),\n"
     ]
    }
   ],
   "source": [
    "for k,v in modify.items():\n",
    "    for kk,vv in v.items():\n",
    "        print('\"'+k+\"_\"+kk+'\": spaces.Discrete(2),')"
   ]
  },
  {
   "cell_type": "markdown",
   "id": "d60b62d1",
   "metadata": {},
   "source": [
    "### Modify hearthstone environment from nested to unnested\n",
    "\n",
    "Y también modificado para añadir la condición de no buscar ciertos atributos cuando la carta es de tipo SPELL"
   ]
  },
  {
   "cell_type": "code",
   "execution_count": 256,
   "id": "afd16233",
   "metadata": {},
   "outputs": [],
   "source": [
    "code=\"\"\"\"\"myhand0effects_windfury\": 1 if 0 < len(p1.hand) and p1.hand[0].windfury else 0,\n",
    "\"myhand0effects_divineshield\": 1 if 0 < len(p1.hand) and p1.hand[0].divine_shield else 0,\n",
    "\"myhand0effects_charge\": 1 if 0 < len(p1.hand) and p1.hand[0].charge else 0,\n",
    "\"myhand0effects_taunt\": 1 if 0 < len(p1.hand) and p1.hand[0].taunt else 0,\n",
    "\"myhand0effects_stealth\": 1 if 0 < len(p1.hand) and p1.hand[0].stealthed else 0,\n",
    "\"myhand0effects_poisonous\": 1 if 0 < len(p1.hand) and p1.hand[0].poisonous else 0,\n",
    "\"myhand0effects_cantbetargeted\": 1 if 0 < len(p1.hand) and (p1.hand[0].cant_be_targeted_by_abilities or p1.hand[0].cant_be_targeted_by_hero_powers) else 0,\n",
    "\"myhand0effects_aura\": 1 if 0 < len(p1.hand) and p1.hand[0].aura else 0,\n",
    "\"myhand0effects_deathrattle\": 1 if 0 < len(p1.hand) and p1.hand[0].has_deathrattle else 0,\n",
    "\"myhand0effects_frozen\": 1 if 0 < len(p1.hand) and p1.hand[0].frozen else 0,\n",
    "\"myhand0effects_silenced\": 1 if 0 < len(p1.hand) and p1.hand[0].silenced else 0,\n",
    "\"myhand1effects_windfury\": 1 if 1 < len(p1.hand) and p1.hand[1].windfury else 0,\n",
    "\"myhand1effects_divineshield\": 1 if 1 < len(p1.hand) and p1.hand[1].divine_shield else 0,\n",
    "\"myhand1effects_charge\": 1 if 1 < len(p1.hand) and p1.hand[1].charge else 0,\n",
    "\"myhand1effects_taunt\": 1 if 1 < len(p1.hand) and p1.hand[1].taunt else 0,\n",
    "\"myhand1effects_stealth\": 1 if 1 < len(p1.hand) and p1.hand[1].stealthed else 0,\n",
    "\"myhand1effects_poisonous\": 1 if 1 < len(p1.hand) and p1.hand[1].poisonous else 0,\n",
    "\"myhand1effects_cantbetargeted\": 1 if 1 < len(p1.hand) and (p1.hand[1].cant_be_targeted_by_abilities or p1.hand[1].cant_be_targeted_by_hero_powers) else 0,\n",
    "\"myhand1effects_aura\": 1 if 1 < len(p1.hand) and p1.hand[1].aura else 0,\n",
    "\"myhand1effects_deathrattle\": 1 if 1 < len(p1.hand) and p1.hand[1].has_deathrattle else 0,\n",
    "\"myhand1effects_frozen\": 1 if 1 < len(p1.hand) and p1.hand[1].frozen else 0,\n",
    "\"myhand1effects_silenced\": 1 if 1 < len(p1.hand) and p1.hand[1].silenced else 0,\n",
    "\"myhand2effects_windfury\": 1 if 2 < len(p1.hand) and p1.hand[2].windfury else 0,\n",
    "\"myhand2effects_divineshield\": 1 if 2 < len(p1.hand) and p1.hand[2].divine_shield else 0,\n",
    "\"myhand2effects_charge\": 1 if 2 < len(p1.hand) and p1.hand[2].charge else 0,\n",
    "\"myhand2effects_taunt\": 1 if 2 < len(p1.hand) and p1.hand[2].taunt else 0,\n",
    "\"myhand2effects_stealth\": 1 if 2 < len(p1.hand) and p1.hand[2].stealthed else 0,\n",
    "\"myhand2effects_poisonous\": 1 if 2 < len(p1.hand) and p1.hand[2].poisonous else 0,\n",
    "\"myhand2effects_cantbetargeted\": 1 if 2 < len(p1.hand) and (p1.hand[2].cant_be_targeted_by_abilities or p1.hand[2].cant_be_targeted_by_hero_powers) else 0,\n",
    "\"myhand2effects_aura\": 1 if 2 < len(p1.hand) and p1.hand[2].aura else 0,\n",
    "\"myhand2effects_deathrattle\": 1 if 2 < len(p1.hand) and p1.hand[2].has_deathrattle else 0,\n",
    "\"myhand2effects_frozen\": 1 if 2 < len(p1.hand) and p1.hand[2].frozen else 0,\n",
    "\"myhand2effects_silenced\": 1 if 2 < len(p1.hand) and p1.hand[2].silenced else 0,\n",
    "\"myhand3effects_windfury\": 1 if 3 < len(p1.hand) and p1.hand[3].windfury else 0,\n",
    "\"myhand3effects_divineshield\": 1 if 3 < len(p1.hand) and p1.hand[3].divine_shield else 0,\n",
    "\"myhand3effects_charge\": 1 if 3 < len(p1.hand) and p1.hand[3].charge else 0,\n",
    "\"myhand3effects_taunt\": 1 if 3 < len(p1.hand) and p1.hand[3].taunt else 0,\n",
    "\"myhand3effects_stealth\": 1 if 3 < len(p1.hand) and p1.hand[3].stealthed else 0,\n",
    "\"myhand3effects_poisonous\": 1 if 3 < len(p1.hand) and p1.hand[3].poisonous else 0,\n",
    "\"myhand3effects_cantbetargeted\": 1 if 3 < len(p1.hand) and (p1.hand[3].cant_be_targeted_by_abilities or p1.hand[3].cant_be_targeted_by_hero_powers) else 0,\n",
    "\"myhand3effects_aura\": 1 if 3 < len(p1.hand) and p1.hand[3].aura else 0,\n",
    "\"myhand3effects_deathrattle\": 1 if 3 < len(p1.hand) and p1.hand[3].has_deathrattle else 0,\n",
    "\"myhand3effects_frozen\": 1 if 3 < len(p1.hand) and p1.hand[3].frozen else 0,\n",
    "\"myhand3effects_silenced\": 1 if 3 < len(p1.hand) and p1.hand[3].silenced else 0,\n",
    "\"myhand4effects_windfury\": 1 if 4 < len(p1.hand) and p1.hand[4].windfury else 0,\n",
    "\"myhand4effects_divineshield\": 1 if 4 < len(p1.hand) and p1.hand[4].divine_shield else 0,\n",
    "\"myhand4effects_charge\": 1 if 4 < len(p1.hand) and p1.hand[4].charge else 0,\n",
    "\"myhand4effects_taunt\": 1 if 4 < len(p1.hand) and p1.hand[4].taunt else 0,\n",
    "\"myhand4effects_stealth\": 1 if 4 < len(p1.hand) and p1.hand[4].stealthed else 0,\n",
    "\"myhand4effects_poisonous\": 1 if 4 < len(p1.hand) and p1.hand[4].poisonous else 0,\n",
    "\"myhand4effects_cantbetargeted\": 1 if 4 < len(p1.hand) and (p1.hand[4].cant_be_targeted_by_abilities or p1.hand[4].cant_be_targeted_by_hero_powers) else 0,\n",
    "\"myhand4effects_aura\": 1 if 4 < len(p1.hand) and p1.hand[4].aura else 0,\n",
    "\"myhand4effects_deathrattle\": 1 if 4 < len(p1.hand) and p1.hand[4].has_deathrattle else 0,\n",
    "\"myhand4effects_frozen\": 1 if 4 < len(p1.hand) and p1.hand[4].frozen else 0,\n",
    "\"myhand4effects_silenced\": 1 if 4 < len(p1.hand) and p1.hand[4].silenced else 0,\n",
    "\"myhand5effects_windfury\": 1 if 5 < len(p1.hand) and p1.hand[5].windfury else 0,\n",
    "\"myhand5effects_divineshield\": 1 if 5 < len(p1.hand) and p1.hand[5].divine_shield else 0,\n",
    "\"myhand5effects_charge\": 1 if 5 < len(p1.hand) and p1.hand[5].charge else 0,\n",
    "\"myhand5effects_taunt\": 1 if 5 < len(p1.hand) and p1.hand[5].taunt else 0,\n",
    "\"myhand5effects_stealth\": 1 if 5 < len(p1.hand) and p1.hand[5].stealthed else 0,\n",
    "\"myhand5effects_poisonous\": 1 if 5 < len(p1.hand) and p1.hand[5].poisonous else 0,\n",
    "\"myhand5effects_cantbetargeted\": 1 if 5 < len(p1.hand) and (p1.hand[5].cant_be_targeted_by_abilities or p1.hand[5].cant_be_targeted_by_hero_powers) else 0,\n",
    "\"myhand5effects_aura\": 1 if 5 < len(p1.hand) and p1.hand[5].aura else 0,\n",
    "\"myhand5effects_deathrattle\": 1 if 5 < len(p1.hand) and p1.hand[5].has_deathrattle else 0,\n",
    "\"myhand5effects_frozen\": 1 if 5 < len(p1.hand) and p1.hand[5].frozen else 0,\n",
    "\"myhand5effects_silenced\": 1 if 5 < len(p1.hand) and p1.hand[5].silenced else 0,\n",
    "\"myhand6effects_windfury\": 1 if 6 < len(p1.hand) and p1.hand[6].windfury else 0,\n",
    "\"myhand6effects_divineshield\": 1 if 6 < len(p1.hand) and p1.hand[6].divine_shield else 0,\n",
    "\"myhand6effects_charge\": 1 if 6 < len(p1.hand) and p1.hand[6].charge else 0,\n",
    "\"myhand6effects_taunt\": 1 if 6 < len(p1.hand) and p1.hand[6].taunt else 0,\n",
    "\"myhand6effects_stealth\": 1 if 6 < len(p1.hand) and p1.hand[6].stealthed else 0,\n",
    "\"myhand6effects_poisonous\": 1 if 6 < len(p1.hand) and p1.hand[6].poisonous else 0,\n",
    "\"myhand6effects_cantbetargeted\": 1 if 6 < len(p1.hand) and (p1.hand[6].cant_be_targeted_by_abilities or p1.hand[6].cant_be_targeted_by_hero_powers) else 0,\n",
    "\"myhand6effects_aura\": 1 if 6 < len(p1.hand) and p1.hand[6].aura else 0,\n",
    "\"myhand6effects_deathrattle\": 1 if 6 < len(p1.hand) and p1.hand[6].has_deathrattle else 0,\n",
    "\"myhand6effects_frozen\": 1 if 6 < len(p1.hand) and p1.hand[6].frozen else 0,\n",
    "\"myhand6effects_silenced\": 1 if 6 < len(p1.hand) and p1.hand[6].silenced else 0,\n",
    "\"myhand7effects_windfury\": 1 if 7 < len(p1.hand) and p1.hand[7].windfury else 0,\n",
    "\"myhand7effects_divineshield\": 1 if 7 < len(p1.hand) and p1.hand[7].divine_shield else 0,\n",
    "\"myhand7effects_charge\": 1 if 7 < len(p1.hand) and p1.hand[7].charge else 0,\n",
    "\"myhand7effects_taunt\": 1 if 7 < len(p1.hand) and p1.hand[7].taunt else 0,\n",
    "\"myhand7effects_stealth\": 1 if 7 < len(p1.hand) and p1.hand[7].stealthed else 0,\n",
    "\"myhand7effects_poisonous\": 1 if 7 < len(p1.hand) and p1.hand[7].poisonous else 0,\n",
    "\"myhand7effects_cantbetargeted\": 1 if 7 < len(p1.hand) and (p1.hand[7].cant_be_targeted_by_abilities or p1.hand[7].cant_be_targeted_by_hero_powers) else 0,\n",
    "\"myhand7effects_aura\": 1 if 7 < len(p1.hand) and p1.hand[7].aura else 0,\n",
    "\"myhand7effects_deathrattle\": 1 if 7 < len(p1.hand) and p1.hand[7].has_deathrattle else 0,\n",
    "\"myhand7effects_frozen\": 1 if 7 < len(p1.hand) and p1.hand[7].frozen else 0,\n",
    "\"myhand7effects_silenced\": 1 if 7 < len(p1.hand) and p1.hand[7].silenced else 0,\n",
    "\"myhand8effects_windfury\": 1 if 8 < len(p1.hand) and p1.hand[8].windfury else 0,\n",
    "\"myhand8effects_divineshield\": 1 if 8 < len(p1.hand) and p1.hand[8].divine_shield else 0,\n",
    "\"myhand8effects_charge\": 1 if 8 < len(p1.hand) and p1.hand[8].charge else 0,\n",
    "\"myhand8effects_taunt\": 1 if 8 < len(p1.hand) and p1.hand[8].taunt else 0,\n",
    "\"myhand8effects_stealth\": 1 if 8 < len(p1.hand) and p1.hand[8].stealthed else 0,\n",
    "\"myhand8effects_poisonous\": 1 if 8 < len(p1.hand) and p1.hand[8].poisonous else 0,\n",
    "\"myhand8effects_cantbetargeted\": 1 if 8 < len(p1.hand) and (p1.hand[8].cant_be_targeted_by_abilities or p1.hand[8].cant_be_targeted_by_hero_powers) else 0,\n",
    "\"myhand8effects_aura\": 1 if 8 < len(p1.hand) and p1.hand[8].aura else 0,\n",
    "\"myhand8effects_deathrattle\": 1 if 8 < len(p1.hand) and p1.hand[8].has_deathrattle else 0,\n",
    "\"myhand8effects_frozen\": 1 if 8 < len(p1.hand) and p1.hand[8].frozen else 0,\n",
    "\"myhand8effects_silenced\": 1 if 8 < len(p1.hand) and p1.hand[8].silenced else 0,\n",
    "\"myhand9effects_windfury\": 1 if 9 < len(p1.hand) and p1.hand[9].windfury else 0,\n",
    "\"myhand9effects_divineshield\": 1 if 9 < len(p1.hand) and p1.hand[9].divine_shield else 0,\n",
    "\"myhand9effects_charge\": 1 if 9 < len(p1.hand) and p1.hand[9].charge else 0,\n",
    "\"myhand9effects_taunt\": 1 if 9 < len(p1.hand) and p1.hand[9].taunt else 0,\n",
    "\"myhand9effects_stealth\": 1 if 9 < len(p1.hand) and p1.hand[9].stealthed else 0,\n",
    "\"myhand9effects_poisonous\": 1 if 9 < len(p1.hand) and p1.hand[9].poisonous else 0,\n",
    "\"myhand9effects_cantbetargeted\": 1 if 9 < len(p1.hand) and (p1.hand[9].cant_be_targeted_by_abilities or p1.hand[9].cant_be_targeted_by_hero_powers) else 0,\n",
    "\"myhand9effects_aura\": 1 if 9 < len(p1.hand) and p1.hand[9].aura else 0,\n",
    "\"myhand9effects_deathrattle\": 1 if 9 < len(p1.hand) and p1.hand[9].has_deathrattle else 0,\n",
    "\"myhand9effects_frozen\": 1 if 9 < len(p1.hand) and p1.hand[9].frozen else 0,\n",
    "\"myhand9effects_silenced\": 1 if 9 < len(p1.hand) and p1.hand[9].silenced else 0,\n",
    "\"myfield0effects_windfury\": 1 if 0 < len(p1.field) and p1.field[0].windfury else 0,\n",
    "\"myfield0effects_divineshield\": 1 if 0 < len(p1.field) and p1.field[0].divine_shield else 0,\n",
    "\"myfield0effects_charge\": 1 if 0 < len(p1.field) and p1.field[0].charge else 0,\n",
    "\"myfield0effects_taunt\": 1 if 0 < len(p1.field) and p1.field[0].taunt else 0,\n",
    "\"myfield0effects_stealth\": 1 if 0 < len(p1.field) and p1.field[0].stealthed else 0,\n",
    "\"myfield0effects_poisonous\": 1 if 0 < len(p1.field) and p1.field[0].poisonous else 0,\n",
    "\"myfield0effects_cantbetargeted\": 1 if 0 < len(p1.field) and (p1.field[0].cant_be_targeted_by_abilities or p1.field[0].cant_be_targeted_by_hero_powers) else 0,\n",
    "\"myfield0effects_aura\": 1 if 0 < len(p1.field) and p1.field[0].aura else 0,\n",
    "\"myfield0effects_deathrattle\": 1 if 0 < len(p1.field) and p1.field[0].has_deathrattle else 0,\n",
    "\"myfield0effects_frozen\": 1 if 0 < len(p1.field) and p1.field[0].frozen else 0,\n",
    "\"myfield0effects_silenced\": 1 if 0 < len(p1.field) and p1.field[0].silenced else 0,\n",
    "\"myfield1effects_windfury\": 1 if 1 < len(p1.field) and p1.field[1].windfury else 0,\n",
    "\"myfield1effects_divineshield\": 1 if 1 < len(p1.field) and p1.field[1].divine_shield else 0,\n",
    "\"myfield1effects_charge\": 1 if 1 < len(p1.field) and p1.field[1].charge else 0,\n",
    "\"myfield1effects_taunt\": 1 if 1 < len(p1.field) and p1.field[1].taunt else 0,\n",
    "\"myfield1effects_stealth\": 1 if 1 < len(p1.field) and p1.field[1].stealthed else 0,\n",
    "\"myfield1effects_poisonous\": 1 if 1 < len(p1.field) and p1.field[1].poisonous else 0,\n",
    "\"myfield1effects_cantbetargeted\": 1 if 1 < len(p1.field) and (p1.field[1].cant_be_targeted_by_abilities or p1.field[1].cant_be_targeted_by_hero_powers) else 0,\n",
    "\"myfield1effects_aura\": 1 if 1 < len(p1.field) and p1.field[1].aura else 0,\n",
    "\"myfield1effects_deathrattle\": 1 if 1 < len(p1.field) and p1.field[1].has_deathrattle else 0,\n",
    "\"myfield1effects_frozen\": 1 if 1 < len(p1.field) and p1.field[1].frozen else 0,\n",
    "\"myfield1effects_silenced\": 1 if 1 < len(p1.field) and p1.field[1].silenced else 0,\n",
    "\"myfield2effects_windfury\": 1 if 2 < len(p1.field) and p1.field[2].windfury else 0,\n",
    "\"myfield2effects_divineshield\": 1 if 2 < len(p1.field) and p1.field[2].divine_shield else 0,\n",
    "\"myfield2effects_charge\": 1 if 2 < len(p1.field) and p1.field[2].charge else 0,\n",
    "\"myfield2effects_taunt\": 1 if 2 < len(p1.field) and p1.field[2].taunt else 0,\n",
    "\"myfield2effects_stealth\": 1 if 2 < len(p1.field) and p1.field[2].stealthed else 0,\n",
    "\"myfield2effects_poisonous\": 1 if 2 < len(p1.field) and p1.field[2].poisonous else 0,\n",
    "\"myfield2effects_cantbetargeted\": 1 if 2 < len(p1.field) and (p1.field[2].cant_be_targeted_by_abilities or p1.field[2].cant_be_targeted_by_hero_powers) else 0,\n",
    "\"myfield2effects_aura\": 1 if 2 < len(p1.field) and p1.field[2].aura else 0,\n",
    "\"myfield2effects_deathrattle\": 1 if 2 < len(p1.field) and p1.field[2].has_deathrattle else 0,\n",
    "\"myfield2effects_frozen\": 1 if 2 < len(p1.field) and p1.field[2].frozen else 0,\n",
    "\"myfield2effects_silenced\": 1 if 2 < len(p1.field) and p1.field[2].silenced else 0,\n",
    "\"myfield3effects_windfury\": 1 if 3 < len(p1.field) and p1.field[3].windfury else 0,\n",
    "\"myfield3effects_divineshield\": 1 if 3 < len(p1.field) and p1.field[3].divine_shield else 0,\n",
    "\"myfield3effects_charge\": 1 if 3 < len(p1.field) and p1.field[3].charge else 0,\n",
    "\"myfield3effects_taunt\": 1 if 3 < len(p1.field) and p1.field[3].taunt else 0,\n",
    "\"myfield3effects_stealth\": 1 if 3 < len(p1.field) and p1.field[3].stealthed else 0,\n",
    "\"myfield3effects_poisonous\": 1 if 3 < len(p1.field) and p1.field[3].poisonous else 0,\n",
    "\"myfield3effects_cantbetargeted\": 1 if 3 < len(p1.field) and (p1.field[3].cant_be_targeted_by_abilities or p1.field[3].cant_be_targeted_by_hero_powers) else 0,\n",
    "\"myfield3effects_aura\": 1 if 3 < len(p1.field) and p1.field[3].aura else 0,\n",
    "\"myfield3effects_deathrattle\": 1 if 3 < len(p1.field) and p1.field[3].has_deathrattle else 0,\n",
    "\"myfield3effects_frozen\": 1 if 3 < len(p1.field) and p1.field[3].frozen else 0,\n",
    "\"myfield3effects_silenced\": 1 if 3 < len(p1.field) and p1.field[3].silenced else 0,\n",
    "\"myfield4effects_windfury\": 1 if 4 < len(p1.field) and p1.field[4].windfury else 0,\n",
    "\"myfield4effects_divineshield\": 1 if 4 < len(p1.field) and p1.field[4].divine_shield else 0,\n",
    "\"myfield4effects_charge\": 1 if 4 < len(p1.field) and p1.field[4].charge else 0,\n",
    "\"myfield4effects_taunt\": 1 if 4 < len(p1.field) and p1.field[4].taunt else 0,\n",
    "\"myfield4effects_stealth\": 1 if 4 < len(p1.field) and p1.field[4].stealthed else 0,\n",
    "\"myfield4effects_poisonous\": 1 if 4 < len(p1.field) and p1.field[4].poisonous else 0,\n",
    "\"myfield4effects_cantbetargeted\": 1 if 4 < len(p1.field) and (p1.field[4].cant_be_targeted_by_abilities or p1.field[4].cant_be_targeted_by_hero_powers) else 0,\n",
    "\"myfield4effects_aura\": 1 if 4 < len(p1.field) and p1.field[4].aura else 0,\n",
    "\"myfield4effects_deathrattle\": 1 if 4 < len(p1.field) and p1.field[4].has_deathrattle else 0,\n",
    "\"myfield4effects_frozen\": 1 if 4 < len(p1.field) and p1.field[4].frozen else 0,\n",
    "\"myfield4effects_silenced\": 1 if 4 < len(p1.field) and p1.field[4].silenced else 0,\n",
    "\"myfield5effects_windfury\": 1 if 5 < len(p1.field) and p1.field[5].windfury else 0,\n",
    "\"myfield5effects_divineshield\": 1 if 5 < len(p1.field) and p1.field[5].divine_shield else 0,\n",
    "\"myfield5effects_charge\": 1 if 5 < len(p1.field) and p1.field[5].charge else 0,\n",
    "\"myfield5effects_taunt\": 1 if 5 < len(p1.field) and p1.field[5].taunt else 0,\n",
    "\"myfield5effects_stealth\": 1 if 5 < len(p1.field) and p1.field[5].stealthed else 0,\n",
    "\"myfield5effects_poisonous\": 1 if 5 < len(p1.field) and p1.field[5].poisonous else 0,\n",
    "\"myfield5effects_cantbetargeted\": 1 if 5 < len(p1.field) and (p1.field[5].cant_be_targeted_by_abilities or p1.field[5].cant_be_targeted_by_hero_powers) else 0,\n",
    "\"myfield5effects_aura\": 1 if 5 < len(p1.field) and p1.field[5].aura else 0,\n",
    "\"myfield5effects_deathrattle\": 1 if 5 < len(p1.field) and p1.field[5].has_deathrattle else 0,\n",
    "\"myfield5effects_frozen\": 1 if 5 < len(p1.field) and p1.field[5].frozen else 0,\n",
    "\"myfield5effects_silenced\": 1 if 5 < len(p1.field) and p1.field[5].silenced else 0,\n",
    "\"myfield6effects_windfury\": 1 if 6 < len(p1.field) and p1.field[6].windfury else 0,\n",
    "\"myfield6effects_divineshield\": 1 if 6 < len(p1.field) and p1.field[6].divine_shield else 0,\n",
    "\"myfield6effects_charge\": 1 if 6 < len(p1.field) and p1.field[6].charge else 0,\n",
    "\"myfield6effects_taunt\": 1 if 6 < len(p1.field) and p1.field[6].taunt else 0,\n",
    "\"myfield6effects_stealth\": 1 if 6 < len(p1.field) and p1.field[6].stealthed else 0,\n",
    "\"myfield6effects_poisonous\": 1 if 6 < len(p1.field) and p1.field[6].poisonous else 0,\n",
    "\"myfield6effects_cantbetargeted\": 1 if 6 < len(p1.field) and (p1.field[6].cant_be_targeted_by_abilities or p1.field[6].cant_be_targeted_by_hero_powers) else 0,\n",
    "\"myfield6effects_aura\": 1 if 6 < len(p1.field) and p1.field[6].aura else 0,\n",
    "\"myfield6effects_deathrattle\": 1 if 6 < len(p1.field) and p1.field[6].has_deathrattle else 0,\n",
    "\"myfield6effects_frozen\": 1 if 6 < len(p1.field) and p1.field[6].frozen else 0,\n",
    "\"myfield6effects_silenced\": 1 if 6 < len(p1.field) and p1.field[6].silenced else 0,\n",
    "\"oppfield0effects_windfury\": 1 if 0 < len(p2.field) and p2.field[0].windfury else 0,\n",
    "\"oppfield0effects_divineshield\": 1 if 0 < len(p2.field) and p2.field[0].divine_shield else 0,\n",
    "\"oppfield0effects_charge\": 1 if 0 < len(p2.field) and p2.field[0].charge else 0,\n",
    "\"oppfield0effects_taunt\": 1 if 0 < len(p2.field) and p2.field[0].taunt else 0,\n",
    "\"oppfield0effects_stealth\": 1 if 0 < len(p2.field) and p2.field[0].stealthed else 0,\n",
    "\"oppfield0effects_poisonous\": 1 if 0 < len(p2.field) and p2.field[0].poisonous else 0,\n",
    "\"oppfield0effects_cantbetargeted\": 1 if 0 < len(p2.field) and (p2.field[0].cant_be_targeted_by_abilities or p2.field[0].cant_be_targeted_by_hero_powers) else 0,\n",
    "\"oppfield0effects_aura\": 1 if 0 < len(p2.field) and p2.field[0].aura else 0,\n",
    "\"oppfield0effects_deathrattle\": 1 if 0 < len(p2.field) and p2.field[0].has_deathrattle else 0,\n",
    "\"oppfield0effects_frozen\": 1 if 0 < len(p2.field) and p2.field[0].frozen else 0,\n",
    "\"oppfield0effects_silenced\": 1 if 0 < len(p2.field) and p2.field[0].silenced else 0,\n",
    "\"oppfield1effects_windfury\": 1 if 1 < len(p2.field) and p2.field[1].windfury else 0,\n",
    "\"oppfield1effects_divineshield\": 1 if 1 < len(p2.field) and p2.field[1].divine_shield else 0,\n",
    "\"oppfield1effects_charge\": 1 if 1 < len(p2.field) and p2.field[1].charge else 0,\n",
    "\"oppfield1effects_taunt\": 1 if 1 < len(p2.field) and p2.field[1].taunt else 0,\n",
    "\"oppfield1effects_stealth\": 1 if 1 < len(p2.field) and p2.field[1].stealthed else 0,\n",
    "\"oppfield1effects_poisonous\": 1 if 1 < len(p2.field) and p2.field[1].poisonous else 0,\n",
    "\"oppfield1effects_cantbetargeted\": 1 if 1 < len(p2.field) and (p2.field[1].cant_be_targeted_by_abilities or p2.field[1].cant_be_targeted_by_hero_powers) else 0,\n",
    "\"oppfield1effects_aura\": 1 if 1 < len(p2.field) and p2.field[1].aura else 0,\n",
    "\"oppfield1effects_deathrattle\": 1 if 1 < len(p2.field) and p2.field[1].has_deathrattle else 0,\n",
    "\"oppfield1effects_frozen\": 1 if 1 < len(p2.field) and p2.field[1].frozen else 0,\n",
    "\"oppfield1effects_silenced\": 1 if 1 < len(p2.field) and p2.field[1].silenced else 0,\n",
    "\"oppfield2effects_windfury\": 1 if 2 < len(p2.field) and p2.field[2].windfury else 0,\n",
    "\"oppfield2effects_divineshield\": 1 if 2 < len(p2.field) and p2.field[2].divine_shield else 0,\n",
    "\"oppfield2effects_charge\": 1 if 2 < len(p2.field) and p2.field[2].charge else 0,\n",
    "\"oppfield2effects_taunt\": 1 if 2 < len(p2.field) and p2.field[2].taunt else 0,\n",
    "\"oppfield2effects_stealth\": 1 if 2 < len(p2.field) and p2.field[2].stealthed else 0,\n",
    "\"oppfield2effects_poisonous\": 1 if 2 < len(p2.field) and p2.field[2].poisonous else 0,\n",
    "\"oppfield2effects_cantbetargeted\": 1 if 2 < len(p2.field) and (p2.field[2].cant_be_targeted_by_abilities or p2.field[2].cant_be_targeted_by_hero_powers) else 0,\n",
    "\"oppfield2effects_aura\": 1 if 2 < len(p2.field) and p2.field[2].aura else 0,\n",
    "\"oppfield2effects_deathrattle\": 1 if 2 < len(p2.field) and p2.field[2].has_deathrattle else 0,\n",
    "\"oppfield2effects_frozen\": 1 if 2 < len(p2.field) and p2.field[2].frozen else 0,\n",
    "\"oppfield2effects_silenced\": 1 if 2 < len(p2.field) and p2.field[2].silenced else 0,\n",
    "\"oppfield3effects_windfury\": 1 if 3 < len(p2.field) and p2.field[3].windfury else 0,\n",
    "\"oppfield3effects_divineshield\": 1 if 3 < len(p2.field) and p2.field[3].divine_shield else 0,\n",
    "\"oppfield3effects_charge\": 1 if 3 < len(p2.field) and p2.field[3].charge else 0,\n",
    "\"oppfield3effects_taunt\": 1 if 3 < len(p2.field) and p2.field[3].taunt else 0,\n",
    "\"oppfield3effects_stealth\": 1 if 3 < len(p2.field) and p2.field[3].stealthed else 0,\n",
    "\"oppfield3effects_poisonous\": 1 if 3 < len(p2.field) and p2.field[3].poisonous else 0,\n",
    "\"oppfield3effects_cantbetargeted\": 1 if 3 < len(p2.field) and (p2.field[3].cant_be_targeted_by_abilities or p2.field[3].cant_be_targeted_by_hero_powers) else 0,\n",
    "\"oppfield3effects_aura\": 1 if 3 < len(p2.field) and p2.field[3].aura else 0,\n",
    "\"oppfield3effects_deathrattle\": 1 if 3 < len(p2.field) and p2.field[3].has_deathrattle else 0,\n",
    "\"oppfield3effects_frozen\": 1 if 3 < len(p2.field) and p2.field[3].frozen else 0,\n",
    "\"oppfield3effects_silenced\": 1 if 3 < len(p2.field) and p2.field[3].silenced else 0,\n",
    "\"oppfield4effects_windfury\": 1 if 4 < len(p2.field) and p2.field[4].windfury else 0,\n",
    "\"oppfield4effects_divineshield\": 1 if 4 < len(p2.field) and p2.field[4].divine_shield else 0,\n",
    "\"oppfield4effects_charge\": 1 if 4 < len(p2.field) and p2.field[4].charge else 0,\n",
    "\"oppfield4effects_taunt\": 1 if 4 < len(p2.field) and p2.field[4].taunt else 0,\n",
    "\"oppfield4effects_stealth\": 1 if 4 < len(p2.field) and p2.field[4].stealthed else 0,\n",
    "\"oppfield4effects_poisonous\": 1 if 4 < len(p2.field) and p2.field[4].poisonous else 0,\n",
    "\"oppfield4effects_cantbetargeted\": 1 if 4 < len(p2.field) and (p2.field[4].cant_be_targeted_by_abilities or p2.field[4].cant_be_targeted_by_hero_powers) else 0,\n",
    "\"oppfield4effects_aura\": 1 if 4 < len(p2.field) and p2.field[4].aura else 0,\n",
    "\"oppfield4effects_deathrattle\": 1 if 4 < len(p2.field) and p2.field[4].has_deathrattle else 0,\n",
    "\"oppfield4effects_frozen\": 1 if 4 < len(p2.field) and p2.field[4].frozen else 0,\n",
    "\"oppfield4effects_silenced\": 1 if 4 < len(p2.field) and p2.field[4].silenced else 0,\n",
    "\"oppfield5effects_windfury\": 1 if 5 < len(p2.field) and p2.field[5].windfury else 0,\n",
    "\"oppfield5effects_divineshield\": 1 if 5 < len(p2.field) and p2.field[5].divine_shield else 0,\n",
    "\"oppfield5effects_charge\": 1 if 5 < len(p2.field) and p2.field[5].charge else 0,\n",
    "\"oppfield5effects_taunt\": 1 if 5 < len(p2.field) and p2.field[5].taunt else 0,\n",
    "\"oppfield5effects_stealth\": 1 if 5 < len(p2.field) and p2.field[5].stealthed else 0,\n",
    "\"oppfield5effects_poisonous\": 1 if 5 < len(p2.field) and p2.field[5].poisonous else 0,\n",
    "\"oppfield5effects_cantbetargeted\": 1 if 5 < len(p2.field) and (p2.field[5].cant_be_targeted_by_abilities or p2.field[5].cant_be_targeted_by_hero_powers) else 0,\n",
    "\"oppfield5effects_aura\": 1 if 5 < len(p2.field) and p2.field[5].aura else 0,\n",
    "\"oppfield5effects_deathrattle\": 1 if 5 < len(p2.field) and p2.field[5].has_deathrattle else 0,\n",
    "\"oppfield5effects_frozen\": 1 if 5 < len(p2.field) and p2.field[5].frozen else 0,\n",
    "\"oppfield5effects_silenced\": 1 if 5 < len(p2.field) and p2.field[5].silenced else 0,\n",
    "\"oppfield6effects_windfury\": 1 if 6 < len(p2.field) and p2.field[6].windfury else 0,\n",
    "\"oppfield6effects_divineshield\": 1 if 6 < len(p2.field) and p2.field[6].divine_shield else 0,\n",
    "\"oppfield6effects_charge\": 1 if 6 < len(p2.field) and p2.field[6].charge else 0,\n",
    "\"oppfield6effects_taunt\": 1 if 6 < len(p2.field) and p2.field[6].taunt else 0,\n",
    "\"oppfield6effects_stealth\": 1 if 6 < len(p2.field) and p2.field[6].stealthed else 0,\n",
    "\"oppfield6effects_poisonous\": 1 if 6 < len(p2.field) and p2.field[6].poisonous else 0,\n",
    "\"oppfield6effects_cantbetargeted\": 1 if 6 < len(p2.field) and (p2.field[6].cant_be_targeted_by_abilities or p2.field[6].cant_be_targeted_by_hero_powers) else 0,\n",
    "\"oppfield6effects_aura\": 1 if 6 < len(p2.field) and p2.field[6].aura else 0,\n",
    "\"oppfield6effects_deathrattle\": 1 if 6 < len(p2.field) and p2.field[6].has_deathrattle else 0,\n",
    "\"oppfield6effects_frozen\": 1 if 6 < len(p2.field) and p2.field[6].frozen else 0,\n",
    "\"oppfield6effects_silenced\": 1 if 6 < len(p2.field) and p2.field[6].silenced else 0,\"\"\""
   ]
  },
  {
   "cell_type": "markdown",
   "id": "45d4ebd3",
   "metadata": {},
   "source": [
    "Este es el código para añadir la condición de que no sea una carta de tipo SPELL"
   ]
  },
  {
   "cell_type": "code",
   "execution_count": 257,
   "id": "3555e385",
   "metadata": {},
   "outputs": [
    {
     "data": {
      "text/plain": [
       "'\"oppfield3effects_frozen\": 1 if 3 < len(p2.field) and p2.field[3].type!=5 and p2.field[3].frozen else 0,'"
      ]
     },
     "execution_count": 257,
     "metadata": {},
     "output_type": "execute_result"
    }
   ],
   "source": [
    "modify=[\"divineshield\", \"charge\", \"taunt\", \"stealth\", \"poisonous\", \"cantbetargeted\", \"deathrattle\", \"frozen\", \"silenced\"]\n",
    "line='\"oppfield3effects_frozen\": 1 if 3 < len(p2.field) and p2.field[3].frozen else 0,'\n",
    "add_string=\"{}.{}[{}].type!=5\"\n",
    "p=\"p1\" if \"p1\" in line else \"p2\"\n",
    "fildhand=\"field\" if \"field\" in line else \"hand\"\n",
    "position=re.search(r'\\[(\\d+)\\]', line).group(1)\n",
    "components=line.split(\" and \")\n",
    "components.insert(1,add_string.format(p,fildhand,position))\n",
    "newline=\" and \".join(components)\n",
    "newline"
   ]
  },
  {
   "cell_type": "markdown",
   "id": "ce3a4684",
   "metadata": {},
   "source": [
    "Y este el código que lo aplica:"
   ]
  },
  {
   "cell_type": "code",
   "execution_count": 258,
   "id": "aa09bc94",
   "metadata": {},
   "outputs": [],
   "source": [
    "newcode=[]\n",
    "modify=[\"divineshield\", \"charge\", \"taunt\", \"stealth\", \"poisonous\", \"cantbetargeted\", \"deathrattle\", \"frozen\", \"silenced\"]\n",
    "add_string=\"{}.{}[{}].type!=5\"\n",
    "for line in code.split(\"\\n\"):\n",
    "    found=False\n",
    "    for word in modify:\n",
    "        if word in line:\n",
    "            found=True\n",
    "            p=\"p1\" if \"p1\" in line else \"p2\"\n",
    "            fildhand=\"field\" if \"field\" in line else \"hand\"\n",
    "            position=re.search(r'\\[(\\d+)\\]', line).group(1)\n",
    "            components=line.split(\" and \")\n",
    "            if len(components)!=2:\n",
    "                print(\"ERROR\")\n",
    "            else:\n",
    "                components.insert(1,add_string.format(p,fildhand,position))\n",
    "                newline=\" and \".join(components)\n",
    "                newcode.append(newline)\n",
    "                break\n",
    "    if found==False:\n",
    "        newcode.append(line) "
   ]
  },
  {
   "cell_type": "code",
   "execution_count": 259,
   "id": "0ea1d70d",
   "metadata": {},
   "outputs": [
    {
     "data": {
      "text/plain": [
       "True"
      ]
     },
     "execution_count": 259,
     "metadata": {},
     "output_type": "execute_result"
    }
   ],
   "source": [
    "len(newcode)==len(code.split(\"\\n\"))"
   ]
  },
  {
   "cell_type": "markdown",
   "id": "a91debfd",
   "metadata": {},
   "source": [
    "Este es el resultado que nos llevamos al hearthstone_unnested_env.py"
   ]
  },
  {
   "cell_type": "code",
   "execution_count": 260,
   "id": "4b370b52",
   "metadata": {
    "scrolled": false
   },
   "outputs": [
    {
     "name": "stdout",
     "output_type": "stream",
     "text": [
      "\"\"myhand0effects_windfury\": 1 if 0 < len(p1.hand) and p1.hand[0].windfury else 0,\n",
      "\"myhand0effects_divineshield\": 1 if 0 < len(p1.hand) and p1.hand[0].type!=5 and p1.hand[0].divine_shield else 0,\n",
      "\"myhand0effects_charge\": 1 if 0 < len(p1.hand) and p1.hand[0].type!=5 and p1.hand[0].charge else 0,\n",
      "\"myhand0effects_taunt\": 1 if 0 < len(p1.hand) and p1.hand[0].type!=5 and p1.hand[0].taunt else 0,\n",
      "\"myhand0effects_stealth\": 1 if 0 < len(p1.hand) and p1.hand[0].type!=5 and p1.hand[0].stealthed else 0,\n",
      "\"myhand0effects_poisonous\": 1 if 0 < len(p1.hand) and p1.hand[0].type!=5 and p1.hand[0].poisonous else 0,\n",
      "\"myhand0effects_cantbetargeted\": 1 if 0 < len(p1.hand) and p1.hand[0].type!=5 and (p1.hand[0].cant_be_targeted_by_abilities or p1.hand[0].cant_be_targeted_by_hero_powers) else 0,\n",
      "\"myhand0effects_aura\": 1 if 0 < len(p1.hand) and p1.hand[0].aura else 0,\n",
      "\"myhand0effects_deathrattle\": 1 if 0 < len(p1.hand) and p1.hand[0].type!=5 and p1.hand[0].has_deathrattle else 0,\n",
      "\"myhand0effects_frozen\": 1 if 0 < len(p1.hand) and p1.hand[0].type!=5 and p1.hand[0].frozen else 0,\n",
      "\"myhand0effects_silenced\": 1 if 0 < len(p1.hand) and p1.hand[0].type!=5 and p1.hand[0].silenced else 0,\n",
      "\"myhand1effects_windfury\": 1 if 1 < len(p1.hand) and p1.hand[1].windfury else 0,\n",
      "\"myhand1effects_divineshield\": 1 if 1 < len(p1.hand) and p1.hand[1].type!=5 and p1.hand[1].divine_shield else 0,\n",
      "\"myhand1effects_charge\": 1 if 1 < len(p1.hand) and p1.hand[1].type!=5 and p1.hand[1].charge else 0,\n",
      "\"myhand1effects_taunt\": 1 if 1 < len(p1.hand) and p1.hand[1].type!=5 and p1.hand[1].taunt else 0,\n",
      "\"myhand1effects_stealth\": 1 if 1 < len(p1.hand) and p1.hand[1].type!=5 and p1.hand[1].stealthed else 0,\n",
      "\"myhand1effects_poisonous\": 1 if 1 < len(p1.hand) and p1.hand[1].type!=5 and p1.hand[1].poisonous else 0,\n",
      "\"myhand1effects_cantbetargeted\": 1 if 1 < len(p1.hand) and p1.hand[1].type!=5 and (p1.hand[1].cant_be_targeted_by_abilities or p1.hand[1].cant_be_targeted_by_hero_powers) else 0,\n",
      "\"myhand1effects_aura\": 1 if 1 < len(p1.hand) and p1.hand[1].aura else 0,\n",
      "\"myhand1effects_deathrattle\": 1 if 1 < len(p1.hand) and p1.hand[1].type!=5 and p1.hand[1].has_deathrattle else 0,\n",
      "\"myhand1effects_frozen\": 1 if 1 < len(p1.hand) and p1.hand[1].type!=5 and p1.hand[1].frozen else 0,\n",
      "\"myhand1effects_silenced\": 1 if 1 < len(p1.hand) and p1.hand[1].type!=5 and p1.hand[1].silenced else 0,\n",
      "\"myhand2effects_windfury\": 1 if 2 < len(p1.hand) and p1.hand[2].windfury else 0,\n",
      "\"myhand2effects_divineshield\": 1 if 2 < len(p1.hand) and p1.hand[2].type!=5 and p1.hand[2].divine_shield else 0,\n",
      "\"myhand2effects_charge\": 1 if 2 < len(p1.hand) and p1.hand[2].type!=5 and p1.hand[2].charge else 0,\n",
      "\"myhand2effects_taunt\": 1 if 2 < len(p1.hand) and p1.hand[2].type!=5 and p1.hand[2].taunt else 0,\n",
      "\"myhand2effects_stealth\": 1 if 2 < len(p1.hand) and p1.hand[2].type!=5 and p1.hand[2].stealthed else 0,\n",
      "\"myhand2effects_poisonous\": 1 if 2 < len(p1.hand) and p1.hand[2].type!=5 and p1.hand[2].poisonous else 0,\n",
      "\"myhand2effects_cantbetargeted\": 1 if 2 < len(p1.hand) and p1.hand[2].type!=5 and (p1.hand[2].cant_be_targeted_by_abilities or p1.hand[2].cant_be_targeted_by_hero_powers) else 0,\n",
      "\"myhand2effects_aura\": 1 if 2 < len(p1.hand) and p1.hand[2].aura else 0,\n",
      "\"myhand2effects_deathrattle\": 1 if 2 < len(p1.hand) and p1.hand[2].type!=5 and p1.hand[2].has_deathrattle else 0,\n",
      "\"myhand2effects_frozen\": 1 if 2 < len(p1.hand) and p1.hand[2].type!=5 and p1.hand[2].frozen else 0,\n",
      "\"myhand2effects_silenced\": 1 if 2 < len(p1.hand) and p1.hand[2].type!=5 and p1.hand[2].silenced else 0,\n",
      "\"myhand3effects_windfury\": 1 if 3 < len(p1.hand) and p1.hand[3].windfury else 0,\n",
      "\"myhand3effects_divineshield\": 1 if 3 < len(p1.hand) and p1.hand[3].type!=5 and p1.hand[3].divine_shield else 0,\n",
      "\"myhand3effects_charge\": 1 if 3 < len(p1.hand) and p1.hand[3].type!=5 and p1.hand[3].charge else 0,\n",
      "\"myhand3effects_taunt\": 1 if 3 < len(p1.hand) and p1.hand[3].type!=5 and p1.hand[3].taunt else 0,\n",
      "\"myhand3effects_stealth\": 1 if 3 < len(p1.hand) and p1.hand[3].type!=5 and p1.hand[3].stealthed else 0,\n",
      "\"myhand3effects_poisonous\": 1 if 3 < len(p1.hand) and p1.hand[3].type!=5 and p1.hand[3].poisonous else 0,\n",
      "\"myhand3effects_cantbetargeted\": 1 if 3 < len(p1.hand) and p1.hand[3].type!=5 and (p1.hand[3].cant_be_targeted_by_abilities or p1.hand[3].cant_be_targeted_by_hero_powers) else 0,\n",
      "\"myhand3effects_aura\": 1 if 3 < len(p1.hand) and p1.hand[3].aura else 0,\n",
      "\"myhand3effects_deathrattle\": 1 if 3 < len(p1.hand) and p1.hand[3].type!=5 and p1.hand[3].has_deathrattle else 0,\n",
      "\"myhand3effects_frozen\": 1 if 3 < len(p1.hand) and p1.hand[3].type!=5 and p1.hand[3].frozen else 0,\n",
      "\"myhand3effects_silenced\": 1 if 3 < len(p1.hand) and p1.hand[3].type!=5 and p1.hand[3].silenced else 0,\n",
      "\"myhand4effects_windfury\": 1 if 4 < len(p1.hand) and p1.hand[4].windfury else 0,\n",
      "\"myhand4effects_divineshield\": 1 if 4 < len(p1.hand) and p1.hand[4].type!=5 and p1.hand[4].divine_shield else 0,\n",
      "\"myhand4effects_charge\": 1 if 4 < len(p1.hand) and p1.hand[4].type!=5 and p1.hand[4].charge else 0,\n",
      "\"myhand4effects_taunt\": 1 if 4 < len(p1.hand) and p1.hand[4].type!=5 and p1.hand[4].taunt else 0,\n",
      "\"myhand4effects_stealth\": 1 if 4 < len(p1.hand) and p1.hand[4].type!=5 and p1.hand[4].stealthed else 0,\n",
      "\"myhand4effects_poisonous\": 1 if 4 < len(p1.hand) and p1.hand[4].type!=5 and p1.hand[4].poisonous else 0,\n",
      "\"myhand4effects_cantbetargeted\": 1 if 4 < len(p1.hand) and p1.hand[4].type!=5 and (p1.hand[4].cant_be_targeted_by_abilities or p1.hand[4].cant_be_targeted_by_hero_powers) else 0,\n",
      "\"myhand4effects_aura\": 1 if 4 < len(p1.hand) and p1.hand[4].aura else 0,\n",
      "\"myhand4effects_deathrattle\": 1 if 4 < len(p1.hand) and p1.hand[4].type!=5 and p1.hand[4].has_deathrattle else 0,\n",
      "\"myhand4effects_frozen\": 1 if 4 < len(p1.hand) and p1.hand[4].type!=5 and p1.hand[4].frozen else 0,\n",
      "\"myhand4effects_silenced\": 1 if 4 < len(p1.hand) and p1.hand[4].type!=5 and p1.hand[4].silenced else 0,\n",
      "\"myhand5effects_windfury\": 1 if 5 < len(p1.hand) and p1.hand[5].windfury else 0,\n",
      "\"myhand5effects_divineshield\": 1 if 5 < len(p1.hand) and p1.hand[5].type!=5 and p1.hand[5].divine_shield else 0,\n",
      "\"myhand5effects_charge\": 1 if 5 < len(p1.hand) and p1.hand[5].type!=5 and p1.hand[5].charge else 0,\n",
      "\"myhand5effects_taunt\": 1 if 5 < len(p1.hand) and p1.hand[5].type!=5 and p1.hand[5].taunt else 0,\n",
      "\"myhand5effects_stealth\": 1 if 5 < len(p1.hand) and p1.hand[5].type!=5 and p1.hand[5].stealthed else 0,\n",
      "\"myhand5effects_poisonous\": 1 if 5 < len(p1.hand) and p1.hand[5].type!=5 and p1.hand[5].poisonous else 0,\n",
      "\"myhand5effects_cantbetargeted\": 1 if 5 < len(p1.hand) and p1.hand[5].type!=5 and (p1.hand[5].cant_be_targeted_by_abilities or p1.hand[5].cant_be_targeted_by_hero_powers) else 0,\n",
      "\"myhand5effects_aura\": 1 if 5 < len(p1.hand) and p1.hand[5].aura else 0,\n",
      "\"myhand5effects_deathrattle\": 1 if 5 < len(p1.hand) and p1.hand[5].type!=5 and p1.hand[5].has_deathrattle else 0,\n",
      "\"myhand5effects_frozen\": 1 if 5 < len(p1.hand) and p1.hand[5].type!=5 and p1.hand[5].frozen else 0,\n",
      "\"myhand5effects_silenced\": 1 if 5 < len(p1.hand) and p1.hand[5].type!=5 and p1.hand[5].silenced else 0,\n",
      "\"myhand6effects_windfury\": 1 if 6 < len(p1.hand) and p1.hand[6].windfury else 0,\n",
      "\"myhand6effects_divineshield\": 1 if 6 < len(p1.hand) and p1.hand[6].type!=5 and p1.hand[6].divine_shield else 0,\n",
      "\"myhand6effects_charge\": 1 if 6 < len(p1.hand) and p1.hand[6].type!=5 and p1.hand[6].charge else 0,\n",
      "\"myhand6effects_taunt\": 1 if 6 < len(p1.hand) and p1.hand[6].type!=5 and p1.hand[6].taunt else 0,\n",
      "\"myhand6effects_stealth\": 1 if 6 < len(p1.hand) and p1.hand[6].type!=5 and p1.hand[6].stealthed else 0,\n",
      "\"myhand6effects_poisonous\": 1 if 6 < len(p1.hand) and p1.hand[6].type!=5 and p1.hand[6].poisonous else 0,\n",
      "\"myhand6effects_cantbetargeted\": 1 if 6 < len(p1.hand) and p1.hand[6].type!=5 and (p1.hand[6].cant_be_targeted_by_abilities or p1.hand[6].cant_be_targeted_by_hero_powers) else 0,\n",
      "\"myhand6effects_aura\": 1 if 6 < len(p1.hand) and p1.hand[6].aura else 0,\n",
      "\"myhand6effects_deathrattle\": 1 if 6 < len(p1.hand) and p1.hand[6].type!=5 and p1.hand[6].has_deathrattle else 0,\n",
      "\"myhand6effects_frozen\": 1 if 6 < len(p1.hand) and p1.hand[6].type!=5 and p1.hand[6].frozen else 0,\n",
      "\"myhand6effects_silenced\": 1 if 6 < len(p1.hand) and p1.hand[6].type!=5 and p1.hand[6].silenced else 0,\n",
      "\"myhand7effects_windfury\": 1 if 7 < len(p1.hand) and p1.hand[7].windfury else 0,\n",
      "\"myhand7effects_divineshield\": 1 if 7 < len(p1.hand) and p1.hand[7].type!=5 and p1.hand[7].divine_shield else 0,\n",
      "\"myhand7effects_charge\": 1 if 7 < len(p1.hand) and p1.hand[7].type!=5 and p1.hand[7].charge else 0,\n",
      "\"myhand7effects_taunt\": 1 if 7 < len(p1.hand) and p1.hand[7].type!=5 and p1.hand[7].taunt else 0,\n",
      "\"myhand7effects_stealth\": 1 if 7 < len(p1.hand) and p1.hand[7].type!=5 and p1.hand[7].stealthed else 0,\n",
      "\"myhand7effects_poisonous\": 1 if 7 < len(p1.hand) and p1.hand[7].type!=5 and p1.hand[7].poisonous else 0,\n",
      "\"myhand7effects_cantbetargeted\": 1 if 7 < len(p1.hand) and p1.hand[7].type!=5 and (p1.hand[7].cant_be_targeted_by_abilities or p1.hand[7].cant_be_targeted_by_hero_powers) else 0,\n",
      "\"myhand7effects_aura\": 1 if 7 < len(p1.hand) and p1.hand[7].aura else 0,\n",
      "\"myhand7effects_deathrattle\": 1 if 7 < len(p1.hand) and p1.hand[7].type!=5 and p1.hand[7].has_deathrattle else 0,\n",
      "\"myhand7effects_frozen\": 1 if 7 < len(p1.hand) and p1.hand[7].type!=5 and p1.hand[7].frozen else 0,\n",
      "\"myhand7effects_silenced\": 1 if 7 < len(p1.hand) and p1.hand[7].type!=5 and p1.hand[7].silenced else 0,\n",
      "\"myhand8effects_windfury\": 1 if 8 < len(p1.hand) and p1.hand[8].windfury else 0,\n",
      "\"myhand8effects_divineshield\": 1 if 8 < len(p1.hand) and p1.hand[8].type!=5 and p1.hand[8].divine_shield else 0,\n",
      "\"myhand8effects_charge\": 1 if 8 < len(p1.hand) and p1.hand[8].type!=5 and p1.hand[8].charge else 0,\n",
      "\"myhand8effects_taunt\": 1 if 8 < len(p1.hand) and p1.hand[8].type!=5 and p1.hand[8].taunt else 0,\n",
      "\"myhand8effects_stealth\": 1 if 8 < len(p1.hand) and p1.hand[8].type!=5 and p1.hand[8].stealthed else 0,\n",
      "\"myhand8effects_poisonous\": 1 if 8 < len(p1.hand) and p1.hand[8].type!=5 and p1.hand[8].poisonous else 0,\n",
      "\"myhand8effects_cantbetargeted\": 1 if 8 < len(p1.hand) and p1.hand[8].type!=5 and (p1.hand[8].cant_be_targeted_by_abilities or p1.hand[8].cant_be_targeted_by_hero_powers) else 0,\n",
      "\"myhand8effects_aura\": 1 if 8 < len(p1.hand) and p1.hand[8].aura else 0,\n",
      "\"myhand8effects_deathrattle\": 1 if 8 < len(p1.hand) and p1.hand[8].type!=5 and p1.hand[8].has_deathrattle else 0,\n",
      "\"myhand8effects_frozen\": 1 if 8 < len(p1.hand) and p1.hand[8].type!=5 and p1.hand[8].frozen else 0,\n",
      "\"myhand8effects_silenced\": 1 if 8 < len(p1.hand) and p1.hand[8].type!=5 and p1.hand[8].silenced else 0,\n",
      "\"myhand9effects_windfury\": 1 if 9 < len(p1.hand) and p1.hand[9].windfury else 0,\n",
      "\"myhand9effects_divineshield\": 1 if 9 < len(p1.hand) and p1.hand[9].type!=5 and p1.hand[9].divine_shield else 0,\n",
      "\"myhand9effects_charge\": 1 if 9 < len(p1.hand) and p1.hand[9].type!=5 and p1.hand[9].charge else 0,\n",
      "\"myhand9effects_taunt\": 1 if 9 < len(p1.hand) and p1.hand[9].type!=5 and p1.hand[9].taunt else 0,\n",
      "\"myhand9effects_stealth\": 1 if 9 < len(p1.hand) and p1.hand[9].type!=5 and p1.hand[9].stealthed else 0,\n",
      "\"myhand9effects_poisonous\": 1 if 9 < len(p1.hand) and p1.hand[9].type!=5 and p1.hand[9].poisonous else 0,\n",
      "\"myhand9effects_cantbetargeted\": 1 if 9 < len(p1.hand) and p1.hand[9].type!=5 and (p1.hand[9].cant_be_targeted_by_abilities or p1.hand[9].cant_be_targeted_by_hero_powers) else 0,\n",
      "\"myhand9effects_aura\": 1 if 9 < len(p1.hand) and p1.hand[9].aura else 0,\n",
      "\"myhand9effects_deathrattle\": 1 if 9 < len(p1.hand) and p1.hand[9].type!=5 and p1.hand[9].has_deathrattle else 0,\n",
      "\"myhand9effects_frozen\": 1 if 9 < len(p1.hand) and p1.hand[9].type!=5 and p1.hand[9].frozen else 0,\n",
      "\"myhand9effects_silenced\": 1 if 9 < len(p1.hand) and p1.hand[9].type!=5 and p1.hand[9].silenced else 0,\n",
      "\"myfield0effects_windfury\": 1 if 0 < len(p1.field) and p1.field[0].windfury else 0,\n",
      "\"myfield0effects_divineshield\": 1 if 0 < len(p1.field) and p1.field[0].type!=5 and p1.field[0].divine_shield else 0,\n",
      "\"myfield0effects_charge\": 1 if 0 < len(p1.field) and p1.field[0].type!=5 and p1.field[0].charge else 0,\n",
      "\"myfield0effects_taunt\": 1 if 0 < len(p1.field) and p1.field[0].type!=5 and p1.field[0].taunt else 0,\n",
      "\"myfield0effects_stealth\": 1 if 0 < len(p1.field) and p1.field[0].type!=5 and p1.field[0].stealthed else 0,\n",
      "\"myfield0effects_poisonous\": 1 if 0 < len(p1.field) and p1.field[0].type!=5 and p1.field[0].poisonous else 0,\n",
      "\"myfield0effects_cantbetargeted\": 1 if 0 < len(p1.field) and p1.field[0].type!=5 and (p1.field[0].cant_be_targeted_by_abilities or p1.field[0].cant_be_targeted_by_hero_powers) else 0,\n",
      "\"myfield0effects_aura\": 1 if 0 < len(p1.field) and p1.field[0].aura else 0,\n",
      "\"myfield0effects_deathrattle\": 1 if 0 < len(p1.field) and p1.field[0].type!=5 and p1.field[0].has_deathrattle else 0,\n",
      "\"myfield0effects_frozen\": 1 if 0 < len(p1.field) and p1.field[0].type!=5 and p1.field[0].frozen else 0,\n",
      "\"myfield0effects_silenced\": 1 if 0 < len(p1.field) and p1.field[0].type!=5 and p1.field[0].silenced else 0,\n",
      "\"myfield1effects_windfury\": 1 if 1 < len(p1.field) and p1.field[1].windfury else 0,\n",
      "\"myfield1effects_divineshield\": 1 if 1 < len(p1.field) and p1.field[1].type!=5 and p1.field[1].divine_shield else 0,\n",
      "\"myfield1effects_charge\": 1 if 1 < len(p1.field) and p1.field[1].type!=5 and p1.field[1].charge else 0,\n",
      "\"myfield1effects_taunt\": 1 if 1 < len(p1.field) and p1.field[1].type!=5 and p1.field[1].taunt else 0,\n",
      "\"myfield1effects_stealth\": 1 if 1 < len(p1.field) and p1.field[1].type!=5 and p1.field[1].stealthed else 0,\n",
      "\"myfield1effects_poisonous\": 1 if 1 < len(p1.field) and p1.field[1].type!=5 and p1.field[1].poisonous else 0,\n",
      "\"myfield1effects_cantbetargeted\": 1 if 1 < len(p1.field) and p1.field[1].type!=5 and (p1.field[1].cant_be_targeted_by_abilities or p1.field[1].cant_be_targeted_by_hero_powers) else 0,\n",
      "\"myfield1effects_aura\": 1 if 1 < len(p1.field) and p1.field[1].aura else 0,\n",
      "\"myfield1effects_deathrattle\": 1 if 1 < len(p1.field) and p1.field[1].type!=5 and p1.field[1].has_deathrattle else 0,\n",
      "\"myfield1effects_frozen\": 1 if 1 < len(p1.field) and p1.field[1].type!=5 and p1.field[1].frozen else 0,\n",
      "\"myfield1effects_silenced\": 1 if 1 < len(p1.field) and p1.field[1].type!=5 and p1.field[1].silenced else 0,\n",
      "\"myfield2effects_windfury\": 1 if 2 < len(p1.field) and p1.field[2].windfury else 0,\n",
      "\"myfield2effects_divineshield\": 1 if 2 < len(p1.field) and p1.field[2].type!=5 and p1.field[2].divine_shield else 0,\n",
      "\"myfield2effects_charge\": 1 if 2 < len(p1.field) and p1.field[2].type!=5 and p1.field[2].charge else 0,\n",
      "\"myfield2effects_taunt\": 1 if 2 < len(p1.field) and p1.field[2].type!=5 and p1.field[2].taunt else 0,\n",
      "\"myfield2effects_stealth\": 1 if 2 < len(p1.field) and p1.field[2].type!=5 and p1.field[2].stealthed else 0,\n",
      "\"myfield2effects_poisonous\": 1 if 2 < len(p1.field) and p1.field[2].type!=5 and p1.field[2].poisonous else 0,\n",
      "\"myfield2effects_cantbetargeted\": 1 if 2 < len(p1.field) and p1.field[2].type!=5 and (p1.field[2].cant_be_targeted_by_abilities or p1.field[2].cant_be_targeted_by_hero_powers) else 0,\n",
      "\"myfield2effects_aura\": 1 if 2 < len(p1.field) and p1.field[2].aura else 0,\n",
      "\"myfield2effects_deathrattle\": 1 if 2 < len(p1.field) and p1.field[2].type!=5 and p1.field[2].has_deathrattle else 0,\n",
      "\"myfield2effects_frozen\": 1 if 2 < len(p1.field) and p1.field[2].type!=5 and p1.field[2].frozen else 0,\n",
      "\"myfield2effects_silenced\": 1 if 2 < len(p1.field) and p1.field[2].type!=5 and p1.field[2].silenced else 0,\n",
      "\"myfield3effects_windfury\": 1 if 3 < len(p1.field) and p1.field[3].windfury else 0,\n",
      "\"myfield3effects_divineshield\": 1 if 3 < len(p1.field) and p1.field[3].type!=5 and p1.field[3].divine_shield else 0,\n",
      "\"myfield3effects_charge\": 1 if 3 < len(p1.field) and p1.field[3].type!=5 and p1.field[3].charge else 0,\n",
      "\"myfield3effects_taunt\": 1 if 3 < len(p1.field) and p1.field[3].type!=5 and p1.field[3].taunt else 0,\n",
      "\"myfield3effects_stealth\": 1 if 3 < len(p1.field) and p1.field[3].type!=5 and p1.field[3].stealthed else 0,\n",
      "\"myfield3effects_poisonous\": 1 if 3 < len(p1.field) and p1.field[3].type!=5 and p1.field[3].poisonous else 0,\n",
      "\"myfield3effects_cantbetargeted\": 1 if 3 < len(p1.field) and p1.field[3].type!=5 and (p1.field[3].cant_be_targeted_by_abilities or p1.field[3].cant_be_targeted_by_hero_powers) else 0,\n",
      "\"myfield3effects_aura\": 1 if 3 < len(p1.field) and p1.field[3].aura else 0,\n",
      "\"myfield3effects_deathrattle\": 1 if 3 < len(p1.field) and p1.field[3].type!=5 and p1.field[3].has_deathrattle else 0,\n",
      "\"myfield3effects_frozen\": 1 if 3 < len(p1.field) and p1.field[3].type!=5 and p1.field[3].frozen else 0,\n",
      "\"myfield3effects_silenced\": 1 if 3 < len(p1.field) and p1.field[3].type!=5 and p1.field[3].silenced else 0,\n",
      "\"myfield4effects_windfury\": 1 if 4 < len(p1.field) and p1.field[4].windfury else 0,\n",
      "\"myfield4effects_divineshield\": 1 if 4 < len(p1.field) and p1.field[4].type!=5 and p1.field[4].divine_shield else 0,\n",
      "\"myfield4effects_charge\": 1 if 4 < len(p1.field) and p1.field[4].type!=5 and p1.field[4].charge else 0,\n",
      "\"myfield4effects_taunt\": 1 if 4 < len(p1.field) and p1.field[4].type!=5 and p1.field[4].taunt else 0,\n",
      "\"myfield4effects_stealth\": 1 if 4 < len(p1.field) and p1.field[4].type!=5 and p1.field[4].stealthed else 0,\n",
      "\"myfield4effects_poisonous\": 1 if 4 < len(p1.field) and p1.field[4].type!=5 and p1.field[4].poisonous else 0,\n",
      "\"myfield4effects_cantbetargeted\": 1 if 4 < len(p1.field) and p1.field[4].type!=5 and (p1.field[4].cant_be_targeted_by_abilities or p1.field[4].cant_be_targeted_by_hero_powers) else 0,\n",
      "\"myfield4effects_aura\": 1 if 4 < len(p1.field) and p1.field[4].aura else 0,\n",
      "\"myfield4effects_deathrattle\": 1 if 4 < len(p1.field) and p1.field[4].type!=5 and p1.field[4].has_deathrattle else 0,\n",
      "\"myfield4effects_frozen\": 1 if 4 < len(p1.field) and p1.field[4].type!=5 and p1.field[4].frozen else 0,\n",
      "\"myfield4effects_silenced\": 1 if 4 < len(p1.field) and p1.field[4].type!=5 and p1.field[4].silenced else 0,\n",
      "\"myfield5effects_windfury\": 1 if 5 < len(p1.field) and p1.field[5].windfury else 0,\n",
      "\"myfield5effects_divineshield\": 1 if 5 < len(p1.field) and p1.field[5].type!=5 and p1.field[5].divine_shield else 0,\n",
      "\"myfield5effects_charge\": 1 if 5 < len(p1.field) and p1.field[5].type!=5 and p1.field[5].charge else 0,\n",
      "\"myfield5effects_taunt\": 1 if 5 < len(p1.field) and p1.field[5].type!=5 and p1.field[5].taunt else 0,\n",
      "\"myfield5effects_stealth\": 1 if 5 < len(p1.field) and p1.field[5].type!=5 and p1.field[5].stealthed else 0,\n",
      "\"myfield5effects_poisonous\": 1 if 5 < len(p1.field) and p1.field[5].type!=5 and p1.field[5].poisonous else 0,\n",
      "\"myfield5effects_cantbetargeted\": 1 if 5 < len(p1.field) and p1.field[5].type!=5 and (p1.field[5].cant_be_targeted_by_abilities or p1.field[5].cant_be_targeted_by_hero_powers) else 0,\n",
      "\"myfield5effects_aura\": 1 if 5 < len(p1.field) and p1.field[5].aura else 0,\n",
      "\"myfield5effects_deathrattle\": 1 if 5 < len(p1.field) and p1.field[5].type!=5 and p1.field[5].has_deathrattle else 0,\n",
      "\"myfield5effects_frozen\": 1 if 5 < len(p1.field) and p1.field[5].type!=5 and p1.field[5].frozen else 0,\n",
      "\"myfield5effects_silenced\": 1 if 5 < len(p1.field) and p1.field[5].type!=5 and p1.field[5].silenced else 0,\n",
      "\"myfield6effects_windfury\": 1 if 6 < len(p1.field) and p1.field[6].windfury else 0,\n",
      "\"myfield6effects_divineshield\": 1 if 6 < len(p1.field) and p1.field[6].type!=5 and p1.field[6].divine_shield else 0,\n",
      "\"myfield6effects_charge\": 1 if 6 < len(p1.field) and p1.field[6].type!=5 and p1.field[6].charge else 0,\n",
      "\"myfield6effects_taunt\": 1 if 6 < len(p1.field) and p1.field[6].type!=5 and p1.field[6].taunt else 0,\n",
      "\"myfield6effects_stealth\": 1 if 6 < len(p1.field) and p1.field[6].type!=5 and p1.field[6].stealthed else 0,\n",
      "\"myfield6effects_poisonous\": 1 if 6 < len(p1.field) and p1.field[6].type!=5 and p1.field[6].poisonous else 0,\n",
      "\"myfield6effects_cantbetargeted\": 1 if 6 < len(p1.field) and p1.field[6].type!=5 and (p1.field[6].cant_be_targeted_by_abilities or p1.field[6].cant_be_targeted_by_hero_powers) else 0,\n",
      "\"myfield6effects_aura\": 1 if 6 < len(p1.field) and p1.field[6].aura else 0,\n",
      "\"myfield6effects_deathrattle\": 1 if 6 < len(p1.field) and p1.field[6].type!=5 and p1.field[6].has_deathrattle else 0,\n",
      "\"myfield6effects_frozen\": 1 if 6 < len(p1.field) and p1.field[6].type!=5 and p1.field[6].frozen else 0,\n",
      "\"myfield6effects_silenced\": 1 if 6 < len(p1.field) and p1.field[6].type!=5 and p1.field[6].silenced else 0,\n",
      "\"oppfield0effects_windfury\": 1 if 0 < len(p2.field) and p2.field[0].windfury else 0,\n",
      "\"oppfield0effects_divineshield\": 1 if 0 < len(p2.field) and p2.field[0].type!=5 and p2.field[0].divine_shield else 0,\n",
      "\"oppfield0effects_charge\": 1 if 0 < len(p2.field) and p2.field[0].type!=5 and p2.field[0].charge else 0,\n",
      "\"oppfield0effects_taunt\": 1 if 0 < len(p2.field) and p2.field[0].type!=5 and p2.field[0].taunt else 0,\n",
      "\"oppfield0effects_stealth\": 1 if 0 < len(p2.field) and p2.field[0].type!=5 and p2.field[0].stealthed else 0,\n",
      "\"oppfield0effects_poisonous\": 1 if 0 < len(p2.field) and p2.field[0].type!=5 and p2.field[0].poisonous else 0,\n",
      "\"oppfield0effects_cantbetargeted\": 1 if 0 < len(p2.field) and p2.field[0].type!=5 and (p2.field[0].cant_be_targeted_by_abilities or p2.field[0].cant_be_targeted_by_hero_powers) else 0,\n",
      "\"oppfield0effects_aura\": 1 if 0 < len(p2.field) and p2.field[0].aura else 0,\n",
      "\"oppfield0effects_deathrattle\": 1 if 0 < len(p2.field) and p2.field[0].type!=5 and p2.field[0].has_deathrattle else 0,\n",
      "\"oppfield0effects_frozen\": 1 if 0 < len(p2.field) and p2.field[0].type!=5 and p2.field[0].frozen else 0,\n",
      "\"oppfield0effects_silenced\": 1 if 0 < len(p2.field) and p2.field[0].type!=5 and p2.field[0].silenced else 0,\n",
      "\"oppfield1effects_windfury\": 1 if 1 < len(p2.field) and p2.field[1].windfury else 0,\n",
      "\"oppfield1effects_divineshield\": 1 if 1 < len(p2.field) and p2.field[1].type!=5 and p2.field[1].divine_shield else 0,\n",
      "\"oppfield1effects_charge\": 1 if 1 < len(p2.field) and p2.field[1].type!=5 and p2.field[1].charge else 0,\n",
      "\"oppfield1effects_taunt\": 1 if 1 < len(p2.field) and p2.field[1].type!=5 and p2.field[1].taunt else 0,\n",
      "\"oppfield1effects_stealth\": 1 if 1 < len(p2.field) and p2.field[1].type!=5 and p2.field[1].stealthed else 0,\n",
      "\"oppfield1effects_poisonous\": 1 if 1 < len(p2.field) and p2.field[1].type!=5 and p2.field[1].poisonous else 0,\n",
      "\"oppfield1effects_cantbetargeted\": 1 if 1 < len(p2.field) and p2.field[1].type!=5 and (p2.field[1].cant_be_targeted_by_abilities or p2.field[1].cant_be_targeted_by_hero_powers) else 0,\n",
      "\"oppfield1effects_aura\": 1 if 1 < len(p2.field) and p2.field[1].aura else 0,\n",
      "\"oppfield1effects_deathrattle\": 1 if 1 < len(p2.field) and p2.field[1].type!=5 and p2.field[1].has_deathrattle else 0,\n",
      "\"oppfield1effects_frozen\": 1 if 1 < len(p2.field) and p2.field[1].type!=5 and p2.field[1].frozen else 0,\n",
      "\"oppfield1effects_silenced\": 1 if 1 < len(p2.field) and p2.field[1].type!=5 and p2.field[1].silenced else 0,\n",
      "\"oppfield2effects_windfury\": 1 if 2 < len(p2.field) and p2.field[2].windfury else 0,\n",
      "\"oppfield2effects_divineshield\": 1 if 2 < len(p2.field) and p2.field[2].type!=5 and p2.field[2].divine_shield else 0,\n",
      "\"oppfield2effects_charge\": 1 if 2 < len(p2.field) and p2.field[2].type!=5 and p2.field[2].charge else 0,\n",
      "\"oppfield2effects_taunt\": 1 if 2 < len(p2.field) and p2.field[2].type!=5 and p2.field[2].taunt else 0,\n",
      "\"oppfield2effects_stealth\": 1 if 2 < len(p2.field) and p2.field[2].type!=5 and p2.field[2].stealthed else 0,\n",
      "\"oppfield2effects_poisonous\": 1 if 2 < len(p2.field) and p2.field[2].type!=5 and p2.field[2].poisonous else 0,\n",
      "\"oppfield2effects_cantbetargeted\": 1 if 2 < len(p2.field) and p2.field[2].type!=5 and (p2.field[2].cant_be_targeted_by_abilities or p2.field[2].cant_be_targeted_by_hero_powers) else 0,\n",
      "\"oppfield2effects_aura\": 1 if 2 < len(p2.field) and p2.field[2].aura else 0,\n",
      "\"oppfield2effects_deathrattle\": 1 if 2 < len(p2.field) and p2.field[2].type!=5 and p2.field[2].has_deathrattle else 0,\n",
      "\"oppfield2effects_frozen\": 1 if 2 < len(p2.field) and p2.field[2].type!=5 and p2.field[2].frozen else 0,\n",
      "\"oppfield2effects_silenced\": 1 if 2 < len(p2.field) and p2.field[2].type!=5 and p2.field[2].silenced else 0,\n",
      "\"oppfield3effects_windfury\": 1 if 3 < len(p2.field) and p2.field[3].windfury else 0,\n",
      "\"oppfield3effects_divineshield\": 1 if 3 < len(p2.field) and p2.field[3].type!=5 and p2.field[3].divine_shield else 0,\n",
      "\"oppfield3effects_charge\": 1 if 3 < len(p2.field) and p2.field[3].type!=5 and p2.field[3].charge else 0,\n",
      "\"oppfield3effects_taunt\": 1 if 3 < len(p2.field) and p2.field[3].type!=5 and p2.field[3].taunt else 0,\n",
      "\"oppfield3effects_stealth\": 1 if 3 < len(p2.field) and p2.field[3].type!=5 and p2.field[3].stealthed else 0,\n",
      "\"oppfield3effects_poisonous\": 1 if 3 < len(p2.field) and p2.field[3].type!=5 and p2.field[3].poisonous else 0,\n",
      "\"oppfield3effects_cantbetargeted\": 1 if 3 < len(p2.field) and p2.field[3].type!=5 and (p2.field[3].cant_be_targeted_by_abilities or p2.field[3].cant_be_targeted_by_hero_powers) else 0,\n",
      "\"oppfield3effects_aura\": 1 if 3 < len(p2.field) and p2.field[3].aura else 0,\n",
      "\"oppfield3effects_deathrattle\": 1 if 3 < len(p2.field) and p2.field[3].type!=5 and p2.field[3].has_deathrattle else 0,\n",
      "\"oppfield3effects_frozen\": 1 if 3 < len(p2.field) and p2.field[3].type!=5 and p2.field[3].frozen else 0,\n",
      "\"oppfield3effects_silenced\": 1 if 3 < len(p2.field) and p2.field[3].type!=5 and p2.field[3].silenced else 0,\n",
      "\"oppfield4effects_windfury\": 1 if 4 < len(p2.field) and p2.field[4].windfury else 0,\n",
      "\"oppfield4effects_divineshield\": 1 if 4 < len(p2.field) and p2.field[4].type!=5 and p2.field[4].divine_shield else 0,\n",
      "\"oppfield4effects_charge\": 1 if 4 < len(p2.field) and p2.field[4].type!=5 and p2.field[4].charge else 0,\n",
      "\"oppfield4effects_taunt\": 1 if 4 < len(p2.field) and p2.field[4].type!=5 and p2.field[4].taunt else 0,\n",
      "\"oppfield4effects_stealth\": 1 if 4 < len(p2.field) and p2.field[4].type!=5 and p2.field[4].stealthed else 0,\n",
      "\"oppfield4effects_poisonous\": 1 if 4 < len(p2.field) and p2.field[4].type!=5 and p2.field[4].poisonous else 0,\n",
      "\"oppfield4effects_cantbetargeted\": 1 if 4 < len(p2.field) and p2.field[4].type!=5 and (p2.field[4].cant_be_targeted_by_abilities or p2.field[4].cant_be_targeted_by_hero_powers) else 0,\n",
      "\"oppfield4effects_aura\": 1 if 4 < len(p2.field) and p2.field[4].aura else 0,\n",
      "\"oppfield4effects_deathrattle\": 1 if 4 < len(p2.field) and p2.field[4].type!=5 and p2.field[4].has_deathrattle else 0,\n",
      "\"oppfield4effects_frozen\": 1 if 4 < len(p2.field) and p2.field[4].type!=5 and p2.field[4].frozen else 0,\n",
      "\"oppfield4effects_silenced\": 1 if 4 < len(p2.field) and p2.field[4].type!=5 and p2.field[4].silenced else 0,\n",
      "\"oppfield5effects_windfury\": 1 if 5 < len(p2.field) and p2.field[5].windfury else 0,\n",
      "\"oppfield5effects_divineshield\": 1 if 5 < len(p2.field) and p2.field[5].type!=5 and p2.field[5].divine_shield else 0,\n",
      "\"oppfield5effects_charge\": 1 if 5 < len(p2.field) and p2.field[5].type!=5 and p2.field[5].charge else 0,\n",
      "\"oppfield5effects_taunt\": 1 if 5 < len(p2.field) and p2.field[5].type!=5 and p2.field[5].taunt else 0,\n",
      "\"oppfield5effects_stealth\": 1 if 5 < len(p2.field) and p2.field[5].type!=5 and p2.field[5].stealthed else 0,\n",
      "\"oppfield5effects_poisonous\": 1 if 5 < len(p2.field) and p2.field[5].type!=5 and p2.field[5].poisonous else 0,\n",
      "\"oppfield5effects_cantbetargeted\": 1 if 5 < len(p2.field) and p2.field[5].type!=5 and (p2.field[5].cant_be_targeted_by_abilities or p2.field[5].cant_be_targeted_by_hero_powers) else 0,\n",
      "\"oppfield5effects_aura\": 1 if 5 < len(p2.field) and p2.field[5].aura else 0,\n",
      "\"oppfield5effects_deathrattle\": 1 if 5 < len(p2.field) and p2.field[5].type!=5 and p2.field[5].has_deathrattle else 0,\n",
      "\"oppfield5effects_frozen\": 1 if 5 < len(p2.field) and p2.field[5].type!=5 and p2.field[5].frozen else 0,\n",
      "\"oppfield5effects_silenced\": 1 if 5 < len(p2.field) and p2.field[5].type!=5 and p2.field[5].silenced else 0,\n",
      "\"oppfield6effects_windfury\": 1 if 6 < len(p2.field) and p2.field[6].windfury else 0,\n",
      "\"oppfield6effects_divineshield\": 1 if 6 < len(p2.field) and p2.field[6].type!=5 and p2.field[6].divine_shield else 0,\n",
      "\"oppfield6effects_charge\": 1 if 6 < len(p2.field) and p2.field[6].type!=5 and p2.field[6].charge else 0,\n",
      "\"oppfield6effects_taunt\": 1 if 6 < len(p2.field) and p2.field[6].type!=5 and p2.field[6].taunt else 0,\n",
      "\"oppfield6effects_stealth\": 1 if 6 < len(p2.field) and p2.field[6].type!=5 and p2.field[6].stealthed else 0,\n",
      "\"oppfield6effects_poisonous\": 1 if 6 < len(p2.field) and p2.field[6].type!=5 and p2.field[6].poisonous else 0,\n",
      "\"oppfield6effects_cantbetargeted\": 1 if 6 < len(p2.field) and p2.field[6].type!=5 and (p2.field[6].cant_be_targeted_by_abilities or p2.field[6].cant_be_targeted_by_hero_powers) else 0,\n",
      "\"oppfield6effects_aura\": 1 if 6 < len(p2.field) and p2.field[6].aura else 0,\n",
      "\"oppfield6effects_deathrattle\": 1 if 6 < len(p2.field) and p2.field[6].type!=5 and p2.field[6].has_deathrattle else 0,\n",
      "\"oppfield6effects_frozen\": 1 if 6 < len(p2.field) and p2.field[6].type!=5 and p2.field[6].frozen else 0,\n",
      "\"oppfield6effects_silenced\": 1 if 6 < len(p2.field) and p2.field[6].type!=5 and p2.field[6].silenced else 0,\n"
     ]
    }
   ],
   "source": [
    "print(\"\\n\".join(newcode))"
   ]
  },
  {
   "cell_type": "code",
   "execution_count": null,
   "id": "4931500a",
   "metadata": {},
   "outputs": [],
   "source": []
  },
  {
   "cell_type": "code",
   "execution_count": null,
   "id": "3629b06b",
   "metadata": {},
   "outputs": [],
   "source": []
  },
  {
   "cell_type": "code",
   "execution_count": null,
   "id": "808d6b7a",
   "metadata": {},
   "outputs": [],
   "source": []
  },
  {
   "cell_type": "code",
   "execution_count": 36,
   "id": "af276b4d",
   "metadata": {},
   "outputs": [
    {
     "data": {
      "text/plain": [
       "[<CardClass.INVALID: 0>,\n",
       " <CardClass.DEATHKNIGHT: 1>,\n",
       " <CardClass.DRUID: 2>,\n",
       " <CardClass.HUNTER: 3>,\n",
       " <CardClass.MAGE: 4>,\n",
       " <CardClass.PALADIN: 5>,\n",
       " <CardClass.PRIEST: 6>,\n",
       " <CardClass.ROGUE: 7>,\n",
       " <CardClass.SHAMAN: 8>,\n",
       " <CardClass.WARLOCK: 9>,\n",
       " <CardClass.WARRIOR: 10>,\n",
       " <CardClass.DREAM: 11>,\n",
       " <CardClass.NEUTRAL: 12>,\n",
       " <CardClass.WHIZBANG: 13>,\n",
       " <CardClass.DEMONHUNTER: 14>]"
      ]
     },
     "execution_count": 36,
     "metadata": {},
     "output_type": "execute_result"
    }
   ],
   "source": [
    "from hearthstone.enums import PlayState, Step, Mulligan, State, CardClass, Race, CardSet, CardType\n",
    "\n",
    "list(CardClass)"
   ]
  },
  {
   "cell_type": "code",
   "execution_count": 68,
   "id": "46d052a5",
   "metadata": {},
   "outputs": [],
   "source": [
    "class HearthstoneUnnestedEnv():\n",
    "    \n",
    "    def setup_game(self):\n",
    "            while True:\n",
    "                print(\"iter\")\n",
    "                try:\n",
    "                    # At the root pretend the player just moved is p2 - p1 has the first move\n",
    "                    self.playerJustMoved=2\n",
    "                    self.playerToMove=1\n",
    "                    self.players_ordered=None\n",
    "                    self.hero1=random.choice(list(CardClass))\n",
    "                    self.deck1=None\n",
    "                    self.hero2=random.choice(list(CardClass))\n",
    "                    self.deck2=None\n",
    "                    self.game=None\n",
    "                    self.lastMovePlayed=None\n",
    "                    if self.hero1 is None or self.hero2 is None or self.deck1 is None or self.deck2 is None:\n",
    "                        self.deck1=[]\n",
    "                        self.deck2=[]\n",
    "                        self.collection1 = []\n",
    "                        self.collection2 = []\n",
    "                        for card in cards.db.keys():\n",
    "                            if str(card) not in implemented_cards:\n",
    "                                continue\n",
    "                            cls = cards.db[card]\n",
    "                            if not cls.collectible:\n",
    "                                continue\n",
    "                            if cls.type == CardType.HERO:\n",
    "                                # Heroes are collectible...\n",
    "                                continue\n",
    "                            if cls.card_class and cls.card_class in [self.hero1, CardClass.NEUTRAL]:\n",
    "                                # Play with more possibilities\n",
    "                                self.collection1.append(cls)\n",
    "                            if cls.card_class and cls.card_class in [self.hero2, CardClass.NEUTRAL]:\n",
    "                                # Play with more possibilities\n",
    "                                self.collection2.append(cls)\n",
    "                            \n",
    "\n",
    "                        while len(self.deck1) < Deck.MAX_CARDS:\n",
    "                            card = random.choice(self.collection1)\n",
    "                            if self.deck1.count(card.id) < card.max_count_in_deck:\n",
    "                                self.deck1.append(card.id)\n",
    "\n",
    "                        while len(self.deck2) < Deck.MAX_CARDS:\n",
    "                            card = random.choice(self.collection2)\n",
    "                            if self.deck2.count(card.id) < card.max_count_in_deck:\n",
    "                                self.deck2.append(card.id)\n",
    "\n",
    "                        self.player1=Player(\"Player1\", self.deck1, self.hero1.default_hero)\n",
    "                        self.player2=Player(\"Player2\", self.deck2, self.hero2.default_hero)\n",
    "\n",
    "                        self.game=Game(players=(self.player1, self.player2))\n",
    "                        self.game.start()\n",
    "                        self.players_ordered=[self.game.player1, self.game.player2]\n",
    "                        # At the root pretend the player just moved is p2 - p1 has the first move\n",
    "                        self.playerJustMoved=2\n",
    "                        self.playerToMove=1\n",
    "                        self.lastMovePlayed=None\n",
    "                        return\n",
    "                except Exception as ex:\n",
    "                    print(\"exception making decks--trying again\"+str(ex))"
   ]
  },
  {
   "cell_type": "code",
   "execution_count": 69,
   "id": "88f2079d",
   "metadata": {
    "scrolled": false
   },
   "outputs": [
    {
     "name": "stdout",
     "output_type": "stream",
     "text": [
      "iter\n"
     ]
    },
    {
     "name": "stderr",
     "output_type": "stream",
     "text": [
      "[fireplace.entity]: Setting up game Game(players=(Player(name='Player1', hero=None), Player(name='Player2', hero=None)))\n",
      "[fireplace.entity]: Tossing the coin... Player1 wins!\n",
      "[fireplace.actions]: Player(name='Player1', hero=<Hero ('Rexxar')>) triggering <TargetedAction: Summon(<Summon.CARD>=<HeroPower ('Steady Shot')>)> targeting [Player(name='Player1', hero=<Hero ('Rexxar')>)]\n",
      "[fireplace.actions]: Player1 summons [<HeroPower ('Steady Shot')>]\n",
      "[fireplace.entity]: Empty stack, refreshing auras and processing deaths\n",
      "[fireplace.actions]: Player(name='Player1', hero=<Hero ('Rexxar')>) triggering <TargetedAction: Summon(<Summon.CARD>=<Hero ('Rexxar')>)> targeting [Player(name='Player1', hero=<Hero ('Rexxar')>)]\n",
      "[fireplace.actions]: Player1 summons [<Hero ('Rexxar')>]\n",
      "[fireplace.entity]: Empty stack, refreshing auras and processing deaths\n",
      "[fireplace.entity]: Player(name='Player1', hero=<Hero ('Rexxar')>) shuffles their deck\n",
      "[fireplace.card]: <Minion ('Cauldron Elemental')> moves from <Zone.DECK: 2> to <Zone.HAND: 3>\n",
      "[fireplace.card]: <Spell ('Cybertech Chip')> moves from <Zone.DECK: 2> to <Zone.HAND: 3>\n",
      "[fireplace.card]: <Minion (\"Y'Shaarj, Rage Unbound\")> moves from <Zone.DECK: 2> to <Zone.HAND: 3>\n",
      "[fireplace.actions]: Player(name='Player2', hero=<Hero ('Garrosh Hellscream')>) triggering <TargetedAction: Summon(<Summon.CARD>=<HeroPower ('Armor Up!')>)> targeting [Player(name='Player2', hero=<Hero ('Garrosh Hellscream')>)]\n",
      "[fireplace.actions]: Player2 summons [<HeroPower ('Armor Up!')>]\n",
      "[fireplace.entity]: Empty stack, refreshing auras and processing deaths\n",
      "[fireplace.actions]: Player(name='Player2', hero=<Hero ('Garrosh Hellscream')>) triggering <TargetedAction: Summon(<Summon.CARD>=<Hero ('Garrosh Hellscream')>)> targeting [Player(name='Player2', hero=<Hero ('Garrosh Hellscream')>)]\n",
      "[fireplace.actions]: Player2 summons [<Hero ('Garrosh Hellscream')>]\n",
      "[fireplace.entity]: Empty stack, refreshing auras and processing deaths\n",
      "[fireplace.entity]: Player(name='Player2', hero=<Hero ('Garrosh Hellscream')>) shuffles their deck\n",
      "[fireplace.card]: <Minion ('Murloc Raider')> moves from <Zone.DECK: 2> to <Zone.HAND: 3>\n",
      "[fireplace.card]: <Minion ('Aya Blackpaw')> moves from <Zone.DECK: 2> to <Zone.HAND: 3>\n",
      "[fireplace.card]: <Spell ('Rocket Boots')> moves from <Zone.DECK: 2> to <Zone.HAND: 3>\n",
      "[fireplace.card]: <Minion ('Fire Plume Phoenix')> moves from <Zone.DECK: 2> to <Zone.HAND: 3>\n",
      "[fireplace.entity]: Entering mulligan phase\n"
     ]
    }
   ],
   "source": [
    "a=HearthstoneUnnestedEnv()\n",
    "a.setup_game()"
   ]
  },
  {
   "cell_type": "code",
   "execution_count": 70,
   "id": "5e79c620",
   "metadata": {},
   "outputs": [
    {
     "name": "stdout",
     "output_type": "stream",
     "text": [
      "872\n",
      "859\n"
     ]
    }
   ],
   "source": [
    "print(len(a.collection1))\n",
    "print(len(a.collection2))"
   ]
  },
  {
   "cell_type": "code",
   "execution_count": 77,
   "id": "6712a904",
   "metadata": {},
   "outputs": [
    {
     "data": {
      "text/plain": [
       "[<Minion ('Cauldron Elemental')>,\n",
       " <Spell ('Cybertech Chip')>,\n",
       " <Minion (\"Y'Shaarj, Rage Unbound\")>]"
      ]
     },
     "execution_count": 77,
     "metadata": {},
     "output_type": "execute_result"
    }
   ],
   "source": [
    "a.player1.choice.cards"
   ]
  },
  {
   "cell_type": "code",
   "execution_count": 78,
   "id": "cd3e6256",
   "metadata": {},
   "outputs": [
    {
     "data": {
      "text/plain": [
       "[<Minion ('Cauldron Elemental')>,\n",
       " <Spell ('Cybertech Chip')>,\n",
       " <Minion (\"Y'Shaarj, Rage Unbound\")>]"
      ]
     },
     "execution_count": 78,
     "metadata": {},
     "output_type": "execute_result"
    }
   ],
   "source": [
    "a.player1.hand"
   ]
  },
  {
   "cell_type": "code",
   "execution_count": 79,
   "id": "43322276",
   "metadata": {},
   "outputs": [],
   "source": [
    "a.game.current_player"
   ]
  },
  {
   "cell_type": "markdown",
   "id": "8f7dcea9",
   "metadata": {},
   "source": [
    "**\\_\\_init\\_\\_**  Inicializa los espacios de acción y observaciones y llama a **setup_game()**\n",
    "\n",
    "**reset**  Llama a **setup_game()** y devuelve el estado inicial: **self._get_state()** definida en **gym.Env**\n",
    "\n",
    "**setup_game()** Realiza varias acciones:\n",
    "* Elige un HERO para cada jugador\n",
    "* Crea un deck para cada jugador\n",
    "* Inicializa el juego e invoca a la funcion START()\n",
    "\n",
    "**step(action)** El método se limita a invocar a las funciones **_take_action(action)**, **._get_reward()** y **_get_state()**. Se le pasa una de las 869 acciones definidas y devuelve 4 elementos:\n",
    "* una observación del entorno\n",
    "* la reward conseguida con esa acción\n",
    "* buleano diciendo si el episodio a terminado\n",
    "* info para debugging  \n",
    "\n",
    "**\\_\\_getMoves**: Pedirle a Jesús que lo revise. En función del momento del juego, los movimientos posibles son Move.mulligan, Move.choice o Move.play_card, Move.hero_power, Move.minion_attack, Move.hero_attack y Move.end_turn. Ojo, el movimiento Move.end_turn parece que no se añade siempre. Y cuando se meter por el ELSE identificado como \"# Play card\", valid_moves no sería una lista vacía?? Por qué hace un range(len(valid_moves))???\n",
    "\n",
    "\n",
    "**\\_\\_doMove**: Pedirle a Jesús que lo revise. Entre otras cosas, cambia el valor del turno del jugador. \n",
    "\n",
    "\n",
    "**_take_action** Empieza calculando cuales son las posibles acciones. Y de todas las posibles acciones eliminar acciones que ya hayan sido seleccionadas antes (y que estarán en la lista **alreadySelectedActions**). El caso es que hay un punto de fallo en el que se eliminan las acciones que ya se han elegido y puede darse la circunstancia que las posibles acciones queden a 0. Por lo que el programa falla. Preguntar a Jesús si tiene sentido.\n",
    "Quiero entender que un jugador puede hacer todos los movimientos que quiera antes de pasar el turno?? La función **\\_\\_getMoves** debería de devolver una lista con acciones entre las que se incluya el valor Move.end_turn??\n",
    "\n",
    "El funcionamiento en general es que la AI que estamos entrenado realiza la acción pedida y la añade a la lista **alreadySelectedActions** para evitar que se vuelva a usar otra vez. En caso de que la acción seleccionada fuera una pérdida de turno para la AI, entonces:\n",
    "1. se le pasa el turno al otro player (llamado RANDOM) invocando a la función \\_\\_doMove con la acción\n",
    "2. se vacía la lista alreadySelectedActions \n",
    "3. se obtienen las posibles acciones del RANDOM player\n",
    "4. se elige una acción random de entre las disponibles\n",
    "5. se añade a la lista alreadySelectedActions\n",
    "6. se realiza la acción elegida\n",
    "7. Se vuelven a calcular las posibles acciones\n",
    "8. se eliminan las que ya se hayan elegido antes\n",
    "9. se vuelve a elegir otra random. \n",
    "10. Y así hasta que se sevuelva la acción Move.end_turn en cuyo caso se ejecuta, se vacía la lista alreadySelectedActions y se le pasa el turno al jugador AI\n",
    "\n",
    "\n",
    "Tampoco entiendo porqué si hay 869 acciones que parece que están asignadas, al final, se llena la lista de 869 acciones con repeticiones de las acciones posibles. No debería corresponderse siempre un número con la misma acción????\n",
    "\n",
    "**\\_get_reward**  "
   ]
  },
  {
   "cell_type": "code",
   "execution_count": 34,
   "id": "b9bf4c59",
   "metadata": {},
   "outputs": [],
   "source": [
    "#!/usr/bin/env python\n",
    "import argparse\n",
    "import re\n",
    "import string\n",
    "import sys\n",
    "\n",
    "from hearthstone.enums import CardSet\n",
    "\n",
    "from fireplace import cards\n",
    "from fireplace.utils import get_script_definition\n",
    "\n",
    "\n",
    "\n",
    "GREEN = \"\\033[92m\"\n",
    "RED = \"\\033[91m\"\n",
    "ENDC = \"\\033[0m\"\n",
    "PREFIXES = {\n",
    "    GREEN: \"Implemented\",\n",
    "    RED: \"Not implemented\",\n",
    "}\n",
    "\n",
    "SOLVED_KEYWORDS = [\n",
    "    \"Windfury\", \"Charge\", \"Divine Shield\", \"Taunt\", \"Stealth\", \"Poisonous\",\n",
    "    r\"Can't be targeted by spells or Hero Powers\\.\",\n",
    "    r\"Can't attack\\.\",\n",
    "    \"Destroy any minion damaged by this minion.\",\n",
    "    r\"Your Hero Power deals \\d+ extra damage.\",\n",
    "    r\"Spell Damage \\+\\d+\",\n",
    "    r\"Overload: \\(\\d+\\)\",\n",
    "]\n",
    "\n",
    "DUMMY_CARDS = (\n",
    "    \"PlaceholderCard\",  # Placeholder Card\n",
    "    \"CS2_022e\",  # Polymorph\n",
    "    \"EX1_246e\",  # Hexxed\n",
    "    \"EX1_345t\",  # Shadow of Nothing\n",
    "    \"GAME_006\",  # NOOOOOOOOOOOO\n",
    "    \"LOEA04_27\",  # Animated Statue\n",
    "    \"Mekka4e\",  # Transformed\n",
    "    \"NEW1_025e\",  # Bolstered (Unused)\n",
    "    \"TU4c_005\",  # Hidden Gnome\n",
    "    \"TU4c_007\",  # Mukla's Big Brother\n",
    "\n",
    "    # Dynamic buffs set by their parent\n",
    "    \"CS2_236e\",  # Divine Spirit\n",
    "    \"EX1_304e\",  # Consume (Void Terror)\n",
    "    \"LOE_030e\",  # Hollow (Unused)\n",
    "    \"NEW1_018e\",  # Treasure Crazed (Bloodsail Raider)\n",
    ")\n",
    "\n",
    "\n",
    "def cleanup_description(description):\n",
    "    ret = description\n",
    "    ret = re.sub(\"<i>.+</i>\", \"\", ret)\n",
    "    ret = re.sub(\"(<b>|</b>)\", \"\", ret)\n",
    "    ret = re.sub(\"(\" + \"|\".join(SOLVED_KEYWORDS) + \")\", \"\", ret)\n",
    "    ret = re.sub(\"<[^>]*>\", \"\", ret)\n",
    "    exclude_chars = string.punctuation + string.whitespace\n",
    "    ret = \"\".join([ch for ch in ret if ch not in exclude_chars])\n",
    "    return ret\n",
    "\n",
    "\n",
    "def implemented():\n",
    "    impl = 0\n",
    "    unimpl = 0\n",
    "\n",
    "#     p = argparse.ArgumentParser()\n",
    "#     p.add_argument(\n",
    "#         \"--implemented\",\n",
    "#         action=\"store_true\",\n",
    "#         dest=\"implemented\",\n",
    "#         help=\"Show only implemented cards\"\n",
    "#     )\n",
    "#     p.add_argument(\n",
    "#         \"--unimplemented\",\n",
    "#         action=\"store_true\",\n",
    "#         dest=\"unimplemented\",\n",
    "#         help=\"Show only unimplemented cards\"\n",
    "#     )\n",
    "#     args = p.parse_args(sys.argv[1:])\n",
    "\n",
    "#     if not args.implemented and not args.unimplemented:\n",
    "#         args.implemented = True\n",
    "#         args.unimplemented = True\n",
    "\n",
    "    cards.db.initialize()\n",
    "    for id in sorted(cards.db):\n",
    "        card = cards.db[id]\n",
    "        description = cleanup_description(card.description)\n",
    "        implemented = False\n",
    "\n",
    "        if not description:\n",
    "            # Minions without card text or with basic abilities are implemented\n",
    "            implemented = True\n",
    "        elif card.card_set == CardSet.CREDITS:\n",
    "            implemented = True\n",
    "\n",
    "        if id in DUMMY_CARDS:\n",
    "            implemented = True\n",
    "\n",
    "        carddef = get_script_definition(id)\n",
    "        if carddef:\n",
    "            implemented = True\n",
    "\n",
    "        color = GREEN if implemented else RED\n",
    "        name = color + \"%s: %s\" % (PREFIXES[color], card.name) + ENDC\n",
    "\n",
    "        if implemented:\n",
    "            impl += 1\n",
    "#             if args.implemented:\n",
    "#                 print(\"%s (%s)\" % (name, id))\n",
    "        else:\n",
    "            unimpl += 1\n",
    "#             if args.unimplemented:\n",
    "#                 print(\"%s (%s)\" % (name, id))\n",
    "\n",
    "    total = impl + unimpl\n",
    "\n",
    "    print(\"%i / %i cards implemented (%i%%)\" % (impl, total, (impl / total) * 100))"
   ]
  },
  {
   "cell_type": "code",
   "execution_count": 35,
   "id": "2822de2c",
   "metadata": {},
   "outputs": [
    {
     "name": "stderr",
     "output_type": "stream",
     "text": [
      "[fireplace.__init__]: Initializing card database\n",
      "[fireplace.__init__]: Merged 25793 cards\n"
     ]
    },
    {
     "name": "stdout",
     "output_type": "stream",
     "text": [
      "7923 / 25793 cards implemented (30%)\n"
     ]
    }
   ],
   "source": [
    "implemented()"
   ]
  }
 ],
 "metadata": {
  "kernelspec": {
   "display_name": "env_gym-hearthstone",
   "language": "python",
   "name": "env_gym-hearthstone"
  },
  "language_info": {
   "codemirror_mode": {
    "name": "ipython",
    "version": 3
   },
   "file_extension": ".py",
   "mimetype": "text/x-python",
   "name": "python",
   "nbconvert_exporter": "python",
   "pygments_lexer": "ipython3",
   "version": "3.9.16"
  }
 },
 "nbformat": 4,
 "nbformat_minor": 5
}
